{
  "nbformat": 4,
  "nbformat_minor": 0,
  "metadata": {
    "kernelspec": {
      "display_name": "Python 3",
      "language": "python",
      "name": "python3"
    },
    "language_info": {
      "codemirror_mode": {
        "name": "ipython",
        "version": 3
      },
      "file_extension": ".py",
      "mimetype": "text/x-python",
      "name": "python",
      "nbconvert_exporter": "python",
      "pygments_lexer": "ipython3",
      "version": "3.7.3"
    },
    "colab": {
      "name": "Diamonds_Linear_Regression.ipynb",
      "provenance": [],
      "collapsed_sections": [],
      "toc_visible": true,
      "include_colab_link": true
    }
  },
  "cells": [
    {
      "cell_type": "markdown",
      "metadata": {
        "id": "view-in-github",
        "colab_type": "text"
      },
      "source": [
        "<a href=\"https://colab.research.google.com/github/realdanielalexander/diamonds_bangkit/blob/master/Diamonds_Linear_Regression.ipynb\" target=\"_parent\"><img src=\"https://colab.research.google.com/assets/colab-badge.svg\" alt=\"Open In Colab\"/></a>"
      ]
    },
    {
      "cell_type": "markdown",
      "metadata": {
        "id": "QpwTLRBCFYCD",
        "colab_type": "text"
      },
      "source": [
        "<h1>Run this colab on tensorflow 2.x</h1>"
      ]
    },
    {
      "cell_type": "code",
      "metadata": {
        "id": "koiKMHgjSK11",
        "colab_type": "code",
        "colab": {}
      },
      "source": [
        "#@title Run this Colab on TensorFlow 2.x\n",
        "%tensorflow_version 2.x"
      ],
      "execution_count": 0,
      "outputs": []
    },
    {
      "cell_type": "markdown",
      "metadata": {
        "id": "9EY8q534SORC",
        "colab_type": "text"
      },
      "source": [
        "<h1>Import relevant libraries</h1>"
      ]
    },
    {
      "cell_type": "code",
      "metadata": {
        "id": "Xg2lB0t7ld82",
        "colab_type": "code",
        "colab": {}
      },
      "source": [
        "import pandas as pd\n",
        "import numpy as np\n",
        "import tensorflow as tf\n",
        "from matplotlib import pyplot as plt"
      ],
      "execution_count": 0,
      "outputs": []
    },
    {
      "cell_type": "markdown",
      "metadata": {
        "id": "q2mUOZC_haTY",
        "colab_type": "text"
      },
      "source": [
        "<h1>Load dataset</h1>"
      ]
    },
    {
      "cell_type": "code",
      "metadata": {
        "id": "hWd66LSPmxAn",
        "colab_type": "code",
        "colab": {}
      },
      "source": [
        "from google.colab import files\n",
        "uploaded = files.upload()\n",
        "import io\n",
        "df2 = pd.read_csv(io.BytesIO(uploaded['diamonds.csv']))\n",
        "# Dataset is now stored in a Pandas Dataframe"
      ],
      "execution_count": 0,
      "outputs": []
    },
    {
      "cell_type": "markdown",
      "metadata": {
        "id": "R_A8CKLz8VFU",
        "colab_type": "text"
      },
      "source": [
        "## Define functions that build and train a model\n",
        "\n",
        "This code block is taken from the 'Programming Exercise' module on Machine Learning Crash Course.\n"
      ]
    },
    {
      "cell_type": "code",
      "metadata": {
        "id": "Ue0poOUa8szU",
        "colab_type": "code",
        "colab": {
          "base_uri": "https://localhost:8080/",
          "height": 34
        },
        "outputId": "6eabf182-9257-4836-b90f-eb1298dd274e"
      },
      "source": [
        "#@title Define the functions that build and train a model\n",
        "def build_model(my_learning_rate):\n",
        "  \"\"\"Create and compile a simple linear regression model.\"\"\"\n",
        "  # Most simple tf.keras models are sequential.\n",
        "  model = tf.keras.models.Sequential()\n",
        "\n",
        "  # Add one linear layer to the model to yield a simple linear regressor.\n",
        "  model.add(tf.keras.layers.Dense(units=1, input_shape=(1,)))\n",
        "\n",
        "  # Compile the model topography into code that TensorFlow can efficiently\n",
        "  # execute. Configure training to minimize the model's mean squared error. \n",
        "  model.compile(optimizer=tf.keras.optimizers.RMSprop(lr=my_learning_rate),\n",
        "                loss=\"mean_squared_error\",\n",
        "                metrics=[tf.keras.metrics.RootMeanSquaredError()])\n",
        "\n",
        "  return model               \n",
        "\n",
        "\n",
        "def train_model(model, df, feature, label, my_epochs, \n",
        "                my_batch_size=None, my_validation_split=0.1):\n",
        "  \"\"\"Feed a dataset into the model in order to train it.\"\"\"\n",
        "\n",
        "  history = model.fit(x=df[feature],\n",
        "                      y=df[label],\n",
        "                      batch_size=my_batch_size,\n",
        "                      epochs=my_epochs,\n",
        "                      validation_split=my_validation_split)\n",
        "\n",
        "  # Gather the model's trained weight and bias.\n",
        "  trained_weight = model.get_weights()[0]\n",
        "  trained_bias = model.get_weights()[1]\n",
        "\n",
        "  # The list of epochs is stored separately from the \n",
        "  # rest of history.\n",
        "  epochs = history.epoch\n",
        "  \n",
        "  # Isolate the root mean squared error for each epoch.\n",
        "  hist = pd.DataFrame(history.history)\n",
        "  rmse = hist[\"root_mean_squared_error\"]\n",
        "\n",
        "  return epochs, rmse, history.history   \n",
        "\n",
        "print(\"Defined the build_model and train_model functions.\")"
      ],
      "execution_count": 173,
      "outputs": [
        {
          "output_type": "stream",
          "text": [
            "Defined the build_model and train_model functions.\n"
          ],
          "name": "stdout"
        }
      ]
    },
    {
      "cell_type": "markdown",
      "metadata": {
        "id": "GKF_765D8WXF",
        "colab_type": "text"
      },
      "source": [
        "## Define plotting functions\n",
        "\n",
        "This code block is taken from the 'Programming Exercise' module on Machine Learning Crash Course."
      ]
    },
    {
      "cell_type": "code",
      "metadata": {
        "id": "m2vweQ5682zW",
        "colab_type": "code",
        "colab": {
          "base_uri": "https://localhost:8080/",
          "height": 34
        },
        "outputId": "2fc38d12-2d05-456f-9e81-9e47cfd77fd4"
      },
      "source": [
        "#@title Define the plotting function\n",
        "def plot_the_model(trained_weight, trained_bias, feature, label):\n",
        "  \"\"\"Plot the trained model against 200 random training examples.\"\"\"\n",
        "\n",
        "  # Label the axes.\n",
        "  plt.xlabel(feature)\n",
        "  plt.ylabel(label)\n",
        "\n",
        "  # Create a scatter plot from 200 random points of the dataset.\n",
        "  random_examples = training_df.sample(n=200)\n",
        "  plt.scatter(random_examples[feature], random_examples[label])\n",
        "\n",
        "  # Create a red line representing the model. The red line starts\n",
        "  # at coordinates (x0, y0) and ends at coordinates (x1, y1).\n",
        "  x0 = 0\n",
        "  y0 = trained_bias\n",
        "  x1 = 10000\n",
        "  y1 = trained_bias + (trained_weight * x1)\n",
        "  plt.plot([x0, x1], [y0, y1], c='r')\n",
        "\n",
        "  # Render the scatter plot and the red line.\n",
        "  plt.show()\n",
        "\n",
        "def plot_the_loss_curve(epochs, mae_training, mae_validation):\n",
        "  \"\"\"Plot a curve of loss vs. epoch.\"\"\"\n",
        "\n",
        "  plt.figure()\n",
        "  plt.xlabel(\"Epoch\")\n",
        "  plt.ylabel(\"Root Mean Squared Error\")\n",
        "\n",
        "  plt.plot(epochs[1:], mae_training[1:], label=\"Training Loss\")\n",
        "  plt.plot(epochs[1:], mae_validation[1:], label=\"Validation Loss\")\n",
        "  plt.legend()\n",
        "  \n",
        "  # We're not going to plot the first epoch, since the loss on the first epoch\n",
        "  # is often substantially greater than the loss for other epochs.\n",
        "  merged_mae_lists = mae_training[1:] + mae_validation[1:]\n",
        "  highest_loss = max(merged_mae_lists)\n",
        "  lowest_loss = min(merged_mae_lists)\n",
        "  delta = highest_loss - lowest_loss\n",
        "  print(delta)\n",
        "\n",
        "  top_of_y_axis = highest_loss + (delta * 0.05)\n",
        "  bottom_of_y_axis = lowest_loss - (delta * 0.05)\n",
        "   \n",
        "  plt.ylim([bottom_of_y_axis, top_of_y_axis])\n",
        "  plt.show()  \n",
        "\n",
        "print(\"Defined the plot_the_loss_curve function.\")"
      ],
      "execution_count": 174,
      "outputs": [
        {
          "output_type": "stream",
          "text": [
            "Defined the plot_the_loss_curve function.\n"
          ],
          "name": "stdout"
        }
      ]
    },
    {
      "cell_type": "markdown",
      "metadata": {
        "id": "irarbk45399z",
        "colab_type": "text"
      },
      "source": [
        "<h1>Plot the correlation matrix</h1>"
      ]
    },
    {
      "cell_type": "code",
      "metadata": {
        "id": "guHMLCyAzgSM",
        "colab_type": "code",
        "colab": {
          "base_uri": "https://localhost:8080/",
          "height": 111
        },
        "outputId": "d0e86abf-0faa-4f19-d88b-ddacc20bcf7c"
      },
      "source": [
        "df.corr()"
      ],
      "execution_count": 175,
      "outputs": [
        {
          "output_type": "execute_result",
          "data": {
            "text/html": [
              "<div>\n",
              "<style scoped>\n",
              "    .dataframe tbody tr th:only-of-type {\n",
              "        vertical-align: middle;\n",
              "    }\n",
              "\n",
              "    .dataframe tbody tr th {\n",
              "        vertical-align: top;\n",
              "    }\n",
              "\n",
              "    .dataframe thead th {\n",
              "        text-align: right;\n",
              "    }\n",
              "</style>\n",
              "<table border=\"1\" class=\"dataframe\">\n",
              "  <thead>\n",
              "    <tr style=\"text-align: right;\">\n",
              "      <th></th>\n",
              "      <th>carat</th>\n",
              "      <th>price</th>\n",
              "    </tr>\n",
              "  </thead>\n",
              "  <tbody>\n",
              "    <tr>\n",
              "      <th>carat</th>\n",
              "      <td>1.000000</td>\n",
              "      <td>0.942197</td>\n",
              "    </tr>\n",
              "    <tr>\n",
              "      <th>price</th>\n",
              "      <td>0.942197</td>\n",
              "      <td>1.000000</td>\n",
              "    </tr>\n",
              "  </tbody>\n",
              "</table>\n",
              "</div>"
            ],
            "text/plain": [
              "          carat     price\n",
              "carat  1.000000  0.942197\n",
              "price  0.942197  1.000000"
            ]
          },
          "metadata": {
            "tags": []
          },
          "execution_count": 175
        }
      ]
    },
    {
      "cell_type": "markdown",
      "metadata": {
        "id": "rJCxTnF-4z_7",
        "colab_type": "text"
      },
      "source": [
        "From this correlation matrix, we can see that the biggest correlating variables are carat and price. So we're going to choose carat as a feature and price as the label. We found that correlation between carat with price and volume (x,y,z) are the highest. But, we decided to only chose 2 features so we chose carat and price."
      ]
    },
    {
      "cell_type": "markdown",
      "metadata": {
        "id": "UGXsrHY65t0y",
        "colab_type": "text"
      },
      "source": [
        "<h1>Copy features and label to varable df</h1>"
      ]
    },
    {
      "cell_type": "code",
      "metadata": {
        "scrolled": false,
        "id": "l5Cj5KYhld9C",
        "colab_type": "code",
        "outputId": "4a2170d3-b858-4b77-8e2c-63b65b5335be",
        "colab": {
          "base_uri": "https://localhost:8080/",
          "height": 419
        }
      },
      "source": [
        "df = df_raw[['carat', 'price']].copy()\n",
        "df = df.loc[df['price']<=5000]\n",
        "df['price'] = df['price']/100\n",
        "df"
      ],
      "execution_count": 196,
      "outputs": [
        {
          "output_type": "execute_result",
          "data": {
            "text/html": [
              "<div>\n",
              "<style scoped>\n",
              "    .dataframe tbody tr th:only-of-type {\n",
              "        vertical-align: middle;\n",
              "    }\n",
              "\n",
              "    .dataframe tbody tr th {\n",
              "        vertical-align: top;\n",
              "    }\n",
              "\n",
              "    .dataframe thead th {\n",
              "        text-align: right;\n",
              "    }\n",
              "</style>\n",
              "<table border=\"1\" class=\"dataframe\">\n",
              "  <thead>\n",
              "    <tr style=\"text-align: right;\">\n",
              "      <th></th>\n",
              "      <th>carat</th>\n",
              "      <th>price</th>\n",
              "    </tr>\n",
              "  </thead>\n",
              "  <tbody>\n",
              "    <tr>\n",
              "      <th>0</th>\n",
              "      <td>0.23</td>\n",
              "      <td>3.26</td>\n",
              "    </tr>\n",
              "    <tr>\n",
              "      <th>1</th>\n",
              "      <td>0.21</td>\n",
              "      <td>3.26</td>\n",
              "    </tr>\n",
              "    <tr>\n",
              "      <th>2</th>\n",
              "      <td>0.23</td>\n",
              "      <td>3.27</td>\n",
              "    </tr>\n",
              "    <tr>\n",
              "      <th>3</th>\n",
              "      <td>0.29</td>\n",
              "      <td>3.34</td>\n",
              "    </tr>\n",
              "    <tr>\n",
              "      <th>4</th>\n",
              "      <td>0.31</td>\n",
              "      <td>3.35</td>\n",
              "    </tr>\n",
              "    <tr>\n",
              "      <th>...</th>\n",
              "      <td>...</td>\n",
              "      <td>...</td>\n",
              "    </tr>\n",
              "    <tr>\n",
              "      <th>53935</th>\n",
              "      <td>0.72</td>\n",
              "      <td>27.57</td>\n",
              "    </tr>\n",
              "    <tr>\n",
              "      <th>53936</th>\n",
              "      <td>0.72</td>\n",
              "      <td>27.57</td>\n",
              "    </tr>\n",
              "    <tr>\n",
              "      <th>53937</th>\n",
              "      <td>0.70</td>\n",
              "      <td>27.57</td>\n",
              "    </tr>\n",
              "    <tr>\n",
              "      <th>53938</th>\n",
              "      <td>0.86</td>\n",
              "      <td>27.57</td>\n",
              "    </tr>\n",
              "    <tr>\n",
              "      <th>53939</th>\n",
              "      <td>0.75</td>\n",
              "      <td>27.57</td>\n",
              "    </tr>\n",
              "  </tbody>\n",
              "</table>\n",
              "<p>39226 rows × 2 columns</p>\n",
              "</div>"
            ],
            "text/plain": [
              "       carat  price\n",
              "0       0.23   3.26\n",
              "1       0.21   3.26\n",
              "2       0.23   3.27\n",
              "3       0.29   3.34\n",
              "4       0.31   3.35\n",
              "...      ...    ...\n",
              "53935   0.72  27.57\n",
              "53936   0.72  27.57\n",
              "53937   0.70  27.57\n",
              "53938   0.86  27.57\n",
              "53939   0.75  27.57\n",
              "\n",
              "[39226 rows x 2 columns]"
            ]
          },
          "metadata": {
            "tags": []
          },
          "execution_count": 196
        }
      ]
    },
    {
      "cell_type": "code",
      "metadata": {
        "id": "mj7xcv3HQf77",
        "colab_type": "code",
        "colab": {
          "base_uri": "https://localhost:8080/",
          "height": 296
        },
        "outputId": "ca96b0c4-61a4-4896-8ef8-b1cbea5791f6"
      },
      "source": [
        "plt.scatter(df_try['carat'], df_try['price'])\n",
        "plt.xlabel(\"Carat\")\n",
        "plt.ylabel(\"Price\")"
      ],
      "execution_count": 197,
      "outputs": [
        {
          "output_type": "execute_result",
          "data": {
            "text/plain": [
              "Text(0, 0.5, 'Price')"
            ]
          },
          "metadata": {
            "tags": []
          },
          "execution_count": 197
        },
        {
          "output_type": "display_data",
          "data": {
            "image/png": "[encoded data removed]",
            "text/plain": [
              "<Figure size 432x288 with 1 Axes>"
            ]
          },
          "metadata": {
            "tags": []
          }
        }
      ]
    },
    {
      "cell_type": "markdown",
      "metadata": {
        "id": "CuyaJTHf6DnJ",
        "colab_type": "text"
      },
      "source": [
        "<h1>Examine the dataset</h1>"
      ]
    },
    {
      "cell_type": "code",
      "metadata": {
        "id": "t9gW_XQT6Iu0",
        "colab_type": "code",
        "colab": {
          "base_uri": "https://localhost:8080/",
          "height": 297
        },
        "outputId": "83935ca1-ea6e-4a3f-ca0c-82fc50718e37"
      },
      "source": [
        "df.describe()"
      ],
      "execution_count": 177,
      "outputs": [
        {
          "output_type": "execute_result",
          "data": {
            "text/html": [
              "<div>\n",
              "<style scoped>\n",
              "    .dataframe tbody tr th:only-of-type {\n",
              "        vertical-align: middle;\n",
              "    }\n",
              "\n",
              "    .dataframe tbody tr th {\n",
              "        vertical-align: top;\n",
              "    }\n",
              "\n",
              "    .dataframe thead th {\n",
              "        text-align: right;\n",
              "    }\n",
              "</style>\n",
              "<table border=\"1\" class=\"dataframe\">\n",
              "  <thead>\n",
              "    <tr style=\"text-align: right;\">\n",
              "      <th></th>\n",
              "      <th>carat</th>\n",
              "      <th>price</th>\n",
              "    </tr>\n",
              "  </thead>\n",
              "  <tbody>\n",
              "    <tr>\n",
              "      <th>count</th>\n",
              "      <td>39226.000000</td>\n",
              "      <td>39226.000000</td>\n",
              "    </tr>\n",
              "    <tr>\n",
              "      <th>mean</th>\n",
              "      <td>0.572899</td>\n",
              "      <td>1914.472289</td>\n",
              "    </tr>\n",
              "    <tr>\n",
              "      <th>std</th>\n",
              "      <td>0.259138</td>\n",
              "      <td>1327.996299</td>\n",
              "    </tr>\n",
              "    <tr>\n",
              "      <th>min</th>\n",
              "      <td>0.200000</td>\n",
              "      <td>326.000000</td>\n",
              "    </tr>\n",
              "    <tr>\n",
              "      <th>25%</th>\n",
              "      <td>0.340000</td>\n",
              "      <td>801.000000</td>\n",
              "    </tr>\n",
              "    <tr>\n",
              "      <th>50%</th>\n",
              "      <td>0.510000</td>\n",
              "      <td>1417.000000</td>\n",
              "    </tr>\n",
              "    <tr>\n",
              "      <th>75%</th>\n",
              "      <td>0.730000</td>\n",
              "      <td>2826.000000</td>\n",
              "    </tr>\n",
              "    <tr>\n",
              "      <th>max</th>\n",
              "      <td>1.740000</td>\n",
              "      <td>5000.000000</td>\n",
              "    </tr>\n",
              "  </tbody>\n",
              "</table>\n",
              "</div>"
            ],
            "text/plain": [
              "              carat         price\n",
              "count  39226.000000  39226.000000\n",
              "mean       0.572899   1914.472289\n",
              "std        0.259138   1327.996299\n",
              "min        0.200000    326.000000\n",
              "25%        0.340000    801.000000\n",
              "50%        0.510000   1417.000000\n",
              "75%        0.730000   2826.000000\n",
              "max        1.740000   5000.000000"
            ]
          },
          "metadata": {
            "tags": []
          },
          "execution_count": 177
        }
      ]
    },
    {
      "cell_type": "markdown",
      "metadata": {
        "id": "42py7Trt74hy",
        "colab_type": "text"
      },
      "source": [
        "Based on the description table, there are some anomalies on the data. The maximum value for both the feature and the label are much greater than its quantiles. There must be outliers in this dataset."
      ]
    },
    {
      "cell_type": "markdown",
      "metadata": {
        "id": "hXxEFE-V9Wjq",
        "colab_type": "text"
      },
      "source": [
        "<h1>Splitting into training and testing data</h1>"
      ]
    },
    {
      "cell_type": "code",
      "metadata": {
        "id": "6QbNqueU9fEh",
        "colab_type": "code",
        "colab": {}
      },
      "source": [
        "from sklearn.model_selection import train_test_split\n",
        "train_df, test_df = train_test_split(df, test_size=0.2)"
      ],
      "execution_count": 0,
      "outputs": []
    },
    {
      "cell_type": "code",
      "metadata": {
        "id": "N1WUspI9-tez",
        "colab_type": "code",
        "colab": {
          "base_uri": "https://localhost:8080/",
          "height": 34
        },
        "outputId": "266498c1-aa86-4256-9134-516555a64b3e"
      },
      "source": [
        "train_df.shape"
      ],
      "execution_count": 179,
      "outputs": [
        {
          "output_type": "execute_result",
          "data": {
            "text/plain": [
              "(31380, 2)"
            ]
          },
          "metadata": {
            "tags": []
          },
          "execution_count": 179
        }
      ]
    },
    {
      "cell_type": "code",
      "metadata": {
        "id": "WCzXtuc7-04W",
        "colab_type": "code",
        "colab": {
          "base_uri": "https://localhost:8080/",
          "height": 34
        },
        "outputId": "71317276-524c-45fc-a01b-db99e3c12e20"
      },
      "source": [
        "test_df.shape"
      ],
      "execution_count": 180,
      "outputs": [
        {
          "output_type": "execute_result",
          "data": {
            "text/plain": [
              "(7846, 2)"
            ]
          },
          "metadata": {
            "tags": []
          },
          "execution_count": 180
        }
      ]
    },
    {
      "cell_type": "markdown",
      "metadata": {
        "id": "zxR6QAqu_Viq",
        "colab_type": "text"
      },
      "source": [
        "<h1>Building the model and training it</h1>"
      ]
    },
    {
      "cell_type": "markdown",
      "metadata": {
        "id": "TMegPrqjB5he",
        "colab_type": "text"
      },
      "source": [
        "On the first try, we started with a learning rate of .08 and 30 epochs, with a batch size of 100."
      ]
    },
    {
      "cell_type": "code",
      "metadata": {
        "id": "UXpGx5xrBkNW",
        "colab_type": "code",
        "colab": {
          "base_uri": "https://localhost:8080/",
          "height": 1000
        },
        "outputId": "a9beac40-171f-406e-ceb0-919c1929a4ba"
      },
      "source": [
        "# The following variables are the hyperparameters.\n",
        "learning_rate = 0.08\n",
        "epochs = 30\n",
        "batch_size = 100\n",
        "\n",
        "# Split the original training set into a reduced training set and a\n",
        "# validation set. \n",
        "validation_split=0.2\n",
        "\n",
        "# Specify the feature and the label.\n",
        "my_feature = \"carat\"  # carat value.\n",
        "my_label=\"price\" # the price value for that specific diamond.\n",
        "# We're predicting diamond price based on carat value\n",
        "\n",
        "# Discard any pre-existing version of the model.\n",
        "my_model = None\n",
        "\n",
        "# Invoke the functions to build and train the model.\n",
        "my_model = build_model(learning_rate)\n",
        "epochs, rmse, history = train_model(my_model, train_df, my_feature, \n",
        "                                    my_label, epochs, batch_size, \n",
        "                                    validation_split)\n",
        "\n",
        "plot_the_loss_curve(epochs, history[\"root_mean_squared_error\"], \n",
        "                    history[\"val_root_mean_squared_error\"])\n"
      ],
      "execution_count": 181,
      "outputs": [
        {
          "output_type": "stream",
          "text": [
            "Epoch 1/30\n",
            "252/252 [==============================] - 0s 2ms/step - loss: 5395547.0000 - root_mean_squared_error: 2316.6218 - val_loss: 5201863.0000 - val_root_mean_squared_error: 2281.9705\n",
            "Epoch 2/30\n",
            "252/252 [==============================] - 0s 2ms/step - loss: 5259685.0000 - root_mean_squared_error: 2288.0198 - val_loss: 5073014.5000 - val_root_mean_squared_error: 2253.5396\n",
            "Epoch 3/30\n",
            "252/252 [==============================] - 0s 2ms/step - loss: 5112516.0000 - root_mean_squared_error: 2259.6125 - val_loss: 4946364.5000 - val_root_mean_squared_error: 2225.2400\n",
            "Epoch 4/30\n",
            "252/252 [==============================] - 0s 2ms/step - loss: 4980502.5000 - root_mean_squared_error: 2231.1604 - val_loss: 4821350.5000 - val_root_mean_squared_error: 2196.9490\n",
            "Epoch 5/30\n",
            "252/252 [==============================] - 0s 2ms/step - loss: 4840164.5000 - root_mean_squared_error: 2202.7119 - val_loss: 4698523.5000 - val_root_mean_squared_error: 2168.7920\n",
            "Epoch 6/30\n",
            "252/252 [==============================] - 0s 2ms/step - loss: 4751364.5000 - root_mean_squared_error: 2174.6116 - val_loss: 4577014.0000 - val_root_mean_squared_error: 2140.5728\n",
            "Epoch 7/30\n",
            "252/252 [==============================] - 0s 2ms/step - loss: 4590301.0000 - root_mean_squared_error: 2146.4248 - val_loss: 4459142.5000 - val_root_mean_squared_error: 2112.8384\n",
            "Epoch 8/30\n",
            "252/252 [==============================] - 0s 2ms/step - loss: 4482793.0000 - root_mean_squared_error: 2118.4131 - val_loss: 4342177.5000 - val_root_mean_squared_error: 2084.9521\n",
            "Epoch 9/30\n",
            "252/252 [==============================] - 0s 2ms/step - loss: 4358162.5000 - root_mean_squared_error: 2090.5535 - val_loss: 4227378.0000 - val_root_mean_squared_error: 2057.2144\n",
            "Epoch 10/30\n",
            "252/252 [==============================] - 0s 2ms/step - loss: 4260400.0000 - root_mean_squared_error: 2062.8325 - val_loss: 4114267.2500 - val_root_mean_squared_error: 2029.5137\n",
            "Epoch 11/30\n",
            "252/252 [==============================] - 0s 2ms/step - loss: 4146565.5000 - root_mean_squared_error: 2035.0490 - val_loss: 4003690.5000 - val_root_mean_squared_error: 2002.0632\n",
            "Epoch 12/30\n",
            "252/252 [==============================] - 0s 2ms/step - loss: 4022010.2500 - root_mean_squared_error: 2007.6107 - val_loss: 3895290.0000 - val_root_mean_squared_error: 1974.7819\n",
            "Epoch 13/30\n",
            "252/252 [==============================] - 0s 2ms/step - loss: 3916993.2500 - root_mean_squared_error: 1980.1821 - val_loss: 3788427.7500 - val_root_mean_squared_error: 1947.5135\n",
            "Epoch 14/30\n",
            "252/252 [==============================] - 0s 2ms/step - loss: 3817387.7500 - root_mean_squared_error: 1952.8938 - val_loss: 3683714.2500 - val_root_mean_squared_error: 1920.4176\n",
            "Epoch 15/30\n",
            "252/252 [==============================] - 0s 2ms/step - loss: 3702347.7500 - root_mean_squared_error: 1925.7549 - val_loss: 3581286.5000 - val_root_mean_squared_error: 1893.5382\n",
            "Epoch 16/30\n",
            "252/252 [==============================] - 0s 2ms/step - loss: 3597109.0000 - root_mean_squared_error: 1898.8142 - val_loss: 3480918.2500 - val_root_mean_squared_error: 1866.8232\n",
            "Epoch 17/30\n",
            "252/252 [==============================] - 0s 2ms/step - loss: 3504395.5000 - root_mean_squared_error: 1872.0570 - val_loss: 3382206.7500 - val_root_mean_squared_error: 1840.1704\n",
            "Epoch 18/30\n",
            "252/252 [==============================] - 0s 2ms/step - loss: 3406923.7500 - root_mean_squared_error: 1845.3740 - val_loss: 3285682.7500 - val_root_mean_squared_error: 1813.7296\n",
            "Epoch 19/30\n",
            "252/252 [==============================] - 0s 2ms/step - loss: 3307936.2500 - root_mean_squared_error: 1818.9255 - val_loss: 3191342.0000 - val_root_mean_squared_error: 1787.5085\n",
            "Epoch 20/30\n",
            "252/252 [==============================] - 0s 2ms/step - loss: 3211517.2500 - root_mean_squared_error: 1792.6692 - val_loss: 3099116.0000 - val_root_mean_squared_error: 1761.4974\n",
            "Epoch 21/30\n",
            "252/252 [==============================] - 0s 2ms/step - loss: 3117926.0000 - root_mean_squared_error: 1766.6361 - val_loss: 3008805.0000 - val_root_mean_squared_error: 1735.6483\n",
            "Epoch 22/30\n",
            "252/252 [==============================] - 0s 2ms/step - loss: 3029543.0000 - root_mean_squared_error: 1740.7405 - val_loss: 2920650.7500 - val_root_mean_squared_error: 1710.0394\n",
            "Epoch 23/30\n",
            "252/252 [==============================] - 0s 2ms/step - loss: 2938142.0000 - root_mean_squared_error: 1714.9800 - val_loss: 2834519.2500 - val_root_mean_squared_error: 1684.6422\n",
            "Epoch 24/30\n",
            "252/252 [==============================] - 0s 2ms/step - loss: 2852669.7500 - root_mean_squared_error: 1689.6649 - val_loss: 2750345.2500 - val_root_mean_squared_error: 1659.4458\n",
            "Epoch 25/30\n",
            "252/252 [==============================] - 0s 2ms/step - loss: 2774664.7500 - root_mean_squared_error: 1664.4069 - val_loss: 2668240.7500 - val_root_mean_squared_error: 1634.4943\n",
            "Epoch 26/30\n",
            "252/252 [==============================] - 0s 2ms/step - loss: 2701672.7500 - root_mean_squared_error: 1639.5317 - val_loss: 2588078.7500 - val_root_mean_squared_error: 1609.7595\n",
            "Epoch 27/30\n",
            "252/252 [==============================] - 0s 2ms/step - loss: 2625165.5000 - root_mean_squared_error: 1614.7904 - val_loss: 2509941.2500 - val_root_mean_squared_error: 1585.2777\n",
            "Epoch 28/30\n",
            "252/252 [==============================] - 0s 2ms/step - loss: 2525361.5000 - root_mean_squared_error: 1590.3326 - val_loss: 2434756.7500 - val_root_mean_squared_error: 1561.3585\n",
            "Epoch 29/30\n",
            "252/252 [==============================] - 0s 2ms/step - loss: 2453778.7500 - root_mean_squared_error: 1566.2100 - val_loss: 2360742.2500 - val_root_mean_squared_error: 1537.4473\n",
            "Epoch 30/30\n",
            "252/252 [==============================] - 0s 2ms/step - loss: 2376095.5000 - root_mean_squared_error: 1542.3149 - val_loss: 2288851.0000 - val_root_mean_squared_error: 1513.8599\n",
            "774.159912109375\n"
          ],
          "name": "stdout"
        },
        {
          "output_type": "display_data",
          "data": {
            "image/png": "[encoded data removed]",
            "text/plain": [
              "<Figure size 432x288 with 1 Axes>"
            ]
          },
          "metadata": {
            "tags": []
          }
        }
      ]
    },
    {
      "cell_type": "markdown",
      "metadata": {
        "id": "AuycIB63CP1G",
        "colab_type": "text"
      },
      "source": [
        "As we can see here, the model hasn't fully converged, so we tried to increase the learning rate and number of epochs to 0.5 and 50 respectively"
      ]
    },
    {
      "cell_type": "code",
      "metadata": {
        "id": "0rAaAbKFBiqw",
        "colab_type": "code",
        "colab": {
          "base_uri": "https://localhost:8080/",
          "height": 1000
        },
        "outputId": "ab2d75f1-389d-4c75-8bbb-fc9e0eb2aeff"
      },
      "source": [
        "# The following variables are the hyperparameters.\n",
        "learning_rate = 0.5\n",
        "epochs = 50\n",
        "batch_size = 100\n",
        "\n",
        "# Split the original training set into a reduced training set and a\n",
        "# validation set. \n",
        "validation_split=0.2\n",
        "\n",
        "# Specify the feature and the label.\n",
        "my_feature = \"carat\"  # carat value.\n",
        "my_label=\"price\" # the price value for that specific diamond.\n",
        "# We're predicting diamond price based on carat value\n",
        "\n",
        "# Discard any pre-existing version of the model.\n",
        "my_model = None\n",
        "\n",
        "# Invoke the functions to build and train the model.\n",
        "my_model = build_model(learning_rate)\n",
        "epochs, rmse, history = train_model(my_model, train_df, my_feature, \n",
        "                                    my_label, epochs, batch_size, \n",
        "                                    validation_split)\n",
        "\n",
        "plot_the_loss_curve(epochs, history[\"root_mean_squared_error\"], \n",
        "                    history[\"val_root_mean_squared_error\"])\n"
      ],
      "execution_count": 182,
      "outputs": [
        {
          "output_type": "stream",
          "text": [
            "Epoch 1/50\n",
            "252/252 [==============================] - 0s 2ms/step - loss: 4993931.5000 - root_mean_squared_error: 2237.8264 - val_loss: 4526641.0000 - val_root_mean_squared_error: 2128.7644\n",
            "Epoch 2/50\n",
            "252/252 [==============================] - 0s 2ms/step - loss: 4244051.0000 - root_mean_squared_error: 2062.2402 - val_loss: 3824638.5000 - val_root_mean_squared_error: 1956.7963\n",
            "Epoch 3/50\n",
            "252/252 [==============================] - 0s 2ms/step - loss: 3571038.2500 - root_mean_squared_error: 1892.6263 - val_loss: 3202350.7500 - val_root_mean_squared_error: 1790.5880\n",
            "Epoch 4/50\n",
            "252/252 [==============================] - 0s 2ms/step - loss: 2984816.2500 - root_mean_squared_error: 1729.5262 - val_loss: 2660271.0000 - val_root_mean_squared_error: 1632.0519\n",
            "Epoch 5/50\n",
            "252/252 [==============================] - 0s 2ms/step - loss: 2472361.5000 - root_mean_squared_error: 1574.6068 - val_loss: 2196540.7500 - val_root_mean_squared_error: 1483.0225\n",
            "Epoch 6/50\n",
            "252/252 [==============================] - 0s 2ms/step - loss: 2051763.6250 - root_mean_squared_error: 1431.2841 - val_loss: 1812113.3750 - val_root_mean_squared_error: 1347.0143\n",
            "Epoch 7/50\n",
            "252/252 [==============================] - 0s 2ms/step - loss: 1691960.5000 - root_mean_squared_error: 1301.6653 - val_loss: 1507566.6250 - val_root_mean_squared_error: 1228.5962\n",
            "Epoch 8/50\n",
            "252/252 [==============================] - 0s 2ms/step - loss: 1418499.0000 - root_mean_squared_error: 1192.1046 - val_loss: 1281112.6250 - val_root_mean_squared_error: 1132.5066\n",
            "Epoch 9/50\n",
            "252/252 [==============================] - 0s 2ms/step - loss: 1222698.6250 - root_mean_squared_error: 1105.6594 - val_loss: 1130899.8750 - val_root_mean_squared_error: 1063.9407\n",
            "Epoch 10/50\n",
            "252/252 [==============================] - 0s 2ms/step - loss: 1110996.7500 - root_mean_squared_error: 1050.8975 - val_loss: 1050533.1250 - val_root_mean_squared_error: 1025.3350\n",
            "Epoch 11/50\n",
            "252/252 [==============================] - 0s 2ms/step - loss: 1041040.5625 - root_mean_squared_error: 1019.1525 - val_loss: 998057.0000 - val_root_mean_squared_error: 999.3510\n",
            "Epoch 12/50\n",
            "252/252 [==============================] - 0s 2ms/step - loss: 992212.5000 - root_mean_squared_error: 992.5046 - val_loss: 947086.6875 - val_root_mean_squared_error: 973.4768\n",
            "Epoch 13/50\n",
            "252/252 [==============================] - 0s 2ms/step - loss: 935175.7500 - root_mean_squared_error: 966.8897 - val_loss: 899059.4375 - val_root_mean_squared_error: 948.4597\n",
            "Epoch 14/50\n",
            "252/252 [==============================] - 0s 2ms/step - loss: 886314.2500 - root_mean_squared_error: 940.6718 - val_loss: 850433.8750 - val_root_mean_squared_error: 922.4476\n",
            "Epoch 15/50\n",
            "252/252 [==============================] - 0s 2ms/step - loss: 838634.9375 - root_mean_squared_error: 914.6587 - val_loss: 803437.6250 - val_root_mean_squared_error: 896.5905\n",
            "Epoch 16/50\n",
            "252/252 [==============================] - 0s 2ms/step - loss: 789545.0000 - root_mean_squared_error: 888.6628 - val_loss: 757909.6250 - val_root_mean_squared_error: 870.8122\n",
            "Epoch 17/50\n",
            "252/252 [==============================] - 0s 2ms/step - loss: 742578.2500 - root_mean_squared_error: 862.6821 - val_loss: 714401.3125 - val_root_mean_squared_error: 845.4412\n",
            "Epoch 18/50\n",
            "252/252 [==============================] - 0s 2ms/step - loss: 699832.8125 - root_mean_squared_error: 837.2729 - val_loss: 671972.4375 - val_root_mean_squared_error: 819.9469\n",
            "Epoch 19/50\n",
            "252/252 [==============================] - 0s 2ms/step - loss: 657727.6250 - root_mean_squared_error: 811.7549 - val_loss: 631842.8125 - val_root_mean_squared_error: 795.0765\n",
            "Epoch 20/50\n",
            "252/252 [==============================] - 0s 2ms/step - loss: 622282.1875 - root_mean_squared_error: 786.8090 - val_loss: 593252.2500 - val_root_mean_squared_error: 770.4006\n",
            "Epoch 21/50\n",
            "252/252 [==============================] - 0s 2ms/step - loss: 581114.8125 - root_mean_squared_error: 763.1370 - val_loss: 558072.9375 - val_root_mean_squared_error: 747.2003\n",
            "Epoch 22/50\n",
            "252/252 [==============================] - 0s 2ms/step - loss: 547889.6250 - root_mean_squared_error: 739.1926 - val_loss: 523579.4688 - val_root_mean_squared_error: 723.7272\n",
            "Epoch 23/50\n",
            "252/252 [==============================] - 0s 2ms/step - loss: 512206.8125 - root_mean_squared_error: 716.1165 - val_loss: 491563.2812 - val_root_mean_squared_error: 701.2357\n",
            "Epoch 24/50\n",
            "252/252 [==============================] - 0s 2ms/step - loss: 479849.1562 - root_mean_squared_error: 693.5703 - val_loss: 460480.9375 - val_root_mean_squared_error: 678.6909\n",
            "Epoch 25/50\n",
            "252/252 [==============================] - 0s 2ms/step - loss: 451162.0312 - root_mean_squared_error: 671.3695 - val_loss: 431822.8438 - val_root_mean_squared_error: 657.2134\n",
            "Epoch 26/50\n",
            "252/252 [==============================] - 0s 2ms/step - loss: 422674.0000 - root_mean_squared_error: 650.4158 - val_loss: 405260.2188 - val_root_mean_squared_error: 636.6623\n",
            "Epoch 27/50\n",
            "252/252 [==============================] - 0s 2ms/step - loss: 395408.8750 - root_mean_squared_error: 629.3290 - val_loss: 379651.8438 - val_root_mean_squared_error: 616.1990\n",
            "Epoch 28/50\n",
            "252/252 [==============================] - 0s 2ms/step - loss: 371000.3438 - root_mean_squared_error: 609.2849 - val_loss: 355839.9688 - val_root_mean_squared_error: 596.5398\n",
            "Epoch 29/50\n",
            "252/252 [==============================] - 0s 2ms/step - loss: 350943.6250 - root_mean_squared_error: 590.3865 - val_loss: 334413.0312 - val_root_mean_squared_error: 578.2786\n",
            "Epoch 30/50\n",
            "252/252 [==============================] - 0s 2ms/step - loss: 328500.4375 - root_mean_squared_error: 572.9681 - val_loss: 315650.0625 - val_root_mean_squared_error: 561.7939\n",
            "Epoch 31/50\n",
            "252/252 [==============================] - 0s 2ms/step - loss: 310823.9375 - root_mean_squared_error: 556.3104 - val_loss: 297706.7500 - val_root_mean_squared_error: 545.5656\n",
            "Epoch 32/50\n",
            "252/252 [==============================] - 0s 2ms/step - loss: 291694.1562 - root_mean_squared_error: 540.6202 - val_loss: 282005.6250 - val_root_mean_squared_error: 530.9580\n",
            "Epoch 33/50\n",
            "252/252 [==============================] - 0s 2ms/step - loss: 276250.3750 - root_mean_squared_error: 525.8923 - val_loss: 267649.3125 - val_root_mean_squared_error: 517.2333\n",
            "Epoch 34/50\n",
            "252/252 [==============================] - 0s 2ms/step - loss: 262534.3125 - root_mean_squared_error: 512.9424 - val_loss: 255077.7500 - val_root_mean_squared_error: 504.9132\n",
            "Epoch 35/50\n",
            "252/252 [==============================] - 0s 2ms/step - loss: 251057.7812 - root_mean_squared_error: 501.0293 - val_loss: 244004.2656 - val_root_mean_squared_error: 493.8021\n",
            "Epoch 36/50\n",
            "252/252 [==============================] - 0s 2ms/step - loss: 239828.9531 - root_mean_squared_error: 490.3056 - val_loss: 234272.2812 - val_root_mean_squared_error: 483.8227\n",
            "Epoch 37/50\n",
            "252/252 [==============================] - 0s 2ms/step - loss: 230527.4219 - root_mean_squared_error: 480.8166 - val_loss: 226129.2500 - val_root_mean_squared_error: 475.3108\n",
            "Epoch 38/50\n",
            "252/252 [==============================] - 0s 2ms/step - loss: 222731.1250 - root_mean_squared_error: 472.7544 - val_loss: 219359.8281 - val_root_mean_squared_error: 468.1133\n",
            "Epoch 39/50\n",
            "252/252 [==============================] - 0s 2ms/step - loss: 216458.4375 - root_mean_squared_error: 465.9737 - val_loss: 213603.9688 - val_root_mean_squared_error: 461.9046\n",
            "Epoch 40/50\n",
            "252/252 [==============================] - 0s 2ms/step - loss: 211552.0938 - root_mean_squared_error: 460.2175 - val_loss: 209017.1406 - val_root_mean_squared_error: 456.8944\n",
            "Epoch 41/50\n",
            "252/252 [==============================] - 0s 2ms/step - loss: 207539.7656 - root_mean_squared_error: 455.8211 - val_loss: 205620.1250 - val_root_mean_squared_error: 453.1461\n",
            "Epoch 42/50\n",
            "252/252 [==============================] - 0s 2ms/step - loss: 204548.3906 - root_mean_squared_error: 452.5555 - val_loss: 203236.8750 - val_root_mean_squared_error: 450.4930\n",
            "Epoch 43/50\n",
            "252/252 [==============================] - 0s 2ms/step - loss: 202101.8438 - root_mean_squared_error: 449.9631 - val_loss: 201244.9688 - val_root_mean_squared_error: 448.2649\n",
            "Epoch 44/50\n",
            "252/252 [==============================] - 0s 2ms/step - loss: 201933.5781 - root_mean_squared_error: 447.9320 - val_loss: 199737.0312 - val_root_mean_squared_error: 446.5678\n",
            "Epoch 45/50\n",
            "252/252 [==============================] - 0s 2ms/step - loss: 200487.8281 - root_mean_squared_error: 446.3839 - val_loss: 198696.1406 - val_root_mean_squared_error: 445.3910\n",
            "Epoch 46/50\n",
            "252/252 [==============================] - 0s 2ms/step - loss: 197977.2812 - root_mean_squared_error: 445.2850 - val_loss: 197746.5469 - val_root_mean_squared_error: 444.3161\n",
            "Epoch 47/50\n",
            "252/252 [==============================] - 0s 2ms/step - loss: 196771.1719 - root_mean_squared_error: 444.4036 - val_loss: 197149.3750 - val_root_mean_squared_error: 443.6367\n",
            "Epoch 48/50\n",
            "252/252 [==============================] - 0s 1ms/step - loss: 197010.2656 - root_mean_squared_error: 443.7361 - val_loss: 196733.7656 - val_root_mean_squared_error: 443.1607\n",
            "Epoch 49/50\n",
            "252/252 [==============================] - 0s 2ms/step - loss: 195874.8750 - root_mean_squared_error: 443.2247 - val_loss: 196340.7344 - val_root_mean_squared_error: 442.7119\n",
            "Epoch 50/50\n",
            "252/252 [==============================] - 0s 2ms/step - loss: 195663.8438 - root_mean_squared_error: 442.8621 - val_loss: 196135.1094 - val_root_mean_squared_error: 442.4748\n",
            "1619.7654418945312\n"
          ],
          "name": "stdout"
        },
        {
          "output_type": "display_data",
          "data": {
            "image/png": "[encoded data removed]",
            "text/plain": [
              "<Figure size 432x288 with 1 Axes>"
            ]
          },
          "metadata": {
            "tags": []
          }
        }
      ]
    },
    {
      "cell_type": "markdown",
      "metadata": {
        "id": "zumHwX4gC2zR",
        "colab_type": "text"
      },
      "source": [
        "As seen on the plot above, the model has converged on 50 epochs, as the plot has flattened out. But we tried to increase the number of epochs to 100 just to be sure."
      ]
    },
    {
      "cell_type": "code",
      "metadata": {
        "id": "_BhleoZf7_fr",
        "colab_type": "code",
        "colab": {
          "base_uri": "https://localhost:8080/",
          "height": 1000
        },
        "outputId": "9c73dff2-4063-4e67-8c8b-71329fbe2af9"
      },
      "source": [
        "# The following variables are the hyperparameters.\n",
        "learning_rate = 0.5\n",
        "epochs = 100\n",
        "batch_size = 100\n",
        "\n",
        "# Split the original training set into a reduced training set and a\n",
        "# validation set. \n",
        "validation_split=0.2\n",
        "\n",
        "# Specify the feature and the label.\n",
        "my_feature = \"carat\"  # carat value.\n",
        "my_label=\"price\" # the price value for that specific diamond.\n",
        "# We're predicting diamond price based on carat value\n",
        "\n",
        "# Discard any pre-existing version of the model.\n",
        "my_model = None\n",
        "\n",
        "# Invoke the functions to build and train the model.\n",
        "my_model = build_model(learning_rate)\n",
        "epochs, rmse, history = train_model(my_model, train_df, my_feature, \n",
        "                                    my_label, epochs, batch_size, \n",
        "                                    validation_split)\n",
        "\n",
        "plot_the_loss_curve(epochs, history[\"root_mean_squared_error\"], \n",
        "                    history[\"val_root_mean_squared_error\"])\n"
      ],
      "execution_count": 183,
      "outputs": [
        {
          "output_type": "stream",
          "text": [
            "Epoch 1/100\n",
            "252/252 [==============================] - 0s 2ms/step - loss: 5035129.0000 - root_mean_squared_error: 2238.5408 - val_loss: 4524262.5000 - val_root_mean_squared_error: 2128.2053\n",
            "Epoch 2/100\n",
            "252/252 [==============================] - 0s 2ms/step - loss: 4248844.0000 - root_mean_squared_error: 2063.2368 - val_loss: 3825905.0000 - val_root_mean_squared_error: 1957.1204\n",
            "Epoch 3/100\n",
            "252/252 [==============================] - 0s 2ms/step - loss: 3573702.7500 - root_mean_squared_error: 1893.2988 - val_loss: 3203656.7500 - val_root_mean_squared_error: 1790.9529\n",
            "Epoch 4/100\n",
            "252/252 [==============================] - 0s 2ms/step - loss: 3014500.2500 - root_mean_squared_error: 1729.5579 - val_loss: 2658210.5000 - val_root_mean_squared_error: 1631.4199\n",
            "Epoch 5/100\n",
            "252/252 [==============================] - 0s 2ms/step - loss: 2490554.2500 - root_mean_squared_error: 1575.4169 - val_loss: 2198005.5000 - val_root_mean_squared_error: 1483.5170\n",
            "Epoch 6/100\n",
            "252/252 [==============================] - 0s 2ms/step - loss: 2042441.3750 - root_mean_squared_error: 1431.2167 - val_loss: 1815240.5000 - val_root_mean_squared_error: 1348.1764\n",
            "Epoch 7/100\n",
            "252/252 [==============================] - 0s 2ms/step - loss: 1690473.3750 - root_mean_squared_error: 1302.3668 - val_loss: 1510970.7500 - val_root_mean_squared_error: 1229.9830\n",
            "Epoch 8/100\n",
            "252/252 [==============================] - 0s 2ms/step - loss: 1418983.7500 - root_mean_squared_error: 1192.6042 - val_loss: 1282686.2500 - val_root_mean_squared_error: 1133.2023\n",
            "Epoch 9/100\n",
            "252/252 [==============================] - 0s 2ms/step - loss: 1226065.2500 - root_mean_squared_error: 1107.1810 - val_loss: 1133131.6250 - val_root_mean_squared_error: 1064.9923\n",
            "Epoch 10/100\n",
            "252/252 [==============================] - 0s 2ms/step - loss: 1107581.6250 - root_mean_squared_error: 1051.3059 - val_loss: 1051609.6250 - val_root_mean_squared_error: 1025.8601\n",
            "Epoch 11/100\n",
            "252/252 [==============================] - 0s 2ms/step - loss: 1036317.8125 - root_mean_squared_error: 1018.6560 - val_loss: 998728.0000 - val_root_mean_squared_error: 999.6838\n",
            "Epoch 12/100\n",
            "252/252 [==============================] - 0s 2ms/step - loss: 983726.7500 - root_mean_squared_error: 992.6359 - val_loss: 948460.9375 - val_root_mean_squared_error: 974.1828\n",
            "Epoch 13/100\n",
            "252/252 [==============================] - 0s 2ms/step - loss: 937301.9375 - root_mean_squared_error: 966.4851 - val_loss: 898628.2500 - val_root_mean_squared_error: 948.2322\n",
            "Epoch 14/100\n",
            "252/252 [==============================] - 0s 2ms/step - loss: 884786.4375 - root_mean_squared_error: 939.9717 - val_loss: 849662.6875 - val_root_mean_squared_error: 922.0291\n",
            "Epoch 15/100\n",
            "252/252 [==============================] - 0s 2ms/step - loss: 835949.0625 - root_mean_squared_error: 913.8107 - val_loss: 802114.6250 - val_root_mean_squared_error: 895.8531\n",
            "Epoch 16/100\n",
            "252/252 [==============================] - 0s 2ms/step - loss: 787269.0625 - root_mean_squared_error: 887.6416 - val_loss: 756806.8750 - val_root_mean_squared_error: 870.1777\n",
            "Epoch 17/100\n",
            "252/252 [==============================] - 0s 2ms/step - loss: 743265.4375 - root_mean_squared_error: 862.1172 - val_loss: 712741.0000 - val_root_mean_squared_error: 844.4597\n",
            "Epoch 18/100\n",
            "252/252 [==============================] - 0s 2ms/step - loss: 701271.0000 - root_mean_squared_error: 836.3409 - val_loss: 670535.7500 - val_root_mean_squared_error: 819.0657\n",
            "Epoch 19/100\n",
            "252/252 [==============================] - 1s 2ms/step - loss: 658236.6875 - root_mean_squared_error: 811.4288 - val_loss: 631306.1875 - val_root_mean_squared_error: 794.7344\n",
            "Epoch 20/100\n",
            "252/252 [==============================] - 0s 2ms/step - loss: 620313.1250 - root_mean_squared_error: 787.0796 - val_loss: 593748.4375 - val_root_mean_squared_error: 770.7216\n",
            "Epoch 21/100\n",
            "252/252 [==============================] - 0s 2ms/step - loss: 580278.7500 - root_mean_squared_error: 762.6450 - val_loss: 557498.8125 - val_root_mean_squared_error: 746.8149\n",
            "Epoch 22/100\n",
            "252/252 [==============================] - 0s 2ms/step - loss: 544801.3750 - root_mean_squared_error: 738.9261 - val_loss: 522881.8438 - val_root_mean_squared_error: 723.2465\n",
            "Epoch 23/100\n",
            "252/252 [==============================] - 0s 2ms/step - loss: 512253.5625 - root_mean_squared_error: 715.4532 - val_loss: 489898.6250 - val_root_mean_squared_error: 700.0499\n",
            "Epoch 24/100\n",
            "252/252 [==============================] - 0s 2ms/step - loss: 478519.1875 - root_mean_squared_error: 692.3613 - val_loss: 458907.6875 - val_root_mean_squared_error: 677.5333\n",
            "Epoch 25/100\n",
            "252/252 [==============================] - 0s 2ms/step - loss: 448252.3750 - root_mean_squared_error: 670.2375 - val_loss: 430513.9688 - val_root_mean_squared_error: 656.2181\n",
            "Epoch 26/100\n",
            "252/252 [==============================] - 0s 2ms/step - loss: 420940.4375 - root_mean_squared_error: 648.7411 - val_loss: 402666.5312 - val_root_mean_squared_error: 634.6201\n",
            "Epoch 27/100\n",
            "252/252 [==============================] - 0s 2ms/step - loss: 394712.4688 - root_mean_squared_error: 627.7871 - val_loss: 377969.8750 - val_root_mean_squared_error: 614.8297\n",
            "Epoch 28/100\n",
            "252/252 [==============================] - 0s 2ms/step - loss: 370586.6875 - root_mean_squared_error: 607.9650 - val_loss: 354558.3750 - val_root_mean_squared_error: 595.4631\n",
            "Epoch 29/100\n",
            "252/252 [==============================] - 0s 2ms/step - loss: 346810.3438 - root_mean_squared_error: 589.4301 - val_loss: 333778.2500 - val_root_mean_squared_error: 577.7229\n",
            "Epoch 30/100\n",
            "252/252 [==============================] - 0s 2ms/step - loss: 327247.8438 - root_mean_squared_error: 571.3927 - val_loss: 313733.1250 - val_root_mean_squared_error: 560.0807\n",
            "Epoch 31/100\n",
            "252/252 [==============================] - 0s 2ms/step - loss: 306332.7188 - root_mean_squared_error: 554.0665 - val_loss: 295566.5312 - val_root_mean_squared_error: 543.5966\n",
            "Epoch 32/100\n",
            "252/252 [==============================] - 0s 2ms/step - loss: 289987.5000 - root_mean_squared_error: 538.3008 - val_loss: 279991.5938 - val_root_mean_squared_error: 529.0511\n",
            "Epoch 33/100\n",
            "252/252 [==============================] - 0s 2ms/step - loss: 273629.9375 - root_mean_squared_error: 523.8093 - val_loss: 265181.8438 - val_root_mean_squared_error: 514.8411\n",
            "Epoch 34/100\n",
            "252/252 [==============================] - 0s 2ms/step - loss: 261122.7344 - root_mean_squared_error: 510.6002 - val_loss: 253121.8281 - val_root_mean_squared_error: 502.9660\n",
            "Epoch 35/100\n",
            "252/252 [==============================] - 0s 2ms/step - loss: 248484.4219 - root_mean_squared_error: 498.9183 - val_loss: 242094.4531 - val_root_mean_squared_error: 491.8572\n",
            "Epoch 36/100\n",
            "252/252 [==============================] - 0s 2ms/step - loss: 239607.3125 - root_mean_squared_error: 488.4485 - val_loss: 232788.5469 - val_root_mean_squared_error: 482.2823\n",
            "Epoch 37/100\n",
            "252/252 [==============================] - 0s 2ms/step - loss: 229348.8281 - root_mean_squared_error: 479.4593 - val_loss: 224781.0469 - val_root_mean_squared_error: 473.8876\n",
            "Epoch 38/100\n",
            "252/252 [==============================] - 0s 2ms/step - loss: 223012.4375 - root_mean_squared_error: 471.7064 - val_loss: 218515.1250 - val_root_mean_squared_error: 467.2090\n",
            "Epoch 39/100\n",
            "252/252 [==============================] - 0s 2ms/step - loss: 216136.9688 - root_mean_squared_error: 465.6093 - val_loss: 213342.5312 - val_root_mean_squared_error: 461.6213\n",
            "Epoch 40/100\n",
            "252/252 [==============================] - 0s 2ms/step - loss: 211344.4688 - root_mean_squared_error: 460.2853 - val_loss: 209423.2031 - val_root_mean_squared_error: 457.3383\n",
            "Epoch 41/100\n",
            "252/252 [==============================] - 0s 2ms/step - loss: 208625.0000 - root_mean_squared_error: 456.1236 - val_loss: 205919.9844 - val_root_mean_squared_error: 453.4775\n",
            "Epoch 42/100\n",
            "252/252 [==============================] - 0s 2ms/step - loss: 204705.3438 - root_mean_squared_error: 452.6770 - val_loss: 203225.2500 - val_root_mean_squared_error: 450.4813\n",
            "Epoch 43/100\n",
            "252/252 [==============================] - 0s 2ms/step - loss: 202484.6250 - root_mean_squared_error: 449.9555 - val_loss: 201218.0469 - val_root_mean_squared_error: 448.2358\n",
            "Epoch 44/100\n",
            "252/252 [==============================] - 0s 2ms/step - loss: 200077.2344 - root_mean_squared_error: 447.9161 - val_loss: 199673.6406 - val_root_mean_squared_error: 446.4968\n",
            "Epoch 45/100\n",
            "252/252 [==============================] - 0s 2ms/step - loss: 199007.0469 - root_mean_squared_error: 446.3164 - val_loss: 198512.7031 - val_root_mean_squared_error: 445.1854\n",
            "Epoch 46/100\n",
            "252/252 [==============================] - 0s 2ms/step - loss: 197957.8438 - root_mean_squared_error: 445.1401 - val_loss: 197712.8906 - val_root_mean_squared_error: 444.2779\n",
            "Epoch 47/100\n",
            "252/252 [==============================] - 0s 2ms/step - loss: 197398.0938 - root_mean_squared_error: 444.3188 - val_loss: 197130.8906 - val_root_mean_squared_error: 443.6143\n",
            "Epoch 48/100\n",
            "252/252 [==============================] - 0s 2ms/step - loss: 196228.0781 - root_mean_squared_error: 443.6703 - val_loss: 196744.3750 - val_root_mean_squared_error: 443.1721\n",
            "Epoch 49/100\n",
            "252/252 [==============================] - 0s 2ms/step - loss: 196038.5156 - root_mean_squared_error: 443.1841 - val_loss: 196298.2969 - val_root_mean_squared_error: 442.6631\n",
            "Epoch 50/100\n",
            "252/252 [==============================] - 0s 2ms/step - loss: 195858.5312 - root_mean_squared_error: 442.7939 - val_loss: 196115.0625 - val_root_mean_squared_error: 442.4508\n",
            "Epoch 51/100\n",
            "252/252 [==============================] - 0s 2ms/step - loss: 197271.6562 - root_mean_squared_error: 442.5443 - val_loss: 195911.1875 - val_root_mean_squared_error: 442.2164\n",
            "Epoch 52/100\n",
            "252/252 [==============================] - 0s 2ms/step - loss: 195628.1250 - root_mean_squared_error: 442.3273 - val_loss: 195793.6719 - val_root_mean_squared_error: 442.0794\n",
            "Epoch 53/100\n",
            "252/252 [==============================] - 0s 2ms/step - loss: 194912.2656 - root_mean_squared_error: 442.1716 - val_loss: 195697.8750 - val_root_mean_squared_error: 441.9679\n",
            "Epoch 54/100\n",
            "252/252 [==============================] - 0s 2ms/step - loss: 194729.4062 - root_mean_squared_error: 442.0725 - val_loss: 195601.3438 - val_root_mean_squared_error: 441.8561\n",
            "Epoch 55/100\n",
            "252/252 [==============================] - 0s 2ms/step - loss: 195131.1250 - root_mean_squared_error: 441.9753 - val_loss: 195512.2969 - val_root_mean_squared_error: 441.7534\n",
            "Epoch 56/100\n",
            "252/252 [==============================] - 0s 2ms/step - loss: 194832.2969 - root_mean_squared_error: 441.9506 - val_loss: 195556.1094 - val_root_mean_squared_error: 441.8011\n",
            "Epoch 57/100\n",
            "252/252 [==============================] - 0s 2ms/step - loss: 195507.2031 - root_mean_squared_error: 441.9139 - val_loss: 195496.9531 - val_root_mean_squared_error: 441.7323\n",
            "Epoch 58/100\n",
            "252/252 [==============================] - 0s 2ms/step - loss: 194677.1406 - root_mean_squared_error: 441.8598 - val_loss: 195447.7500 - val_root_mean_squared_error: 441.6752\n",
            "Epoch 59/100\n",
            "252/252 [==============================] - 0s 2ms/step - loss: 195159.0156 - root_mean_squared_error: 441.8496 - val_loss: 195521.3281 - val_root_mean_squared_error: 441.7571\n",
            "Epoch 60/100\n",
            "252/252 [==============================] - 0s 2ms/step - loss: 195021.3594 - root_mean_squared_error: 441.8340 - val_loss: 195461.9375 - val_root_mean_squared_error: 441.6889\n",
            "Epoch 61/100\n",
            "252/252 [==============================] - 0s 2ms/step - loss: 195293.0000 - root_mean_squared_error: 441.8141 - val_loss: 195431.1875 - val_root_mean_squared_error: 441.6533\n",
            "Epoch 62/100\n",
            "252/252 [==============================] - 0s 2ms/step - loss: 194625.7656 - root_mean_squared_error: 441.8080 - val_loss: 195442.0938 - val_root_mean_squared_error: 441.6647\n",
            "Epoch 63/100\n",
            "252/252 [==============================] - 0s 2ms/step - loss: 195879.0625 - root_mean_squared_error: 441.8045 - val_loss: 195435.1250 - val_root_mean_squared_error: 441.6565\n",
            "Epoch 64/100\n",
            "252/252 [==============================] - 0s 2ms/step - loss: 195508.7344 - root_mean_squared_error: 441.7996 - val_loss: 195510.4219 - val_root_mean_squared_error: 441.7411\n",
            "Epoch 65/100\n",
            "252/252 [==============================] - 0s 2ms/step - loss: 194641.5312 - root_mean_squared_error: 441.7976 - val_loss: 195451.2188 - val_root_mean_squared_error: 441.6736\n",
            "Epoch 66/100\n",
            "252/252 [==============================] - 0s 2ms/step - loss: 194919.4062 - root_mean_squared_error: 441.8011 - val_loss: 195430.1719 - val_root_mean_squared_error: 441.6495\n",
            "Epoch 67/100\n",
            "252/252 [==============================] - 0s 2ms/step - loss: 194771.6406 - root_mean_squared_error: 441.7920 - val_loss: 195507.7188 - val_root_mean_squared_error: 441.7367\n",
            "Epoch 68/100\n",
            "252/252 [==============================] - 0s 2ms/step - loss: 194617.8594 - root_mean_squared_error: 441.7937 - val_loss: 195432.2656 - val_root_mean_squared_error: 441.6511\n",
            "Epoch 69/100\n",
            "252/252 [==============================] - 0s 2ms/step - loss: 195121.0000 - root_mean_squared_error: 441.7918 - val_loss: 195455.7969 - val_root_mean_squared_error: 441.6773\n",
            "Epoch 70/100\n",
            "252/252 [==============================] - 0s 2ms/step - loss: 195160.6094 - root_mean_squared_error: 441.7942 - val_loss: 195435.6094 - val_root_mean_squared_error: 441.6544\n",
            "Epoch 71/100\n",
            "252/252 [==============================] - 0s 2ms/step - loss: 196698.6094 - root_mean_squared_error: 441.7890 - val_loss: 195522.0938 - val_root_mean_squared_error: 441.7518\n",
            "Epoch 72/100\n",
            "252/252 [==============================] - 0s 2ms/step - loss: 194500.6094 - root_mean_squared_error: 441.7690 - val_loss: 195438.0000 - val_root_mean_squared_error: 441.6565\n",
            "Epoch 73/100\n",
            "252/252 [==============================] - 0s 2ms/step - loss: 195753.4844 - root_mean_squared_error: 441.7739 - val_loss: 195621.5938 - val_root_mean_squared_error: 441.8637\n",
            "Epoch 74/100\n",
            "252/252 [==============================] - 0s 2ms/step - loss: 194674.5469 - root_mean_squared_error: 441.8113 - val_loss: 195483.0938 - val_root_mean_squared_error: 441.7067\n",
            "Epoch 75/100\n",
            "252/252 [==============================] - 0s 2ms/step - loss: 195203.5781 - root_mean_squared_error: 441.7964 - val_loss: 195445.0469 - val_root_mean_squared_error: 441.6637\n",
            "Epoch 76/100\n",
            "252/252 [==============================] - 0s 2ms/step - loss: 194532.5781 - root_mean_squared_error: 441.7937 - val_loss: 195449.5312 - val_root_mean_squared_error: 441.6687\n",
            "Epoch 77/100\n",
            "252/252 [==============================] - 0s 2ms/step - loss: 194863.0781 - root_mean_squared_error: 441.7915 - val_loss: 195466.1875 - val_root_mean_squared_error: 441.6875\n",
            "Epoch 78/100\n",
            "252/252 [==============================] - 0s 2ms/step - loss: 194696.3750 - root_mean_squared_error: 441.7727 - val_loss: 195457.5625 - val_root_mean_squared_error: 441.6777\n",
            "Epoch 79/100\n",
            "252/252 [==============================] - 0s 2ms/step - loss: 194704.3125 - root_mean_squared_error: 441.7895 - val_loss: 195500.8594 - val_root_mean_squared_error: 441.7267\n",
            "Epoch 80/100\n",
            "252/252 [==============================] - 0s 2ms/step - loss: 194867.1250 - root_mean_squared_error: 441.7897 - val_loss: 195446.4062 - val_root_mean_squared_error: 441.6649\n",
            "Epoch 81/100\n",
            "252/252 [==============================] - 0s 2ms/step - loss: 195876.0312 - root_mean_squared_error: 441.7924 - val_loss: 195482.9062 - val_root_mean_squared_error: 441.7062\n",
            "Epoch 82/100\n",
            "252/252 [==============================] - 0s 2ms/step - loss: 194860.8594 - root_mean_squared_error: 441.7942 - val_loss: 195454.9062 - val_root_mean_squared_error: 441.6743\n",
            "Epoch 83/100\n",
            "252/252 [==============================] - 0s 2ms/step - loss: 194526.0312 - root_mean_squared_error: 441.7891 - val_loss: 195453.1406 - val_root_mean_squared_error: 441.6725\n",
            "Epoch 84/100\n",
            "252/252 [==============================] - 0s 2ms/step - loss: 195126.0469 - root_mean_squared_error: 441.7899 - val_loss: 195459.2344 - val_root_mean_squared_error: 441.6794\n",
            "Epoch 85/100\n",
            "252/252 [==============================] - 0s 2ms/step - loss: 194594.3438 - root_mean_squared_error: 441.7906 - val_loss: 195521.1719 - val_root_mean_squared_error: 441.7494\n",
            "Epoch 86/100\n",
            "252/252 [==============================] - 0s 2ms/step - loss: 195280.9375 - root_mean_squared_error: 441.7911 - val_loss: 195461.2656 - val_root_mean_squared_error: 441.6816\n",
            "Epoch 87/100\n",
            "252/252 [==============================] - 0s 2ms/step - loss: 194668.2969 - root_mean_squared_error: 441.7818 - val_loss: 195522.7031 - val_root_mean_squared_error: 441.7512\n",
            "Epoch 88/100\n",
            "252/252 [==============================] - 0s 2ms/step - loss: 195544.6250 - root_mean_squared_error: 441.7626 - val_loss: 195452.6562 - val_root_mean_squared_error: 441.6718\n",
            "Epoch 89/100\n",
            "252/252 [==============================] - 0s 2ms/step - loss: 194492.0938 - root_mean_squared_error: 441.8071 - val_loss: 195452.0781 - val_root_mean_squared_error: 441.6710\n",
            "Epoch 90/100\n",
            "252/252 [==============================] - 0s 2ms/step - loss: 195038.3750 - root_mean_squared_error: 441.7972 - val_loss: 195478.0000 - val_root_mean_squared_error: 441.7004\n",
            "Epoch 91/100\n",
            "252/252 [==============================] - 0s 2ms/step - loss: 194808.4844 - root_mean_squared_error: 441.7974 - val_loss: 195452.1719 - val_root_mean_squared_error: 441.6712\n",
            "Epoch 92/100\n",
            "252/252 [==============================] - 0s 2ms/step - loss: 195367.4844 - root_mean_squared_error: 441.7785 - val_loss: 195449.2188 - val_root_mean_squared_error: 441.6680\n",
            "Epoch 93/100\n",
            "252/252 [==============================] - 0s 2ms/step - loss: 194510.7812 - root_mean_squared_error: 441.7933 - val_loss: 195451.3750 - val_root_mean_squared_error: 441.6704\n",
            "Epoch 94/100\n",
            "252/252 [==============================] - 0s 2ms/step - loss: 194661.9688 - root_mean_squared_error: 441.8024 - val_loss: 195468.7344 - val_root_mean_squared_error: 441.6900\n",
            "Epoch 95/100\n",
            "252/252 [==============================] - 0s 2ms/step - loss: 195234.6719 - root_mean_squared_error: 441.7908 - val_loss: 195507.6875 - val_root_mean_squared_error: 441.7341\n",
            "Epoch 96/100\n",
            "252/252 [==============================] - 0s 2ms/step - loss: 194993.1562 - root_mean_squared_error: 441.7992 - val_loss: 195471.4219 - val_root_mean_squared_error: 441.6930\n",
            "Epoch 97/100\n",
            "252/252 [==============================] - 0s 2ms/step - loss: 194657.0312 - root_mean_squared_error: 441.7985 - val_loss: 195454.7969 - val_root_mean_squared_error: 441.6742\n",
            "Epoch 98/100\n",
            "252/252 [==============================] - 0s 2ms/step - loss: 196041.7969 - root_mean_squared_error: 441.7910 - val_loss: 195530.9688 - val_root_mean_squared_error: 441.7605\n",
            "Epoch 99/100\n",
            "252/252 [==============================] - 0s 2ms/step - loss: 195825.3438 - root_mean_squared_error: 441.8016 - val_loss: 195485.9219 - val_root_mean_squared_error: 441.7093\n",
            "Epoch 100/100\n",
            "252/252 [==============================] - 0s 2ms/step - loss: 194532.7500 - root_mean_squared_error: 441.7992 - val_loss: 195491.0781 - val_root_mean_squared_error: 441.7151\n",
            "1621.5873107910156\n"
          ],
          "name": "stdout"
        },
        {
          "output_type": "display_data",
          "data": {
            "image/png": "[encoded data removed]",
            "text/plain": [
              "<Figure size 432x288 with 1 Axes>"
            ]
          },
          "metadata": {
            "tags": []
          }
        }
      ]
    },
    {
      "cell_type": "markdown",
      "metadata": {
        "id": "lkkojeqB9JFJ",
        "colab_type": "text"
      },
      "source": [
        "100 epochs is too large, so we decided with 50 epochs as executed in the training run.<br>\n",
        "learning_rate = 0.5<br>\n",
        "epochs = 50<br>\n",
        "batch_size = 100<br>"
      ]
    },
    {
      "cell_type": "code",
      "metadata": {
        "id": "B5ew2gUXLzdz",
        "colab_type": "code",
        "colab": {
          "base_uri": "https://localhost:8080/",
          "height": 51
        },
        "outputId": "aa71a5c4-4052-43d7-8548-dc300845ed0d"
      },
      "source": [
        "#@title Define the functions that build and train a model\n",
        "def build_model(my_learning_rate):\n",
        "  \"\"\"Create and compile a simple linear regression model.\"\"\"\n",
        "  # Most simple tf.keras models are sequential.\n",
        "  model = tf.keras.models.Sequential()\n",
        "\n",
        "  # Describe the topography of the model.\n",
        "  # The topography of a simple linear regression model\n",
        "  # is a single node in a single layer.\n",
        "  model.add(tf.keras.layers.Dense(units=1, \n",
        "                                  input_shape=(1,)))\n",
        "\n",
        "  # Compile the model topography into code that TensorFlow can efficiently\n",
        "  # execute. Configure training to minimize the model's mean squared error. \n",
        "  model.compile(optimizer=tf.keras.optimizers.RMSprop(lr=my_learning_rate),\n",
        "                loss=\"mean_squared_error\",\n",
        "                metrics=[tf.keras.metrics.RootMeanSquaredError()])\n",
        "\n",
        "  return model        \n",
        "\n",
        "\n",
        "def train_model(model, df, feature, label, epochs, batch_size):\n",
        "  \"\"\"Train the model by feeding it data.\"\"\"\n",
        "\n",
        "  # Feed the model the feature and the label.\n",
        "  # The model will train for the specified number of epochs. \n",
        "  history = model.fit(x=df[feature],\n",
        "                      y=df[label],\n",
        "                      batch_size=batch_size,\n",
        "                      epochs=epochs)\n",
        "\n",
        "  # Gather the trained model's weight and bias.\n",
        "  trained_weight = model.get_weights()[0]\n",
        "  trained_bias = model.get_weights()[1]\n",
        "\n",
        "  # The list of epochs is stored separately from the rest of history.\n",
        "  epochs = history.epoch\n",
        "  \n",
        "  # Isolate the error for each epoch.\n",
        "  hist = pd.DataFrame(history.history)\n",
        "\n",
        "  # To track the progression of training, we're going to take a snapshot\n",
        "  # of the model's root mean squared error at each epoch. \n",
        "  rmse = hist[\"root_mean_squared_error\"]\n",
        "\n",
        "  return trained_weight, trained_bias, epochs, rmse\n",
        "\n",
        "print(\"Defined the create_model and traing_model functions.\")\n",
        "\n",
        "#@title Define the plotting functions\n",
        "def plot_the_model(trained_weight, trained_bias, feature, label):\n",
        "  \"\"\"Plot the trained model against 200 random training examples.\"\"\"\n",
        "\n",
        "  # Label the axes.\n",
        "  plt.xlabel(feature)\n",
        "  plt.ylabel(label)\n",
        "\n",
        "  # Create a scatter plot from 200 random points of the dataset.\n",
        "  random_examples = train_df.sample(n=10000)\n",
        "  plt.scatter(random_examples[feature], random_examples[label])\n",
        "\n",
        "  # Create a red line representing the model. The red line starts\n",
        "  # at coordinates (x0, y0) and ends at coordinates (x1, y1).\n",
        "  x0 = 0\n",
        "  y0 = trained_bias\n",
        "  x1 = 1\n",
        "  y1 = trained_bias + (trained_weight * x1)\n",
        "  plt.plot([x0, x1], [y0, y1], c='r')\n",
        "\n",
        "  # Render the scatter plot and the red line.\n",
        "  plt.show()\n",
        "\n",
        "\n",
        "def plot_the_loss_curve(epochs, rmse):\n",
        "  \"\"\"Plot a curve of loss vs. epoch.\"\"\"\n",
        "\n",
        "  plt.figure()\n",
        "  plt.xlabel(\"Epoch\")\n",
        "  plt.ylabel(\"Root Mean Squared Error\")\n",
        "\n",
        "  plt.plot(epochs, rmse, label=\"Loss\")\n",
        "  plt.legend()\n",
        "  plt.ylim([rmse.min()*0.97, rmse.max()])\n",
        "  plt.show()  \n",
        "\n",
        "print(\"Defined the plot_the_model and plot_the_loss_curve functions.\")"
      ],
      "execution_count": 207,
      "outputs": [
        {
          "output_type": "stream",
          "text": [
            "Defined the create_model and traing_model functions.\n",
            "Defined the plot_the_model and plot_the_loss_curve functions.\n"
          ],
          "name": "stdout"
        }
      ]
    },
    {
      "cell_type": "code",
      "metadata": {
        "id": "BooFik-JGI_4",
        "colab_type": "code",
        "colab": {
          "base_uri": "https://localhost:8080/",
          "height": 1000
        },
        "outputId": "f565bb04-084f-4815-9d47-594d908475d7"
      },
      "source": [
        "# The following variables are the hyperparameters.\n",
        "learning_rate = 0.5\n",
        "epochs = 50\n",
        "batch_size = 100\n",
        "\n",
        "# Specify the feature and the label.\n",
        "my_feature = \"carat\"  # the total number of rooms on a specific city block.\n",
        "my_label=\"price\" # the median value of a house on a specific city block.\n",
        "# That is, you're going to create a model that predicts house value based \n",
        "# solely on total_rooms.  \n",
        "\n",
        "# Discard any pre-existing version of the model.\n",
        "my_model = None\n",
        "\n",
        "# Invoke the functions.\n",
        "my_model = build_model(learning_rate)\n",
        "weight, bias, epochs, rmse = train_model(my_model, training_df, \n",
        "                                         my_feature, my_label,\n",
        "                                         epochs, batch_size)\n",
        "\n",
        "print(\"\\nThe learned weight for your model is %.4f\" % weight)\n",
        "print(\"The learned bias for your model is %.4f\\n\" % bias )\n",
        "\n",
        "plot_the_model(weight, bias, my_feature, my_label)\n",
        "plot_the_loss_curve(epochs, rmse)"
      ],
      "execution_count": 209,
      "outputs": [
        {
          "output_type": "stream",
          "text": [
            "Epoch 1/50\n",
            "432/432 [==============================] - 1s 1ms/step - loss: 29533500.0000 - root_mean_squared_error: 5435.4526\n",
            "Epoch 2/50\n",
            "432/432 [==============================] - 1s 1ms/step - loss: 26082104.0000 - root_mean_squared_error: 5107.4795\n",
            "Epoch 3/50\n",
            "432/432 [==============================] - 1s 1ms/step - loss: 22957680.0000 - root_mean_squared_error: 4791.7734\n",
            "Epoch 4/50\n",
            "432/432 [==============================] - 0s 1ms/step - loss: 20157816.0000 - root_mean_squared_error: 4489.2505\n",
            "Epoch 5/50\n",
            "432/432 [==============================] - 1s 1ms/step - loss: 17662642.0000 - root_mean_squared_error: 4203.1763\n",
            "Epoch 6/50\n",
            "432/432 [==============================] - 1s 1ms/step - loss: 15498312.0000 - root_mean_squared_error: 3935.4937\n",
            "Epoch 7/50\n",
            "432/432 [==============================] - 1s 1ms/step - loss: 13634824.0000 - root_mean_squared_error: 3692.5383\n",
            "Epoch 8/50\n",
            "432/432 [==============================] - 1s 1ms/step - loss: 12092756.0000 - root_mean_squared_error: 3478.3389\n",
            "Epoch 9/50\n",
            "432/432 [==============================] - 1s 1ms/step - loss: 10891445.0000 - root_mean_squared_error: 3299.5662\n",
            "Epoch 10/50\n",
            "432/432 [==============================] - 1s 1ms/step - loss: 9961912.0000 - root_mean_squared_error: 3155.9907\n",
            "Epoch 11/50\n",
            "432/432 [==============================] - 1s 1ms/step - loss: 9315462.0000 - root_mean_squared_error: 3052.0073\n",
            "Epoch 12/50\n",
            "432/432 [==============================] - 1s 1ms/step - loss: 8808457.0000 - root_mean_squared_error: 2968.0835\n",
            "Epoch 13/50\n",
            "432/432 [==============================] - 1s 1ms/step - loss: 8358911.0000 - root_mean_squared_error: 2890.2542\n",
            "Epoch 14/50\n",
            "432/432 [==============================] - 1s 1ms/step - loss: 7923922.5000 - root_mean_squared_error: 2815.1724\n",
            "Epoch 15/50\n",
            "432/432 [==============================] - 1s 1ms/step - loss: 7506355.0000 - root_mean_squared_error: 2739.9839\n",
            "Epoch 16/50\n",
            "432/432 [==============================] - 1s 1ms/step - loss: 7116690.5000 - root_mean_squared_error: 2666.4182\n",
            "Epoch 17/50\n",
            "432/432 [==============================] - 0s 1ms/step - loss: 6728013.5000 - root_mean_squared_error: 2593.8477\n",
            "Epoch 18/50\n",
            "432/432 [==============================] - 1s 1ms/step - loss: 6357139.0000 - root_mean_squared_error: 2522.0059\n",
            "Epoch 19/50\n",
            "432/432 [==============================] - 1s 1ms/step - loss: 6010456.5000 - root_mean_squared_error: 2451.3435\n",
            "Epoch 20/50\n",
            "432/432 [==============================] - 1s 1ms/step - loss: 5672514.5000 - root_mean_squared_error: 2382.1140\n",
            "Epoch 21/50\n",
            "432/432 [==============================] - 1s 1ms/step - loss: 5355690.0000 - root_mean_squared_error: 2314.6467\n",
            "Epoch 22/50\n",
            "432/432 [==============================] - 1s 1ms/step - loss: 5060888.5000 - root_mean_squared_error: 2249.7646\n",
            "Epoch 23/50\n",
            "432/432 [==============================] - 1s 1ms/step - loss: 4777966.0000 - root_mean_squared_error: 2185.7151\n",
            "Epoch 24/50\n",
            "432/432 [==============================] - 1s 1ms/step - loss: 4518345.5000 - root_mean_squared_error: 2125.7200\n",
            "Epoch 25/50\n",
            "432/432 [==============================] - 1s 1ms/step - loss: 4272373.5000 - root_mean_squared_error: 2066.8301\n",
            "Epoch 26/50\n",
            "432/432 [==============================] - 1s 1ms/step - loss: 4047868.5000 - root_mean_squared_error: 2012.3464\n",
            "Epoch 27/50\n",
            "432/432 [==============================] - 1s 1ms/step - loss: 3845982.0000 - root_mean_squared_error: 1960.1149\n",
            "Epoch 28/50\n",
            "432/432 [==============================] - 1s 1ms/step - loss: 3652849.2500 - root_mean_squared_error: 1910.5396\n",
            "Epoch 29/50\n",
            "432/432 [==============================] - 1s 1ms/step - loss: 3479859.7500 - root_mean_squared_error: 1865.0215\n",
            "Epoch 30/50\n",
            "432/432 [==============================] - 1s 1ms/step - loss: 3319727.5000 - root_mean_squared_error: 1822.0238\n",
            "Epoch 31/50\n",
            "432/432 [==============================] - 1s 1ms/step - loss: 3178078.0000 - root_mean_squared_error: 1782.8276\n",
            "Epoch 32/50\n",
            "432/432 [==============================] - 1s 1ms/step - loss: 3051017.2500 - root_mean_squared_error: 1746.9698\n",
            "Epoch 33/50\n",
            "432/432 [==============================] - 1s 1ms/step - loss: 2941745.5000 - root_mean_squared_error: 1715.1726\n",
            "Epoch 34/50\n",
            "432/432 [==============================] - 1s 1ms/step - loss: 2845846.0000 - root_mean_squared_error: 1687.2678\n",
            "Epoch 35/50\n",
            "432/432 [==============================] - 1s 1ms/step - loss: 2762608.2500 - root_mean_squared_error: 1662.4152\n",
            "Epoch 36/50\n",
            "432/432 [==============================] - 1s 1ms/step - loss: 2693003.7500 - root_mean_squared_error: 1640.6587\n",
            "Epoch 37/50\n",
            "432/432 [==============================] - 0s 1ms/step - loss: 2632720.0000 - root_mean_squared_error: 1622.0067\n",
            "Epoch 38/50\n",
            "432/432 [==============================] - 1s 1ms/step - loss: 2582205.7500 - root_mean_squared_error: 1607.6528\n",
            "Epoch 39/50\n",
            "432/432 [==============================] - 1s 1ms/step - loss: 2543533.7500 - root_mean_squared_error: 1595.0381\n",
            "Epoch 40/50\n",
            "432/432 [==============================] - 1s 1ms/step - loss: 2512013.0000 - root_mean_squared_error: 1584.9856\n",
            "Epoch 41/50\n",
            "432/432 [==============================] - 1s 1ms/step - loss: 2485580.2500 - root_mean_squared_error: 1576.9589\n",
            "Epoch 42/50\n",
            "432/432 [==============================] - 1s 1ms/step - loss: 2466165.2500 - root_mean_squared_error: 1570.6920\n",
            "Epoch 43/50\n",
            "432/432 [==============================] - 1s 1ms/step - loss: 2451524.2500 - root_mean_squared_error: 1565.8842\n",
            "Epoch 44/50\n",
            "432/432 [==============================] - 0s 1ms/step - loss: 2439315.5000 - root_mean_squared_error: 1562.0178\n",
            "Epoch 45/50\n",
            "432/432 [==============================] - 1s 1ms/step - loss: 2432537.7500 - root_mean_squared_error: 1558.9686\n",
            "Epoch 46/50\n",
            "432/432 [==============================] - 1s 1ms/step - loss: 2422720.0000 - root_mean_squared_error: 1556.5048\n",
            "Epoch 47/50\n",
            "432/432 [==============================] - 1s 1ms/step - loss: 2416793.7500 - root_mean_squared_error: 1554.5828\n",
            "Epoch 48/50\n",
            "432/432 [==============================] - 1s 1ms/step - loss: 2412207.7500 - root_mean_squared_error: 1553.0757\n",
            "Epoch 49/50\n",
            "432/432 [==============================] - 1s 1ms/step - loss: 2407286.5000 - root_mean_squared_error: 1551.9122\n",
            "Epoch 50/50\n",
            "432/432 [==============================] - 1s 1ms/step - loss: 2407627.0000 - root_mean_squared_error: 1551.0635\n",
            "\n",
            "The learned weight for your model is 7570.5190\n",
            "The learned bias for your model is -2090.6619\n",
            "\n"
          ],
          "name": "stdout"
        },
        {
          "output_type": "display_data",
          "data": {
            "image/png": "[encoded data removed]",
            "text/plain": [
              "<Figure size 432x288 with 1 Axes>"
            ]
          },
          "metadata": {
            "tags": []
          }
        },
        {
          "output_type": "display_data",
          "data": {
            "image/png": "[encoded data removed]",
            "text/plain": [
              "<Figure size 432x288 with 1 Axes>"
            ]
          },
          "metadata": {
            "tags": []
          }
        }
      ]
    },
    {
      "cell_type": "markdown",
      "metadata": {
        "id": "e-1M806fSFvM",
        "colab_type": "text"
      },
      "source": [
        "Conclusion: with linear regression, we can predict diamond prices based on its carat value. Although we did not reach minimum loss, this model has converged. This could be caused by the large size of data and large variability that makes it difficult for the model to learn from."
      ]
    }
  ]
}