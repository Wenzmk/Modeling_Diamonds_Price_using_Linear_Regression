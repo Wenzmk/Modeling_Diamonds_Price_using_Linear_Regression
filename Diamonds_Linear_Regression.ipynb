{
  "nbformat": 4,
  "nbformat_minor": 0,
  "metadata": {
    "kernelspec": {
      "display_name": "Python 3",
      "language": "python",
      "name": "python3"
    },
    "language_info": {
      "codemirror_mode": {
        "name": "ipython",
        "version": 3
      },
      "file_extension": ".py",
      "mimetype": "text/x-python",
      "name": "python",
      "nbconvert_exporter": "python",
      "pygments_lexer": "ipython3",
      "version": "3.7.3"
    },
    "colab": {
      "name": "Diamonds_Linear_Regression.ipynb",
      "provenance": [],
      "collapsed_sections": [],
      "toc_visible": true
    }
  },
  "cells": [
    {
      "cell_type": "markdown",
      "metadata": {
        "id": "view-in-github",
        "colab_type": "text"
      },
      "source": [
        "<a href=\"https://colab.research.google.com/github/realdanielalexander/diamonds_bangkit/blob/master/Diamonds_Linear_Regression.ipynb\" target=\"_parent\"><img src=\"https://colab.research.google.com/assets/colab-badge.svg\" alt=\"Open In Colab\"/></a>"
      ]
    },
    {
      "cell_type": "markdown",
      "metadata": {
        "id": "7cDmJPn7Xxhf",
        "colab_type": "text"
      },
      "source": [
        "<h1>Bangkit MLCC Project - Diamonds Dataset</h1>\n",
        "<ul>\n",
        "  <li>Daniel Alexander</li>\n",
        "  <li>Mardianto Karim</li>\n",
        "  <li>Natasha Yulian</li>\n",
        "</ul>\n",
        "This code block is taken from the 'Programming Exercise' module on Machine Learning Crash Course."
      ]
    },
    {
      "cell_type": "markdown",
      "metadata": {
        "id": "QpwTLRBCFYCD",
        "colab_type": "text"
      },
      "source": [
        "<h1>Run this colab on tensorflow 2.x</h1>"
      ]
    },
    {
      "cell_type": "code",
      "metadata": {
        "id": "koiKMHgjSK11",
        "colab_type": "code",
        "colab": {}
      },
      "source": [
        "#@title Run this Colab on TensorFlow 2.x\n",
        "%tensorflow_version 2.x"
      ],
      "execution_count": 0,
      "outputs": []
    },
    {
      "cell_type": "markdown",
      "metadata": {
        "id": "9EY8q534SORC",
        "colab_type": "text"
      },
      "source": [
        "<h1>Import relevant libraries</h1>"
      ]
    },
    {
      "cell_type": "code",
      "metadata": {
        "id": "Xg2lB0t7ld82",
        "colab_type": "code",
        "colab": {}
      },
      "source": [
        "import pandas as pd\n",
        "import numpy as np\n",
        "import tensorflow as tf\n",
        "from matplotlib import pyplot as plt"
      ],
      "execution_count": 0,
      "outputs": []
    },
    {
      "cell_type": "markdown",
      "metadata": {
        "id": "q2mUOZC_haTY",
        "colab_type": "text"
      },
      "source": [
        "<h1>Load dataset</h1>"
      ]
    },
    {
      "cell_type": "code",
      "metadata": {
        "id": "hWd66LSPmxAn",
        "colab_type": "code",
        "outputId": "092f1c08-1dea-443d-95a5-0205e76cefef",
        "colab": {
          "resources": {
            "http://localhost:8080/nbextensions/google.colab/files.js": {
              "data": "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",
              "ok": true,
              "headers": [
                [
                  "content-type",
                  "application/javascript"
                ]
              ],
              "status": 200,
              "status_text": ""
            }
          },
          "base_uri": "https://localhost:8080/",
          "height": 74
        }
      },
      "source": [
        "from google.colab import files\n",
        "uploaded = files.upload()\n",
        "import io\n",
        "df = pd.read_csv(io.BytesIO(uploaded['diamonds.csv']))\n",
        "# Dataset is now stored in a Pandas Dataframe"
      ],
      "execution_count": 0,
      "outputs": [
        {
          "output_type": "display_data",
          "data": {
            "text/html": [
              "\n",
              "     <input type=\"file\" id=\"files-1e6f0fa1-1857-4a70-9e22-6241bcd93f19\" name=\"files[]\" multiple disabled />\n",
              "     <output id=\"result-1e6f0fa1-1857-4a70-9e22-6241bcd93f19\">\n",
              "      Upload widget is only available when the cell has been executed in the\n",
              "      current browser session. Please rerun this cell to enable.\n",
              "      </output>\n",
              "      <script src=\"/nbextensions/google.colab/files.js\"></script> "
            ],
            "text/plain": [
              "<IPython.core.display.HTML object>"
            ]
          },
          "metadata": {
            "tags": []
          }
        },
        {
          "output_type": "stream",
          "text": [
            "Saving diamonds.csv to diamonds (2).csv\n"
          ],
          "name": "stdout"
        }
      ]
    },
    {
      "cell_type": "code",
      "metadata": {
        "id": "MFepjTct9v3n",
        "colab_type": "code",
        "outputId": "f8c721d7-7f0b-43b8-95f3-fc14effc8fa6",
        "colab": {
          "base_uri": "https://localhost:8080/",
          "height": 402
        }
      },
      "source": [
        "df_raw = pd.read_csv('diamonds.csv')\n",
        "df_raw['volume']=df_raw['x']*df_raw['y']*df_raw['z']\n",
        "df_raw"
      ],
      "execution_count": 0,
      "outputs": [
        {
          "output_type": "execute_result",
          "data": {
            "text/html": [
              "<div>\n",
              "<style scoped>\n",
              "    .dataframe tbody tr th:only-of-type {\n",
              "        vertical-align: middle;\n",
              "    }\n",
              "\n",
              "    .dataframe tbody tr th {\n",
              "        vertical-align: top;\n",
              "    }\n",
              "\n",
              "    .dataframe thead th {\n",
              "        text-align: right;\n",
              "    }\n",
              "</style>\n",
              "<table border=\"1\" class=\"dataframe\">\n",
              "  <thead>\n",
              "    <tr style=\"text-align: right;\">\n",
              "      <th></th>\n",
              "      <th>Unnamed: 0</th>\n",
              "      <th>carat</th>\n",
              "      <th>cut</th>\n",
              "      <th>color</th>\n",
              "      <th>clarity</th>\n",
              "      <th>depth</th>\n",
              "      <th>table</th>\n",
              "      <th>price</th>\n",
              "      <th>x</th>\n",
              "      <th>y</th>\n",
              "      <th>z</th>\n",
              "      <th>volume</th>\n",
              "    </tr>\n",
              "  </thead>\n",
              "  <tbody>\n",
              "    <tr>\n",
              "      <th>0</th>\n",
              "      <td>1</td>\n",
              "      <td>0.2</td>\n",
              "      <td>Ideal</td>\n",
              "      <td>E</td>\n",
              "      <td>SI2</td>\n",
              "      <td>61.5</td>\n",
              "      <td>55.0</td>\n",
              "      <td>326</td>\n",
              "      <td>4.0</td>\n",
              "      <td>4.0</td>\n",
              "      <td>2.4</td>\n",
              "      <td>38.2</td>\n",
              "    </tr>\n",
              "    <tr>\n",
              "      <th>1</th>\n",
              "      <td>2</td>\n",
              "      <td>0.2</td>\n",
              "      <td>Premium</td>\n",
              "      <td>E</td>\n",
              "      <td>SI1</td>\n",
              "      <td>59.8</td>\n",
              "      <td>61.0</td>\n",
              "      <td>326</td>\n",
              "      <td>3.9</td>\n",
              "      <td>3.8</td>\n",
              "      <td>2.3</td>\n",
              "      <td>34.5</td>\n",
              "    </tr>\n",
              "    <tr>\n",
              "      <th>2</th>\n",
              "      <td>3</td>\n",
              "      <td>0.2</td>\n",
              "      <td>Good</td>\n",
              "      <td>E</td>\n",
              "      <td>VS1</td>\n",
              "      <td>56.9</td>\n",
              "      <td>65.0</td>\n",
              "      <td>327</td>\n",
              "      <td>4.0</td>\n",
              "      <td>4.1</td>\n",
              "      <td>2.3</td>\n",
              "      <td>38.1</td>\n",
              "    </tr>\n",
              "    <tr>\n",
              "      <th>3</th>\n",
              "      <td>4</td>\n",
              "      <td>0.3</td>\n",
              "      <td>Premium</td>\n",
              "      <td>I</td>\n",
              "      <td>VS2</td>\n",
              "      <td>62.4</td>\n",
              "      <td>58.0</td>\n",
              "      <td>334</td>\n",
              "      <td>4.2</td>\n",
              "      <td>4.2</td>\n",
              "      <td>2.6</td>\n",
              "      <td>46.7</td>\n",
              "    </tr>\n",
              "    <tr>\n",
              "      <th>4</th>\n",
              "      <td>5</td>\n",
              "      <td>0.3</td>\n",
              "      <td>Good</td>\n",
              "      <td>J</td>\n",
              "      <td>SI2</td>\n",
              "      <td>63.3</td>\n",
              "      <td>58.0</td>\n",
              "      <td>335</td>\n",
              "      <td>4.3</td>\n",
              "      <td>4.3</td>\n",
              "      <td>2.8</td>\n",
              "      <td>51.9</td>\n",
              "    </tr>\n",
              "    <tr>\n",
              "      <th>...</th>\n",
              "      <td>...</td>\n",
              "      <td>...</td>\n",
              "      <td>...</td>\n",
              "      <td>...</td>\n",
              "      <td>...</td>\n",
              "      <td>...</td>\n",
              "      <td>...</td>\n",
              "      <td>...</td>\n",
              "      <td>...</td>\n",
              "      <td>...</td>\n",
              "      <td>...</td>\n",
              "      <td>...</td>\n",
              "    </tr>\n",
              "    <tr>\n",
              "      <th>53935</th>\n",
              "      <td>53936</td>\n",
              "      <td>0.7</td>\n",
              "      <td>Ideal</td>\n",
              "      <td>D</td>\n",
              "      <td>SI1</td>\n",
              "      <td>60.8</td>\n",
              "      <td>57.0</td>\n",
              "      <td>2757</td>\n",
              "      <td>5.8</td>\n",
              "      <td>5.8</td>\n",
              "      <td>3.5</td>\n",
              "      <td>115.9</td>\n",
              "    </tr>\n",
              "    <tr>\n",
              "      <th>53936</th>\n",
              "      <td>53937</td>\n",
              "      <td>0.7</td>\n",
              "      <td>Good</td>\n",
              "      <td>D</td>\n",
              "      <td>SI1</td>\n",
              "      <td>63.1</td>\n",
              "      <td>55.0</td>\n",
              "      <td>2757</td>\n",
              "      <td>5.7</td>\n",
              "      <td>5.8</td>\n",
              "      <td>3.6</td>\n",
              "      <td>118.1</td>\n",
              "    </tr>\n",
              "    <tr>\n",
              "      <th>53937</th>\n",
              "      <td>53938</td>\n",
              "      <td>0.7</td>\n",
              "      <td>Very Good</td>\n",
              "      <td>D</td>\n",
              "      <td>SI1</td>\n",
              "      <td>62.8</td>\n",
              "      <td>60.0</td>\n",
              "      <td>2757</td>\n",
              "      <td>5.7</td>\n",
              "      <td>5.7</td>\n",
              "      <td>3.6</td>\n",
              "      <td>114.4</td>\n",
              "    </tr>\n",
              "    <tr>\n",
              "      <th>53938</th>\n",
              "      <td>53939</td>\n",
              "      <td>0.9</td>\n",
              "      <td>Premium</td>\n",
              "      <td>H</td>\n",
              "      <td>SI2</td>\n",
              "      <td>61.0</td>\n",
              "      <td>58.0</td>\n",
              "      <td>2757</td>\n",
              "      <td>6.2</td>\n",
              "      <td>6.1</td>\n",
              "      <td>3.7</td>\n",
              "      <td>140.8</td>\n",
              "    </tr>\n",
              "    <tr>\n",
              "      <th>53939</th>\n",
              "      <td>53940</td>\n",
              "      <td>0.8</td>\n",
              "      <td>Ideal</td>\n",
              "      <td>D</td>\n",
              "      <td>SI2</td>\n",
              "      <td>62.2</td>\n",
              "      <td>55.0</td>\n",
              "      <td>2757</td>\n",
              "      <td>5.8</td>\n",
              "      <td>5.9</td>\n",
              "      <td>3.6</td>\n",
              "      <td>124.6</td>\n",
              "    </tr>\n",
              "  </tbody>\n",
              "</table>\n",
              "<p>53940 rows × 12 columns</p>\n",
              "</div>"
            ],
            "text/plain": [
              "       Unnamed: 0  carat        cut color clarity  ...  price   x   y   z  volume\n",
              "0               1    0.2      Ideal     E     SI2  ...    326 4.0 4.0 2.4    38.2\n",
              "1               2    0.2    Premium     E     SI1  ...    326 3.9 3.8 2.3    34.5\n",
              "2               3    0.2       Good     E     VS1  ...    327 4.0 4.1 2.3    38.1\n",
              "3               4    0.3    Premium     I     VS2  ...    334 4.2 4.2 2.6    46.7\n",
              "4               5    0.3       Good     J     SI2  ...    335 4.3 4.3 2.8    51.9\n",
              "...           ...    ...        ...   ...     ...  ...    ...  ..  ..  ..     ...\n",
              "53935       53936    0.7      Ideal     D     SI1  ...   2757 5.8 5.8 3.5   115.9\n",
              "53936       53937    0.7       Good     D     SI1  ...   2757 5.7 5.8 3.6   118.1\n",
              "53937       53938    0.7  Very Good     D     SI1  ...   2757 5.7 5.7 3.6   114.4\n",
              "53938       53939    0.9    Premium     H     SI2  ...   2757 6.2 6.1 3.7   140.8\n",
              "53939       53940    0.8      Ideal     D     SI2  ...   2757 5.8 5.9 3.6   124.6\n",
              "\n",
              "[53940 rows x 12 columns]"
            ]
          },
          "metadata": {
            "tags": []
          },
          "execution_count": 154
        }
      ]
    },
    {
      "cell_type": "markdown",
      "metadata": {
        "id": "irarbk45399z",
        "colab_type": "text"
      },
      "source": [
        "<h1>Plot the correlation matrix</h1>"
      ]
    },
    {
      "cell_type": "code",
      "metadata": {
        "id": "guHMLCyAzgSM",
        "colab_type": "code",
        "outputId": "d080bd8a-3410-4ddb-e97a-47924ad1dfd7",
        "colab": {
          "base_uri": "https://localhost:8080/",
          "height": 314
        }
      },
      "source": [
        "df_raw.corr()"
      ],
      "execution_count": 0,
      "outputs": [
        {
          "output_type": "execute_result",
          "data": {
            "text/html": [
              "<div>\n",
              "<style scoped>\n",
              "    .dataframe tbody tr th:only-of-type {\n",
              "        vertical-align: middle;\n",
              "    }\n",
              "\n",
              "    .dataframe tbody tr th {\n",
              "        vertical-align: top;\n",
              "    }\n",
              "\n",
              "    .dataframe thead th {\n",
              "        text-align: right;\n",
              "    }\n",
              "</style>\n",
              "<table border=\"1\" class=\"dataframe\">\n",
              "  <thead>\n",
              "    <tr style=\"text-align: right;\">\n",
              "      <th></th>\n",
              "      <th>Unnamed: 0</th>\n",
              "      <th>carat</th>\n",
              "      <th>depth</th>\n",
              "      <th>table</th>\n",
              "      <th>price</th>\n",
              "      <th>x</th>\n",
              "      <th>y</th>\n",
              "      <th>z</th>\n",
              "      <th>volume</th>\n",
              "    </tr>\n",
              "  </thead>\n",
              "  <tbody>\n",
              "    <tr>\n",
              "      <th>Unnamed: 0</th>\n",
              "      <td>1.0</td>\n",
              "      <td>-0.4</td>\n",
              "      <td>-0.0</td>\n",
              "      <td>-0.1</td>\n",
              "      <td>-0.3</td>\n",
              "      <td>-0.4</td>\n",
              "      <td>-0.4</td>\n",
              "      <td>-0.4</td>\n",
              "      <td>-0.4</td>\n",
              "    </tr>\n",
              "    <tr>\n",
              "      <th>carat</th>\n",
              "      <td>-0.4</td>\n",
              "      <td>1.0</td>\n",
              "      <td>0.0</td>\n",
              "      <td>0.2</td>\n",
              "      <td>0.9</td>\n",
              "      <td>1.0</td>\n",
              "      <td>1.0</td>\n",
              "      <td>1.0</td>\n",
              "      <td>1.0</td>\n",
              "    </tr>\n",
              "    <tr>\n",
              "      <th>depth</th>\n",
              "      <td>-0.0</td>\n",
              "      <td>0.0</td>\n",
              "      <td>1.0</td>\n",
              "      <td>-0.3</td>\n",
              "      <td>-0.0</td>\n",
              "      <td>-0.0</td>\n",
              "      <td>-0.0</td>\n",
              "      <td>0.1</td>\n",
              "      <td>0.0</td>\n",
              "    </tr>\n",
              "    <tr>\n",
              "      <th>table</th>\n",
              "      <td>-0.1</td>\n",
              "      <td>0.2</td>\n",
              "      <td>-0.3</td>\n",
              "      <td>1.0</td>\n",
              "      <td>0.1</td>\n",
              "      <td>0.2</td>\n",
              "      <td>0.2</td>\n",
              "      <td>0.2</td>\n",
              "      <td>0.2</td>\n",
              "    </tr>\n",
              "    <tr>\n",
              "      <th>price</th>\n",
              "      <td>-0.3</td>\n",
              "      <td>0.9</td>\n",
              "      <td>-0.0</td>\n",
              "      <td>0.1</td>\n",
              "      <td>1.0</td>\n",
              "      <td>0.9</td>\n",
              "      <td>0.9</td>\n",
              "      <td>0.9</td>\n",
              "      <td>0.9</td>\n",
              "    </tr>\n",
              "    <tr>\n",
              "      <th>x</th>\n",
              "      <td>-0.4</td>\n",
              "      <td>1.0</td>\n",
              "      <td>-0.0</td>\n",
              "      <td>0.2</td>\n",
              "      <td>0.9</td>\n",
              "      <td>1.0</td>\n",
              "      <td>1.0</td>\n",
              "      <td>1.0</td>\n",
              "      <td>1.0</td>\n",
              "    </tr>\n",
              "    <tr>\n",
              "      <th>y</th>\n",
              "      <td>-0.4</td>\n",
              "      <td>1.0</td>\n",
              "      <td>-0.0</td>\n",
              "      <td>0.2</td>\n",
              "      <td>0.9</td>\n",
              "      <td>1.0</td>\n",
              "      <td>1.0</td>\n",
              "      <td>1.0</td>\n",
              "      <td>1.0</td>\n",
              "    </tr>\n",
              "    <tr>\n",
              "      <th>z</th>\n",
              "      <td>-0.4</td>\n",
              "      <td>1.0</td>\n",
              "      <td>0.1</td>\n",
              "      <td>0.2</td>\n",
              "      <td>0.9</td>\n",
              "      <td>1.0</td>\n",
              "      <td>1.0</td>\n",
              "      <td>1.0</td>\n",
              "      <td>1.0</td>\n",
              "    </tr>\n",
              "    <tr>\n",
              "      <th>volume</th>\n",
              "      <td>-0.4</td>\n",
              "      <td>1.0</td>\n",
              "      <td>0.0</td>\n",
              "      <td>0.2</td>\n",
              "      <td>0.9</td>\n",
              "      <td>1.0</td>\n",
              "      <td>1.0</td>\n",
              "      <td>1.0</td>\n",
              "      <td>1.0</td>\n",
              "    </tr>\n",
              "  </tbody>\n",
              "</table>\n",
              "</div>"
            ],
            "text/plain": [
              "            Unnamed: 0  carat  depth  table  price    x    y    z  volume\n",
              "Unnamed: 0         1.0   -0.4   -0.0   -0.1   -0.3 -0.4 -0.4 -0.4    -0.4\n",
              "carat             -0.4    1.0    0.0    0.2    0.9  1.0  1.0  1.0     1.0\n",
              "depth             -0.0    0.0    1.0   -0.3   -0.0 -0.0 -0.0  0.1     0.0\n",
              "table             -0.1    0.2   -0.3    1.0    0.1  0.2  0.2  0.2     0.2\n",
              "price             -0.3    0.9   -0.0    0.1    1.0  0.9  0.9  0.9     0.9\n",
              "x                 -0.4    1.0   -0.0    0.2    0.9  1.0  1.0  1.0     1.0\n",
              "y                 -0.4    1.0   -0.0    0.2    0.9  1.0  1.0  1.0     1.0\n",
              "z                 -0.4    1.0    0.1    0.2    0.9  1.0  1.0  1.0     1.0\n",
              "volume            -0.4    1.0    0.0    0.2    0.9  1.0  1.0  1.0     1.0"
            ]
          },
          "metadata": {
            "tags": []
          },
          "execution_count": 155
        }
      ]
    },
    {
      "cell_type": "markdown",
      "metadata": {
        "id": "rJCxTnF-4z_7",
        "colab_type": "text"
      },
      "source": [
        "From this correlation matrix, we can see that the biggest correlating variables are carat and price. So we're going to choose carat as a feature and price as the label. We found that correlation between carat with price and volume (x,y,z) are the highest. First is Carat versus Price, second is Volume versus Price and the last one is cross between carat and volume versus Price. Then we will chose one of the best between the 3 models.\n"
      ]
    },
    {
      "cell_type": "markdown",
      "metadata": {
        "id": "CuyaJTHf6DnJ",
        "colab_type": "text"
      },
      "source": [
        "<h1>Examine the dataset</h1>"
      ]
    },
    {
      "cell_type": "code",
      "metadata": {
        "id": "t9gW_XQT6Iu0",
        "colab_type": "code",
        "colab": {}
      },
      "source": [
        "df.describe()"
      ],
      "execution_count": 0,
      "outputs": []
    },
    {
      "cell_type": "markdown",
      "metadata": {
        "id": "SljC1uizRpE9",
        "colab_type": "text"
      },
      "source": [
        "## Modelling Carat Vs Price"
      ]
    },
    {
      "cell_type": "markdown",
      "metadata": {
        "id": "R_A8CKLz8VFU",
        "colab_type": "text"
      },
      "source": [
        "## Define functions that build and train a model\n",
        "\n",
        "This code block is taken from the 'Programming Exercise' module on Machine Learning Crash Course.\n"
      ]
    },
    {
      "cell_type": "code",
      "metadata": {
        "id": "Ue0poOUa8szU",
        "colab_type": "code",
        "colab": {}
      },
      "source": [
        "#@title Define the functions that build and train a model\n",
        "def build_model(my_learning_rate):\n",
        "  \"\"\"Create and compile a simple linear regression model.\"\"\"\n",
        "  # Most simple tf.keras models are sequential.\n",
        "  model = tf.keras.models.Sequential()\n",
        "\n",
        "  # Add one linear layer to the model to yield a simple linear regressor.\n",
        "  model.add(tf.keras.layers.Dense(units=1, input_shape=(1,)))\n",
        "\n",
        "  # Compile the model topography into code that TensorFlow can efficiently\n",
        "  # execute. Configure training to minimize the model's mean squared error. \n",
        "  model.compile(optimizer=tf.keras.optimizers.RMSprop(lr=my_learning_rate),\n",
        "                loss=\"mean_squared_error\",\n",
        "                metrics=[tf.keras.metrics.RootMeanSquaredError()])\n",
        "\n",
        "  return model               \n",
        "\n",
        "\n",
        "def train_model(model, df, feature, label, my_epochs, \n",
        "                my_batch_size=None, my_validation_split=0.1):\n",
        "  \"\"\"Feed a dataset into the model in order to train it.\"\"\"\n",
        "\n",
        "  history = model.fit(x=df[feature],\n",
        "                      y=df[label],\n",
        "                      batch_size=my_batch_size,\n",
        "                      epochs=my_epochs,\n",
        "                      validation_split=my_validation_split)\n",
        "\n",
        "  # Gather the model's trained weight and bias.\n",
        "  trained_weight = model.get_weights()[0]\n",
        "  trained_bias = model.get_weights()[1]\n",
        "\n",
        "  # The list of epochs is stored separately from the \n",
        "  # rest of history.\n",
        "  epochs = history.epoch\n",
        "  \n",
        "  # Isolate the root mean squared error for each epoch.\n",
        "  hist = pd.DataFrame(history.history)\n",
        "  rmse = hist[\"root_mean_squared_error\"]\n",
        "\n",
        "  return epochs, rmse, history.history   \n",
        "\n",
        "print(\"Defined the build_model and train_model functions.\")"
      ],
      "execution_count": 0,
      "outputs": []
    },
    {
      "cell_type": "markdown",
      "metadata": {
        "id": "GKF_765D8WXF",
        "colab_type": "text"
      },
      "source": [
        "## Define plotting functions\n",
        "\n",
        "This code block is taken from the 'Programming Exercise' module on Machine Learning Crash Course."
      ]
    },
    {
      "cell_type": "code",
      "metadata": {
        "id": "m2vweQ5682zW",
        "colab_type": "code",
        "colab": {}
      },
      "source": [
        "#@title Define the plotting function\n",
        "def plot_the_model(trained_weight, trained_bias, feature, label):\n",
        "  \"\"\"Plot the trained model against 200 random training examples.\"\"\"\n",
        "\n",
        "  # Label the axes.\n",
        "  plt.xlabel(feature)\n",
        "  plt.ylabel(label)\n",
        "\n",
        "  # Create a scatter plot from 200 random points of the dataset.\n",
        "  random_examples = train_df.sample(n=200)\n",
        "  plt.scatter(random_examples[feature], random_examples[label])\n",
        "\n",
        "  # Create a red line representing the model. The red line starts\n",
        "  # at coordinates (x0, y0) and ends at coordinates (x1, y1).\n",
        "  x0 = 0\n",
        "  y0 = trained_bias\n",
        "  x1 = 10000\n",
        "  y1 = trained_bias + (trained_weight * x1)\n",
        "  plt.plot([x0, x1], [y0, y1], c='r')\n",
        "\n",
        "  # Render the scatter plot and the red line.\n",
        "  plt.show()\n",
        "\n",
        "def plot_the_loss_curve(epochs, mae_training, mae_validation):\n",
        "  \"\"\"Plot a curve of loss vs. epoch.\"\"\"\n",
        "\n",
        "  plt.figure()\n",
        "  plt.xlabel(\"Epoch\")\n",
        "  plt.ylabel(\"Root Mean Squared Error\")\n",
        "\n",
        "  plt.plot(epochs[1:], mae_training[1:], label=\"Training Loss\")\n",
        "  plt.plot(epochs[1:], mae_validation[1:], label=\"Validation Loss\")\n",
        "  plt.legend()\n",
        "  \n",
        "  # We're not going to plot the first epoch, since the loss on the first epoch\n",
        "  # is often substantially greater than the loss for other epochs.\n",
        "  merged_mae_lists = mae_training[1:] + mae_validation[1:]\n",
        "  highest_loss = max(merged_mae_lists)\n",
        "  lowest_loss = min(merged_mae_lists)\n",
        "  delta = highest_loss - lowest_loss\n",
        "  print(delta)\n",
        "\n",
        "  top_of_y_axis = highest_loss + (delta * 0.05)\n",
        "  bottom_of_y_axis = lowest_loss - (delta * 0.05)\n",
        "   \n",
        "  plt.ylim([bottom_of_y_axis, top_of_y_axis])\n",
        "  plt.show()  \n",
        "\n",
        "print(\"Defined the plot_the_loss_curve function.\")"
      ],
      "execution_count": 0,
      "outputs": []
    },
    {
      "cell_type": "markdown",
      "metadata": {
        "id": "UGXsrHY65t0y",
        "colab_type": "text"
      },
      "source": [
        "<h1>Copy features and label to varable df</h1>"
      ]
    },
    {
      "cell_type": "code",
      "metadata": {
        "scrolled": false,
        "id": "l5Cj5KYhld9C",
        "colab_type": "code",
        "outputId": "ea886904-5669-4552-d946-67766d240490",
        "colab": {
          "base_uri": "https://localhost:8080/",
          "height": 402
        }
      },
      "source": [
        "df = df_raw[['carat', 'price']].copy()\n",
        "df = df.loc[df['price']<=5000]\n",
        "df"
      ],
      "execution_count": 0,
      "outputs": [
        {
          "output_type": "execute_result",
          "data": {
            "text/html": [
              "<div>\n",
              "<style scoped>\n",
              "    .dataframe tbody tr th:only-of-type {\n",
              "        vertical-align: middle;\n",
              "    }\n",
              "\n",
              "    .dataframe tbody tr th {\n",
              "        vertical-align: top;\n",
              "    }\n",
              "\n",
              "    .dataframe thead th {\n",
              "        text-align: right;\n",
              "    }\n",
              "</style>\n",
              "<table border=\"1\" class=\"dataframe\">\n",
              "  <thead>\n",
              "    <tr style=\"text-align: right;\">\n",
              "      <th></th>\n",
              "      <th>carat</th>\n",
              "      <th>price</th>\n",
              "    </tr>\n",
              "  </thead>\n",
              "  <tbody>\n",
              "    <tr>\n",
              "      <th>0</th>\n",
              "      <td>0.2</td>\n",
              "      <td>326</td>\n",
              "    </tr>\n",
              "    <tr>\n",
              "      <th>1</th>\n",
              "      <td>0.2</td>\n",
              "      <td>326</td>\n",
              "    </tr>\n",
              "    <tr>\n",
              "      <th>2</th>\n",
              "      <td>0.2</td>\n",
              "      <td>327</td>\n",
              "    </tr>\n",
              "    <tr>\n",
              "      <th>3</th>\n",
              "      <td>0.3</td>\n",
              "      <td>334</td>\n",
              "    </tr>\n",
              "    <tr>\n",
              "      <th>4</th>\n",
              "      <td>0.3</td>\n",
              "      <td>335</td>\n",
              "    </tr>\n",
              "    <tr>\n",
              "      <th>...</th>\n",
              "      <td>...</td>\n",
              "      <td>...</td>\n",
              "    </tr>\n",
              "    <tr>\n",
              "      <th>53935</th>\n",
              "      <td>0.7</td>\n",
              "      <td>2757</td>\n",
              "    </tr>\n",
              "    <tr>\n",
              "      <th>53936</th>\n",
              "      <td>0.7</td>\n",
              "      <td>2757</td>\n",
              "    </tr>\n",
              "    <tr>\n",
              "      <th>53937</th>\n",
              "      <td>0.7</td>\n",
              "      <td>2757</td>\n",
              "    </tr>\n",
              "    <tr>\n",
              "      <th>53938</th>\n",
              "      <td>0.9</td>\n",
              "      <td>2757</td>\n",
              "    </tr>\n",
              "    <tr>\n",
              "      <th>53939</th>\n",
              "      <td>0.8</td>\n",
              "      <td>2757</td>\n",
              "    </tr>\n",
              "  </tbody>\n",
              "</table>\n",
              "<p>39226 rows × 2 columns</p>\n",
              "</div>"
            ],
            "text/plain": [
              "       carat  price\n",
              "0        0.2    326\n",
              "1        0.2    326\n",
              "2        0.2    327\n",
              "3        0.3    334\n",
              "4        0.3    335\n",
              "...      ...    ...\n",
              "53935    0.7   2757\n",
              "53936    0.7   2757\n",
              "53937    0.7   2757\n",
              "53938    0.9   2757\n",
              "53939    0.8   2757\n",
              "\n",
              "[39226 rows x 2 columns]"
            ]
          },
          "metadata": {
            "tags": []
          },
          "execution_count": 156
        }
      ]
    },
    {
      "cell_type": "code",
      "metadata": {
        "id": "mj7xcv3HQf77",
        "colab_type": "code",
        "outputId": "afcce596-4aff-418a-d450-3f07ac473e9b",
        "colab": {
          "base_uri": "https://localhost:8080/",
          "height": 296
        }
      },
      "source": [
        "plt.scatter(df['carat'], df['price'])\n",
        "plt.xlabel(\"Carat\")\n",
        "plt.ylabel(\"Price\")"
      ],
      "execution_count": 0,
      "outputs": [
        {
          "output_type": "execute_result",
          "data": {
            "text/plain": [
              "Text(0, 0.5, 'Price')"
            ]
          },
          "metadata": {
            "tags": []
          },
          "execution_count": 157
        },
        {
          "output_type": "display_data",
          "data": {
            "image/png": "[encoded data removed]",
            "text/plain": [
              "<Figure size 432x288 with 1 Axes>"
            ]
          },
          "metadata": {
            "tags": []
          }
        }
      ]
    },
    {
      "cell_type": "markdown",
      "metadata": {
        "id": "42py7Trt74hy",
        "colab_type": "text"
      },
      "source": [
        "Based on the description table, there are some anomalies on the data. The maximum value for both the feature and the label are much greater than its quantiles. There must be outliers in this dataset."
      ]
    },
    {
      "cell_type": "markdown",
      "metadata": {
        "id": "hXxEFE-V9Wjq",
        "colab_type": "text"
      },
      "source": [
        "<h1>Splitting into training and testing data</h1>"
      ]
    },
    {
      "cell_type": "code",
      "metadata": {
        "id": "6QbNqueU9fEh",
        "colab_type": "code",
        "colab": {}
      },
      "source": [
        "from sklearn.model_selection import train_test_split\n",
        "train_df, test_df = train_test_split(df, test_size=0.2)"
      ],
      "execution_count": 0,
      "outputs": []
    },
    {
      "cell_type": "code",
      "metadata": {
        "id": "N1WUspI9-tez",
        "colab_type": "code",
        "colab": {}
      },
      "source": [
        "train_df.shape"
      ],
      "execution_count": 0,
      "outputs": []
    },
    {
      "cell_type": "code",
      "metadata": {
        "id": "WCzXtuc7-04W",
        "colab_type": "code",
        "colab": {}
      },
      "source": [
        "test_df.shape"
      ],
      "execution_count": 0,
      "outputs": []
    },
    {
      "cell_type": "markdown",
      "metadata": {
        "id": "zxR6QAqu_Viq",
        "colab_type": "text"
      },
      "source": [
        "<h1>Building the model and training it</h1>"
      ]
    },
    {
      "cell_type": "markdown",
      "metadata": {
        "id": "TMegPrqjB5he",
        "colab_type": "text"
      },
      "source": [
        "On the first try, we started with a learning rate of .08 and 30 epochs, with a batch size of 100."
      ]
    },
    {
      "cell_type": "code",
      "metadata": {
        "id": "UXpGx5xrBkNW",
        "colab_type": "code",
        "colab": {}
      },
      "source": [
        "# The following variables are the hyperparameters.\n",
        "learning_rate = 0.08\n",
        "epochs = 30\n",
        "batch_size = 100\n",
        "\n",
        "# Split the original training set into a reduced training set and a\n",
        "# validation set. \n",
        "validation_split=0.2\n",
        "\n",
        "# Specify the feature and the label.\n",
        "my_feature = \"carat\"  # carat value.\n",
        "my_label=\"price\" # the price value for that specific diamond.\n",
        "# We're predicting diamond price based on carat value\n",
        "\n",
        "# Discard any pre-existing version of the model.\n",
        "my_model = None\n",
        "\n",
        "# Invoke the functions to build and train the model.\n",
        "my_model = build_model(learning_rate)\n",
        "epochs, rmse, history = train_model(my_model, train_df, my_feature, \n",
        "                                    my_label, epochs, batch_size, \n",
        "                                    validation_split)\n",
        "\n",
        "plot_the_loss_curve(epochs, history[\"root_mean_squared_error\"], \n",
        "                    history[\"val_root_mean_squared_error\"])\n"
      ],
      "execution_count": 0,
      "outputs": []
    },
    {
      "cell_type": "markdown",
      "metadata": {
        "id": "AuycIB63CP1G",
        "colab_type": "text"
      },
      "source": [
        "As we can see here, the model hasn't fully converged, so we tried to increase the learning rate and number of epochs to 0.5 and 50 respectively"
      ]
    },
    {
      "cell_type": "code",
      "metadata": {
        "id": "0rAaAbKFBiqw",
        "colab_type": "code",
        "outputId": "163a084f-8141-48c6-ecda-5ed6ddb5fb54",
        "colab": {
          "base_uri": "https://localhost:8080/",
          "height": 1000
        }
      },
      "source": [
        "# The following variables are the hyperparameters.\n",
        "learning_rate = 0.5\n",
        "epochs = 50\n",
        "batch_size = 100\n",
        "\n",
        "# Split the original training set into a reduced training set and a\n",
        "# validation set. \n",
        "validation_split=0.2\n",
        "\n",
        "# Specify the feature and the label.\n",
        "my_feature = \"carat\"  # carat value.\n",
        "my_label=\"price\" # the price value for that specific diamond.\n",
        "# We're predicting diamond price based on carat value\n",
        "\n",
        "# Discard any pre-existing version of the model.\n",
        "my_model = None\n",
        "\n",
        "# Invoke the functions to build and train the model.\n",
        "my_model = build_model(learning_rate)\n",
        "epochs, rmse, history = train_model(my_model, train_df, my_feature, \n",
        "                                    my_label, epochs, batch_size, \n",
        "                                    validation_split)\n",
        "\n",
        "plot_the_loss_curve(epochs, history[\"root_mean_squared_error\"], \n",
        "                    history[\"val_root_mean_squared_error\"])\n"
      ],
      "execution_count": 0,
      "outputs": [
        {
          "output_type": "stream",
          "text": [
            "252/252 [==============================] - 0s 1ms/step - loss: 2476132.5000 - root_mean_squared_error: 1572.2908 - val_loss: 2272319.5000 - val_root_mean_squared_error: 1507.7256\n",
            "Epoch 6/50\n",
            "252/252 [==============================] - 0s 1ms/step - loss: 2049634.7500 - root_mean_squared_error: 1429.0586 - val_loss: 1874925.1250 - val_root_mean_squared_error: 1369.5704\n",
            "Epoch 7/50\n",
            "252/252 [==============================] - 0s 1ms/step - loss: 1690298.8750 - root_mean_squared_error: 1299.3605 - val_loss: 1556740.3750 - val_root_mean_squared_error: 1247.9688\n",
            "Epoch 8/50\n",
            "252/252 [==============================] - 0s 2ms/step - loss: 1414467.7500 - root_mean_squared_error: 1189.7451 - val_loss: 1318571.3750 - val_root_mean_squared_error: 1148.5436\n",
            "Epoch 9/50\n",
            "252/252 [==============================] - 0s 1ms/step - loss: 1216167.8750 - root_mean_squared_error: 1104.5273 - val_loss: 1159188.5000 - val_root_mean_squared_error: 1076.8818\n",
            "Epoch 10/50\n",
            "252/252 [==============================] - 0s 1ms/step - loss: 1103430.3750 - root_mean_squared_error: 1049.4939 - val_loss: 1068777.8750 - val_root_mean_squared_error: 1034.0135\n",
            "Epoch 11/50\n",
            "252/252 [==============================] - 0s 1ms/step - loss: 1042138.5625 - root_mean_squared_error: 1017.1032 - val_loss: 1011585.3125 - val_root_mean_squared_error: 1005.9518\n",
            "Epoch 12/50\n",
            "252/252 [==============================] - 0s 1ms/step - loss: 984100.6875 - root_mean_squared_error: 991.1543 - val_loss: 960293.9375 - val_root_mean_squared_error: 980.1074\n",
            "Epoch 13/50\n",
            "252/252 [==============================] - 0s 1ms/step - loss: 929351.9375 - root_mean_squared_error: 964.6644 - val_loss: 909156.6875 - val_root_mean_squared_error: 953.6454\n",
            "Epoch 14/50\n",
            "252/252 [==============================] - 0s 1ms/step - loss: 881603.6875 - root_mean_squared_error: 938.0536 - val_loss: 859034.4375 - val_root_mean_squared_error: 926.9763\n",
            "Epoch 15/50\n",
            "252/252 [==============================] - 0s 1ms/step - loss: 831435.5000 - root_mean_squared_error: 912.0824 - val_loss: 811550.3750 - val_root_mean_squared_error: 900.9843\n",
            "Epoch 16/50\n",
            "252/252 [==============================] - 0s 1ms/step - loss: 786622.6250 - root_mean_squared_error: 885.4203 - val_loss: 765409.8750 - val_root_mean_squared_error: 874.9885\n",
            "Epoch 17/50\n",
            "252/252 [==============================] - 0s 1ms/step - loss: 738410.3750 - root_mean_squared_error: 859.4818 - val_loss: 721116.2500 - val_root_mean_squared_error: 849.2853\n",
            "Epoch 18/50\n",
            "252/252 [==============================] - 0s 1ms/step - loss: 697413.1875 - root_mean_squared_error: 833.8282 - val_loss: 678887.4375 - val_root_mean_squared_error: 824.0344\n",
            "Epoch 19/50\n",
            "252/252 [==============================] - 0s 1ms/step - loss: 652677.7500 - root_mean_squared_error: 808.7260 - val_loss: 639264.8125 - val_root_mean_squared_error: 799.6176\n",
            "Epoch 20/50\n",
            "252/252 [==============================] - 0s 1ms/step - loss: 613675.1875 - root_mean_squared_error: 784.2748 - val_loss: 601697.4375 - val_root_mean_squared_error: 775.7579\n",
            "Epoch 21/50\n",
            "252/252 [==============================] - 0s 1ms/step - loss: 576743.6875 - root_mean_squared_error: 760.1237 - val_loss: 564887.5000 - val_root_mean_squared_error: 751.6454\n",
            "Epoch 22/50\n",
            "252/252 [==============================] - 0s 1ms/step - loss: 539740.9375 - root_mean_squared_error: 735.9331 - val_loss: 530097.3125 - val_root_mean_squared_error: 728.1226\n",
            "Epoch 23/50\n",
            "252/252 [==============================] - 0s 1ms/step - loss: 507156.2500 - root_mean_squared_error: 712.6182 - val_loss: 497317.3750 - val_root_mean_squared_error: 705.2421\n",
            "Epoch 24/50\n",
            "252/252 [==============================] - 0s 1ms/step - loss: 475375.6250 - root_mean_squared_error: 689.4748 - val_loss: 466522.7812 - val_root_mean_squared_error: 683.0500\n",
            "Epoch 25/50\n",
            "252/252 [==============================] - 0s 1ms/step - loss: 445266.9062 - root_mean_squared_error: 667.4268 - val_loss: 437181.4062 - val_root_mean_squared_error: 661.2130\n",
            "Epoch 26/50\n",
            "252/252 [==============================] - 0s 1ms/step - loss: 416165.1875 - root_mean_squared_error: 645.9830 - val_loss: 410511.6562 - val_root_mean_squared_error: 640.7193\n",
            "Epoch 27/50\n",
            "252/252 [==============================] - 0s 1ms/step - loss: 390868.3125 - root_mean_squared_error: 625.0538 - val_loss: 385251.9375 - val_root_mean_squared_error: 620.6859\n",
            "Epoch 28/50\n",
            "252/252 [==============================] - 0s 1ms/step - loss: 367490.6875 - root_mean_squared_error: 605.2134 - val_loss: 361636.5625 - val_root_mean_squared_error: 601.3543\n",
            "Epoch 29/50\n",
            "252/252 [==============================] - 0s 1ms/step - loss: 342911.4688 - root_mean_squared_error: 586.3647 - val_loss: 340631.4688 - val_root_mean_squared_error: 583.6219\n",
            "Epoch 30/50\n",
            "252/252 [==============================] - 0s 1ms/step - loss: 323534.9062 - root_mean_squared_error: 568.7637 - val_loss: 321425.7500 - val_root_mean_squared_error: 566.9243\n",
            "Epoch 31/50\n",
            "252/252 [==============================] - 0s 1ms/step - loss: 304925.7812 - root_mean_squared_error: 552.4587 - val_loss: 304251.1875 - val_root_mean_squared_error: 551.5651\n",
            "Epoch 32/50\n",
            "252/252 [==============================] - 0s 1ms/step - loss: 289992.8438 - root_mean_squared_error: 537.2400 - val_loss: 288699.8438 - val_root_mean_squared_error: 537.2797\n",
            "Epoch 33/50\n",
            "252/252 [==============================] - 0s 1ms/step - loss: 273281.1562 - root_mean_squared_error: 523.0671 - val_loss: 274627.8125 - val_root_mean_squared_error: 524.0186\n",
            "Epoch 34/50\n",
            "252/252 [==============================] - 0s 1ms/step - loss: 259173.6562 - root_mean_squared_error: 509.8372 - val_loss: 262302.7188 - val_root_mean_squared_error: 512.1225\n",
            "Epoch 35/50\n",
            "252/252 [==============================] - 0s 1ms/step - loss: 247642.6250 - root_mean_squared_error: 497.8703 - val_loss: 251090.6562 - val_root_mean_squared_error: 501.0562\n",
            "Epoch 36/50\n",
            "252/252 [==============================] - 0s 1ms/step - loss: 236974.1406 - root_mean_squared_error: 487.3330 - val_loss: 241666.7656 - val_root_mean_squared_error: 491.5631\n",
            "Epoch 37/50\n",
            "252/252 [==============================] - 0s 1ms/step - loss: 230595.8594 - root_mean_squared_error: 477.9384 - val_loss: 233708.3906 - val_root_mean_squared_error: 483.4022\n",
            "Epoch 38/50\n",
            "252/252 [==============================] - 0s 1ms/step - loss: 220627.1406 - root_mean_squared_error: 470.4206 - val_loss: 227437.3125 - val_root_mean_squared_error: 476.8739\n",
            "Epoch 39/50\n",
            "252/252 [==============================] - 0s 1ms/step - loss: 214815.3906 - root_mean_squared_error: 463.8090 - val_loss: 221906.7656 - val_root_mean_squared_error: 471.0427\n",
            "Epoch 40/50\n",
            "252/252 [==============================] - 0s 1ms/step - loss: 209616.9844 - root_mean_squared_error: 458.4275 - val_loss: 217958.1094 - val_root_mean_squared_error: 466.8354\n",
            "Epoch 41/50\n",
            "252/252 [==============================] - 0s 1ms/step - loss: 206143.1562 - root_mean_squared_error: 454.3297 - val_loss: 214586.0625 - val_root_mean_squared_error: 463.2130\n",
            "Epoch 42/50\n",
            "252/252 [==============================] - 0s 1ms/step - loss: 203733.7031 - root_mean_squared_error: 450.9865 - val_loss: 212170.9688 - val_root_mean_squared_error: 460.6016\n",
            "Epoch 43/50\n",
            "252/252 [==============================] - 0s 1ms/step - loss: 200767.5312 - root_mean_squared_error: 448.4816 - val_loss: 210270.1719 - val_root_mean_squared_error: 458.5366\n",
            "Epoch 44/50\n",
            "252/252 [==============================] - 0s 1ms/step - loss: 199179.9531 - root_mean_squared_error: 446.4911 - val_loss: 208804.0156 - val_root_mean_squared_error: 456.9380\n",
            "Epoch 45/50\n",
            "252/252 [==============================] - 0s 1ms/step - loss: 197765.2188 - root_mean_squared_error: 445.0283 - val_loss: 207776.2344 - val_root_mean_squared_error: 455.8144\n",
            "Epoch 46/50\n",
            "252/252 [==============================] - 0s 1ms/step - loss: 198409.6562 - root_mean_squared_error: 443.8510 - val_loss: 206942.3281 - val_root_mean_squared_error: 454.9013\n",
            "Epoch 47/50\n",
            "252/252 [==============================] - 0s 1ms/step - loss: 195957.8281 - root_mean_squared_error: 442.9491 - val_loss: 206302.0938 - val_root_mean_squared_error: 454.1997\n",
            "Epoch 48/50\n",
            "252/252 [==============================] - 0s 1ms/step - loss: 195282.6094 - root_mean_squared_error: 442.3104 - val_loss: 205874.1875 - val_root_mean_squared_error: 453.7305\n",
            "Epoch 49/50\n",
            "252/252 [==============================] - 0s 1ms/step - loss: 195945.3438 - root_mean_squared_error: 441.8022 - val_loss: 205549.3906 - val_root_mean_squared_error: 453.3750\n",
            "Epoch 50/50\n",
            "252/252 [==============================] - 0s 1ms/step - loss: 194598.0000 - root_mean_squared_error: 441.4316 - val_loss: 205312.6562 - val_root_mean_squared_error: 453.1151\n",
            "1619.5010375976562\n"
          ],
          "name": "stdout"
        },
        {
          "output_type": "display_data",
          "data": {
            "image/png": "[encoded data removed]",
            "text/plain": [
              "<Figure size 432x288 with 1 Axes>"
            ]
          },
          "metadata": {
            "tags": []
          }
        }
      ]
    },
    {
      "cell_type": "markdown",
      "metadata": {
        "id": "zumHwX4gC2zR",
        "colab_type": "text"
      },
      "source": [
        "As seen on the plot above, the model has converged on 50 epochs, as the plot has flattened out. But we tried to increase the number of epochs to 100 just to be sure."
      ]
    },
    {
      "cell_type": "code",
      "metadata": {
        "id": "_BhleoZf7_fr",
        "colab_type": "code",
        "outputId": "6f844e32-8dc0-4db4-9d87-ad0ffcdf03f2",
        "colab": {
          "base_uri": "https://localhost:8080/",
          "height": 1000
        }
      },
      "source": [
        "# The following variables are the hyperparameters.\n",
        "learning_rate = 0.5\n",
        "epochs = 100\n",
        "batch_size = 100\n",
        "\n",
        "# Split the original training set into a reduced training set and a\n",
        "# validation set. \n",
        "validation_split=0.2\n",
        "\n",
        "# Specify the feature and the label.\n",
        "my_feature = \"carat\"  # carat value.\n",
        "my_label=\"price\" # the price value for that specific diamond.\n",
        "# We're predicting diamond price based on carat value\n",
        "\n",
        "# Discard any pre-existing version of the model.\n",
        "my_model = None\n",
        "\n",
        "# Invoke the functions to build and train the model.\n",
        "my_model = build_model(learning_rate)\n",
        "epochs, rmse, history = train_model(my_model, train_df, my_feature, \n",
        "                                    my_label, epochs, batch_size, \n",
        "                                    validation_split)\n",
        "\n",
        "plot_the_loss_curve(epochs, history[\"root_mean_squared_error\"], \n",
        "                    history[\"val_root_mean_squared_error\"])\n"
      ],
      "execution_count": 0,
      "outputs": [
        {
          "output_type": "stream",
          "text": [
            "Epoch 1/100\n",
            "252/252 [==============================] - 0s 2ms/step - loss: 5012764.5000 - root_mean_squared_error: 2236.5461 - val_loss: 4666690.0000 - val_root_mean_squared_error: 2160.5916\n",
            "Epoch 2/100\n",
            "252/252 [==============================] - 0s 1ms/step - loss: 4232483.5000 - root_mean_squared_error: 2060.7393 - val_loss: 3950488.2500 - val_root_mean_squared_error: 1987.9153\n",
            "Epoch 3/100\n",
            "252/252 [==============================] - 0s 1ms/step - loss: 3584750.7500 - root_mean_squared_error: 1891.7611 - val_loss: 3310137.2500 - val_root_mean_squared_error: 1819.7020\n",
            "Epoch 4/100\n",
            "252/252 [==============================] - 0s 1ms/step - loss: 2977153.7500 - root_mean_squared_error: 1728.4276 - val_loss: 2754432.7500 - val_root_mean_squared_error: 1659.9631\n",
            "Epoch 5/100\n",
            "252/252 [==============================] - 0s 1ms/step - loss: 2472242.2500 - root_mean_squared_error: 1573.2379 - val_loss: 2274666.2500 - val_root_mean_squared_error: 1508.5040\n",
            "Epoch 6/100\n",
            "252/252 [==============================] - 0s 1ms/step - loss: 2052644.7500 - root_mean_squared_error: 1429.0980 - val_loss: 1875566.7500 - val_root_mean_squared_error: 1369.8048\n",
            "Epoch 7/100\n",
            "252/252 [==============================] - 0s 1ms/step - loss: 1683581.8750 - root_mean_squared_error: 1299.5598 - val_loss: 1559083.5000 - val_root_mean_squared_error: 1248.9075\n",
            "Epoch 8/100\n",
            "252/252 [==============================] - 0s 1ms/step - loss: 1413918.5000 - root_mean_squared_error: 1190.2257 - val_loss: 1320175.6250 - val_root_mean_squared_error: 1149.2421\n",
            "Epoch 9/100\n",
            "252/252 [==============================] - 0s 1ms/step - loss: 1224651.6250 - root_mean_squared_error: 1105.6066 - val_loss: 1158088.6250 - val_root_mean_squared_error: 1076.3705\n",
            "Epoch 10/100\n",
            "252/252 [==============================] - 0s 1ms/step - loss: 1106759.6250 - root_mean_squared_error: 1050.2203 - val_loss: 1068773.7500 - val_root_mean_squared_error: 1034.0120\n",
            "Epoch 11/100\n",
            "252/252 [==============================] - 0s 1ms/step - loss: 1035796.6250 - root_mean_squared_error: 1017.2513 - val_loss: 1012112.5625 - val_root_mean_squared_error: 1006.2144\n",
            "Epoch 12/100\n",
            "252/252 [==============================] - 0s 1ms/step - loss: 981064.3750 - root_mean_squared_error: 990.8384 - val_loss: 959601.5625 - val_root_mean_squared_error: 979.7541\n",
            "Epoch 13/100\n",
            "252/252 [==============================] - 0s 1ms/step - loss: 929880.1250 - root_mean_squared_error: 964.6309 - val_loss: 909308.0625 - val_root_mean_squared_error: 953.7250\n",
            "Epoch 14/100\n",
            "252/252 [==============================] - 0s 1ms/step - loss: 880353.2500 - root_mean_squared_error: 938.8184 - val_loss: 860615.3125 - val_root_mean_squared_error: 927.8291\n",
            "Epoch 15/100\n",
            "252/252 [==============================] - 0s 1ms/step - loss: 830472.0625 - root_mean_squared_error: 912.5374 - val_loss: 813100.3125 - val_root_mean_squared_error: 901.8441\n",
            "Epoch 16/100\n",
            "252/252 [==============================] - 0s 1ms/step - loss: 785151.6875 - root_mean_squared_error: 886.3562 - val_loss: 766950.8125 - val_root_mean_squared_error: 875.8690\n",
            "Epoch 17/100\n",
            "252/252 [==============================] - 0s 1ms/step - loss: 740299.3750 - root_mean_squared_error: 860.2816 - val_loss: 722598.4375 - val_root_mean_squared_error: 850.1577\n",
            "Epoch 18/100\n",
            "252/252 [==============================] - 0s 1ms/step - loss: 702843.1875 - root_mean_squared_error: 834.9366 - val_loss: 680897.6875 - val_root_mean_squared_error: 825.2534\n",
            "Epoch 19/100\n",
            "252/252 [==============================] - 0s 1ms/step - loss: 657977.7500 - root_mean_squared_error: 810.4177 - val_loss: 641625.3750 - val_root_mean_squared_error: 801.0924\n",
            "Epoch 20/100\n",
            "252/252 [==============================] - 0s 1ms/step - loss: 620860.1250 - root_mean_squared_error: 785.6731 - val_loss: 603063.5000 - val_root_mean_squared_error: 776.6380\n",
            "Epoch 21/100\n",
            "252/252 [==============================] - 0s 1ms/step - loss: 578038.3125 - root_mean_squared_error: 761.0023 - val_loss: 566512.0625 - val_root_mean_squared_error: 752.7258\n",
            "Epoch 22/100\n",
            "252/252 [==============================] - 0s 1ms/step - loss: 543589.8125 - root_mean_squared_error: 737.2061 - val_loss: 531754.1875 - val_root_mean_squared_error: 729.2601\n",
            "Epoch 23/100\n",
            "252/252 [==============================] - 0s 1ms/step - loss: 507887.8750 - root_mean_squared_error: 713.8907 - val_loss: 499377.5625 - val_root_mean_squared_error: 706.7020\n",
            "Epoch 24/100\n",
            "252/252 [==============================] - 0s 1ms/step - loss: 477168.7812 - root_mean_squared_error: 691.1614 - val_loss: 468272.4062 - val_root_mean_squared_error: 684.3300\n",
            "Epoch 25/100\n",
            "252/252 [==============================] - 0s 1ms/step - loss: 446784.8125 - root_mean_squared_error: 668.8603 - val_loss: 439161.8750 - val_root_mean_squared_error: 662.7093\n",
            "Epoch 26/100\n",
            "252/252 [==============================] - 0s 1ms/step - loss: 418168.1250 - root_mean_squared_error: 647.4771 - val_loss: 412111.6875 - val_root_mean_squared_error: 641.9672\n",
            "Epoch 27/100\n",
            "252/252 [==============================] - 0s 1ms/step - loss: 393937.0625 - root_mean_squared_error: 626.4498 - val_loss: 386674.0312 - val_root_mean_squared_error: 621.8311\n",
            "Epoch 28/100\n",
            "252/252 [==============================] - 0s 1ms/step - loss: 368731.7500 - root_mean_squared_error: 606.4580 - val_loss: 363254.1875 - val_root_mean_squared_error: 602.6981\n",
            "Epoch 29/100\n",
            "252/252 [==============================] - 0s 1ms/step - loss: 346237.9375 - root_mean_squared_error: 587.3167 - val_loss: 341565.9062 - val_root_mean_squared_error: 584.4224\n",
            "Epoch 30/100\n",
            "252/252 [==============================] - 0s 1ms/step - loss: 325634.7812 - root_mean_squared_error: 569.7411 - val_loss: 322391.1562 - val_root_mean_squared_error: 567.7753\n",
            "Epoch 31/100\n",
            "252/252 [==============================] - 0s 1ms/step - loss: 305600.0938 - root_mean_squared_error: 553.2415 - val_loss: 304974.8125 - val_root_mean_squared_error: 552.2211\n",
            "Epoch 32/100\n",
            "252/252 [==============================] - 0s 1ms/step - loss: 288181.9688 - root_mean_squared_error: 537.4777 - val_loss: 289043.3750 - val_root_mean_squared_error: 537.5995\n",
            "Epoch 33/100\n",
            "252/252 [==============================] - 0s 1ms/step - loss: 272844.3438 - root_mean_squared_error: 523.0269 - val_loss: 274836.2812 - val_root_mean_squared_error: 524.2175\n",
            "Epoch 34/100\n",
            "252/252 [==============================] - 0s 1ms/step - loss: 259348.7188 - root_mean_squared_error: 509.8450 - val_loss: 262223.4688 - val_root_mean_squared_error: 512.0450\n",
            "Epoch 35/100\n",
            "252/252 [==============================] - 0s 1ms/step - loss: 247259.0000 - root_mean_squared_error: 498.1060 - val_loss: 251500.9062 - val_root_mean_squared_error: 501.4654\n",
            "Epoch 36/100\n",
            "252/252 [==============================] - 0s 1ms/step - loss: 236966.6719 - root_mean_squared_error: 487.5223 - val_loss: 242007.3438 - val_root_mean_squared_error: 491.9094\n",
            "Epoch 37/100\n",
            "252/252 [==============================] - 0s 1ms/step - loss: 229105.0938 - root_mean_squared_error: 478.3864 - val_loss: 234077.3438 - val_root_mean_squared_error: 483.7834\n",
            "Epoch 38/100\n",
            "252/252 [==============================] - 0s 1ms/step - loss: 221134.5469 - root_mean_squared_error: 470.6686 - val_loss: 227665.5938 - val_root_mean_squared_error: 477.1128\n",
            "Epoch 39/100\n",
            "252/252 [==============================] - 0s 1ms/step - loss: 214829.6250 - root_mean_squared_error: 464.2003 - val_loss: 222274.3125 - val_root_mean_squared_error: 471.4319\n",
            "Epoch 40/100\n",
            "252/252 [==============================] - 0s 1ms/step - loss: 211227.0469 - root_mean_squared_error: 458.7914 - val_loss: 218026.3438 - val_root_mean_squared_error: 466.9084\n",
            "Epoch 41/100\n",
            "252/252 [==============================] - 0s 1ms/step - loss: 205947.2969 - root_mean_squared_error: 454.3598 - val_loss: 214620.8281 - val_root_mean_squared_error: 463.2499\n",
            "Epoch 42/100\n",
            "252/252 [==============================] - 0s 1ms/step - loss: 203639.4688 - root_mean_squared_error: 451.0204 - val_loss: 212187.0156 - val_root_mean_squared_error: 460.6197\n",
            "Epoch 43/100\n",
            "252/252 [==============================] - 0s 1ms/step - loss: 201726.6406 - root_mean_squared_error: 448.5128 - val_loss: 210245.7031 - val_root_mean_squared_error: 458.5100\n",
            "Epoch 44/100\n",
            "252/252 [==============================] - 0s 1ms/step - loss: 199446.1719 - root_mean_squared_error: 446.5179 - val_loss: 208802.2031 - val_root_mean_squared_error: 456.9362\n",
            "Epoch 45/100\n",
            "252/252 [==============================] - 0s 1ms/step - loss: 198242.8125 - root_mean_squared_error: 444.9816 - val_loss: 207716.4062 - val_root_mean_squared_error: 455.7496\n",
            "Epoch 46/100\n",
            "252/252 [==============================] - 0s 1ms/step - loss: 197221.0625 - root_mean_squared_error: 443.8376 - val_loss: 206923.1875 - val_root_mean_squared_error: 454.8804\n",
            "Epoch 47/100\n",
            "252/252 [==============================] - 0s 1ms/step - loss: 195591.2812 - root_mean_squared_error: 442.9570 - val_loss: 206336.9531 - val_root_mean_squared_error: 454.2376\n",
            "Epoch 48/100\n",
            "252/252 [==============================] - 0s 1ms/step - loss: 195089.7656 - root_mean_squared_error: 442.3051 - val_loss: 205901.5625 - val_root_mean_squared_error: 453.7603\n",
            "Epoch 49/100\n",
            "252/252 [==============================] - 0s 1ms/step - loss: 195312.5469 - root_mean_squared_error: 441.8141 - val_loss: 205577.2188 - val_root_mean_squared_error: 453.4051\n",
            "Epoch 50/100\n",
            "252/252 [==============================] - 0s 1ms/step - loss: 194302.5312 - root_mean_squared_error: 441.4676 - val_loss: 205330.1250 - val_root_mean_squared_error: 453.1340\n",
            "Epoch 51/100\n",
            "252/252 [==============================] - 0s 1ms/step - loss: 194097.7969 - root_mean_squared_error: 441.1623 - val_loss: 205252.3281 - val_root_mean_squared_error: 453.0484\n",
            "Epoch 52/100\n",
            "252/252 [==============================] - 0s 1ms/step - loss: 193814.5312 - root_mean_squared_error: 441.0001 - val_loss: 205050.8906 - val_root_mean_squared_error: 452.8281\n",
            "Epoch 53/100\n",
            "252/252 [==============================] - 0s 1ms/step - loss: 194271.2969 - root_mean_squared_error: 440.8326 - val_loss: 204981.4219 - val_root_mean_squared_error: 452.7522\n",
            "Epoch 54/100\n",
            "252/252 [==============================] - 0s 1ms/step - loss: 193563.4375 - root_mean_squared_error: 440.7213 - val_loss: 204899.0938 - val_root_mean_squared_error: 452.6629\n",
            "Epoch 55/100\n",
            "252/252 [==============================] - 0s 1ms/step - loss: 194567.9531 - root_mean_squared_error: 440.6321 - val_loss: 204863.6406 - val_root_mean_squared_error: 452.6242\n",
            "Epoch 56/100\n",
            "252/252 [==============================] - 0s 1ms/step - loss: 193742.4375 - root_mean_squared_error: 440.5639 - val_loss: 204915.2812 - val_root_mean_squared_error: 452.6809\n",
            "Epoch 57/100\n",
            "252/252 [==============================] - 0s 1ms/step - loss: 193352.0781 - root_mean_squared_error: 440.5332 - val_loss: 204839.2188 - val_root_mean_squared_error: 452.5998\n",
            "Epoch 58/100\n",
            "252/252 [==============================] - 0s 1ms/step - loss: 193454.3750 - root_mean_squared_error: 440.4997 - val_loss: 204797.7188 - val_root_mean_squared_error: 452.5535\n",
            "Epoch 59/100\n",
            "252/252 [==============================] - 0s 1ms/step - loss: 193412.0469 - root_mean_squared_error: 440.4390 - val_loss: 204807.8906 - val_root_mean_squared_error: 452.5649\n",
            "Epoch 60/100\n",
            "252/252 [==============================] - 0s 1ms/step - loss: 193645.9531 - root_mean_squared_error: 440.4591 - val_loss: 204790.5469 - val_root_mean_squared_error: 452.5471\n",
            "Epoch 61/100\n",
            "252/252 [==============================] - 0s 1ms/step - loss: 193392.0469 - root_mean_squared_error: 440.4492 - val_loss: 204785.6250 - val_root_mean_squared_error: 452.5415\n",
            "Epoch 62/100\n",
            "252/252 [==============================] - 0s 1ms/step - loss: 193501.0000 - root_mean_squared_error: 440.3860 - val_loss: 204807.4844 - val_root_mean_squared_error: 452.5655\n",
            "Epoch 63/100\n",
            "252/252 [==============================] - 0s 1ms/step - loss: 193973.7656 - root_mean_squared_error: 440.4322 - val_loss: 204789.2500 - val_root_mean_squared_error: 452.5460\n",
            "Epoch 64/100\n",
            "252/252 [==============================] - 0s 1ms/step - loss: 193335.8125 - root_mean_squared_error: 440.4270 - val_loss: 204796.7188 - val_root_mean_squared_error: 452.5542\n",
            "Epoch 65/100\n",
            "252/252 [==============================] - 0s 1ms/step - loss: 196024.0938 - root_mean_squared_error: 440.3964 - val_loss: 204855.7031 - val_root_mean_squared_error: 452.6213\n",
            "Epoch 66/100\n",
            "252/252 [==============================] - 0s 1ms/step - loss: 193233.6250 - root_mean_squared_error: 440.3750 - val_loss: 204860.9844 - val_root_mean_squared_error: 452.6248\n",
            "Epoch 67/100\n",
            "252/252 [==============================] - 0s 1ms/step - loss: 194303.2812 - root_mean_squared_error: 440.4335 - val_loss: 204799.5781 - val_root_mean_squared_error: 452.5587\n",
            "Epoch 68/100\n",
            "252/252 [==============================] - 0s 1ms/step - loss: 193401.4219 - root_mean_squared_error: 440.4196 - val_loss: 204798.0000 - val_root_mean_squared_error: 452.5570\n",
            "Epoch 69/100\n",
            "252/252 [==============================] - 0s 1ms/step - loss: 194282.3594 - root_mean_squared_error: 440.4086 - val_loss: 204810.5938 - val_root_mean_squared_error: 452.5714\n",
            "Epoch 70/100\n",
            "252/252 [==============================] - 0s 1ms/step - loss: 195602.2031 - root_mean_squared_error: 440.4145 - val_loss: 204838.3125 - val_root_mean_squared_error: 452.6025\n",
            "Epoch 71/100\n",
            "252/252 [==============================] - 0s 1ms/step - loss: 194329.7812 - root_mean_squared_error: 440.3921 - val_loss: 204810.8906 - val_root_mean_squared_error: 452.5718\n",
            "Epoch 72/100\n",
            "252/252 [==============================] - 0s 1ms/step - loss: 193802.4688 - root_mean_squared_error: 440.4015 - val_loss: 204821.5625 - val_root_mean_squared_error: 452.5840\n",
            "Epoch 73/100\n",
            "252/252 [==============================] - 0s 1ms/step - loss: 194022.5625 - root_mean_squared_error: 440.4245 - val_loss: 204828.5156 - val_root_mean_squared_error: 452.5917\n",
            "Epoch 74/100\n",
            "252/252 [==============================] - 0s 1ms/step - loss: 193374.2500 - root_mean_squared_error: 440.4198 - val_loss: 204820.1719 - val_root_mean_squared_error: 452.5824\n",
            "Epoch 75/100\n",
            "252/252 [==============================] - 0s 1ms/step - loss: 193508.2656 - root_mean_squared_error: 440.4055 - val_loss: 204821.5625 - val_root_mean_squared_error: 452.5828\n",
            "Epoch 76/100\n",
            "252/252 [==============================] - 0s 1ms/step - loss: 193779.4688 - root_mean_squared_error: 440.4180 - val_loss: 204805.9844 - val_root_mean_squared_error: 452.5662\n",
            "Epoch 77/100\n",
            "252/252 [==============================] - 0s 1ms/step - loss: 193310.4375 - root_mean_squared_error: 440.4082 - val_loss: 204810.4688 - val_root_mean_squared_error: 452.5715\n",
            "Epoch 78/100\n",
            "252/252 [==============================] - 0s 1ms/step - loss: 196475.2969 - root_mean_squared_error: 440.4088 - val_loss: 204807.5625 - val_root_mean_squared_error: 452.5677\n",
            "Epoch 79/100\n",
            "252/252 [==============================] - 0s 1ms/step - loss: 194214.8125 - root_mean_squared_error: 440.4150 - val_loss: 204809.8438 - val_root_mean_squared_error: 452.5707\n",
            "Epoch 80/100\n",
            "252/252 [==============================] - 0s 1ms/step - loss: 194229.0625 - root_mean_squared_error: 440.4118 - val_loss: 204837.1562 - val_root_mean_squared_error: 452.5999\n",
            "Epoch 81/100\n",
            "252/252 [==============================] - 0s 1ms/step - loss: 193635.5781 - root_mean_squared_error: 440.4258 - val_loss: 204836.1250 - val_root_mean_squared_error: 452.5987\n",
            "Epoch 82/100\n",
            "252/252 [==============================] - 0s 1ms/step - loss: 193313.7812 - root_mean_squared_error: 440.4081 - val_loss: 204819.7656 - val_root_mean_squared_error: 452.5820\n",
            "Epoch 83/100\n",
            "252/252 [==============================] - 0s 1ms/step - loss: 194835.6250 - root_mean_squared_error: 440.4168 - val_loss: 204807.5625 - val_root_mean_squared_error: 452.5679\n",
            "Epoch 84/100\n",
            "252/252 [==============================] - 0s 1ms/step - loss: 193603.5312 - root_mean_squared_error: 440.4061 - val_loss: 204841.3594 - val_root_mean_squared_error: 452.6045\n",
            "Epoch 85/100\n",
            "252/252 [==============================] - 0s 1ms/step - loss: 193569.0312 - root_mean_squared_error: 440.4164 - val_loss: 204828.9531 - val_root_mean_squared_error: 452.5923\n",
            "Epoch 86/100\n",
            "252/252 [==============================] - 0s 1ms/step - loss: 196191.0938 - root_mean_squared_error: 440.4232 - val_loss: 204830.0312 - val_root_mean_squared_error: 452.5936\n",
            "Epoch 87/100\n",
            "252/252 [==============================] - 0s 1ms/step - loss: 193335.2969 - root_mean_squared_error: 440.4285 - val_loss: 204826.1719 - val_root_mean_squared_error: 452.5893\n",
            "Epoch 88/100\n",
            "252/252 [==============================] - 0s 1ms/step - loss: 194052.0938 - root_mean_squared_error: 440.3875 - val_loss: 204863.5156 - val_root_mean_squared_error: 452.6310\n",
            "Epoch 89/100\n",
            "252/252 [==============================] - 0s 1ms/step - loss: 193446.9531 - root_mean_squared_error: 440.4169 - val_loss: 204812.4219 - val_root_mean_squared_error: 452.5732\n",
            "Epoch 90/100\n",
            "252/252 [==============================] - 0s 1ms/step - loss: 194668.2031 - root_mean_squared_error: 440.4034 - val_loss: 204811.9531 - val_root_mean_squared_error: 452.5731\n",
            "Epoch 91/100\n",
            "252/252 [==============================] - 0s 1ms/step - loss: 193728.9531 - root_mean_squared_error: 440.4112 - val_loss: 204813.7188 - val_root_mean_squared_error: 452.5749\n",
            "Epoch 92/100\n",
            "252/252 [==============================] - 0s 1ms/step - loss: 193709.6562 - root_mean_squared_error: 440.3889 - val_loss: 204883.2969 - val_root_mean_squared_error: 452.6505\n",
            "Epoch 93/100\n",
            "252/252 [==============================] - 0s 1ms/step - loss: 193309.0781 - root_mean_squared_error: 440.4287 - val_loss: 204813.1875 - val_root_mean_squared_error: 452.5741\n",
            "Epoch 94/100\n",
            "252/252 [==============================] - 0s 1ms/step - loss: 193366.9531 - root_mean_squared_error: 440.4121 - val_loss: 204822.7344 - val_root_mean_squared_error: 452.5844\n",
            "Epoch 95/100\n",
            "252/252 [==============================] - 0s 1ms/step - loss: 193349.6562 - root_mean_squared_error: 440.4131 - val_loss: 204814.3281 - val_root_mean_squared_error: 452.5756\n",
            "Epoch 96/100\n",
            "252/252 [==============================] - 0s 1ms/step - loss: 194343.0625 - root_mean_squared_error: 440.4088 - val_loss: 204826.9219 - val_root_mean_squared_error: 452.5890\n",
            "Epoch 97/100\n",
            "252/252 [==============================] - 0s 1ms/step - loss: 194300.3750 - root_mean_squared_error: 440.4194 - val_loss: 204814.7500 - val_root_mean_squared_error: 452.5760\n",
            "Epoch 98/100\n",
            "252/252 [==============================] - 0s 1ms/step - loss: 193574.1250 - root_mean_squared_error: 440.3955 - val_loss: 204839.0000 - val_root_mean_squared_error: 452.6022\n",
            "Epoch 99/100\n",
            "252/252 [==============================] - 0s 1ms/step - loss: 193982.2500 - root_mean_squared_error: 440.4153 - val_loss: 204853.2344 - val_root_mean_squared_error: 452.6178\n",
            "Epoch 100/100\n",
            "252/252 [==============================] - 0s 1ms/step - loss: 194362.4531 - root_mean_squared_error: 440.4070 - val_loss: 204826.6250 - val_root_mean_squared_error: 452.5898\n",
            "1620.3642272949219\n"
          ],
          "name": "stdout"
        },
        {
          "output_type": "display_data",
          "data": {
            "image/png": "[encoded data removed]",
            "text/plain": [
              "<Figure size 432x288 with 1 Axes>"
            ]
          },
          "metadata": {
            "tags": []
          }
        }
      ]
    },
    {
      "cell_type": "markdown",
      "metadata": {
        "id": "lkkojeqB9JFJ",
        "colab_type": "text"
      },
      "source": [
        "100 epochs is too large, so we decided with 50 epochs as executed in the training run.<br>\n",
        "learning_rate = 0.5<br>\n",
        "epochs = 50<br>\n",
        "batch_size = 100<br>"
      ]
    },
    {
      "cell_type": "code",
      "metadata": {
        "id": "GbNY2bkqNAS6",
        "colab_type": "code",
        "outputId": "90c558fe-01b6-494f-ff55-0e2f5c4ede30",
        "colab": {
          "base_uri": "https://localhost:8080/",
          "height": 51
        }
      },
      "source": [
        "#@title Define the functions that build and train a model\n",
        "def build_model(my_learning_rate):\n",
        "  \"\"\"Create and compile a simple linear regression model.\"\"\"\n",
        "  # Most simple tf.keras models are sequential.\n",
        "  model = tf.keras.models.Sequential()\n",
        "\n",
        "  # Describe the topography of the model.\n",
        "  # The topography of a simple linear regression model\n",
        "  # is a single node in a single layer.\n",
        "  model.add(tf.keras.layers.Dense(units=1, \n",
        "                                  input_shape=(1,)))\n",
        "\n",
        "  # Compile the model topography into code that TensorFlow can efficiently\n",
        "  # execute. Configure training to minimize the model's mean squared error. \n",
        "  model.compile(optimizer=tf.keras.optimizers.RMSprop(lr=my_learning_rate),\n",
        "                loss=\"mean_squared_error\",\n",
        "                metrics=[tf.keras.metrics.RootMeanSquaredError()])\n",
        "\n",
        "  return model        \n",
        "\n",
        "\n",
        "def train_model(model, df, feature, label, epochs, batch_size):\n",
        "  \"\"\"Train the model by feeding it data.\"\"\"\n",
        "\n",
        "  # Feed the model the feature and the label.\n",
        "  # The model will train for the specified number of epochs. \n",
        "  history = model.fit(x=df[feature],\n",
        "                      y=df[label],\n",
        "                      batch_size=batch_size,\n",
        "                      epochs=epochs)\n",
        "\n",
        "  # Gather the trained model's weight and bias.\n",
        "  trained_weight = model.get_weights()[0]\n",
        "  trained_bias = model.get_weights()[1]\n",
        "\n",
        "  # The list of epochs is stored separately from the rest of history.\n",
        "  epochs = history.epoch\n",
        "  \n",
        "  # Isolate the error for each epoch.\n",
        "  hist = pd.DataFrame(history.history)\n",
        "\n",
        "  # To track the progression of training, we're going to take a snapshot\n",
        "  # of the model's root mean squared error at each epoch. \n",
        "  rmse = hist[\"root_mean_squared_error\"]\n",
        "\n",
        "  return trained_weight, trained_bias, epochs, rmse\n",
        "\n",
        "print(\"Defined the create_model and traing_model functions.\")\n",
        "\n",
        "#@title Define the plotting functions\n",
        "def plot_the_model(trained_weight, trained_bias, feature, label):\n",
        "  \"\"\"Plot the trained model against 200 random training examples.\"\"\"\n",
        "\n",
        "  # Label the axes.\n",
        "  plt.xlabel(feature)\n",
        "  plt.ylabel(label)\n",
        "\n",
        "  # Create a scatter plot from 200 random points of the dataset.\n",
        "  random_examples = train_df.sample(n=10000)\n",
        "  plt.scatter(random_examples[feature], random_examples[label])\n",
        "\n",
        "  # Create a red line representing the model. The red line starts\n",
        "  # at coordinates (x0, y0) and ends at coordinates (x1, y1).\n",
        "  x0 = 0\n",
        "  y0 = trained_bias\n",
        "  x1 = 1\n",
        "  y1 = trained_bias + (trained_weight * x1)\n",
        "  plt.plot([x0, x1], [y0, y1], c='r')\n",
        "\n",
        "  # Render the scatter plot and the red line.\n",
        "  plt.show()\n",
        "\n",
        "\n",
        "def plot_the_loss_curve(epochs, rmse):\n",
        "  \"\"\"Plot a curve of loss vs. epoch.\"\"\"\n",
        "\n",
        "  plt.figure()\n",
        "  plt.xlabel(\"Epoch\")\n",
        "  plt.ylabel(\"Root Mean Squared Error\")\n",
        "\n",
        "  plt.plot(epochs, rmse, label=\"Loss\")\n",
        "  plt.legend()\n",
        "  plt.ylim([rmse.min()*0.97, rmse.max()])\n",
        "  plt.show()  \n",
        "\n",
        "print(\"Defined the plot_the_model and plot_the_loss_curve functions.\")"
      ],
      "execution_count": 0,
      "outputs": [
        {
          "output_type": "stream",
          "text": [
            "Defined the create_model and traing_model functions.\n",
            "Defined the plot_the_model and plot_the_loss_curve functions.\n"
          ],
          "name": "stdout"
        }
      ]
    },
    {
      "cell_type": "code",
      "metadata": {
        "id": "BooFik-JGI_4",
        "colab_type": "code",
        "outputId": "7a2d1778-bd63-413f-d042-35b69598d6f0",
        "colab": {
          "base_uri": "https://localhost:8080/",
          "height": 1000
        }
      },
      "source": [
        "# The following variables are the hyperparameters.\n",
        "learning_rate = 0.5\n",
        "epochs = 50\n",
        "batch_size = 100\n",
        "\n",
        "# Specify the feature and the label.\n",
        "my_feature = \"car at\"  # carat value.\n",
        "my_label=\"price\" # the price value for that specific diamond.\n",
        "# We're predicting diamond price based on carat value\n",
        "\n",
        "# Discard any pre-existing version of the model.\n",
        "my_model = None\n",
        "\n",
        "# Invoke the functions.\n",
        "my_model = build_model(learning_rate)\n",
        "weight, bias, epochs, rmse = train_model(my_model, train_df, \n",
        "                                         my_feature, my_label,\n",
        "                                         epochs, batch_size)\n",
        "\n",
        "print(\"\\nThe learned weight for your model is %.4f\" % weight)\n",
        "print(\"The learned bias for your model is %.4f\\n\" % bias )\n",
        "\n",
        "plot_the_model(weight, bias, my_feature, my_label)\n",
        "plot_the_loss_curve(epochs, rmse)"
      ],
      "execution_count": 0,
      "outputs": [
        {
          "output_type": "stream",
          "text": [
            "Epoch 1/50\n",
            "314/314 [==============================] - 0s 978us/step - loss: 4916801.0000 - root_mean_squared_error: 2217.2971\n",
            "Epoch 2/50\n",
            "314/314 [==============================] - 0s 1ms/step - loss: 4002907.0000 - root_mean_squared_error: 2000.8314\n",
            "Epoch 3/50\n",
            "314/314 [==============================] - 0s 1ms/step - loss: 3210470.0000 - root_mean_squared_error: 1791.9438\n",
            "Epoch 4/50\n",
            "314/314 [==============================] - 0s 1ms/step - loss: 2546095.7500 - root_mean_squared_error: 1595.6764\n",
            "Epoch 5/50\n",
            "314/314 [==============================] - 0s 982us/step - loss: 2004537.1250 - root_mean_squared_error: 1415.7947\n",
            "Epoch 6/50\n",
            "314/314 [==============================] - 0s 966us/step - loss: 1586140.2500 - root_mean_squared_error: 1259.3116\n",
            "Epoch 7/50\n",
            "314/314 [==============================] - 0s 1ms/step - loss: 1292405.5000 - root_mean_squared_error: 1136.9249\n",
            "Epoch 8/50\n",
            "314/314 [==============================] - 0s 1ms/step - loss: 1117164.1250 - root_mean_squared_error: 1057.0597\n",
            "Epoch 9/50\n",
            "314/314 [==============================] - 0s 954us/step - loss: 1030055.7500 - root_mean_squared_error: 1014.9520\n",
            "Epoch 10/50\n",
            "314/314 [==============================] - 0s 969us/step - loss: 963890.6250 - root_mean_squared_error: 981.8652\n",
            "Epoch 11/50\n",
            "314/314 [==============================] - 0s 1ms/step - loss: 899802.8750 - root_mean_squared_error: 948.5579\n",
            "Epoch 12/50\n",
            "314/314 [==============================] - 0s 1ms/step - loss: 838430.6250 - root_mean_squared_error: 915.6985\n",
            "Epoch 13/50\n",
            "314/314 [==============================] - 0s 961us/step - loss: 780026.1250 - root_mean_squared_error: 883.2090\n",
            "Epoch 14/50\n",
            "314/314 [==============================] - 0s 1ms/step - loss: 724162.5625 - root_mean_squared_error: 851.0164\n",
            "Epoch 15/50\n",
            "314/314 [==============================] - 0s 1ms/step - loss: 671710.8125 - root_mean_squared_error: 819.6318\n",
            "Epoch 16/50\n",
            "314/314 [==============================] - 0s 1ms/step - loss: 621655.3750 - root_mean_squared_error: 788.5151\n",
            "Epoch 17/50\n",
            "314/314 [==============================] - 0s 985us/step - loss: 575078.7500 - root_mean_squared_error: 758.3505\n",
            "Epoch 18/50\n",
            "314/314 [==============================] - 0s 945us/step - loss: 531152.1250 - root_mean_squared_error: 728.7867\n",
            "Epoch 19/50\n",
            "314/314 [==============================] - 0s 968us/step - loss: 490272.3438 - root_mean_squared_error: 700.1744\n",
            "Epoch 20/50\n",
            "314/314 [==============================] - 0s 1ms/step - loss: 452569.4375 - root_mean_squared_error: 672.6899\n",
            "Epoch 21/50\n",
            "314/314 [==============================] - 0s 970us/step - loss: 417207.6562 - root_mean_squared_error: 645.9725\n",
            "Epoch 22/50\n",
            "314/314 [==============================] - 0s 996us/step - loss: 385315.3125 - root_mean_squared_error: 620.7365\n",
            "Epoch 23/50\n",
            "314/314 [==============================] - 0s 1ms/step - loss: 355683.0000 - root_mean_squared_error: 596.2987\n",
            "Epoch 24/50\n",
            "314/314 [==============================] - 0s 1ms/step - loss: 329146.0000 - root_mean_squared_error: 573.7510\n",
            "Epoch 25/50\n",
            "314/314 [==============================] - 0s 938us/step - loss: 305512.2188 - root_mean_squared_error: 552.7273\n",
            "Epoch 26/50\n",
            "314/314 [==============================] - 0s 993us/step - loss: 284766.8125 - root_mean_squared_error: 533.6182\n",
            "Epoch 27/50\n",
            "314/314 [==============================] - 0s 1ms/step - loss: 266271.4688 - root_mean_squared_error: 516.0118\n",
            "Epoch 28/50\n",
            "314/314 [==============================] - 0s 969us/step - loss: 250857.7344 - root_mean_squared_error: 500.8732\n",
            "Epoch 29/50\n",
            "314/314 [==============================] - 0s 1ms/step - loss: 237976.5938 - root_mean_squared_error: 487.8055\n",
            "Epoch 30/50\n",
            "314/314 [==============================] - 0s 1ms/step - loss: 227677.9844 - root_mean_squared_error: 477.1228\n",
            "Epoch 31/50\n",
            "314/314 [==============================] - 0s 974us/step - loss: 219446.7969 - root_mean_squared_error: 468.4607\n",
            "Epoch 32/50\n",
            "314/314 [==============================] - 0s 949us/step - loss: 212945.1406 - root_mean_squared_error: 461.4777\n",
            "Epoch 33/50\n",
            "314/314 [==============================] - 0s 1ms/step - loss: 207943.6562 - root_mean_squared_error: 455.9955\n",
            "Epoch 34/50\n",
            "314/314 [==============================] - 0s 966us/step - loss: 204248.3438 - root_mean_squared_error: 451.9951\n",
            "Epoch 35/50\n",
            "314/314 [==============================] - 0s 984us/step - loss: 201810.0156 - root_mean_squared_error: 449.2006\n",
            "Epoch 36/50\n",
            "314/314 [==============================] - 0s 974us/step - loss: 200089.9375 - root_mean_squared_error: 447.2989\n",
            "Epoch 37/50\n",
            "314/314 [==============================] - 0s 1ms/step - loss: 198826.2500 - root_mean_squared_error: 445.9060\n",
            "Epoch 38/50\n",
            "314/314 [==============================] - 0s 950us/step - loss: 197970.2812 - root_mean_squared_error: 444.9590\n",
            "Epoch 39/50\n",
            "314/314 [==============================] - 0s 995us/step - loss: 197472.6250 - root_mean_squared_error: 444.3161\n",
            "Epoch 40/50\n",
            "314/314 [==============================] - 0s 1ms/step - loss: 196984.8750 - root_mean_squared_error: 443.8481\n",
            "Epoch 41/50\n",
            "314/314 [==============================] - 0s 944us/step - loss: 196764.1094 - root_mean_squared_error: 443.5463\n",
            "Epoch 42/50\n",
            "314/314 [==============================] - 0s 1ms/step - loss: 196509.4844 - root_mean_squared_error: 443.3140\n",
            "Epoch 43/50\n",
            "314/314 [==============================] - 0s 985us/step - loss: 196368.6094 - root_mean_squared_error: 443.1727\n",
            "Epoch 44/50\n",
            "314/314 [==============================] - 0s 939us/step - loss: 196286.3906 - root_mean_squared_error: 443.0610\n",
            "Epoch 45/50\n",
            "314/314 [==============================] - 0s 986us/step - loss: 196249.5469 - root_mean_squared_error: 442.9724\n",
            "Epoch 46/50\n",
            "314/314 [==============================] - 0s 1ms/step - loss: 196203.8750 - root_mean_squared_error: 442.9582\n",
            "Epoch 47/50\n",
            "314/314 [==============================] - 0s 1ms/step - loss: 196168.9688 - root_mean_squared_error: 442.9167\n",
            "Epoch 48/50\n",
            "314/314 [==============================] - 0s 986us/step - loss: 196243.4844 - root_mean_squared_error: 442.8899\n",
            "Epoch 49/50\n",
            "314/314 [==============================] - 0s 1ms/step - loss: 196125.7812 - root_mean_squared_error: 442.9012\n",
            "Epoch 50/50\n",
            "314/314 [==============================] - 0s 990us/step - loss: 196119.7188 - root_mean_squared_error: 442.8889\n",
            "\n",
            "The learned weight for your model is 4824.1104\n",
            "The learned bias for your model is -848.8547\n",
            "\n"
          ],
          "name": "stdout"
        },
        {
          "output_type": "display_data",
          "data": {
            "image/png": "[encoded data removed]",
            "text/plain": [
              "<Figure size 432x288 with 1 Axes>"
            ]
          },
          "metadata": {
            "tags": []
          }
        },
        {
          "output_type": "display_data",
          "data": {
            "image/png": "[encoded data removed]",
            "text/plain": [
              "<Figure size 432x288 with 1 Axes>"
            ]
          },
          "metadata": {
            "tags": []
          }
        }
      ]
    },
    {
      "cell_type": "markdown",
      "metadata": {
        "id": "w5YkErBA7Nmy",
        "colab_type": "text"
      },
      "source": [
        "With only carat value we did not reach minimum loss, although this model has converged. This could be caused by the large size of data and large variability that makes it difficult for the model to learn from. Besides, we also need to take into account the volume of the diamond, so that's what we're going to do next."
      ]
    },
    {
      "cell_type": "markdown",
      "metadata": {
        "id": "utPNtIj7S6we",
        "colab_type": "text"
      },
      "source": [
        "## Modelling Volume(x*y*z) Vs Price"
      ]
    },
    {
      "cell_type": "code",
      "metadata": {
        "id": "WZRn-A7eoKRz",
        "colab_type": "code",
        "outputId": "269cbc86-9be3-4a91-83f2-2c6928d833ca",
        "colab": {
          "base_uri": "https://localhost:8080/",
          "height": 50
        }
      },
      "source": [
        "#@title Define the functions that build and train a model\n",
        "def build_model(my_learning_rate):\n",
        "  \"\"\"Create and compile a simple linear regression model.\"\"\"\n",
        "  # Most simple tf.keras models are sequential.\n",
        "  model = tf.keras.models.Sequential()\n",
        "\n",
        "  # Describe the topography of the model.\n",
        "  # The topography of a simple linear regression model\n",
        "  # is a single node in a single layer.\n",
        "  model.add(tf.keras.layers.Dense(units=1, \n",
        "                                  input_shape=(1,)))\n",
        "\n",
        "  # Compile the model topography into code that TensorFlow can efficiently\n",
        "  # execute. Configure training to minimize the model's mean squared error. \n",
        "  model.compile(optimizer=tf.keras.optimizers.RMSprop(lr=my_learning_rate),\n",
        "                loss=\"mean_squared_error\",\n",
        "                metrics=[tf.keras.metrics.RootMeanSquaredError()])\n",
        "\n",
        "  return model        \n",
        "\n",
        "\n",
        "def train_model(model, df, feature, label, epochs, batch_size):\n",
        "  \"\"\"Train the model by feeding it data.\"\"\"\n",
        "\n",
        "  # Feed the model the feature and the label.\n",
        "  # The model will train for the specified number of epochs. \n",
        "  history = model.fit(x=df[feature],\n",
        "                      y=df[label],\n",
        "                      batch_size=batch_size,\n",
        "                      epochs=epochs)\n",
        "\n",
        "  # Gather the trained model's weight and bias.\n",
        "  trained_weight = model.get_weights()[0]\n",
        "  trained_bias = model.get_weights()[1]\n",
        "\n",
        "  # The list of epochs is stored separately from the rest of history.\n",
        "  epochs = history.epoch\n",
        "  \n",
        "  # Isolate the error for each epoch.\n",
        "  hist = pd.DataFrame(history.history)\n",
        "\n",
        "  # To track the progression of training, we're going to take a snapshot\n",
        "  # of the model's root mean squared error at each epoch. \n",
        "  rmse = hist[\"root_mean_squared_error\"]\n",
        "\n",
        "  return trained_weight, trained_bias, epochs, rmse\n",
        "\n",
        "print(\"Defined the create_model and traing_model functions.\")\n",
        "\n",
        "#@title Define the plotting functions\n",
        "def plot_the_model(trained_weight, trained_bias, feature, label):\n",
        "  \"\"\"Plot the trained model against 200 random training examples.\"\"\"\n",
        "\n",
        "  # Label the axes.\n",
        "  plt.xlabel(feature)\n",
        "  plt.ylabel(label)\n",
        "\n",
        "  # Create a scatter plot from 200 random points of the dataset.\n",
        "  random_examples = train_df.sample(n=10000)\n",
        "  plt.scatter(random_examples[feature], random_examples[label])\n",
        "\n",
        "  # Create a red line representing the model. The red line starts\n",
        "  # at coordinates (x0, y0) and ends at coordinates (x1, y1).\n",
        "  x0 = 0\n",
        "  y0 = trained_bias\n",
        "  x1 = 100\n",
        "  y1 = trained_bias + (trained_weight * x1)\n",
        "  plt.plot([x0, x1], [y0, y1], c='r')\n",
        "\n",
        "  # Render the scatter plot and the red line.\n",
        "  plt.show()\n",
        "\n",
        "\n",
        "def plot_the_loss_curve(epochs, rmse):\n",
        "  \"\"\"Plot a curve of loss vs. epoch.\"\"\"\n",
        "\n",
        "  plt.figure()\n",
        "  plt.xlabel(\"Epoch\")\n",
        "  plt.ylabel(\"Root Mean Squared Error\")\n",
        "\n",
        "  plt.plot(epochs, rmse, label=\"Loss\")\n",
        "  plt.legend()\n",
        "  plt.ylim([rmse.min()*0.97, rmse.max()])\n",
        "  plt.show()  \n",
        "\n",
        "print(\"Defined the plot_the_model and plot_the_loss_curve functions.\")"
      ],
      "execution_count": 0,
      "outputs": [
        {
          "output_type": "stream",
          "text": [
            "Defined the create_model and traing_model functions.\n",
            "Defined the plot_the_model and plot_the_loss_curve functions.\n"
          ],
          "name": "stdout"
        }
      ]
    },
    {
      "cell_type": "code",
      "metadata": {
        "id": "3byt4bB_TTdq",
        "colab_type": "code",
        "outputId": "c764fd50-0514-4e57-a351-22f75fbc40e3",
        "colab": {
          "base_uri": "https://localhost:8080/",
          "height": 34
        }
      },
      "source": [
        "#@title Load the imports\n",
        "\n",
        "# from __future__ import absolute_import, division, print_function, unicode_literals\n",
        "\n",
        "import numpy as np\n",
        "import pandas as pd\n",
        "import tensorflow as tf\n",
        "from tensorflow import feature_column\n",
        "from tensorflow.keras import layers\n",
        "\n",
        "from matplotlib import pyplot as plt\n",
        "\n",
        "# The following lines adjust the granularity of reporting.\n",
        "pd.options.display.max_rows = 10\n",
        "pd.options.display.float_format = \"{:.1f}\".format\n",
        "\n",
        "tf.keras.backend.set_floatx('float32')\n",
        "\n",
        "print(\"Imported the modules.\")"
      ],
      "execution_count": 0,
      "outputs": [
        {
          "output_type": "stream",
          "text": [
            "Imported the modules.\n"
          ],
          "name": "stdout"
        }
      ]
    },
    {
      "cell_type": "code",
      "metadata": {
        "id": "UAS9Ly-HTVsA",
        "colab_type": "code",
        "outputId": "d4c2d1a5-6c4e-4581-9230-758d356144b8",
        "colab": {
          "base_uri": "https://localhost:8080/",
          "height": 402
        }
      },
      "source": [
        "df = df_raw[['price', 'x', 'y', 'z']].copy()\n",
        "df = df.loc[df['price']<=5000]\n",
        "df['price'] = df['price']/100\n",
        "df['volume']=df['x']*df['y']*df['z']\n",
        "df"
      ],
      "execution_count": 0,
      "outputs": [
        {
          "output_type": "execute_result",
          "data": {
            "text/html": [
              "<div>\n",
              "<style scoped>\n",
              "    .dataframe tbody tr th:only-of-type {\n",
              "        vertical-align: middle;\n",
              "    }\n",
              "\n",
              "    .dataframe tbody tr th {\n",
              "        vertical-align: top;\n",
              "    }\n",
              "\n",
              "    .dataframe thead th {\n",
              "        text-align: right;\n",
              "    }\n",
              "</style>\n",
              "<table border=\"1\" class=\"dataframe\">\n",
              "  <thead>\n",
              "    <tr style=\"text-align: right;\">\n",
              "      <th></th>\n",
              "      <th>price</th>\n",
              "      <th>x</th>\n",
              "      <th>y</th>\n",
              "      <th>z</th>\n",
              "      <th>volume</th>\n",
              "    </tr>\n",
              "  </thead>\n",
              "  <tbody>\n",
              "    <tr>\n",
              "      <th>0</th>\n",
              "      <td>3.3</td>\n",
              "      <td>4.0</td>\n",
              "      <td>4.0</td>\n",
              "      <td>2.4</td>\n",
              "      <td>38.2</td>\n",
              "    </tr>\n",
              "    <tr>\n",
              "      <th>1</th>\n",
              "      <td>3.3</td>\n",
              "      <td>3.9</td>\n",
              "      <td>3.8</td>\n",
              "      <td>2.3</td>\n",
              "      <td>34.5</td>\n",
              "    </tr>\n",
              "    <tr>\n",
              "      <th>2</th>\n",
              "      <td>3.3</td>\n",
              "      <td>4.0</td>\n",
              "      <td>4.1</td>\n",
              "      <td>2.3</td>\n",
              "      <td>38.1</td>\n",
              "    </tr>\n",
              "    <tr>\n",
              "      <th>3</th>\n",
              "      <td>3.3</td>\n",
              "      <td>4.2</td>\n",
              "      <td>4.2</td>\n",
              "      <td>2.6</td>\n",
              "      <td>46.7</td>\n",
              "    </tr>\n",
              "    <tr>\n",
              "      <th>4</th>\n",
              "      <td>3.4</td>\n",
              "      <td>4.3</td>\n",
              "      <td>4.3</td>\n",
              "      <td>2.8</td>\n",
              "      <td>51.9</td>\n",
              "    </tr>\n",
              "    <tr>\n",
              "      <th>...</th>\n",
              "      <td>...</td>\n",
              "      <td>...</td>\n",
              "      <td>...</td>\n",
              "      <td>...</td>\n",
              "      <td>...</td>\n",
              "    </tr>\n",
              "    <tr>\n",
              "      <th>53935</th>\n",
              "      <td>27.6</td>\n",
              "      <td>5.8</td>\n",
              "      <td>5.8</td>\n",
              "      <td>3.5</td>\n",
              "      <td>115.9</td>\n",
              "    </tr>\n",
              "    <tr>\n",
              "      <th>53936</th>\n",
              "      <td>27.6</td>\n",
              "      <td>5.7</td>\n",
              "      <td>5.8</td>\n",
              "      <td>3.6</td>\n",
              "      <td>118.1</td>\n",
              "    </tr>\n",
              "    <tr>\n",
              "      <th>53937</th>\n",
              "      <td>27.6</td>\n",
              "      <td>5.7</td>\n",
              "      <td>5.7</td>\n",
              "      <td>3.6</td>\n",
              "      <td>114.4</td>\n",
              "    </tr>\n",
              "    <tr>\n",
              "      <th>53938</th>\n",
              "      <td>27.6</td>\n",
              "      <td>6.2</td>\n",
              "      <td>6.1</td>\n",
              "      <td>3.7</td>\n",
              "      <td>140.8</td>\n",
              "    </tr>\n",
              "    <tr>\n",
              "      <th>53939</th>\n",
              "      <td>27.6</td>\n",
              "      <td>5.8</td>\n",
              "      <td>5.9</td>\n",
              "      <td>3.6</td>\n",
              "      <td>124.6</td>\n",
              "    </tr>\n",
              "  </tbody>\n",
              "</table>\n",
              "<p>39226 rows × 5 columns</p>\n",
              "</div>"
            ],
            "text/plain": [
              "       price   x   y   z  volume\n",
              "0        3.3 4.0 4.0 2.4    38.2\n",
              "1        3.3 3.9 3.8 2.3    34.5\n",
              "2        3.3 4.0 4.1 2.3    38.1\n",
              "3        3.3 4.2 4.2 2.6    46.7\n",
              "4        3.4 4.3 4.3 2.8    51.9\n",
              "...      ...  ..  ..  ..     ...\n",
              "53935   27.6 5.8 5.8 3.5   115.9\n",
              "53936   27.6 5.7 5.8 3.6   118.1\n",
              "53937   27.6 5.7 5.7 3.6   114.4\n",
              "53938   27.6 6.2 6.1 3.7   140.8\n",
              "53939   27.6 5.8 5.9 3.6   124.6\n",
              "\n",
              "[39226 rows x 5 columns]"
            ]
          },
          "metadata": {
            "tags": []
          },
          "execution_count": 126
        }
      ]
    },
    {
      "cell_type": "code",
      "metadata": {
        "id": "o8WzCIH1TYCx",
        "colab_type": "code",
        "colab": {}
      },
      "source": [
        "from sklearn.model_selection import train_test_split\n",
        "train_df, test_df = train_test_split(df, test_size=0.2)"
      ],
      "execution_count": 0,
      "outputs": []
    },
    {
      "cell_type": "code",
      "metadata": {
        "id": "OzASPdTyongG",
        "colab_type": "code",
        "outputId": "5584a544-8829-4b0f-b65a-d16d8f2da706",
        "colab": {
          "base_uri": "https://localhost:8080/",
          "height": 944
        }
      },
      "source": [
        "# The following variables are the hyperparameters.\n",
        "learning_rate = 0.04\n",
        "epochs = 10\n",
        "batch_size = 100\n",
        "\n",
        "# Specify the feature and the label.\n",
        "my_feature = \"volume\"  # carat value.\n",
        "my_label=\"price\" # the price value for that specific diamond.\n",
        "# We're predicting diamond price based on carat value\n",
        "\n",
        "# Discard any pre-existing version of the model.\n",
        "my_model = None\n",
        "\n",
        "# Invoke the functions.\n",
        "my_model = build_model(learning_rate)\n",
        "weight, bias, epochs, rmse = train_model(my_model, train_df, \n",
        "                                         my_feature, my_label,\n",
        "                                         epochs, batch_size)\n",
        "\n",
        "print(\"\\nThe learned weight for your model is %.4f\" % weight)\n",
        "print(\"The learned bias for your model is %.4f\\n\" % bias )\n",
        "\n",
        "plot_the_model(weight, bias, my_feature, my_label)\n",
        "plot_the_loss_curve(epochs, rmse)"
      ],
      "execution_count": 0,
      "outputs": [
        {
          "output_type": "stream",
          "text": [
            "Epoch 1/10\n",
            "314/314 [==============================] - 0s 1ms/step - loss: 245.3776 - root_mean_squared_error: 15.6690\n",
            "Epoch 2/10\n",
            "314/314 [==============================] - 0s 1ms/step - loss: 27.2963 - root_mean_squared_error: 5.2248\n",
            "Epoch 3/10\n",
            "314/314 [==============================] - 0s 1ms/step - loss: 26.2919 - root_mean_squared_error: 5.1277\n",
            "Epoch 4/10\n",
            "314/314 [==============================] - 0s 1ms/step - loss: 26.3928 - root_mean_squared_error: 5.1376\n",
            "Epoch 5/10\n",
            "314/314 [==============================] - 0s 1ms/step - loss: 26.1586 - root_mean_squared_error: 5.1152\n",
            "Epoch 6/10\n",
            "314/314 [==============================] - 0s 1ms/step - loss: 26.6663 - root_mean_squared_error: 5.1649\n",
            "Epoch 7/10\n",
            "314/314 [==============================] - 0s 1ms/step - loss: 26.5132 - root_mean_squared_error: 5.1497\n",
            "Epoch 8/10\n",
            "314/314 [==============================] - 0s 1ms/step - loss: 26.5032 - root_mean_squared_error: 5.1487\n",
            "Epoch 9/10\n",
            "314/314 [==============================] - 0s 1ms/step - loss: 26.2497 - root_mean_squared_error: 5.1240\n",
            "Epoch 10/10\n",
            "314/314 [==============================] - 0s 1ms/step - loss: 26.5034 - root_mean_squared_error: 5.1487\n",
            "\n",
            "The learned weight for your model is 0.3019\n",
            "The learned bias for your model is -8.6866\n",
            "\n"
          ],
          "name": "stdout"
        },
        {
          "output_type": "display_data",
          "data": {
            "image/png": "[encoded data removed]",
            "text/plain": [
              "<Figure size 432x288 with 1 Axes>"
            ]
          },
          "metadata": {
            "tags": []
          }
        },
        {
          "output_type": "display_data",
          "data": {
            "image/png": "[encoded data removed]",
            "text/plain": [
              "<Figure size 432x288 with 1 Axes>"
            ]
          },
          "metadata": {
            "tags": []
          }
        }
      ]
    },
    {
      "cell_type": "markdown",
      "metadata": {
        "id": "qCSzgUKITLui",
        "colab_type": "text"
      },
      "source": [
        "## Modelling Cross Feature (Carat and Volume) Vs Price"
      ]
    },
    {
      "cell_type": "code",
      "metadata": {
        "id": "mSayOk7qBB0W",
        "colab_type": "code",
        "outputId": "df9fd7d2-eba9-447f-e909-96b24a09a9cc",
        "colab": {
          "base_uri": "https://localhost:8080/",
          "height": 34
        }
      },
      "source": [
        "#@title Define functions to create and train a model, and a plotting function\n",
        "def create_model(my_learning_rate, feature_layer):\n",
        "  \"\"\"Create and compile a simple linear regression model.\"\"\"\n",
        "  # Most simple tf.keras models are sequential.\n",
        "  model = tf.keras.models.Sequential()\n",
        "\n",
        "  # Add the layer containing the feature columns to the model.\n",
        "  model.add(feature_layer)\n",
        "\n",
        "  # Add one linear layer to the model to yield a simple linear regressor.\n",
        "  model.add(tf.keras.layers.Dense(units=1, input_shape=(1,)))\n",
        "\n",
        "  # Construct the layers into a model that TensorFlow can execute.\n",
        "  model.compile(optimizer=tf.keras.optimizers.RMSprop(lr=my_learning_rate),\n",
        "                loss=\"mean_squared_error\",\n",
        "                metrics=[tf.keras.metrics.RootMeanSquaredError()])\n",
        "\n",
        "  return model           \n",
        "\n",
        "\n",
        "def train_model(model, dataset, epochs, batch_size, label_name):\n",
        "  \"\"\"Feed a dataset into the model in order to train it.\"\"\"\n",
        "\n",
        "  features = {name:np.array(value) for name, value in dataset.items()}\n",
        "  label = np.array(features.pop(label_name))\n",
        "  history = model.fit(x=features, y=label, batch_size=batch_size,\n",
        "                      epochs=epochs, shuffle=True)\n",
        "\n",
        "  \n",
        "  # The list of epochs is stored separately from the rest of history.\n",
        "  epochs = history.epoch\n",
        "  \n",
        "  # Isolate the mean absolute error for each epoch.\n",
        "  hist = pd.DataFrame(history.history)\n",
        "  rmse = hist[\"root_mean_squared_error\"]\n",
        "\n",
        "  return epochs, rmse\n",
        "\n",
        "\n",
        "def plot_the_loss_curve(epochs, rmse):\n",
        "  \"\"\"Plot a curve of loss vs. epoch.\"\"\"\n",
        "\n",
        "  plt.figure()\n",
        "  plt.xlabel(\"Epoch\")\n",
        "  plt.ylabel(\"Root Mean Squared Error\")\n",
        "\n",
        "  plt.plot(epochs, rmse, label=\"Loss\")\n",
        "  plt.legend()\n",
        "  plt.ylim([rmse.min()*0.94, rmse.max()* 1.05])\n",
        "  plt.show()  \n",
        "\n",
        "print(\"Defined the create_model, train_model, and plot_the_loss_curve functions.\")"
      ],
      "execution_count": 0,
      "outputs": [
        {
          "output_type": "stream",
          "text": [
            "Defined the create_model, train_model, and plot_the_loss_curve functions.\n"
          ],
          "name": "stdout"
        }
      ]
    },
    {
      "cell_type": "code",
      "metadata": {
        "id": "9n9_cTveKmse",
        "colab_type": "code",
        "cellView": "both",
        "outputId": "1082d30c-470c-455c-a7d7-913badee7687",
        "colab": {
          "base_uri": "https://localhost:8080/",
          "height": 34
        }
      },
      "source": [
        "#@title Load the imports\n",
        "\n",
        "# from __future__ import absolute_import, division, print_function, unicode_literals\n",
        "\n",
        "import numpy as np\n",
        "import pandas as pd\n",
        "import tensorflow as tf\n",
        "from tensorflow import feature_column\n",
        "from tensorflow.keras import layers\n",
        "\n",
        "from matplotlib import pyplot as plt\n",
        "\n",
        "# The following lines adjust the granularity of reporting.\n",
        "pd.options.display.max_rows = 10\n",
        "pd.options.display.float_format = \"{:.1f}\".format\n",
        "\n",
        "tf.keras.backend.set_floatx('float32')\n",
        "\n",
        "print(\"Imported the modules.\")"
      ],
      "execution_count": 0,
      "outputs": [
        {
          "output_type": "stream",
          "text": [
            "Imported the modules.\n"
          ],
          "name": "stdout"
        }
      ]
    },
    {
      "cell_type": "code",
      "metadata": {
        "id": "P6yWFD185Yrz",
        "colab_type": "code",
        "outputId": "e4ae7e57-d1c5-46df-98c9-70d54bb0dc9e",
        "colab": {
          "base_uri": "https://localhost:8080/",
          "height": 402
        }
      },
      "source": [
        "df = df_raw[['carat', 'price', 'x', 'y', 'z']].copy()\n",
        "df = df.loc[df['price']<=5000]\n",
        "df['price'] = df['price']/100\n",
        "df"
      ],
      "execution_count": 0,
      "outputs": [
        {
          "output_type": "execute_result",
          "data": {
            "text/html": [
              "<div>\n",
              "<style scoped>\n",
              "    .dataframe tbody tr th:only-of-type {\n",
              "        vertical-align: middle;\n",
              "    }\n",
              "\n",
              "    .dataframe tbody tr th {\n",
              "        vertical-align: top;\n",
              "    }\n",
              "\n",
              "    .dataframe thead th {\n",
              "        text-align: right;\n",
              "    }\n",
              "</style>\n",
              "<table border=\"1\" class=\"dataframe\">\n",
              "  <thead>\n",
              "    <tr style=\"text-align: right;\">\n",
              "      <th></th>\n",
              "      <th>carat</th>\n",
              "      <th>price</th>\n",
              "      <th>x</th>\n",
              "      <th>y</th>\n",
              "      <th>z</th>\n",
              "    </tr>\n",
              "  </thead>\n",
              "  <tbody>\n",
              "    <tr>\n",
              "      <th>0</th>\n",
              "      <td>0.2</td>\n",
              "      <td>3.3</td>\n",
              "      <td>4.0</td>\n",
              "      <td>4.0</td>\n",
              "      <td>2.4</td>\n",
              "    </tr>\n",
              "    <tr>\n",
              "      <th>1</th>\n",
              "      <td>0.2</td>\n",
              "      <td>3.3</td>\n",
              "      <td>3.9</td>\n",
              "      <td>3.8</td>\n",
              "      <td>2.3</td>\n",
              "    </tr>\n",
              "    <tr>\n",
              "      <th>2</th>\n",
              "      <td>0.2</td>\n",
              "      <td>3.3</td>\n",
              "      <td>4.0</td>\n",
              "      <td>4.1</td>\n",
              "      <td>2.3</td>\n",
              "    </tr>\n",
              "    <tr>\n",
              "      <th>3</th>\n",
              "      <td>0.3</td>\n",
              "      <td>3.3</td>\n",
              "      <td>4.2</td>\n",
              "      <td>4.2</td>\n",
              "      <td>2.6</td>\n",
              "    </tr>\n",
              "    <tr>\n",
              "      <th>4</th>\n",
              "      <td>0.3</td>\n",
              "      <td>3.4</td>\n",
              "      <td>4.3</td>\n",
              "      <td>4.3</td>\n",
              "      <td>2.8</td>\n",
              "    </tr>\n",
              "    <tr>\n",
              "      <th>...</th>\n",
              "      <td>...</td>\n",
              "      <td>...</td>\n",
              "      <td>...</td>\n",
              "      <td>...</td>\n",
              "      <td>...</td>\n",
              "    </tr>\n",
              "    <tr>\n",
              "      <th>53935</th>\n",
              "      <td>0.7</td>\n",
              "      <td>27.6</td>\n",
              "      <td>5.8</td>\n",
              "      <td>5.8</td>\n",
              "      <td>3.5</td>\n",
              "    </tr>\n",
              "    <tr>\n",
              "      <th>53936</th>\n",
              "      <td>0.7</td>\n",
              "      <td>27.6</td>\n",
              "      <td>5.7</td>\n",
              "      <td>5.8</td>\n",
              "      <td>3.6</td>\n",
              "    </tr>\n",
              "    <tr>\n",
              "      <th>53937</th>\n",
              "      <td>0.7</td>\n",
              "      <td>27.6</td>\n",
              "      <td>5.7</td>\n",
              "      <td>5.7</td>\n",
              "      <td>3.6</td>\n",
              "    </tr>\n",
              "    <tr>\n",
              "      <th>53938</th>\n",
              "      <td>0.9</td>\n",
              "      <td>27.6</td>\n",
              "      <td>6.2</td>\n",
              "      <td>6.1</td>\n",
              "      <td>3.7</td>\n",
              "    </tr>\n",
              "    <tr>\n",
              "      <th>53939</th>\n",
              "      <td>0.8</td>\n",
              "      <td>27.6</td>\n",
              "      <td>5.8</td>\n",
              "      <td>5.9</td>\n",
              "      <td>3.6</td>\n",
              "    </tr>\n",
              "  </tbody>\n",
              "</table>\n",
              "<p>39226 rows × 5 columns</p>\n",
              "</div>"
            ],
            "text/plain": [
              "       carat  price   x   y   z\n",
              "0        0.2    3.3 4.0 4.0 2.4\n",
              "1        0.2    3.3 3.9 3.8 2.3\n",
              "2        0.2    3.3 4.0 4.1 2.3\n",
              "3        0.3    3.3 4.2 4.2 2.6\n",
              "4        0.3    3.4 4.3 4.3 2.8\n",
              "...      ...    ...  ..  ..  ..\n",
              "53935    0.7   27.6 5.8 5.8 3.5\n",
              "53936    0.7   27.6 5.7 5.8 3.6\n",
              "53937    0.7   27.6 5.7 5.7 3.6\n",
              "53938    0.9   27.6 6.2 6.1 3.7\n",
              "53939    0.8   27.6 5.8 5.9 3.6\n",
              "\n",
              "[39226 rows x 5 columns]"
            ]
          },
          "metadata": {
            "tags": []
          },
          "execution_count": 150
        }
      ]
    },
    {
      "cell_type": "code",
      "metadata": {
        "id": "rPmSc5Zk-v7k",
        "colab_type": "code",
        "colab": {}
      },
      "source": [
        "from sklearn.model_selection import train_test_split\n",
        "train_df, test_df = train_test_split(df, test_size=0.2)"
      ],
      "execution_count": 0,
      "outputs": []
    },
    {
      "cell_type": "code",
      "metadata": {
        "id": "ori6XYQt49ap",
        "colab_type": "code",
        "outputId": "16f5277e-cf75-4437-d5ae-60b4a53d0f67",
        "colab": {
          "base_uri": "https://localhost:8080/",
          "height": 34
        }
      },
      "source": [
        "resolution_in_degrees = 1.0 \n",
        "\n",
        "# Create a new empty list that will eventually hold the generated feature column.\n",
        "feature_columns = []\n",
        "\n",
        "# Create a bucket feature column for x.\n",
        "x_as_a_numeric_column = tf.feature_column.numeric_column(\"x\")\n",
        "x_boundaries = list(np.arange(int(min(train_df['x'])), int(max(train_df['x'])), resolution_in_degrees))\n",
        "x = tf.feature_column.bucketized_column(x_as_a_numeric_column, x_boundaries)\n",
        "\n",
        "# Create a bucket feature column for y.\n",
        "y_as_a_numeric_column = tf.feature_column.numeric_column(\"y\")\n",
        "y_boundaries = list(np.arange(int(min(train_df['y'])), int(max(train_df['y'])), resolution_in_degrees))\n",
        "y = tf.feature_column.bucketized_column(y_as_a_numeric_column, y_boundaries)\n",
        "\n",
        "# Create a bucket feature column for z.\n",
        "z_as_a_numeric_column = tf.feature_column.numeric_column(\"z\")\n",
        "z_boundaries = list(np.arange(int(min(train_df['z'])), int(max(train_df['z'])), resolution_in_degrees))\n",
        "z = tf.feature_column.bucketized_column(z_as_a_numeric_column, z_boundaries)\n",
        "\n",
        "# Create a bucket feature column for carat.\n",
        "carat_as_a_numeric_column = tf.feature_column.numeric_column(\"carat\")\n",
        "carat_boundaries = list(np.arange(int(min(train_df['carat'])), int(max(train_df['carat'])), resolution_in_degrees))\n",
        "carat = tf.feature_column.bucketized_column(carat_as_a_numeric_column, carat_boundaries)\n",
        "\n",
        "# Create a feature cross of latitude and longitude.\n",
        "x_y_z_carat = tf.feature_column.crossed_column([x, y, z, carat], hash_bucket_size=100)\n",
        "crossed_feature = tf.feature_column.indicator_column(x_y_z_carat)\n",
        "feature_columns.append(crossed_feature)\n",
        "\n",
        "# Convert the list of feature columns into a layer that will later be fed into\n",
        "# the model. \n",
        "feature_cross_feature_layer = layers.DenseFeatures(feature_columns)\n",
        "feature_cross_feature_layer"
      ],
      "execution_count": 0,
      "outputs": [
        {
          "output_type": "execute_result",
          "data": {
            "text/plain": [
              "<tensorflow.python.feature_column.dense_features_v2.DenseFeatures at 0x7fcab922dc18>"
            ]
          },
          "metadata": {
            "tags": []
          },
          "execution_count": 152
        }
      ]
    },
    {
      "cell_type": "code",
      "metadata": {
        "id": "K1wUOndgAPhu",
        "colab_type": "code",
        "outputId": "990d8ac8-5c80-4d62-d82c-3a5c3171ec3b",
        "colab": {
          "base_uri": "https://localhost:8080/",
          "height": 231
        }
      },
      "source": [
        "# The following variables are the hyperparameters.\n",
        "learning_rate = 0.04\n",
        "epochs = 10\n",
        "batch_size = 100\n",
        "label_name = \"price\"\n",
        "\n",
        "\n",
        "# Build the model, this time passing in the feature_cross_feature_layer: \n",
        "my_model = create_model(learning_rate, feature_cross_feature_layer)\n",
        "\n",
        "# Train the model on the training set.\n",
        "epochs, rmse = train_model(my_model, train_df, epochs, batch_size, label_name)\n",
        "\n",
        "plot_the_loss_curve(epochs, rmse)\n",
        "\n",
        "print(\"\\n: Evaluate the new model against the test set:\")\n",
        "print(\"\\nThe learned weight for your model is %.4f\" % weight)\n",
        "print(\"The learned bias for your model is %.4f\\n\" % bias )\n",
        "test_features = {name:np.array(value) for name, value in test_df.items()}\n",
        "test_label = np.array(test_features.pop(label_name))\n",
        "my_model.evaluate(x=test_features, y=test_label, batch_size=batch_size)\n",
        "\n"
      ],
      "execution_count": 0,
      "outputs": [
        {
          "output_type": "error",
          "ename": "TypeError",
          "evalue": "ignored",
          "traceback": [
            "\u001b[0;31m---------------------------------------------------------------------------\u001b[0m",
            "\u001b[0;31mTypeError\u001b[0m                                 Traceback (most recent call last)",
            "\u001b[0;32m<ipython-input-123-b1e19441eaee>\u001b[0m in \u001b[0;36m<module>\u001b[0;34m()\u001b[0m\n\u001b[1;32m     11\u001b[0m weight, bias, epochs, rmse = train_model(my_model, train_df, \n\u001b[1;32m     12\u001b[0m                                          \u001b[0mmy_feature\u001b[0m\u001b[0;34m,\u001b[0m \u001b[0mmy_label\u001b[0m\u001b[0;34m,\u001b[0m\u001b[0;34m\u001b[0m\u001b[0;34m\u001b[0m\u001b[0m\n\u001b[0;32m---> 13\u001b[0;31m                                          epochs, batch_size)\n\u001b[0m\u001b[1;32m     14\u001b[0m \u001b[0mplot_the_loss_curve\u001b[0m\u001b[0;34m(\u001b[0m\u001b[0mepochs\u001b[0m\u001b[0;34m,\u001b[0m \u001b[0mrmse\u001b[0m\u001b[0;34m)\u001b[0m\u001b[0;34m\u001b[0m\u001b[0;34m\u001b[0m\u001b[0m\n\u001b[1;32m     15\u001b[0m \u001b[0;34m\u001b[0m\u001b[0m\n",
            "\u001b[0;31mTypeError\u001b[0m: train_model() takes 5 positional arguments but 6 were given"
          ]
        }
      ]
    },
    {
      "cell_type": "markdown",
      "metadata": {
        "id": "FyshPEtqUnDe",
        "colab_type": "text"
      },
      "source": [
        "<h1>Conclusion</h1>"
      ]
    },
    {
      "cell_type": "markdown",
      "metadata": {
        "id": "wa5S8E_3UpY2",
        "colab_type": "text"
      },
      "source": [
        "There are two features that have a same high correlate to diamond price, they are carat and volume(x*y*z). So we got 3 models, they are:\n",
        "- Carat Vs Price\n",
        "(loss: 196544.6094 - root_mean_squared_error: 443.3460)\n",
        "- Volume Vs Price\n",
        "(loss: 28.4951 - root_mean_squared_error: 5.3404)\n",
        "- Cross feature (Carat and Volume) vs Price\n",
        "loss: 37.0994 - root_mean_squared_error: 6.0816\n",
        "\n",
        "The best simple linear regression model is the model of Volume Vs Price, because have the smallest Loss and RMSE.\n"
      ]
    }
  ]
}