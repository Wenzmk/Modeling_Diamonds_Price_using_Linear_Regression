{
  "nbformat": 4,
  "nbformat_minor": 0,
  "metadata": {
    "kernelspec": {
      "display_name": "Python 3",
      "language": "python",
      "name": "python3"
    },
    "language_info": {
      "codemirror_mode": {
        "name": "ipython",
        "version": 3
      },
      "file_extension": ".py",
      "mimetype": "text/x-python",
      "name": "python",
      "nbconvert_exporter": "python",
      "pygments_lexer": "ipython3",
      "version": "3.7.3"
    },
    "colab": {
      "name": "Diamonds_Linear_Regression.ipynb",
      "provenance": [],
      "collapsed_sections": [],
      "toc_visible": true,
      "include_colab_link": true
    }
  },
  "cells": [
    {
      "cell_type": "markdown",
      "metadata": {
        "id": "view-in-github",
        "colab_type": "text"
      },
      "source": [
        "<a href=\"https://colab.research.google.com/github/realdanielalexander/diamonds_bangkit/blob/master/Diamonds_Linear_Regression.ipynb\" target=\"_parent\"><img src=\"https://colab.research.google.com/assets/colab-badge.svg\" alt=\"Open In Colab\"/></a>"
      ]
    },
    {
      "cell_type": "markdown",
      "metadata": {
        "id": "7cDmJPn7Xxhf",
        "colab_type": "text"
      },
      "source": [
        "<h1>Bangkit MLCC Project - Diamonds Dataset</h1>\n",
        "<ul>\n",
        "  <li>Daniel Alexander</li>\n",
        "  <li>Mardianto Karim</li>\n",
        "  <li>Natasha Yulian</li>\n",
        "</ul>"
      ]
    },
    {
      "cell_type": "markdown",
      "metadata": {
        "id": "QpwTLRBCFYCD",
        "colab_type": "text"
      },
      "source": [
        "<h1>Run this colab on tensorflow 2.x</h1>"
      ]
    },
    {
      "cell_type": "code",
      "metadata": {
        "id": "koiKMHgjSK11",
        "colab_type": "code",
        "colab": {}
      },
      "source": [
        "#@title Run this Colab on TensorFlow 2.x\n",
        "%tensorflow_version 2.x"
      ],
      "execution_count": 0,
      "outputs": []
    },
    {
      "cell_type": "markdown",
      "metadata": {
        "id": "9EY8q534SORC",
        "colab_type": "text"
      },
      "source": [
        "<h1>Import relevant libraries</h1>"
      ]
    },
    {
      "cell_type": "code",
      "metadata": {
        "id": "Xg2lB0t7ld82",
        "colab_type": "code",
        "colab": {}
      },
      "source": [
        "import pandas as pd\n",
        "import numpy as np\n",
        "import tensorflow as tf\n",
        "from matplotlib import pyplot as plt"
      ],
      "execution_count": 0,
      "outputs": []
    },
    {
      "cell_type": "markdown",
      "metadata": {
        "id": "q2mUOZC_haTY",
        "colab_type": "text"
      },
      "source": [
        "<h1>Load dataset</h1>"
      ]
    },
    {
      "cell_type": "code",
      "metadata": {
        "id": "hWd66LSPmxAn",
        "colab_type": "code",
        "colab": {
          "base_uri": "https://localhost:8080/",
          "height": 350
        },
        "outputId": "f29c5a8b-ca1d-42c5-903b-1747d5c7bfa1"
      },
      "source": [
        "from google.colab import files\n",
        "uploaded = files.upload()\n",
        "import io\n",
        "df = pd.read_csv(io.BytesIO(uploaded['diamonds.csv']))\n",
        "# Dataset is now stored in a Pandas Dataframe"
      ],
      "execution_count": 59,
      "outputs": [
        {
          "output_type": "error",
          "ename": "TypeError",
          "evalue": "ignored",
          "traceback": [
            "\u001b[0;31m---------------------------------------------------------------------------\u001b[0m",
            "\u001b[0;31mTypeError\u001b[0m                                 Traceback (most recent call last)",
            "\u001b[0;32m<ipython-input-59-d9491b5b5127>\u001b[0m in \u001b[0;36m<module>\u001b[0;34m()\u001b[0m\n\u001b[1;32m      1\u001b[0m \u001b[0;32mfrom\u001b[0m \u001b[0mgoogle\u001b[0m\u001b[0;34m.\u001b[0m\u001b[0mcolab\u001b[0m \u001b[0;32mimport\u001b[0m \u001b[0mfiles\u001b[0m\u001b[0;34m\u001b[0m\u001b[0;34m\u001b[0m\u001b[0m\n\u001b[0;32m----> 2\u001b[0;31m \u001b[0muploaded\u001b[0m \u001b[0;34m=\u001b[0m \u001b[0mfiles\u001b[0m\u001b[0;34m.\u001b[0m\u001b[0mupload\u001b[0m\u001b[0;34m(\u001b[0m\u001b[0;34m)\u001b[0m\u001b[0;34m\u001b[0m\u001b[0;34m\u001b[0m\u001b[0m\n\u001b[0m\u001b[1;32m      3\u001b[0m \u001b[0;32mimport\u001b[0m \u001b[0mio\u001b[0m\u001b[0;34m\u001b[0m\u001b[0;34m\u001b[0m\u001b[0m\n\u001b[1;32m      4\u001b[0m \u001b[0mdf\u001b[0m \u001b[0;34m=\u001b[0m \u001b[0mpd\u001b[0m\u001b[0;34m.\u001b[0m\u001b[0mread_csv\u001b[0m\u001b[0;34m(\u001b[0m\u001b[0mio\u001b[0m\u001b[0;34m.\u001b[0m\u001b[0mBytesIO\u001b[0m\u001b[0;34m(\u001b[0m\u001b[0muploaded\u001b[0m\u001b[0;34m[\u001b[0m\u001b[0;34m'diamonds.csv'\u001b[0m\u001b[0;34m]\u001b[0m\u001b[0;34m)\u001b[0m\u001b[0;34m)\u001b[0m\u001b[0;34m\u001b[0m\u001b[0;34m\u001b[0m\u001b[0m\n\u001b[1;32m      5\u001b[0m \u001b[0;31m# Dataset is now stored in a Pandas Dataframe\u001b[0m\u001b[0;34m\u001b[0m\u001b[0;34m\u001b[0m\u001b[0;34m\u001b[0m\u001b[0m\n",
            "\u001b[0;32m/usr/local/lib/python3.6/dist-packages/google/colab/files.py\u001b[0m in \u001b[0;36mupload\u001b[0;34m()\u001b[0m\n\u001b[1;32m     67\u001b[0m   \u001b[0mlocal_filenames\u001b[0m \u001b[0;34m=\u001b[0m \u001b[0mdict\u001b[0m\u001b[0;34m(\u001b[0m\u001b[0;34m)\u001b[0m\u001b[0;34m\u001b[0m\u001b[0;34m\u001b[0m\u001b[0m\n\u001b[1;32m     68\u001b[0m \u001b[0;34m\u001b[0m\u001b[0m\n\u001b[0;32m---> 69\u001b[0;31m   \u001b[0;32mwhile\u001b[0m \u001b[0mresult\u001b[0m\u001b[0;34m[\u001b[0m\u001b[0;34m'action'\u001b[0m\u001b[0;34m]\u001b[0m \u001b[0;34m!=\u001b[0m \u001b[0;34m'complete'\u001b[0m\u001b[0;34m:\u001b[0m\u001b[0;34m\u001b[0m\u001b[0;34m\u001b[0m\u001b[0m\n\u001b[0m\u001b[1;32m     70\u001b[0m     result = _output.eval_js(\n\u001b[1;32m     71\u001b[0m         'google.colab._files._uploadFilesContinue(\"{output_id}\")'.format(\n",
            "\u001b[0;31mTypeError\u001b[0m: 'NoneType' object is not subscriptable"
          ]
        }
      ]
    },
    {
      "cell_type": "code",
      "metadata": {
        "id": "MFepjTct9v3n",
        "colab_type": "code",
        "colab": {
          "base_uri": "https://localhost:8080/",
          "height": 419
        },
        "outputId": "21d4ddd5-f312-4bbd-c2a8-9c14755cca91"
      },
      "source": [
        "df_raw = pd.read_csv('diamonds.csv')\n",
        "df_raw"
      ],
      "execution_count": 165,
      "outputs": [
        {
          "output_type": "execute_result",
          "data": {
            "text/html": [
              "<div>\n",
              "<style scoped>\n",
              "    .dataframe tbody tr th:only-of-type {\n",
              "        vertical-align: middle;\n",
              "    }\n",
              "\n",
              "    .dataframe tbody tr th {\n",
              "        vertical-align: top;\n",
              "    }\n",
              "\n",
              "    .dataframe thead th {\n",
              "        text-align: right;\n",
              "    }\n",
              "</style>\n",
              "<table border=\"1\" class=\"dataframe\">\n",
              "  <thead>\n",
              "    <tr style=\"text-align: right;\">\n",
              "      <th></th>\n",
              "      <th>Unnamed: 0</th>\n",
              "      <th>carat</th>\n",
              "      <th>cut</th>\n",
              "      <th>color</th>\n",
              "      <th>clarity</th>\n",
              "      <th>depth</th>\n",
              "      <th>table</th>\n",
              "      <th>price</th>\n",
              "      <th>x</th>\n",
              "      <th>y</th>\n",
              "      <th>z</th>\n",
              "    </tr>\n",
              "  </thead>\n",
              "  <tbody>\n",
              "    <tr>\n",
              "      <th>0</th>\n",
              "      <td>1</td>\n",
              "      <td>0.2</td>\n",
              "      <td>Ideal</td>\n",
              "      <td>E</td>\n",
              "      <td>SI2</td>\n",
              "      <td>61.5</td>\n",
              "      <td>55.0</td>\n",
              "      <td>326</td>\n",
              "      <td>4.0</td>\n",
              "      <td>4.0</td>\n",
              "      <td>2.4</td>\n",
              "    </tr>\n",
              "    <tr>\n",
              "      <th>1</th>\n",
              "      <td>2</td>\n",
              "      <td>0.2</td>\n",
              "      <td>Premium</td>\n",
              "      <td>E</td>\n",
              "      <td>SI1</td>\n",
              "      <td>59.8</td>\n",
              "      <td>61.0</td>\n",
              "      <td>326</td>\n",
              "      <td>3.9</td>\n",
              "      <td>3.8</td>\n",
              "      <td>2.3</td>\n",
              "    </tr>\n",
              "    <tr>\n",
              "      <th>2</th>\n",
              "      <td>3</td>\n",
              "      <td>0.2</td>\n",
              "      <td>Good</td>\n",
              "      <td>E</td>\n",
              "      <td>VS1</td>\n",
              "      <td>56.9</td>\n",
              "      <td>65.0</td>\n",
              "      <td>327</td>\n",
              "      <td>4.0</td>\n",
              "      <td>4.1</td>\n",
              "      <td>2.3</td>\n",
              "    </tr>\n",
              "    <tr>\n",
              "      <th>3</th>\n",
              "      <td>4</td>\n",
              "      <td>0.3</td>\n",
              "      <td>Premium</td>\n",
              "      <td>I</td>\n",
              "      <td>VS2</td>\n",
              "      <td>62.4</td>\n",
              "      <td>58.0</td>\n",
              "      <td>334</td>\n",
              "      <td>4.2</td>\n",
              "      <td>4.2</td>\n",
              "      <td>2.6</td>\n",
              "    </tr>\n",
              "    <tr>\n",
              "      <th>4</th>\n",
              "      <td>5</td>\n",
              "      <td>0.3</td>\n",
              "      <td>Good</td>\n",
              "      <td>J</td>\n",
              "      <td>SI2</td>\n",
              "      <td>63.3</td>\n",
              "      <td>58.0</td>\n",
              "      <td>335</td>\n",
              "      <td>4.3</td>\n",
              "      <td>4.3</td>\n",
              "      <td>2.8</td>\n",
              "    </tr>\n",
              "    <tr>\n",
              "      <th>...</th>\n",
              "      <td>...</td>\n",
              "      <td>...</td>\n",
              "      <td>...</td>\n",
              "      <td>...</td>\n",
              "      <td>...</td>\n",
              "      <td>...</td>\n",
              "      <td>...</td>\n",
              "      <td>...</td>\n",
              "      <td>...</td>\n",
              "      <td>...</td>\n",
              "      <td>...</td>\n",
              "    </tr>\n",
              "    <tr>\n",
              "      <th>53935</th>\n",
              "      <td>53936</td>\n",
              "      <td>0.7</td>\n",
              "      <td>Ideal</td>\n",
              "      <td>D</td>\n",
              "      <td>SI1</td>\n",
              "      <td>60.8</td>\n",
              "      <td>57.0</td>\n",
              "      <td>2757</td>\n",
              "      <td>5.8</td>\n",
              "      <td>5.8</td>\n",
              "      <td>3.5</td>\n",
              "    </tr>\n",
              "    <tr>\n",
              "      <th>53936</th>\n",
              "      <td>53937</td>\n",
              "      <td>0.7</td>\n",
              "      <td>Good</td>\n",
              "      <td>D</td>\n",
              "      <td>SI1</td>\n",
              "      <td>63.1</td>\n",
              "      <td>55.0</td>\n",
              "      <td>2757</td>\n",
              "      <td>5.7</td>\n",
              "      <td>5.8</td>\n",
              "      <td>3.6</td>\n",
              "    </tr>\n",
              "    <tr>\n",
              "      <th>53937</th>\n",
              "      <td>53938</td>\n",
              "      <td>0.7</td>\n",
              "      <td>Very Good</td>\n",
              "      <td>D</td>\n",
              "      <td>SI1</td>\n",
              "      <td>62.8</td>\n",
              "      <td>60.0</td>\n",
              "      <td>2757</td>\n",
              "      <td>5.7</td>\n",
              "      <td>5.7</td>\n",
              "      <td>3.6</td>\n",
              "    </tr>\n",
              "    <tr>\n",
              "      <th>53938</th>\n",
              "      <td>53939</td>\n",
              "      <td>0.9</td>\n",
              "      <td>Premium</td>\n",
              "      <td>H</td>\n",
              "      <td>SI2</td>\n",
              "      <td>61.0</td>\n",
              "      <td>58.0</td>\n",
              "      <td>2757</td>\n",
              "      <td>6.2</td>\n",
              "      <td>6.1</td>\n",
              "      <td>3.7</td>\n",
              "    </tr>\n",
              "    <tr>\n",
              "      <th>53939</th>\n",
              "      <td>53940</td>\n",
              "      <td>0.8</td>\n",
              "      <td>Ideal</td>\n",
              "      <td>D</td>\n",
              "      <td>SI2</td>\n",
              "      <td>62.2</td>\n",
              "      <td>55.0</td>\n",
              "      <td>2757</td>\n",
              "      <td>5.8</td>\n",
              "      <td>5.9</td>\n",
              "      <td>3.6</td>\n",
              "    </tr>\n",
              "  </tbody>\n",
              "</table>\n",
              "<p>53940 rows × 11 columns</p>\n",
              "</div>"
            ],
            "text/plain": [
              "       Unnamed: 0  carat        cut color clarity  ...  table  price   x   y   z\n",
              "0               1    0.2      Ideal     E     SI2  ...   55.0    326 4.0 4.0 2.4\n",
              "1               2    0.2    Premium     E     SI1  ...   61.0    326 3.9 3.8 2.3\n",
              "2               3    0.2       Good     E     VS1  ...   65.0    327 4.0 4.1 2.3\n",
              "3               4    0.3    Premium     I     VS2  ...   58.0    334 4.2 4.2 2.6\n",
              "4               5    0.3       Good     J     SI2  ...   58.0    335 4.3 4.3 2.8\n",
              "...           ...    ...        ...   ...     ...  ...    ...    ...  ..  ..  ..\n",
              "53935       53936    0.7      Ideal     D     SI1  ...   57.0   2757 5.8 5.8 3.5\n",
              "53936       53937    0.7       Good     D     SI1  ...   55.0   2757 5.7 5.8 3.6\n",
              "53937       53938    0.7  Very Good     D     SI1  ...   60.0   2757 5.7 5.7 3.6\n",
              "53938       53939    0.9    Premium     H     SI2  ...   58.0   2757 6.2 6.1 3.7\n",
              "53939       53940    0.8      Ideal     D     SI2  ...   55.0   2757 5.8 5.9 3.6\n",
              "\n",
              "[53940 rows x 11 columns]"
            ]
          },
          "metadata": {
            "tags": []
          },
          "execution_count": 165
        }
      ]
    },
    {
      "cell_type": "markdown",
      "metadata": {
        "id": "R_A8CKLz8VFU",
        "colab_type": "text"
      },
      "source": [
        "## Define functions that build and train a model\n",
        "\n",
        "This code block is taken from the 'Programming Exercise' module on Machine Learning Crash Course.\n"
      ]
    },
    {
      "cell_type": "code",
      "metadata": {
        "id": "Ue0poOUa8szU",
        "colab_type": "code",
        "outputId": "8557b2be-288d-4f86-86c0-6e457ec0cecf",
        "colab": {
          "base_uri": "https://localhost:8080/",
          "height": 34
        }
      },
      "source": [
        "#@title Define the functions that build and train a model\n",
        "def build_model(my_learning_rate):\n",
        "  \"\"\"Create and compile a simple linear regression model.\"\"\"\n",
        "  # Most simple tf.keras models are sequential.\n",
        "  model = tf.keras.models.Sequential()\n",
        "\n",
        "  # Add one linear layer to the model to yield a simple linear regressor.\n",
        "  model.add(tf.keras.layers.Dense(units=1, input_shape=(1,)))\n",
        "\n",
        "  # Compile the model topography into code that TensorFlow can efficiently\n",
        "  # execute. Configure training to minimize the model's mean squared error. \n",
        "  model.compile(optimizer=tf.keras.optimizers.RMSprop(lr=my_learning_rate),\n",
        "                loss=\"mean_squared_error\",\n",
        "                metrics=[tf.keras.metrics.RootMeanSquaredError()])\n",
        "\n",
        "  return model               \n",
        "\n",
        "\n",
        "def train_model(model, df, feature, label, my_epochs, \n",
        "                my_batch_size=None, my_validation_split=0.1):\n",
        "  \"\"\"Feed a dataset into the model in order to train it.\"\"\"\n",
        "\n",
        "  history = model.fit(x=df[feature],\n",
        "                      y=df[label],\n",
        "                      batch_size=my_batch_size,\n",
        "                      epochs=my_epochs,\n",
        "                      validation_split=my_validation_split)\n",
        "\n",
        "  # Gather the model's trained weight and bias.\n",
        "  trained_weight = model.get_weights()[0]\n",
        "  trained_bias = model.get_weights()[1]\n",
        "\n",
        "  # The list of epochs is stored separately from the \n",
        "  # rest of history.\n",
        "  epochs = history.epoch\n",
        "  \n",
        "  # Isolate the root mean squared error for each epoch.\n",
        "  hist = pd.DataFrame(history.history)\n",
        "  rmse = hist[\"root_mean_squared_error\"]\n",
        "\n",
        "  return epochs, rmse, history.history   \n",
        "\n",
        "print(\"Defined the build_model and train_model functions.\")"
      ],
      "execution_count": 166,
      "outputs": [
        {
          "output_type": "stream",
          "text": [
            "Defined the build_model and train_model functions.\n"
          ],
          "name": "stdout"
        }
      ]
    },
    {
      "cell_type": "markdown",
      "metadata": {
        "id": "GKF_765D8WXF",
        "colab_type": "text"
      },
      "source": [
        "## Define plotting functions\n",
        "\n",
        "This code block is taken from the 'Programming Exercise' module on Machine Learning Crash Course."
      ]
    },
    {
      "cell_type": "code",
      "metadata": {
        "id": "m2vweQ5682zW",
        "colab_type": "code",
        "outputId": "0cd0cf27-3eb1-447c-e71b-e98709c9de7e",
        "colab": {
          "base_uri": "https://localhost:8080/",
          "height": 34
        }
      },
      "source": [
        "#@title Define the plotting function\n",
        "def plot_the_model(trained_weight, trained_bias, feature, label):\n",
        "  \"\"\"Plot the trained model against 200 random training examples.\"\"\"\n",
        "\n",
        "  # Label the axes.\n",
        "  plt.xlabel(feature)\n",
        "  plt.ylabel(label)\n",
        "\n",
        "  # Create a scatter plot from 200 random points of the dataset.\n",
        "  random_examples = train_df.sample(n=200)\n",
        "  plt.scatter(random_examples[feature], random_examples[label])\n",
        "\n",
        "  # Create a red line representing the model. The red line starts\n",
        "  # at coordinates (x0, y0) and ends at coordinates (x1, y1).\n",
        "  x0 = 0\n",
        "  y0 = trained_bias\n",
        "  x1 = 10000\n",
        "  y1 = trained_bias + (trained_weight * x1)\n",
        "  plt.plot([x0, x1], [y0, y1], c='r')\n",
        "\n",
        "  # Render the scatter plot and the red line.\n",
        "  plt.show()\n",
        "\n",
        "def plot_the_loss_curve(epochs, mae_training, mae_validation):\n",
        "  \"\"\"Plot a curve of loss vs. epoch.\"\"\"\n",
        "\n",
        "  plt.figure()\n",
        "  plt.xlabel(\"Epoch\")\n",
        "  plt.ylabel(\"Root Mean Squared Error\")\n",
        "\n",
        "  plt.plot(epochs[1:], mae_training[1:], label=\"Training Loss\")\n",
        "  plt.plot(epochs[1:], mae_validation[1:], label=\"Validation Loss\")\n",
        "  plt.legend()\n",
        "  \n",
        "  # We're not going to plot the first epoch, since the loss on the first epoch\n",
        "  # is often substantially greater than the loss for other epochs.\n",
        "  merged_mae_lists = mae_training[1:] + mae_validation[1:]\n",
        "  highest_loss = max(merged_mae_lists)\n",
        "  lowest_loss = min(merged_mae_lists)\n",
        "  delta = highest_loss - lowest_loss\n",
        "  print(delta)\n",
        "\n",
        "  top_of_y_axis = highest_loss + (delta * 0.05)\n",
        "  bottom_of_y_axis = lowest_loss - (delta * 0.05)\n",
        "   \n",
        "  plt.ylim([bottom_of_y_axis, top_of_y_axis])\n",
        "  plt.show()  \n",
        "\n",
        "print(\"Defined the plot_the_loss_curve function.\")"
      ],
      "execution_count": 167,
      "outputs": [
        {
          "output_type": "stream",
          "text": [
            "Defined the plot_the_loss_curve function.\n"
          ],
          "name": "stdout"
        }
      ]
    },
    {
      "cell_type": "markdown",
      "metadata": {
        "id": "irarbk45399z",
        "colab_type": "text"
      },
      "source": [
        "<h1>Plot the correlation matrix</h1>"
      ]
    },
    {
      "cell_type": "code",
      "metadata": {
        "id": "guHMLCyAzgSM",
        "colab_type": "code",
        "outputId": "89d5ea10-a9a9-454e-aa20-b269cca97cf9",
        "colab": {
          "base_uri": "https://localhost:8080/",
          "height": 297
        }
      },
      "source": [
        "df_raw.corr()"
      ],
      "execution_count": 168,
      "outputs": [
        {
          "output_type": "execute_result",
          "data": {
            "text/html": [
              "<div>\n",
              "<style scoped>\n",
              "    .dataframe tbody tr th:only-of-type {\n",
              "        vertical-align: middle;\n",
              "    }\n",
              "\n",
              "    .dataframe tbody tr th {\n",
              "        vertical-align: top;\n",
              "    }\n",
              "\n",
              "    .dataframe thead th {\n",
              "        text-align: right;\n",
              "    }\n",
              "</style>\n",
              "<table border=\"1\" class=\"dataframe\">\n",
              "  <thead>\n",
              "    <tr style=\"text-align: right;\">\n",
              "      <th></th>\n",
              "      <th>Unnamed: 0</th>\n",
              "      <th>carat</th>\n",
              "      <th>depth</th>\n",
              "      <th>table</th>\n",
              "      <th>price</th>\n",
              "      <th>x</th>\n",
              "      <th>y</th>\n",
              "      <th>z</th>\n",
              "    </tr>\n",
              "  </thead>\n",
              "  <tbody>\n",
              "    <tr>\n",
              "      <th>Unnamed: 0</th>\n",
              "      <td>1.0</td>\n",
              "      <td>-0.4</td>\n",
              "      <td>-0.0</td>\n",
              "      <td>-0.1</td>\n",
              "      <td>-0.3</td>\n",
              "      <td>-0.4</td>\n",
              "      <td>-0.4</td>\n",
              "      <td>-0.4</td>\n",
              "    </tr>\n",
              "    <tr>\n",
              "      <th>carat</th>\n",
              "      <td>-0.4</td>\n",
              "      <td>1.0</td>\n",
              "      <td>0.0</td>\n",
              "      <td>0.2</td>\n",
              "      <td>0.9</td>\n",
              "      <td>1.0</td>\n",
              "      <td>1.0</td>\n",
              "      <td>1.0</td>\n",
              "    </tr>\n",
              "    <tr>\n",
              "      <th>depth</th>\n",
              "      <td>-0.0</td>\n",
              "      <td>0.0</td>\n",
              "      <td>1.0</td>\n",
              "      <td>-0.3</td>\n",
              "      <td>-0.0</td>\n",
              "      <td>-0.0</td>\n",
              "      <td>-0.0</td>\n",
              "      <td>0.1</td>\n",
              "    </tr>\n",
              "    <tr>\n",
              "      <th>table</th>\n",
              "      <td>-0.1</td>\n",
              "      <td>0.2</td>\n",
              "      <td>-0.3</td>\n",
              "      <td>1.0</td>\n",
              "      <td>0.1</td>\n",
              "      <td>0.2</td>\n",
              "      <td>0.2</td>\n",
              "      <td>0.2</td>\n",
              "    </tr>\n",
              "    <tr>\n",
              "      <th>price</th>\n",
              "      <td>-0.3</td>\n",
              "      <td>0.9</td>\n",
              "      <td>-0.0</td>\n",
              "      <td>0.1</td>\n",
              "      <td>1.0</td>\n",
              "      <td>0.9</td>\n",
              "      <td>0.9</td>\n",
              "      <td>0.9</td>\n",
              "    </tr>\n",
              "    <tr>\n",
              "      <th>x</th>\n",
              "      <td>-0.4</td>\n",
              "      <td>1.0</td>\n",
              "      <td>-0.0</td>\n",
              "      <td>0.2</td>\n",
              "      <td>0.9</td>\n",
              "      <td>1.0</td>\n",
              "      <td>1.0</td>\n",
              "      <td>1.0</td>\n",
              "    </tr>\n",
              "    <tr>\n",
              "      <th>y</th>\n",
              "      <td>-0.4</td>\n",
              "      <td>1.0</td>\n",
              "      <td>-0.0</td>\n",
              "      <td>0.2</td>\n",
              "      <td>0.9</td>\n",
              "      <td>1.0</td>\n",
              "      <td>1.0</td>\n",
              "      <td>1.0</td>\n",
              "    </tr>\n",
              "    <tr>\n",
              "      <th>z</th>\n",
              "      <td>-0.4</td>\n",
              "      <td>1.0</td>\n",
              "      <td>0.1</td>\n",
              "      <td>0.2</td>\n",
              "      <td>0.9</td>\n",
              "      <td>1.0</td>\n",
              "      <td>1.0</td>\n",
              "      <td>1.0</td>\n",
              "    </tr>\n",
              "  </tbody>\n",
              "</table>\n",
              "</div>"
            ],
            "text/plain": [
              "            Unnamed: 0  carat  depth  table  price    x    y    z\n",
              "Unnamed: 0         1.0   -0.4   -0.0   -0.1   -0.3 -0.4 -0.4 -0.4\n",
              "carat             -0.4    1.0    0.0    0.2    0.9  1.0  1.0  1.0\n",
              "depth             -0.0    0.0    1.0   -0.3   -0.0 -0.0 -0.0  0.1\n",
              "table             -0.1    0.2   -0.3    1.0    0.1  0.2  0.2  0.2\n",
              "price             -0.3    0.9   -0.0    0.1    1.0  0.9  0.9  0.9\n",
              "x                 -0.4    1.0   -0.0    0.2    0.9  1.0  1.0  1.0\n",
              "y                 -0.4    1.0   -0.0    0.2    0.9  1.0  1.0  1.0\n",
              "z                 -0.4    1.0    0.1    0.2    0.9  1.0  1.0  1.0"
            ]
          },
          "metadata": {
            "tags": []
          },
          "execution_count": 168
        }
      ]
    },
    {
      "cell_type": "markdown",
      "metadata": {
        "id": "rJCxTnF-4z_7",
        "colab_type": "text"
      },
      "source": [
        "From this correlation matrix, we can see that the biggest correlating variables are carat and price. So we're going to choose carat as a feature and price as the label. We found that correlation between carat with price and volume (x,y,z) are the highest. But, we decided to only chose 2 features so we chose carat and price."
      ]
    },
    {
      "cell_type": "markdown",
      "metadata": {
        "id": "UGXsrHY65t0y",
        "colab_type": "text"
      },
      "source": [
        "<h1>Copy features and label to varable df</h1>"
      ]
    },
    {
      "cell_type": "code",
      "metadata": {
        "scrolled": false,
        "id": "l5Cj5KYhld9C",
        "colab_type": "code",
        "outputId": "84fd3c62-95f2-4b8d-b85b-56ef4f086351",
        "colab": {
          "base_uri": "https://localhost:8080/",
          "height": 419
        }
      },
      "source": [
        "df = df_raw[['carat', 'price']].copy()\n",
        "df = df.loc[df['price']<=5000]\n",
        "# df['price'] = df['price']/100\n",
        "df"
      ],
      "execution_count": 169,
      "outputs": [
        {
          "output_type": "execute_result",
          "data": {
            "text/html": [
              "<div>\n",
              "<style scoped>\n",
              "    .dataframe tbody tr th:only-of-type {\n",
              "        vertical-align: middle;\n",
              "    }\n",
              "\n",
              "    .dataframe tbody tr th {\n",
              "        vertical-align: top;\n",
              "    }\n",
              "\n",
              "    .dataframe thead th {\n",
              "        text-align: right;\n",
              "    }\n",
              "</style>\n",
              "<table border=\"1\" class=\"dataframe\">\n",
              "  <thead>\n",
              "    <tr style=\"text-align: right;\">\n",
              "      <th></th>\n",
              "      <th>carat</th>\n",
              "      <th>price</th>\n",
              "    </tr>\n",
              "  </thead>\n",
              "  <tbody>\n",
              "    <tr>\n",
              "      <th>0</th>\n",
              "      <td>0.2</td>\n",
              "      <td>326</td>\n",
              "    </tr>\n",
              "    <tr>\n",
              "      <th>1</th>\n",
              "      <td>0.2</td>\n",
              "      <td>326</td>\n",
              "    </tr>\n",
              "    <tr>\n",
              "      <th>2</th>\n",
              "      <td>0.2</td>\n",
              "      <td>327</td>\n",
              "    </tr>\n",
              "    <tr>\n",
              "      <th>3</th>\n",
              "      <td>0.3</td>\n",
              "      <td>334</td>\n",
              "    </tr>\n",
              "    <tr>\n",
              "      <th>4</th>\n",
              "      <td>0.3</td>\n",
              "      <td>335</td>\n",
              "    </tr>\n",
              "    <tr>\n",
              "      <th>...</th>\n",
              "      <td>...</td>\n",
              "      <td>...</td>\n",
              "    </tr>\n",
              "    <tr>\n",
              "      <th>53935</th>\n",
              "      <td>0.7</td>\n",
              "      <td>2757</td>\n",
              "    </tr>\n",
              "    <tr>\n",
              "      <th>53936</th>\n",
              "      <td>0.7</td>\n",
              "      <td>2757</td>\n",
              "    </tr>\n",
              "    <tr>\n",
              "      <th>53937</th>\n",
              "      <td>0.7</td>\n",
              "      <td>2757</td>\n",
              "    </tr>\n",
              "    <tr>\n",
              "      <th>53938</th>\n",
              "      <td>0.9</td>\n",
              "      <td>2757</td>\n",
              "    </tr>\n",
              "    <tr>\n",
              "      <th>53939</th>\n",
              "      <td>0.8</td>\n",
              "      <td>2757</td>\n",
              "    </tr>\n",
              "  </tbody>\n",
              "</table>\n",
              "<p>39226 rows × 2 columns</p>\n",
              "</div>"
            ],
            "text/plain": [
              "       carat  price\n",
              "0        0.2    326\n",
              "1        0.2    326\n",
              "2        0.2    327\n",
              "3        0.3    334\n",
              "4        0.3    335\n",
              "...      ...    ...\n",
              "53935    0.7   2757\n",
              "53936    0.7   2757\n",
              "53937    0.7   2757\n",
              "53938    0.9   2757\n",
              "53939    0.8   2757\n",
              "\n",
              "[39226 rows x 2 columns]"
            ]
          },
          "metadata": {
            "tags": []
          },
          "execution_count": 169
        }
      ]
    },
    {
      "cell_type": "code",
      "metadata": {
        "id": "mj7xcv3HQf77",
        "colab_type": "code",
        "outputId": "e55de5a3-c11e-4ce9-ee40-74ad55ecd8aa",
        "colab": {
          "base_uri": "https://localhost:8080/",
          "height": 296
        }
      },
      "source": [
        "plt.scatter(df['carat'], df['price'])\n",
        "plt.xlabel(\"Carat\")\n",
        "plt.ylabel(\"Price\")"
      ],
      "execution_count": 170,
      "outputs": [
        {
          "output_type": "execute_result",
          "data": {
            "text/plain": [
              "Text(0, 0.5, 'Price')"
            ]
          },
          "metadata": {
            "tags": []
          },
          "execution_count": 170
        },
        {
          "output_type": "display_data",
          "data": {
            "image/png": "[encoded data removed]",
            "text/plain": [
              "<Figure size 432x288 with 1 Axes>"
            ]
          },
          "metadata": {
            "tags": []
          }
        }
      ]
    },
    {
      "cell_type": "markdown",
      "metadata": {
        "id": "CuyaJTHf6DnJ",
        "colab_type": "text"
      },
      "source": [
        "<h1>Examine the dataset</h1>"
      ]
    },
    {
      "cell_type": "code",
      "metadata": {
        "id": "t9gW_XQT6Iu0",
        "colab_type": "code",
        "outputId": "e3025d30-57de-42a5-b1c4-e40d45a7da93",
        "colab": {
          "base_uri": "https://localhost:8080/",
          "height": 297
        }
      },
      "source": [
        "df.describe()"
      ],
      "execution_count": 171,
      "outputs": [
        {
          "output_type": "execute_result",
          "data": {
            "text/html": [
              "<div>\n",
              "<style scoped>\n",
              "    .dataframe tbody tr th:only-of-type {\n",
              "        vertical-align: middle;\n",
              "    }\n",
              "\n",
              "    .dataframe tbody tr th {\n",
              "        vertical-align: top;\n",
              "    }\n",
              "\n",
              "    .dataframe thead th {\n",
              "        text-align: right;\n",
              "    }\n",
              "</style>\n",
              "<table border=\"1\" class=\"dataframe\">\n",
              "  <thead>\n",
              "    <tr style=\"text-align: right;\">\n",
              "      <th></th>\n",
              "      <th>carat</th>\n",
              "      <th>price</th>\n",
              "    </tr>\n",
              "  </thead>\n",
              "  <tbody>\n",
              "    <tr>\n",
              "      <th>count</th>\n",
              "      <td>39226.0</td>\n",
              "      <td>39226.0</td>\n",
              "    </tr>\n",
              "    <tr>\n",
              "      <th>mean</th>\n",
              "      <td>0.6</td>\n",
              "      <td>1914.5</td>\n",
              "    </tr>\n",
              "    <tr>\n",
              "      <th>std</th>\n",
              "      <td>0.3</td>\n",
              "      <td>1328.0</td>\n",
              "    </tr>\n",
              "    <tr>\n",
              "      <th>min</th>\n",
              "      <td>0.2</td>\n",
              "      <td>326.0</td>\n",
              "    </tr>\n",
              "    <tr>\n",
              "      <th>25%</th>\n",
              "      <td>0.3</td>\n",
              "      <td>801.0</td>\n",
              "    </tr>\n",
              "    <tr>\n",
              "      <th>50%</th>\n",
              "      <td>0.5</td>\n",
              "      <td>1417.0</td>\n",
              "    </tr>\n",
              "    <tr>\n",
              "      <th>75%</th>\n",
              "      <td>0.7</td>\n",
              "      <td>2826.0</td>\n",
              "    </tr>\n",
              "    <tr>\n",
              "      <th>max</th>\n",
              "      <td>1.7</td>\n",
              "      <td>5000.0</td>\n",
              "    </tr>\n",
              "  </tbody>\n",
              "</table>\n",
              "</div>"
            ],
            "text/plain": [
              "        carat   price\n",
              "count 39226.0 39226.0\n",
              "mean      0.6  1914.5\n",
              "std       0.3  1328.0\n",
              "min       0.2   326.0\n",
              "25%       0.3   801.0\n",
              "50%       0.5  1417.0\n",
              "75%       0.7  2826.0\n",
              "max       1.7  5000.0"
            ]
          },
          "metadata": {
            "tags": []
          },
          "execution_count": 171
        }
      ]
    },
    {
      "cell_type": "markdown",
      "metadata": {
        "id": "42py7Trt74hy",
        "colab_type": "text"
      },
      "source": [
        "Based on the description table, there are some anomalies on the data. The maximum value for both the feature and the label are much greater than its quantiles. There must be outliers in this dataset."
      ]
    },
    {
      "cell_type": "markdown",
      "metadata": {
        "id": "hXxEFE-V9Wjq",
        "colab_type": "text"
      },
      "source": [
        "<h1>Splitting into training and testing data</h1>"
      ]
    },
    {
      "cell_type": "code",
      "metadata": {
        "id": "6QbNqueU9fEh",
        "colab_type": "code",
        "colab": {}
      },
      "source": [
        "from sklearn.model_selection import train_test_split\n",
        "train_df, test_df = train_test_split(df, test_size=0.2)"
      ],
      "execution_count": 0,
      "outputs": []
    },
    {
      "cell_type": "code",
      "metadata": {
        "id": "N1WUspI9-tez",
        "colab_type": "code",
        "outputId": "1fcedffa-6ba1-4862-ed5a-edbe5c049532",
        "colab": {
          "base_uri": "https://localhost:8080/",
          "height": 34
        }
      },
      "source": [
        "train_df.shape"
      ],
      "execution_count": 173,
      "outputs": [
        {
          "output_type": "execute_result",
          "data": {
            "text/plain": [
              "(31380, 2)"
            ]
          },
          "metadata": {
            "tags": []
          },
          "execution_count": 173
        }
      ]
    },
    {
      "cell_type": "code",
      "metadata": {
        "id": "WCzXtuc7-04W",
        "colab_type": "code",
        "outputId": "eea7c9a3-8336-4f88-d863-a31d046208d7",
        "colab": {
          "base_uri": "https://localhost:8080/",
          "height": 34
        }
      },
      "source": [
        "test_df.shape"
      ],
      "execution_count": 174,
      "outputs": [
        {
          "output_type": "execute_result",
          "data": {
            "text/plain": [
              "(7846, 2)"
            ]
          },
          "metadata": {
            "tags": []
          },
          "execution_count": 174
        }
      ]
    },
    {
      "cell_type": "markdown",
      "metadata": {
        "id": "zxR6QAqu_Viq",
        "colab_type": "text"
      },
      "source": [
        "<h1>Building the model and training it</h1>"
      ]
    },
    {
      "cell_type": "markdown",
      "metadata": {
        "id": "TMegPrqjB5he",
        "colab_type": "text"
      },
      "source": [
        "On the first try, we started with a learning rate of .08 and 30 epochs, with a batch size of 100."
      ]
    },
    {
      "cell_type": "code",
      "metadata": {
        "id": "UXpGx5xrBkNW",
        "colab_type": "code",
        "outputId": "43a6fb47-4d34-49b5-b907-12cdf59f3d2f",
        "colab": {
          "base_uri": "https://localhost:8080/",
          "height": 1000
        }
      },
      "source": [
        "# The following variables are the hyperparameters.\n",
        "learning_rate = 0.08\n",
        "epochs = 30\n",
        "batch_size = 100\n",
        "\n",
        "# Split the original training set into a reduced training set and a\n",
        "# validation set. \n",
        "validation_split=0.2\n",
        "\n",
        "# Specify the feature and the label.\n",
        "my_feature = \"carat\"  # carat value.\n",
        "my_label=\"price\" # the price value for that specific diamond.\n",
        "# We're predicting diamond price based on carat value\n",
        "\n",
        "# Discard any pre-existing version of the model.\n",
        "my_model = None\n",
        "\n",
        "# Invoke the functions to build and train the model.\n",
        "my_model = build_model(learning_rate)\n",
        "epochs, rmse, history = train_model(my_model, train_df, my_feature, \n",
        "                                    my_label, epochs, batch_size, \n",
        "                                    validation_split)\n",
        "\n",
        "plot_the_loss_curve(epochs, history[\"root_mean_squared_error\"], \n",
        "                    history[\"val_root_mean_squared_error\"])\n"
      ],
      "execution_count": 175,
      "outputs": [
        {
          "output_type": "stream",
          "text": [
            "Epoch 1/30\n",
            "252/252 [==============================] - 0s 2ms/step - loss: 5361228.0000 - root_mean_squared_error: 2315.3552 - val_loss: 5308200.5000 - val_root_mean_squared_error: 2303.3782\n",
            "Epoch 2/30\n",
            "252/252 [==============================] - 0s 1ms/step - loss: 5227271.0000 - root_mean_squared_error: 2286.7332 - val_loss: 5177225.5000 - val_root_mean_squared_error: 2274.7788\n",
            "Epoch 3/30\n",
            "252/252 [==============================] - 0s 1ms/step - loss: 5096770.0000 - root_mean_squared_error: 2258.1968 - val_loss: 5048352.0000 - val_root_mean_squared_error: 2246.2834\n",
            "Epoch 4/30\n",
            "252/252 [==============================] - 0s 1ms/step - loss: 4964059.5000 - root_mean_squared_error: 2229.7327 - val_loss: 4921320.0000 - val_root_mean_squared_error: 2217.8376\n",
            "Epoch 5/30\n",
            "252/252 [==============================] - 0s 1ms/step - loss: 4830096.5000 - root_mean_squared_error: 2201.4167 - val_loss: 4796729.5000 - val_root_mean_squared_error: 2189.5789\n",
            "Epoch 6/30\n",
            "252/252 [==============================] - 0s 1ms/step - loss: 4714665.5000 - root_mean_squared_error: 2173.1252 - val_loss: 4673979.0000 - val_root_mean_squared_error: 2161.3767\n",
            "Epoch 7/30\n",
            "252/252 [==============================] - 0s 1ms/step - loss: 4586686.0000 - root_mean_squared_error: 2145.0046 - val_loss: 4553281.0000 - val_root_mean_squared_error: 2133.2825\n",
            "Epoch 8/30\n",
            "252/252 [==============================] - 0s 1ms/step - loss: 4475859.5000 - root_mean_squared_error: 2116.9187 - val_loss: 4434274.5000 - val_root_mean_squared_error: 2105.2151\n",
            "Epoch 9/30\n",
            "252/252 [==============================] - 0s 1ms/step - loss: 4362812.0000 - root_mean_squared_error: 2089.0286 - val_loss: 4317571.5000 - val_root_mean_squared_error: 2077.3232\n",
            "Epoch 10/30\n",
            "252/252 [==============================] - 0s 1ms/step - loss: 4254415.0000 - root_mean_squared_error: 2061.2424 - val_loss: 4202980.0000 - val_root_mean_squared_error: 2049.5664\n",
            "Epoch 11/30\n",
            "252/252 [==============================] - 0s 1ms/step - loss: 4148428.0000 - root_mean_squared_error: 2033.5944 - val_loss: 4090366.5000 - val_root_mean_squared_error: 2021.9175\n",
            "Epoch 12/30\n",
            "252/252 [==============================] - 0s 1ms/step - loss: 4010938.2500 - root_mean_squared_error: 2006.0942 - val_loss: 3980574.5000 - val_root_mean_squared_error: 1994.5925\n",
            "Epoch 13/30\n",
            "252/252 [==============================] - 0s 1ms/step - loss: 3947775.0000 - root_mean_squared_error: 1978.6851 - val_loss: 3871541.7500 - val_root_mean_squared_error: 1967.0812\n",
            "Epoch 14/30\n",
            "252/252 [==============================] - 0s 1ms/step - loss: 3817129.2500 - root_mean_squared_error: 1951.4642 - val_loss: 3765801.2500 - val_root_mean_squared_error: 1940.0281\n",
            "Epoch 15/30\n",
            "252/252 [==============================] - 0s 1ms/step - loss: 3727985.2500 - root_mean_squared_error: 1924.3545 - val_loss: 3661351.7500 - val_root_mean_squared_error: 1912.9301\n",
            "Epoch 16/30\n",
            "252/252 [==============================] - 0s 1ms/step - loss: 3603958.5000 - root_mean_squared_error: 1897.5687 - val_loss: 3559642.7500 - val_root_mean_squared_error: 1886.1689\n",
            "Epoch 17/30\n",
            "252/252 [==============================] - 0s 1ms/step - loss: 3506516.2500 - root_mean_squared_error: 1870.7375 - val_loss: 3459443.2500 - val_root_mean_squared_error: 1859.4285\n",
            "Epoch 18/30\n",
            "252/252 [==============================] - 0s 1ms/step - loss: 3393943.2500 - root_mean_squared_error: 1844.1174 - val_loss: 3361553.7500 - val_root_mean_squared_error: 1832.9277\n",
            "Epoch 19/30\n",
            "252/252 [==============================] - 0s 1ms/step - loss: 3294919.2500 - root_mean_squared_error: 1817.6283 - val_loss: 3265594.2500 - val_root_mean_squared_error: 1806.5724\n",
            "Epoch 20/30\n",
            "252/252 [==============================] - 0s 1ms/step - loss: 3201346.5000 - root_mean_squared_error: 1791.4202 - val_loss: 3171670.0000 - val_root_mean_squared_error: 1780.3988\n",
            "Epoch 21/30\n",
            "252/252 [==============================] - 0s 1ms/step - loss: 3122015.2500 - root_mean_squared_error: 1765.3022 - val_loss: 3079487.5000 - val_root_mean_squared_error: 1754.3308\n",
            "Epoch 22/30\n",
            "252/252 [==============================] - 0s 1ms/step - loss: 3029634.5000 - root_mean_squared_error: 1739.3734 - val_loss: 2989499.7500 - val_root_mean_squared_error: 1728.5045\n",
            "Epoch 23/30\n",
            "252/252 [==============================] - 0s 1ms/step - loss: 2926737.2500 - root_mean_squared_error: 1713.6754 - val_loss: 2902032.0000 - val_root_mean_squared_error: 1703.0260\n",
            "Epoch 24/30\n",
            "252/252 [==============================] - 0s 1ms/step - loss: 2840822.5000 - root_mean_squared_error: 1688.3768 - val_loss: 2816429.7500 - val_root_mean_squared_error: 1677.7169\n",
            "Epoch 25/30\n",
            "252/252 [==============================] - 0s 1ms/step - loss: 2761529.0000 - root_mean_squared_error: 1663.2299 - val_loss: 2732661.0000 - val_root_mean_squared_error: 1652.5748\n",
            "Epoch 26/30\n",
            "252/252 [==============================] - 0s 1ms/step - loss: 2684150.0000 - root_mean_squared_error: 1638.0746 - val_loss: 2650899.2500 - val_root_mean_squared_error: 1627.6604\n",
            "Epoch 27/30\n",
            "252/252 [==============================] - 0s 1ms/step - loss: 2614648.7500 - root_mean_squared_error: 1613.4608 - val_loss: 2571128.2500 - val_root_mean_squared_error: 1602.9803\n",
            "Epoch 28/30\n",
            "252/252 [==============================] - 0s 1ms/step - loss: 2523903.0000 - root_mean_squared_error: 1589.0166 - val_loss: 2493895.7500 - val_root_mean_squared_error: 1578.7181\n",
            "Epoch 29/30\n",
            "252/252 [==============================] - 0s 1ms/step - loss: 2445930.5000 - root_mean_squared_error: 1564.7238 - val_loss: 2418378.7500 - val_root_mean_squared_error: 1554.6288\n",
            "Epoch 30/30\n",
            "252/252 [==============================] - 0s 1ms/step - loss: 2374533.0000 - root_mean_squared_error: 1540.9764 - val_loss: 2345130.5000 - val_root_mean_squared_error: 1530.9010\n",
            "755.8321533203125\n"
          ],
          "name": "stdout"
        },
        {
          "output_type": "display_data",
          "data": {
            "image/png": "[encoded data removed]",
            "text/plain": [
              "<Figure size 432x288 with 1 Axes>"
            ]
          },
          "metadata": {
            "tags": []
          }
        }
      ]
    },
    {
      "cell_type": "markdown",
      "metadata": {
        "id": "AuycIB63CP1G",
        "colab_type": "text"
      },
      "source": [
        "As we can see here, the model hasn't fully converged, so we tried to increase the learning rate and number of epochs to 0.5 and 50 respectively"
      ]
    },
    {
      "cell_type": "code",
      "metadata": {
        "id": "0rAaAbKFBiqw",
        "colab_type": "code",
        "outputId": "7ff4eb87-d753-4c66-b7fb-a738db562043",
        "colab": {
          "base_uri": "https://localhost:8080/",
          "height": 1000
        }
      },
      "source": [
        "# The following variables are the hyperparameters.\n",
        "learning_rate = 0.5\n",
        "epochs = 50\n",
        "batch_size = 100\n",
        "\n",
        "# Split the original training set into a reduced training set and a\n",
        "# validation set. \n",
        "validation_split=0.2\n",
        "\n",
        "# Specify the feature and the label.\n",
        "my_feature = \"carat\"  # carat value.\n",
        "my_label=\"price\" # the price value for that specific diamond.\n",
        "# We're predicting diamond price based on carat value\n",
        "\n",
        "# Discard any pre-existing version of the model.\n",
        "my_model = None\n",
        "\n",
        "# Invoke the functions to build and train the model.\n",
        "my_model = build_model(learning_rate)\n",
        "epochs, rmse, history = train_model(my_model, train_df, my_feature, \n",
        "                                    my_label, epochs, batch_size, \n",
        "                                    validation_split)\n",
        "\n",
        "plot_the_loss_curve(epochs, history[\"root_mean_squared_error\"], \n",
        "                    history[\"val_root_mean_squared_error\"])\n"
      ],
      "execution_count": 176,
      "outputs": [
        {
          "output_type": "stream",
          "text": [
            "Epoch 1/50\n",
            "252/252 [==============================] - 0s 2ms/step - loss: 5028850.5000 - root_mean_squared_error: 2236.3518 - val_loss: 4617418.0000 - val_root_mean_squared_error: 2148.2573\n",
            "Epoch 2/50\n",
            "252/252 [==============================] - 0s 1ms/step - loss: 4240627.0000 - root_mean_squared_error: 2060.5901 - val_loss: 3907634.2500 - val_root_mean_squared_error: 1976.2307\n",
            "Epoch 3/50\n",
            "252/252 [==============================] - 0s 1ms/step - loss: 3564672.2500 - root_mean_squared_error: 1891.4176 - val_loss: 3276812.0000 - val_root_mean_squared_error: 1809.6733\n",
            "Epoch 4/50\n",
            "252/252 [==============================] - 0s 1ms/step - loss: 2992621.7500 - root_mean_squared_error: 1728.2120 - val_loss: 2722616.5000 - val_root_mean_squared_error: 1649.5343\n",
            "Epoch 5/50\n",
            "252/252 [==============================] - 0s 1ms/step - loss: 2466519.0000 - root_mean_squared_error: 1573.0380 - val_loss: 2251842.0000 - val_root_mean_squared_error: 1500.1390\n",
            "Epoch 6/50\n",
            "252/252 [==============================] - 0s 1ms/step - loss: 2046188.2500 - root_mean_squared_error: 1429.1541 - val_loss: 1857648.1250 - val_root_mean_squared_error: 1362.5128\n",
            "Epoch 7/50\n",
            "252/252 [==============================] - 0s 1ms/step - loss: 1687965.7500 - root_mean_squared_error: 1300.1245 - val_loss: 1544707.0000 - val_root_mean_squared_error: 1242.4594\n",
            "Epoch 8/50\n",
            "252/252 [==============================] - 0s 1ms/step - loss: 1418939.6250 - root_mean_squared_error: 1190.3304 - val_loss: 1309150.0000 - val_root_mean_squared_error: 1143.8278\n",
            "Epoch 9/50\n",
            "252/252 [==============================] - 0s 1ms/step - loss: 1219290.2500 - root_mean_squared_error: 1105.6957 - val_loss: 1155019.1250 - val_root_mean_squared_error: 1074.4221\n",
            "Epoch 10/50\n",
            "252/252 [==============================] - 0s 1ms/step - loss: 1100357.7500 - root_mean_squared_error: 1050.2313 - val_loss: 1068566.7500 - val_root_mean_squared_error: 1033.4712\n",
            "Epoch 11/50\n",
            "252/252 [==============================] - 0s 1ms/step - loss: 1033489.8125 - root_mean_squared_error: 1017.5912 - val_loss: 1012325.5000 - val_root_mean_squared_error: 1005.9298\n",
            "Epoch 12/50\n",
            "252/252 [==============================] - 0s 1ms/step - loss: 981331.3125 - root_mean_squared_error: 991.4374 - val_loss: 960781.2500 - val_root_mean_squared_error: 979.9935\n",
            "Epoch 13/50\n",
            "252/252 [==============================] - 0s 1ms/step - loss: 933330.9375 - root_mean_squared_error: 965.2227 - val_loss: 910036.5000 - val_root_mean_squared_error: 953.7703\n",
            "Epoch 14/50\n",
            "252/252 [==============================] - 0s 1ms/step - loss: 879599.3750 - root_mean_squared_error: 938.8376 - val_loss: 860019.2500 - val_root_mean_squared_error: 927.1912\n",
            "Epoch 15/50\n",
            "252/252 [==============================] - 0s 2ms/step - loss: 831538.8125 - root_mean_squared_error: 912.7125 - val_loss: 812026.2500 - val_root_mean_squared_error: 900.9514\n",
            "Epoch 16/50\n",
            "252/252 [==============================] - 0s 1ms/step - loss: 784427.6250 - root_mean_squared_error: 886.1054 - val_loss: 765145.1250 - val_root_mean_squared_error: 874.5602\n",
            "Epoch 17/50\n",
            "252/252 [==============================] - 0s 1ms/step - loss: 737642.8750 - root_mean_squared_error: 859.8359 - val_loss: 721172.1875 - val_root_mean_squared_error: 849.0610\n",
            "Epoch 18/50\n",
            "252/252 [==============================] - 0s 1ms/step - loss: 696261.8750 - root_mean_squared_error: 834.5919 - val_loss: 678717.6250 - val_root_mean_squared_error: 823.6935\n",
            "Epoch 19/50\n",
            "252/252 [==============================] - 0s 1ms/step - loss: 653995.0625 - root_mean_squared_error: 809.2831 - val_loss: 637900.7500 - val_root_mean_squared_error: 798.5443\n",
            "Epoch 20/50\n",
            "252/252 [==============================] - 0s 1ms/step - loss: 616456.9375 - root_mean_squared_error: 784.3948 - val_loss: 599322.0625 - val_root_mean_squared_error: 774.0266\n",
            "Epoch 21/50\n",
            "252/252 [==============================] - 0s 2ms/step - loss: 584449.3750 - root_mean_squared_error: 760.5404 - val_loss: 562937.9375 - val_root_mean_squared_error: 750.1681\n",
            "Epoch 22/50\n",
            "252/252 [==============================] - 0s 1ms/step - loss: 542303.2500 - root_mean_squared_error: 736.8112 - val_loss: 528537.6875 - val_root_mean_squared_error: 726.8891\n",
            "Epoch 23/50\n",
            "252/252 [==============================] - 0s 1ms/step - loss: 511414.2812 - root_mean_squared_error: 713.8945 - val_loss: 496216.3750 - val_root_mean_squared_error: 704.3195\n",
            "Epoch 24/50\n",
            "252/252 [==============================] - 0s 1ms/step - loss: 476305.5000 - root_mean_squared_error: 691.2178 - val_loss: 464945.4375 - val_root_mean_squared_error: 681.7711\n",
            "Epoch 25/50\n",
            "252/252 [==============================] - 0s 1ms/step - loss: 448504.1875 - root_mean_squared_error: 669.1042 - val_loss: 435097.8750 - val_root_mean_squared_error: 659.5301\n",
            "Epoch 26/50\n",
            "252/252 [==============================] - 0s 1ms/step - loss: 418506.9688 - root_mean_squared_error: 647.8432 - val_loss: 408418.7500 - val_root_mean_squared_error: 638.9959\n",
            "Epoch 27/50\n",
            "252/252 [==============================] - 0s 1ms/step - loss: 393567.7188 - root_mean_squared_error: 627.6480 - val_loss: 383335.1875 - val_root_mean_squared_error: 619.0698\n",
            "Epoch 28/50\n",
            "252/252 [==============================] - 0s 1ms/step - loss: 369966.9062 - root_mean_squared_error: 607.9588 - val_loss: 359866.9375 - val_root_mean_squared_error: 599.8281\n",
            "Epoch 29/50\n",
            "252/252 [==============================] - 0s 1ms/step - loss: 346284.3750 - root_mean_squared_error: 589.0632 - val_loss: 337783.6250 - val_root_mean_squared_error: 581.1396\n",
            "Epoch 30/50\n",
            "252/252 [==============================] - 0s 1ms/step - loss: 326390.5312 - root_mean_squared_error: 571.4337 - val_loss: 318211.6250 - val_root_mean_squared_error: 564.0598\n",
            "Epoch 31/50\n",
            "252/252 [==============================] - 0s 1ms/step - loss: 307026.7500 - root_mean_squared_error: 554.4608 - val_loss: 299508.5000 - val_root_mean_squared_error: 547.2428\n",
            "Epoch 32/50\n",
            "252/252 [==============================] - 0s 1ms/step - loss: 289769.4688 - root_mean_squared_error: 538.6811 - val_loss: 283171.9688 - val_root_mean_squared_error: 532.1180\n",
            "Epoch 33/50\n",
            "252/252 [==============================] - 0s 1ms/step - loss: 274228.5312 - root_mean_squared_error: 524.0366 - val_loss: 268392.5625 - val_root_mean_squared_error: 518.0549\n",
            "Epoch 34/50\n",
            "252/252 [==============================] - 0s 1ms/step - loss: 260812.6094 - root_mean_squared_error: 511.3814 - val_loss: 256479.8750 - val_root_mean_squared_error: 506.4372\n",
            "Epoch 35/50\n",
            "252/252 [==============================] - 0s 1ms/step - loss: 250453.3281 - root_mean_squared_error: 500.1535 - val_loss: 245114.2656 - val_root_mean_squared_error: 495.0981\n",
            "Epoch 36/50\n",
            "252/252 [==============================] - 0s 1ms/step - loss: 240936.8438 - root_mean_squared_error: 489.8035 - val_loss: 235634.1562 - val_root_mean_squared_error: 485.4383\n",
            "Epoch 37/50\n",
            "252/252 [==============================] - 0s 1ms/step - loss: 230616.8594 - root_mean_squared_error: 480.8318 - val_loss: 227380.7500 - val_root_mean_squared_error: 476.8702\n",
            "Epoch 38/50\n",
            "252/252 [==============================] - 0s 1ms/step - loss: 222952.6094 - root_mean_squared_error: 473.0119 - val_loss: 220359.2031 - val_root_mean_squared_error: 469.4576\n",
            "Epoch 39/50\n",
            "252/252 [==============================] - 0s 1ms/step - loss: 217884.3594 - root_mean_squared_error: 466.3013 - val_loss: 214392.2188 - val_root_mean_squared_error: 463.0666\n",
            "Epoch 40/50\n",
            "252/252 [==============================] - 0s 1ms/step - loss: 212277.5938 - root_mean_squared_error: 460.8582 - val_loss: 209935.0625 - val_root_mean_squared_error: 458.2346\n",
            "Epoch 41/50\n",
            "252/252 [==============================] - 0s 1ms/step - loss: 208336.8750 - root_mean_squared_error: 456.5962 - val_loss: 206217.2969 - val_root_mean_squared_error: 454.1657\n",
            "Epoch 42/50\n",
            "252/252 [==============================] - 0s 1ms/step - loss: 204699.8125 - root_mean_squared_error: 452.9559 - val_loss: 203080.4375 - val_root_mean_squared_error: 450.7041\n",
            "Epoch 43/50\n",
            "252/252 [==============================] - 0s 1ms/step - loss: 205639.8125 - root_mean_squared_error: 450.3324 - val_loss: 201065.4062 - val_root_mean_squared_error: 448.4672\n",
            "Epoch 44/50\n",
            "252/252 [==============================] - 0s 1ms/step - loss: 202318.7812 - root_mean_squared_error: 448.3982 - val_loss: 199399.9375 - val_root_mean_squared_error: 446.6102\n",
            "Epoch 45/50\n",
            "252/252 [==============================] - 0s 1ms/step - loss: 199230.2812 - root_mean_squared_error: 446.8759 - val_loss: 198092.7500 - val_root_mean_squared_error: 445.1471\n",
            "Epoch 46/50\n",
            "252/252 [==============================] - 0s 1ms/step - loss: 198675.6406 - root_mean_squared_error: 445.6850 - val_loss: 197112.6719 - val_root_mean_squared_error: 444.0478\n",
            "Epoch 47/50\n",
            "252/252 [==============================] - 0s 1ms/step - loss: 197181.6719 - root_mean_squared_error: 444.8039 - val_loss: 196371.6094 - val_root_mean_squared_error: 443.2148\n",
            "Epoch 48/50\n",
            "252/252 [==============================] - 0s 1ms/step - loss: 196969.1406 - root_mean_squared_error: 444.0941 - val_loss: 195815.2031 - val_root_mean_squared_error: 442.5890\n",
            "Epoch 49/50\n",
            "252/252 [==============================] - 0s 1ms/step - loss: 196407.1250 - root_mean_squared_error: 443.6375 - val_loss: 195365.7812 - val_root_mean_squared_error: 442.0826\n",
            "Epoch 50/50\n",
            "252/252 [==============================] - 0s 1ms/step - loss: 195751.4062 - root_mean_squared_error: 443.2276 - val_loss: 194985.2656 - val_root_mean_squared_error: 441.6535\n",
            "1618.9366149902344\n"
          ],
          "name": "stdout"
        },
        {
          "output_type": "display_data",
          "data": {
            "image/png": "[encoded data removed]",
            "text/plain": [
              "<Figure size 432x288 with 1 Axes>"
            ]
          },
          "metadata": {
            "tags": []
          }
        }
      ]
    },
    {
      "cell_type": "markdown",
      "metadata": {
        "id": "zumHwX4gC2zR",
        "colab_type": "text"
      },
      "source": [
        "As seen on the plot above, the model has converged on 50 epochs, as the plot has flattened out. But we tried to increase the number of epochs to 100 just to be sure."
      ]
    },
    {
      "cell_type": "code",
      "metadata": {
        "id": "_BhleoZf7_fr",
        "colab_type": "code",
        "outputId": "a9cb8d3d-af90-4946-cd41-091f73afebe7",
        "colab": {
          "base_uri": "https://localhost:8080/",
          "height": 1000
        }
      },
      "source": [
        "# The following variables are the hyperparameters.\n",
        "learning_rate = 0.5\n",
        "epochs = 100\n",
        "batch_size = 100\n",
        "\n",
        "# Split the original training set into a reduced training set and a\n",
        "# validation set. \n",
        "validation_split=0.2\n",
        "\n",
        "# Specify the feature and the label.\n",
        "my_feature = \"carat\"  # carat value.\n",
        "my_label=\"price\" # the price value for that specific diamond.\n",
        "# We're predicting diamond price based on carat value\n",
        "\n",
        "# Discard any pre-existing version of the model.\n",
        "my_model = None\n",
        "\n",
        "# Invoke the functions to build and train the model.\n",
        "my_model = build_model(learning_rate)\n",
        "epochs, rmse, history = train_model(my_model, train_df, my_feature, \n",
        "                                    my_label, epochs, batch_size, \n",
        "                                    validation_split)\n",
        "\n",
        "plot_the_loss_curve(epochs, history[\"root_mean_squared_error\"], \n",
        "                    history[\"val_root_mean_squared_error\"])\n"
      ],
      "execution_count": 177,
      "outputs": [
        {
          "output_type": "stream",
          "text": [
            "Epoch 1/100\n",
            "252/252 [==============================] - 0s 2ms/step - loss: 5000956.0000 - root_mean_squared_error: 2235.8423 - val_loss: 4617351.0000 - val_root_mean_squared_error: 2148.2417\n",
            "Epoch 2/100\n",
            "252/252 [==============================] - 0s 1ms/step - loss: 4246644.0000 - root_mean_squared_error: 2060.3062 - val_loss: 3905886.5000 - val_root_mean_squared_error: 1975.7888\n",
            "Epoch 3/100\n",
            "252/252 [==============================] - 0s 1ms/step - loss: 3568080.5000 - root_mean_squared_error: 1891.0270 - val_loss: 3274418.7500 - val_root_mean_squared_error: 1809.0122\n",
            "Epoch 4/100\n",
            "252/252 [==============================] - 0s 1ms/step - loss: 2987196.7500 - root_mean_squared_error: 1726.7653 - val_loss: 2719307.2500 - val_root_mean_squared_error: 1648.5315\n",
            "Epoch 5/100\n",
            "252/252 [==============================] - 0s 1ms/step - loss: 2463274.0000 - root_mean_squared_error: 1571.8702 - val_loss: 2249528.7500 - val_root_mean_squared_error: 1499.3683\n",
            "Epoch 6/100\n",
            "252/252 [==============================] - 0s 1ms/step - loss: 2040949.3750 - root_mean_squared_error: 1428.2908 - val_loss: 1855933.6250 - val_root_mean_squared_error: 1361.8843\n",
            "Epoch 7/100\n",
            "252/252 [==============================] - 0s 1ms/step - loss: 1682339.1250 - root_mean_squared_error: 1299.2166 - val_loss: 1545341.2500 - val_root_mean_squared_error: 1242.7145\n",
            "Epoch 8/100\n",
            "252/252 [==============================] - 0s 1ms/step - loss: 1417905.5000 - root_mean_squared_error: 1190.4154 - val_loss: 1309281.3750 - val_root_mean_squared_error: 1143.8850\n",
            "Epoch 9/100\n",
            "252/252 [==============================] - 0s 1ms/step - loss: 1224071.0000 - root_mean_squared_error: 1105.5798 - val_loss: 1154203.1250 - val_root_mean_squared_error: 1074.0430\n",
            "Epoch 10/100\n",
            "252/252 [==============================] - 0s 1ms/step - loss: 1097809.2500 - root_mean_squared_error: 1049.5551 - val_loss: 1067528.2500 - val_root_mean_squared_error: 1032.9707\n",
            "Epoch 11/100\n",
            "252/252 [==============================] - 0s 1ms/step - loss: 1034635.5000 - root_mean_squared_error: 1017.2171 - val_loss: 1011238.9375 - val_root_mean_squared_error: 1005.3903\n",
            "Epoch 12/100\n",
            "252/252 [==============================] - 0s 1ms/step - loss: 978978.5625 - root_mean_squared_error: 990.6069 - val_loss: 958652.4375 - val_root_mean_squared_error: 978.9081\n",
            "Epoch 13/100\n",
            "252/252 [==============================] - 0s 1ms/step - loss: 927564.6875 - root_mean_squared_error: 964.1885 - val_loss: 908517.9375 - val_root_mean_squared_error: 952.9722\n",
            "Epoch 14/100\n",
            "252/252 [==============================] - 0s 1ms/step - loss: 877666.1250 - root_mean_squared_error: 938.0660 - val_loss: 859293.1250 - val_root_mean_squared_error: 926.7997\n",
            "Epoch 15/100\n",
            "252/252 [==============================] - 0s 1ms/step - loss: 829237.8750 - root_mean_squared_error: 911.9598 - val_loss: 810916.9375 - val_root_mean_squared_error: 900.3348\n",
            "Epoch 16/100\n",
            "252/252 [==============================] - 0s 1ms/step - loss: 782089.4375 - root_mean_squared_error: 885.6475 - val_loss: 765094.6250 - val_root_mean_squared_error: 874.5308\n",
            "Epoch 17/100\n",
            "252/252 [==============================] - 0s 1ms/step - loss: 738001.0625 - root_mean_squared_error: 859.7092 - val_loss: 720961.3750 - val_root_mean_squared_error: 848.9362\n",
            "Epoch 18/100\n",
            "252/252 [==============================] - 0s 1ms/step - loss: 699134.6875 - root_mean_squared_error: 834.8970 - val_loss: 679499.5000 - val_root_mean_squared_error: 824.1682\n",
            "Epoch 19/100\n",
            "252/252 [==============================] - 0s 1ms/step - loss: 655306.8750 - root_mean_squared_error: 809.5682 - val_loss: 638448.3750 - val_root_mean_squared_error: 798.8882\n",
            "Epoch 20/100\n",
            "252/252 [==============================] - 0s 1ms/step - loss: 616957.5000 - root_mean_squared_error: 784.9818 - val_loss: 599906.4375 - val_root_mean_squared_error: 774.4033\n",
            "Epoch 21/100\n",
            "252/252 [==============================] - 0s 1ms/step - loss: 580420.6875 - root_mean_squared_error: 761.0721 - val_loss: 563991.1875 - val_root_mean_squared_error: 750.8693\n",
            "Epoch 22/100\n",
            "252/252 [==============================] - 0s 1ms/step - loss: 542821.9375 - root_mean_squared_error: 737.1434 - val_loss: 528805.3125 - val_root_mean_squared_error: 727.0731\n",
            "Epoch 23/100\n",
            "252/252 [==============================] - 0s 1ms/step - loss: 508387.5312 - root_mean_squared_error: 714.0457 - val_loss: 495913.2500 - val_root_mean_squared_error: 704.1027\n",
            "Epoch 24/100\n",
            "252/252 [==============================] - 0s 1ms/step - loss: 476129.8750 - root_mean_squared_error: 690.9566 - val_loss: 464509.1875 - val_root_mean_squared_error: 681.4499\n",
            "Epoch 25/100\n",
            "252/252 [==============================] - 0s 1ms/step - loss: 446851.5312 - root_mean_squared_error: 668.5375 - val_loss: 434798.5000 - val_root_mean_squared_error: 659.3030\n",
            "Epoch 26/100\n",
            "252/252 [==============================] - 0s 1ms/step - loss: 420530.6250 - root_mean_squared_error: 647.2850 - val_loss: 407888.3438 - val_root_mean_squared_error: 638.5822\n",
            "Epoch 27/100\n",
            "252/252 [==============================] - 0s 1ms/step - loss: 392337.9062 - root_mean_squared_error: 627.0942 - val_loss: 382622.2812 - val_root_mean_squared_error: 618.4949\n",
            "Epoch 28/100\n",
            "252/252 [==============================] - 0s 1ms/step - loss: 369204.6250 - root_mean_squared_error: 607.2032 - val_loss: 358901.8438 - val_root_mean_squared_error: 599.0245\n",
            "Epoch 29/100\n",
            "252/252 [==============================] - 0s 1ms/step - loss: 345845.7188 - root_mean_squared_error: 588.4594 - val_loss: 337107.6562 - val_root_mean_squared_error: 580.5585\n",
            "Epoch 30/100\n",
            "252/252 [==============================] - 0s 1ms/step - loss: 324887.2188 - root_mean_squared_error: 570.6864 - val_loss: 317583.0312 - val_root_mean_squared_error: 563.5042\n",
            "Epoch 31/100\n",
            "252/252 [==============================] - 0s 1ms/step - loss: 306477.7812 - root_mean_squared_error: 554.2845 - val_loss: 299630.0000 - val_root_mean_squared_error: 547.3535\n",
            "Epoch 32/100\n",
            "252/252 [==============================] - 0s 1ms/step - loss: 289089.7812 - root_mean_squared_error: 538.4392 - val_loss: 282777.7812 - val_root_mean_squared_error: 531.7470\n",
            "Epoch 33/100\n",
            "252/252 [==============================] - 0s 1ms/step - loss: 273837.8750 - root_mean_squared_error: 523.9257 - val_loss: 268233.0312 - val_root_mean_squared_error: 517.9009\n",
            "Epoch 34/100\n",
            "252/252 [==============================] - 0s 1ms/step - loss: 260753.1562 - root_mean_squared_error: 510.9209 - val_loss: 255402.1719 - val_root_mean_squared_error: 505.3725\n",
            "Epoch 35/100\n",
            "252/252 [==============================] - 0s 1ms/step - loss: 248422.7344 - root_mean_squared_error: 498.9846 - val_loss: 244047.6562 - val_root_mean_squared_error: 494.0210\n",
            "Epoch 36/100\n",
            "252/252 [==============================] - 0s 1ms/step - loss: 237651.2969 - root_mean_squared_error: 488.3427 - val_loss: 234325.7031 - val_root_mean_squared_error: 484.0907\n",
            "Epoch 37/100\n",
            "252/252 [==============================] - 0s 1ms/step - loss: 229722.2500 - root_mean_squared_error: 479.4905 - val_loss: 226168.4531 - val_root_mean_squared_error: 475.5989\n",
            "Epoch 38/100\n",
            "252/252 [==============================] - 0s 1ms/step - loss: 222019.5938 - root_mean_squared_error: 471.9995 - val_loss: 219537.3281 - val_root_mean_squared_error: 468.5829\n",
            "Epoch 39/100\n",
            "252/252 [==============================] - 0s 1ms/step - loss: 216304.2188 - root_mean_squared_error: 465.4619 - val_loss: 213671.8594 - val_root_mean_squared_error: 462.2891\n",
            "Epoch 40/100\n",
            "252/252 [==============================] - 0s 1ms/step - loss: 211323.1250 - root_mean_squared_error: 460.1367 - val_loss: 209247.0938 - val_root_mean_squared_error: 457.4844\n",
            "Epoch 41/100\n",
            "252/252 [==============================] - 0s 1ms/step - loss: 210042.7344 - root_mean_squared_error: 455.9186 - val_loss: 205647.2188 - val_root_mean_squared_error: 453.5387\n",
            "Epoch 42/100\n",
            "252/252 [==============================] - 0s 1ms/step - loss: 204112.5625 - root_mean_squared_error: 452.5316 - val_loss: 202782.9844 - val_root_mean_squared_error: 450.3749\n",
            "Epoch 43/100\n",
            "252/252 [==============================] - 0s 1ms/step - loss: 201890.1562 - root_mean_squared_error: 449.9014 - val_loss: 200712.2188 - val_root_mean_squared_error: 448.0738\n",
            "Epoch 44/100\n",
            "252/252 [==============================] - 0s 1ms/step - loss: 201149.6406 - root_mean_squared_error: 448.1459 - val_loss: 199187.3750 - val_root_mean_squared_error: 446.3724\n",
            "Epoch 45/100\n",
            "252/252 [==============================] - 0s 1ms/step - loss: 198805.8125 - root_mean_squared_error: 446.6535 - val_loss: 197921.9844 - val_root_mean_squared_error: 444.9560\n",
            "Epoch 46/100\n",
            "252/252 [==============================] - 0s 1ms/step - loss: 198346.9219 - root_mean_squared_error: 445.4980 - val_loss: 196935.1094 - val_root_mean_squared_error: 443.8483\n",
            "Epoch 47/100\n",
            "252/252 [==============================] - 0s 1ms/step - loss: 197619.9219 - root_mean_squared_error: 444.6452 - val_loss: 196237.6250 - val_root_mean_squared_error: 443.0641\n",
            "Epoch 48/100\n",
            "252/252 [==============================] - 0s 1ms/step - loss: 197912.5156 - root_mean_squared_error: 444.0270 - val_loss: 195685.5625 - val_root_mean_squared_error: 442.4427\n",
            "Epoch 49/100\n",
            "252/252 [==============================] - 0s 1ms/step - loss: 197081.3281 - root_mean_squared_error: 443.5732 - val_loss: 195321.6250 - val_root_mean_squared_error: 442.0329\n",
            "Epoch 50/100\n",
            "252/252 [==============================] - 0s 1ms/step - loss: 195760.9688 - root_mean_squared_error: 443.1988 - val_loss: 195005.6406 - val_root_mean_squared_error: 441.6768\n",
            "Epoch 51/100\n",
            "252/252 [==============================] - 0s 1ms/step - loss: 195919.8906 - root_mean_squared_error: 442.9487 - val_loss: 194761.7500 - val_root_mean_squared_error: 441.4019\n",
            "Epoch 52/100\n",
            "252/252 [==============================] - 0s 1ms/step - loss: 195398.3750 - root_mean_squared_error: 442.7564 - val_loss: 194557.1094 - val_root_mean_squared_error: 441.1709\n",
            "Epoch 53/100\n",
            "252/252 [==============================] - 0s 1ms/step - loss: 195270.1719 - root_mean_squared_error: 442.5954 - val_loss: 194431.2344 - val_root_mean_squared_error: 441.0292\n",
            "Epoch 54/100\n",
            "252/252 [==============================] - 0s 1ms/step - loss: 195409.0625 - root_mean_squared_error: 442.4979 - val_loss: 194304.2812 - val_root_mean_squared_error: 440.8860\n",
            "Epoch 55/100\n",
            "252/252 [==============================] - 0s 1ms/step - loss: 195160.2656 - root_mean_squared_error: 442.4208 - val_loss: 194214.1562 - val_root_mean_squared_error: 440.7845\n",
            "Epoch 56/100\n",
            "252/252 [==============================] - 0s 1ms/step - loss: 196085.2188 - root_mean_squared_error: 442.3593 - val_loss: 194181.7188 - val_root_mean_squared_error: 440.7483\n",
            "Epoch 57/100\n",
            "252/252 [==============================] - 0s 1ms/step - loss: 197514.2500 - root_mean_squared_error: 442.2957 - val_loss: 194112.4531 - val_root_mean_squared_error: 440.6703\n",
            "Epoch 58/100\n",
            "252/252 [==============================] - 0s 1ms/step - loss: 195480.4219 - root_mean_squared_error: 442.2837 - val_loss: 194137.7344 - val_root_mean_squared_error: 440.6993\n",
            "Epoch 59/100\n",
            "252/252 [==============================] - 0s 1ms/step - loss: 195182.6562 - root_mean_squared_error: 442.2700 - val_loss: 194036.4375 - val_root_mean_squared_error: 440.5848\n",
            "Epoch 60/100\n",
            "252/252 [==============================] - 0s 1ms/step - loss: 197011.4219 - root_mean_squared_error: 442.2350 - val_loss: 194016.3281 - val_root_mean_squared_error: 440.5623\n",
            "Epoch 61/100\n",
            "252/252 [==============================] - 0s 1ms/step - loss: 195690.8906 - root_mean_squared_error: 442.2163 - val_loss: 194037.1094 - val_root_mean_squared_error: 440.5862\n",
            "Epoch 62/100\n",
            "252/252 [==============================] - 0s 1ms/step - loss: 194947.1875 - root_mean_squared_error: 442.2257 - val_loss: 193955.0781 - val_root_mean_squared_error: 440.4933\n",
            "Epoch 63/100\n",
            "252/252 [==============================] - 0s 1ms/step - loss: 195007.9688 - root_mean_squared_error: 442.2135 - val_loss: 193998.4531 - val_root_mean_squared_error: 440.5426\n",
            "Epoch 64/100\n",
            "252/252 [==============================] - 0s 1ms/step - loss: 196362.3438 - root_mean_squared_error: 442.2090 - val_loss: 194026.7969 - val_root_mean_squared_error: 440.5750\n",
            "Epoch 65/100\n",
            "252/252 [==============================] - 0s 1ms/step - loss: 194883.6094 - root_mean_squared_error: 442.2007 - val_loss: 193986.7031 - val_root_mean_squared_error: 440.5296\n",
            "Epoch 66/100\n",
            "252/252 [==============================] - 0s 1ms/step - loss: 194901.3125 - root_mean_squared_error: 442.2108 - val_loss: 193943.6562 - val_root_mean_squared_error: 440.4810\n",
            "Epoch 67/100\n",
            "252/252 [==============================] - 0s 1ms/step - loss: 196002.2812 - root_mean_squared_error: 442.1974 - val_loss: 193908.9062 - val_root_mean_squared_error: 440.4417\n",
            "Epoch 68/100\n",
            "252/252 [==============================] - 0s 1ms/step - loss: 196269.4219 - root_mean_squared_error: 442.2048 - val_loss: 193926.5781 - val_root_mean_squared_error: 440.4618\n",
            "Epoch 69/100\n",
            "252/252 [==============================] - 0s 1ms/step - loss: 194958.2812 - root_mean_squared_error: 442.2019 - val_loss: 193948.0000 - val_root_mean_squared_error: 440.4862\n",
            "Epoch 70/100\n",
            "252/252 [==============================] - 0s 1ms/step - loss: 195074.4844 - root_mean_squared_error: 442.1887 - val_loss: 193901.4219 - val_root_mean_squared_error: 440.4334\n",
            "Epoch 71/100\n",
            "252/252 [==============================] - 0s 1ms/step - loss: 195311.5625 - root_mean_squared_error: 442.1908 - val_loss: 193976.4844 - val_root_mean_squared_error: 440.5185\n",
            "Epoch 72/100\n",
            "252/252 [==============================] - 0s 1ms/step - loss: 195843.0000 - root_mean_squared_error: 442.2032 - val_loss: 193913.7969 - val_root_mean_squared_error: 440.4474\n",
            "Epoch 73/100\n",
            "252/252 [==============================] - 0s 1ms/step - loss: 195541.3750 - root_mean_squared_error: 442.1987 - val_loss: 194001.9219 - val_root_mean_squared_error: 440.5474\n",
            "Epoch 74/100\n",
            "252/252 [==============================] - 0s 1ms/step - loss: 196271.1719 - root_mean_squared_error: 442.2054 - val_loss: 193924.7344 - val_root_mean_squared_error: 440.4600\n",
            "Epoch 75/100\n",
            "252/252 [==============================] - 0s 1ms/step - loss: 195535.8594 - root_mean_squared_error: 442.1996 - val_loss: 193889.7656 - val_root_mean_squared_error: 440.4206\n",
            "Epoch 76/100\n",
            "252/252 [==============================] - 0s 1ms/step - loss: 195769.6562 - root_mean_squared_error: 442.2000 - val_loss: 193888.1250 - val_root_mean_squared_error: 440.4187\n",
            "Epoch 77/100\n",
            "252/252 [==============================] - 0s 1ms/step - loss: 195164.0312 - root_mean_squared_error: 442.2110 - val_loss: 193890.4062 - val_root_mean_squared_error: 440.4212\n",
            "Epoch 78/100\n",
            "252/252 [==============================] - 0s 1ms/step - loss: 195840.1250 - root_mean_squared_error: 442.2069 - val_loss: 193889.1719 - val_root_mean_squared_error: 440.4199\n",
            "Epoch 79/100\n",
            "252/252 [==============================] - 0s 1ms/step - loss: 196225.4688 - root_mean_squared_error: 442.1821 - val_loss: 193975.5781 - val_root_mean_squared_error: 440.5178\n",
            "Epoch 80/100\n",
            "252/252 [==============================] - 0s 1ms/step - loss: 195831.4688 - root_mean_squared_error: 442.2068 - val_loss: 193915.4375 - val_root_mean_squared_error: 440.4496\n",
            "Epoch 81/100\n",
            "252/252 [==============================] - 0s 1ms/step - loss: 195130.2812 - root_mean_squared_error: 442.1996 - val_loss: 193940.3594 - val_root_mean_squared_error: 440.4778\n",
            "Epoch 82/100\n",
            "252/252 [==============================] - 0s 1ms/step - loss: 195023.6406 - root_mean_squared_error: 442.1891 - val_loss: 193897.1250 - val_root_mean_squared_error: 440.4290\n",
            "Epoch 83/100\n",
            "252/252 [==============================] - 0s 1ms/step - loss: 195900.7344 - root_mean_squared_error: 442.2090 - val_loss: 193957.5469 - val_root_mean_squared_error: 440.4974\n",
            "Epoch 84/100\n",
            "252/252 [==============================] - 0s 1ms/step - loss: 195513.2500 - root_mean_squared_error: 442.1931 - val_loss: 193885.4062 - val_root_mean_squared_error: 440.4156\n",
            "Epoch 85/100\n",
            "252/252 [==============================] - 0s 1ms/step - loss: 195347.5156 - root_mean_squared_error: 442.1960 - val_loss: 193886.5156 - val_root_mean_squared_error: 440.4169\n",
            "Epoch 86/100\n",
            "252/252 [==============================] - 0s 1ms/step - loss: 195397.1562 - root_mean_squared_error: 442.1949 - val_loss: 193962.2344 - val_root_mean_squared_error: 440.5027\n",
            "Epoch 87/100\n",
            "252/252 [==============================] - 0s 1ms/step - loss: 195129.5938 - root_mean_squared_error: 442.2049 - val_loss: 193906.0781 - val_root_mean_squared_error: 440.4390\n",
            "Epoch 88/100\n",
            "252/252 [==============================] - 0s 1ms/step - loss: 194950.7500 - root_mean_squared_error: 442.1911 - val_loss: 193945.6562 - val_root_mean_squared_error: 440.4839\n",
            "Epoch 89/100\n",
            "252/252 [==============================] - 0s 1ms/step - loss: 196214.3750 - root_mean_squared_error: 442.1750 - val_loss: 193970.1719 - val_root_mean_squared_error: 440.5117\n",
            "Epoch 90/100\n",
            "252/252 [==============================] - 0s 1ms/step - loss: 195033.2656 - root_mean_squared_error: 442.1868 - val_loss: 193892.2969 - val_root_mean_squared_error: 440.4234\n",
            "Epoch 91/100\n",
            "252/252 [==============================] - 0s 1ms/step - loss: 195175.4688 - root_mean_squared_error: 442.1978 - val_loss: 193927.3281 - val_root_mean_squared_error: 440.4630\n",
            "Epoch 92/100\n",
            "252/252 [==============================] - 0s 1ms/step - loss: 196441.2344 - root_mean_squared_error: 442.2035 - val_loss: 193922.0469 - val_root_mean_squared_error: 440.4571\n",
            "Epoch 93/100\n",
            "252/252 [==============================] - 0s 1ms/step - loss: 194947.1094 - root_mean_squared_error: 442.1812 - val_loss: 193907.6094 - val_root_mean_squared_error: 440.4408\n",
            "Epoch 94/100\n",
            "252/252 [==============================] - 0s 1ms/step - loss: 195198.7812 - root_mean_squared_error: 442.2010 - val_loss: 193885.0000 - val_root_mean_squared_error: 440.4153\n",
            "Epoch 95/100\n",
            "252/252 [==============================] - 0s 1ms/step - loss: 195243.7344 - root_mean_squared_error: 442.1929 - val_loss: 193957.7500 - val_root_mean_squared_error: 440.4979\n",
            "Epoch 96/100\n",
            "252/252 [==============================] - 0s 1ms/step - loss: 197159.6875 - root_mean_squared_error: 442.1823 - val_loss: 193909.8281 - val_root_mean_squared_error: 440.4434\n",
            "Epoch 97/100\n",
            "252/252 [==============================] - 0s 1ms/step - loss: 194887.6094 - root_mean_squared_error: 442.1978 - val_loss: 193886.5781 - val_root_mean_squared_error: 440.4170\n",
            "Epoch 98/100\n",
            "252/252 [==============================] - 0s 1ms/step - loss: 196355.3281 - root_mean_squared_error: 442.2085 - val_loss: 193895.0000 - val_root_mean_squared_error: 440.4265\n",
            "Epoch 99/100\n",
            "252/252 [==============================] - 0s 1ms/step - loss: 195749.0938 - root_mean_squared_error: 442.1946 - val_loss: 193891.3906 - val_root_mean_squared_error: 440.4225\n",
            "Epoch 100/100\n",
            "252/252 [==============================] - 0s 1ms/step - loss: 195142.0000 - root_mean_squared_error: 442.2021 - val_loss: 193887.1094 - val_root_mean_squared_error: 440.4177\n",
            "1619.8908081054688\n"
          ],
          "name": "stdout"
        },
        {
          "output_type": "display_data",
          "data": {
            "image/png": "[encoded data removed]",
            "text/plain": [
              "<Figure size 432x288 with 1 Axes>"
            ]
          },
          "metadata": {
            "tags": []
          }
        }
      ]
    },
    {
      "cell_type": "markdown",
      "metadata": {
        "id": "lkkojeqB9JFJ",
        "colab_type": "text"
      },
      "source": [
        "100 epochs is too large, so we decided with 50 epochs as executed in the training run.<br>\n",
        "learning_rate = 0.5<br>\n",
        "epochs = 50<br>\n",
        "batch_size = 100<br>"
      ]
    },
    {
      "cell_type": "code",
      "metadata": {
        "id": "GbNY2bkqNAS6",
        "colab_type": "code",
        "colab": {
          "base_uri": "https://localhost:8080/",
          "height": 51
        },
        "outputId": "df8e3e12-71d3-4577-f9c6-cad57e4b7f6d"
      },
      "source": [
        "#@title Define the functions that build and train a model\n",
        "def build_model(my_learning_rate):\n",
        "  \"\"\"Create and compile a simple linear regression model.\"\"\"\n",
        "  # Most simple tf.keras models are sequential.\n",
        "  model = tf.keras.models.Sequential()\n",
        "\n",
        "  # Describe the topography of the model.\n",
        "  # The topography of a simple linear regression model\n",
        "  # is a single node in a single layer.\n",
        "  model.add(tf.keras.layers.Dense(units=1, \n",
        "                                  input_shape=(1,)))\n",
        "\n",
        "  # Compile the model topography into code that TensorFlow can efficiently\n",
        "  # execute. Configure training to minimize the model's mean squared error. \n",
        "  model.compile(optimizer=tf.keras.optimizers.RMSprop(lr=my_learning_rate),\n",
        "                loss=\"mean_squared_error\",\n",
        "                metrics=[tf.keras.metrics.RootMeanSquaredError()])\n",
        "\n",
        "  return model        \n",
        "\n",
        "\n",
        "def train_model(model, df, feature, label, epochs, batch_size):\n",
        "  \"\"\"Train the model by feeding it data.\"\"\"\n",
        "\n",
        "  # Feed the model the feature and the label.\n",
        "  # The model will train for the specified number of epochs. \n",
        "  history = model.fit(x=df[feature],\n",
        "                      y=df[label],\n",
        "                      batch_size=batch_size,\n",
        "                      epochs=epochs)\n",
        "\n",
        "  # Gather the trained model's weight and bias.\n",
        "  trained_weight = model.get_weights()[0]\n",
        "  trained_bias = model.get_weights()[1]\n",
        "\n",
        "  # The list of epochs is stored separately from the rest of history.\n",
        "  epochs = history.epoch\n",
        "  \n",
        "  # Isolate the error for each epoch.\n",
        "  hist = pd.DataFrame(history.history)\n",
        "\n",
        "  # To track the progression of training, we're going to take a snapshot\n",
        "  # of the model's root mean squared error at each epoch. \n",
        "  rmse = hist[\"root_mean_squared_error\"]\n",
        "\n",
        "  return trained_weight, trained_bias, epochs, rmse\n",
        "\n",
        "print(\"Defined the create_model and traing_model functions.\")\n",
        "\n",
        "#@title Define the plotting functions\n",
        "def plot_the_model(trained_weight, trained_bias, feature, label):\n",
        "  \"\"\"Plot the trained model against 200 random training examples.\"\"\"\n",
        "\n",
        "  # Label the axes.\n",
        "  plt.xlabel(feature)\n",
        "  plt.ylabel(label)\n",
        "\n",
        "  # Create a scatter plot from 200 random points of the dataset.\n",
        "  random_examples = train_df.sample(n=10000)\n",
        "  plt.scatter(random_examples[feature], random_examples[label])\n",
        "\n",
        "  # Create a red line representing the model. The red line starts\n",
        "  # at coordinates (x0, y0) and ends at coordinates (x1, y1).\n",
        "  x0 = 0\n",
        "  y0 = trained_bias\n",
        "  x1 = 1\n",
        "  y1 = trained_bias + (trained_weight * x1)\n",
        "  plt.plot([x0, x1], [y0, y1], c='r')\n",
        "\n",
        "  # Render the scatter plot and the red line.\n",
        "  plt.show()\n",
        "\n",
        "\n",
        "def plot_the_loss_curve(epochs, rmse):\n",
        "  \"\"\"Plot a curve of loss vs. epoch.\"\"\"\n",
        "\n",
        "  plt.figure()\n",
        "  plt.xlabel(\"Epoch\")\n",
        "  plt.ylabel(\"Root Mean Squared Error\")\n",
        "\n",
        "  plt.plot(epochs, rmse, label=\"Loss\")\n",
        "  plt.legend()\n",
        "  plt.ylim([rmse.min()*0.97, rmse.max()])\n",
        "  plt.show()  \n",
        "\n",
        "print(\"Defined the plot_the_model and plot_the_loss_curve functions.\")"
      ],
      "execution_count": 179,
      "outputs": [
        {
          "output_type": "stream",
          "text": [
            "Defined the create_model and traing_model functions.\n",
            "Defined the plot_the_model and plot_the_loss_curve functions.\n"
          ],
          "name": "stdout"
        }
      ]
    },
    {
      "cell_type": "code",
      "metadata": {
        "id": "BooFik-JGI_4",
        "colab_type": "code",
        "outputId": "6499ee13-7ffb-4e52-bdf6-bd4919a0a200",
        "colab": {
          "base_uri": "https://localhost:8080/",
          "height": 1000
        }
      },
      "source": [
        "# The following variables are the hyperparameters.\n",
        "learning_rate = 0.5\n",
        "epochs = 50\n",
        "batch_size = 100\n",
        "\n",
        "# Specify the feature and the label.\n",
        "my_feature = \"carat\"  # carat value.\n",
        "my_label=\"price\" # the price value for that specific diamond.\n",
        "# We're predicting diamond price based on carat value\n",
        "\n",
        "# Discard any pre-existing version of the model.\n",
        "my_model = None\n",
        "\n",
        "# Invoke the functions.\n",
        "my_model = build_model(learning_rate)\n",
        "weight, bias, epochs, rmse = train_model(my_model, train_df, \n",
        "                                         my_feature, my_label,\n",
        "                                         epochs, batch_size)\n",
        "\n",
        "print(\"\\nThe learned weight for your model is %.4f\" % weight)\n",
        "print(\"The learned bias for your model is %.4f\\n\" % bias )\n",
        "\n",
        "plot_the_model(weight, bias, my_feature, my_label)\n",
        "plot_the_loss_curve(epochs, rmse)"
      ],
      "execution_count": 180,
      "outputs": [
        {
          "output_type": "stream",
          "text": [
            "Epoch 1/50\n",
            "314/314 [==============================] - 0s 1ms/step - loss: 4910186.5000 - root_mean_squared_error: 2216.0000\n",
            "Epoch 2/50\n",
            "314/314 [==============================] - 0s 1ms/step - loss: 3993876.7500 - root_mean_squared_error: 1998.5975\n",
            "Epoch 3/50\n",
            "314/314 [==============================] - 0s 989us/step - loss: 3206404.5000 - root_mean_squared_error: 1790.6520\n",
            "Epoch 4/50\n",
            "314/314 [==============================] - 0s 1ms/step - loss: 2542169.2500 - root_mean_squared_error: 1594.4524\n",
            "Epoch 5/50\n",
            "314/314 [==============================] - 0s 968us/step - loss: 2002130.1250 - root_mean_squared_error: 1415.0731\n",
            "Epoch 6/50\n",
            "314/314 [==============================] - 0s 982us/step - loss: 1585613.0000 - root_mean_squared_error: 1259.2235\n",
            "Epoch 7/50\n",
            "314/314 [==============================] - 0s 955us/step - loss: 1291775.5000 - root_mean_squared_error: 1136.6019\n",
            "Epoch 8/50\n",
            "314/314 [==============================] - 0s 1ms/step - loss: 1118320.1250 - root_mean_squared_error: 1057.5316\n",
            "Epoch 9/50\n",
            "314/314 [==============================] - 0s 984us/step - loss: 1031428.0625 - root_mean_squared_error: 1015.6390\n",
            "Epoch 10/50\n",
            "314/314 [==============================] - 0s 1ms/step - loss: 964640.8125 - root_mean_squared_error: 982.2484\n",
            "Epoch 11/50\n",
            "314/314 [==============================] - 0s 1ms/step - loss: 900780.4375 - root_mean_squared_error: 949.1103\n",
            "Epoch 12/50\n",
            "314/314 [==============================] - 0s 942us/step - loss: 839466.0625 - root_mean_squared_error: 916.2515\n",
            "Epoch 13/50\n",
            "314/314 [==============================] - 0s 997us/step - loss: 781301.6250 - root_mean_squared_error: 883.9362\n",
            "Epoch 14/50\n",
            "314/314 [==============================] - 0s 983us/step - loss: 725048.5625 - root_mean_squared_error: 851.4598\n",
            "Epoch 15/50\n",
            "314/314 [==============================] - 0s 940us/step - loss: 671352.4375 - root_mean_squared_error: 819.3999\n",
            "Epoch 16/50\n",
            "314/314 [==============================] - 0s 943us/step - loss: 621499.1250 - root_mean_squared_error: 788.4415\n",
            "Epoch 17/50\n",
            "314/314 [==============================] - 0s 1ms/step - loss: 574813.1250 - root_mean_squared_error: 758.1395\n",
            "Epoch 18/50\n",
            "314/314 [==============================] - 0s 984us/step - loss: 530581.0625 - root_mean_squared_error: 728.4208\n",
            "Epoch 19/50\n",
            "314/314 [==============================] - 0s 1ms/step - loss: 489038.8750 - root_mean_squared_error: 699.2997\n",
            "Epoch 20/50\n",
            "314/314 [==============================] - 0s 1ms/step - loss: 449841.2188 - root_mean_squared_error: 670.6522\n",
            "Epoch 21/50\n",
            "314/314 [==============================] - 0s 1ms/step - loss: 415245.9688 - root_mean_squared_error: 644.4232\n",
            "Epoch 22/50\n",
            "314/314 [==============================] - 0s 999us/step - loss: 383125.0312 - root_mean_squared_error: 618.9889\n",
            "Epoch 23/50\n",
            "314/314 [==============================] - 0s 994us/step - loss: 353969.1875 - root_mean_squared_error: 594.9526\n",
            "Epoch 24/50\n",
            "314/314 [==============================] - 0s 1ms/step - loss: 327524.4375 - root_mean_squared_error: 572.3410\n",
            "Epoch 25/50\n",
            "314/314 [==============================] - 0s 1000us/step - loss: 303784.4688 - root_mean_squared_error: 551.1636\n",
            "Epoch 26/50\n",
            "314/314 [==============================] - 0s 978us/step - loss: 283480.0000 - root_mean_squared_error: 532.4554\n",
            "Epoch 27/50\n",
            "314/314 [==============================] - 0s 992us/step - loss: 265439.0000 - root_mean_squared_error: 515.1949\n",
            "Epoch 28/50\n",
            "314/314 [==============================] - 0s 937us/step - loss: 250008.5938 - root_mean_squared_error: 500.0309\n",
            "Epoch 29/50\n",
            "314/314 [==============================] - 0s 1ms/step - loss: 236956.8906 - root_mean_squared_error: 486.8333\n",
            "Epoch 30/50\n",
            "314/314 [==============================] - 0s 1ms/step - loss: 226753.5469 - root_mean_squared_error: 476.1973\n",
            "Epoch 31/50\n",
            "314/314 [==============================] - 0s 948us/step - loss: 218494.7812 - root_mean_squared_error: 467.4441\n",
            "Epoch 32/50\n",
            "314/314 [==============================] - 0s 956us/step - loss: 212090.3125 - root_mean_squared_error: 460.5385\n",
            "Epoch 33/50\n",
            "314/314 [==============================] - 0s 995us/step - loss: 207160.5469 - root_mean_squared_error: 455.1630\n",
            "Epoch 34/50\n",
            "314/314 [==============================] - 0s 948us/step - loss: 203718.9844 - root_mean_squared_error: 451.4019\n",
            "Epoch 35/50\n",
            "314/314 [==============================] - 0s 990us/step - loss: 201163.7031 - root_mean_squared_error: 448.4786\n",
            "Epoch 36/50\n",
            "314/314 [==============================] - 0s 975us/step - loss: 199279.2812 - root_mean_squared_error: 446.4458\n",
            "Epoch 37/50\n",
            "314/314 [==============================] - 0s 1ms/step - loss: 198048.3125 - root_mean_squared_error: 445.0417\n",
            "Epoch 38/50\n",
            "314/314 [==============================] - 0s 957us/step - loss: 197149.2031 - root_mean_squared_error: 444.0206\n",
            "Epoch 39/50\n",
            "314/314 [==============================] - 0s 981us/step - loss: 196547.6406 - root_mean_squared_error: 443.3220\n",
            "Epoch 40/50\n",
            "314/314 [==============================] - 0s 968us/step - loss: 196202.8906 - root_mean_squared_error: 442.8727\n",
            "Epoch 41/50\n",
            "314/314 [==============================] - 0s 967us/step - loss: 195814.8438 - root_mean_squared_error: 442.5576\n",
            "Epoch 42/50\n",
            "314/314 [==============================] - 0s 952us/step - loss: 195641.3438 - root_mean_squared_error: 442.3231\n",
            "Epoch 43/50\n",
            "314/314 [==============================] - 0s 1ms/step - loss: 195564.0625 - root_mean_squared_error: 442.1533\n",
            "Epoch 44/50\n",
            "314/314 [==============================] - 0s 1ms/step - loss: 195415.9844 - root_mean_squared_error: 442.0555\n",
            "Epoch 45/50\n",
            "314/314 [==============================] - 0s 947us/step - loss: 195388.6562 - root_mean_squared_error: 441.9875\n",
            "Epoch 46/50\n",
            "314/314 [==============================] - 0s 983us/step - loss: 195292.0469 - root_mean_squared_error: 441.9465\n",
            "Epoch 47/50\n",
            "314/314 [==============================] - 0s 916us/step - loss: 195231.1406 - root_mean_squared_error: 441.9106\n",
            "Epoch 48/50\n",
            "314/314 [==============================] - 0s 989us/step - loss: 195259.8906 - root_mean_squared_error: 441.8448\n",
            "Epoch 49/50\n",
            "314/314 [==============================] - 0s 947us/step - loss: 195265.7188 - root_mean_squared_error: 441.8779\n",
            "Epoch 50/50\n",
            "314/314 [==============================] - 0s 1ms/step - loss: 195257.4844 - root_mean_squared_error: 441.8729\n",
            "\n",
            "The learned weight for your model is 4823.5879\n",
            "The learned bias for your model is -845.8675\n",
            "\n"
          ],
          "name": "stdout"
        },
        {
          "output_type": "display_data",
          "data": {
            "image/png": "[encoded data removed]",
            "text/plain": [
              "<Figure size 432x288 with 1 Axes>"
            ]
          },
          "metadata": {
            "tags": []
          }
        },
        {
          "output_type": "display_data",
          "data": {
            "image/png": "[encoded data removed]",
            "text/plain": [
              "<Figure size 432x288 with 1 Axes>"
            ]
          },
          "metadata": {
            "tags": []
          }
        }
      ]
    },
    {
      "cell_type": "code",
      "metadata": {
        "id": "zYoTwKs5NKBS",
        "colab_type": "code",
        "colab": {
          "base_uri": "https://localhost:8080/",
          "height": 34
        },
        "outputId": "453cb12b-8abd-45a9-ec64-5df625100770"
      },
      "source": [
        "my_feature"
      ],
      "execution_count": 181,
      "outputs": [
        {
          "output_type": "execute_result",
          "data": {
            "text/plain": [
              "'carat'"
            ]
          },
          "metadata": {
            "tags": []
          },
          "execution_count": 181
        }
      ]
    },
    {
      "cell_type": "markdown",
      "metadata": {
        "id": "w5YkErBA7Nmy",
        "colab_type": "text"
      },
      "source": [
        "With only carat value we did not reach minimum loss, although this model has converged. This could be caused by the large size of data and large variability that makes it difficult for the model to learn from. Besides, we also need to take into account the volume of the diamond, so that's what we're going to do next."
      ]
    },
    {
      "cell_type": "markdown",
      "metadata": {
        "id": "tkldCqUI42Bp",
        "colab_type": "text"
      },
      "source": [
        "<h1>Adding a second feature (volume) with feature crosses</h1>"
      ]
    },
    {
      "cell_type": "code",
      "metadata": {
        "id": "mSayOk7qBB0W",
        "colab_type": "code",
        "colab": {
          "base_uri": "https://localhost:8080/",
          "height": 34
        },
        "outputId": "b474cf7c-fc53-49f6-c9ad-3fa6107066ed"
      },
      "source": [
        "#@title Define functions to create and train a model, and a plotting function\n",
        "def create_model(my_learning_rate, feature_layer):\n",
        "  \"\"\"Create and compile a simple linear regression model.\"\"\"\n",
        "  # Most simple tf.keras models are sequential.\n",
        "  model = tf.keras.models.Sequential()\n",
        "\n",
        "  # Add the layer containing the feature columns to the model.\n",
        "  model.add(feature_layer)\n",
        "\n",
        "  # Add one linear layer to the model to yield a simple linear regressor.\n",
        "  model.add(tf.keras.layers.Dense(units=1, input_shape=(1,)))\n",
        "\n",
        "  # Construct the layers into a model that TensorFlow can execute.\n",
        "  model.compile(optimizer=tf.keras.optimizers.RMSprop(lr=my_learning_rate),\n",
        "                loss=\"mean_squared_error\",\n",
        "                metrics=[tf.keras.metrics.RootMeanSquaredError()])\n",
        "\n",
        "  return model           \n",
        "\n",
        "\n",
        "def train_model(model, dataset, epochs, batch_size, label_name):\n",
        "  \"\"\"Feed a dataset into the model in order to train it.\"\"\"\n",
        "\n",
        "  features = {name:np.array(value) for name, value in dataset.items()}\n",
        "  label = np.array(features.pop(label_name))\n",
        "  history = model.fit(x=features, y=label, batch_size=batch_size,\n",
        "                      epochs=epochs, shuffle=True)\n",
        "\n",
        "  # The list of epochs is stored separately from the rest of history.\n",
        "  epochs = history.epoch\n",
        "  \n",
        "  # Isolate the mean absolute error for each epoch.\n",
        "  hist = pd.DataFrame(history.history)\n",
        "  rmse = hist[\"root_mean_squared_error\"]\n",
        "\n",
        "  return epochs, rmse   \n",
        "\n",
        "\n",
        "def plot_the_loss_curve(epochs, rmse):\n",
        "  \"\"\"Plot a curve of loss vs. epoch.\"\"\"\n",
        "\n",
        "  plt.figure()\n",
        "  plt.xlabel(\"Epoch\")\n",
        "  plt.ylabel(\"Root Mean Squared Error\")\n",
        "\n",
        "  plt.plot(epochs, rmse, label=\"Loss\")\n",
        "  plt.legend()\n",
        "  plt.ylim([rmse.min()*0.94, rmse.max()* 1.05])\n",
        "  plt.show()  \n",
        "\n",
        "print(\"Defined the create_model, train_model, and plot_the_loss_curve functions.\")"
      ],
      "execution_count": 184,
      "outputs": [
        {
          "output_type": "stream",
          "text": [
            "Defined the create_model, train_model, and plot_the_loss_curve functions.\n"
          ],
          "name": "stdout"
        }
      ]
    },
    {
      "cell_type": "code",
      "metadata": {
        "id": "9n9_cTveKmse",
        "colab_type": "code",
        "cellView": "both",
        "colab": {
          "base_uri": "https://localhost:8080/",
          "height": 34
        },
        "outputId": "6fb0dbf9-2f4c-48fc-ef6a-1fdccd48cae6"
      },
      "source": [
        "#@title Load the imports\n",
        "\n",
        "# from __future__ import absolute_import, division, print_function, unicode_literals\n",
        "\n",
        "import numpy as np\n",
        "import pandas as pd\n",
        "import tensorflow as tf\n",
        "from tensorflow import feature_column\n",
        "from tensorflow.keras import layers\n",
        "\n",
        "from matplotlib import pyplot as plt\n",
        "\n",
        "# The following lines adjust the granularity of reporting.\n",
        "pd.options.display.max_rows = 10\n",
        "pd.options.display.float_format = \"{:.1f}\".format\n",
        "\n",
        "tf.keras.backend.set_floatx('float32')\n",
        "\n",
        "print(\"Imported the modules.\")"
      ],
      "execution_count": 185,
      "outputs": [
        {
          "output_type": "stream",
          "text": [
            "Imported the modules.\n"
          ],
          "name": "stdout"
        }
      ]
    },
    {
      "cell_type": "code",
      "metadata": {
        "id": "P6yWFD185Yrz",
        "colab_type": "code",
        "colab": {
          "base_uri": "https://localhost:8080/",
          "height": 419
        },
        "outputId": "6afe6848-6c85-40b1-d4c9-68e2ad287a07"
      },
      "source": [
        "df = df_raw[['carat', 'price', 'x', 'y', 'z']].copy()\n",
        "df = df.loc[df['price']<=5000]\n",
        "df['price'] = df['price']/100\n",
        "df"
      ],
      "execution_count": 186,
      "outputs": [
        {
          "output_type": "execute_result",
          "data": {
            "text/html": [
              "<div>\n",
              "<style scoped>\n",
              "    .dataframe tbody tr th:only-of-type {\n",
              "        vertical-align: middle;\n",
              "    }\n",
              "\n",
              "    .dataframe tbody tr th {\n",
              "        vertical-align: top;\n",
              "    }\n",
              "\n",
              "    .dataframe thead th {\n",
              "        text-align: right;\n",
              "    }\n",
              "</style>\n",
              "<table border=\"1\" class=\"dataframe\">\n",
              "  <thead>\n",
              "    <tr style=\"text-align: right;\">\n",
              "      <th></th>\n",
              "      <th>carat</th>\n",
              "      <th>price</th>\n",
              "      <th>x</th>\n",
              "      <th>y</th>\n",
              "      <th>z</th>\n",
              "    </tr>\n",
              "  </thead>\n",
              "  <tbody>\n",
              "    <tr>\n",
              "      <th>0</th>\n",
              "      <td>0.2</td>\n",
              "      <td>3.3</td>\n",
              "      <td>4.0</td>\n",
              "      <td>4.0</td>\n",
              "      <td>2.4</td>\n",
              "    </tr>\n",
              "    <tr>\n",
              "      <th>1</th>\n",
              "      <td>0.2</td>\n",
              "      <td>3.3</td>\n",
              "      <td>3.9</td>\n",
              "      <td>3.8</td>\n",
              "      <td>2.3</td>\n",
              "    </tr>\n",
              "    <tr>\n",
              "      <th>2</th>\n",
              "      <td>0.2</td>\n",
              "      <td>3.3</td>\n",
              "      <td>4.0</td>\n",
              "      <td>4.1</td>\n",
              "      <td>2.3</td>\n",
              "    </tr>\n",
              "    <tr>\n",
              "      <th>3</th>\n",
              "      <td>0.3</td>\n",
              "      <td>3.3</td>\n",
              "      <td>4.2</td>\n",
              "      <td>4.2</td>\n",
              "      <td>2.6</td>\n",
              "    </tr>\n",
              "    <tr>\n",
              "      <th>4</th>\n",
              "      <td>0.3</td>\n",
              "      <td>3.4</td>\n",
              "      <td>4.3</td>\n",
              "      <td>4.3</td>\n",
              "      <td>2.8</td>\n",
              "    </tr>\n",
              "    <tr>\n",
              "      <th>...</th>\n",
              "      <td>...</td>\n",
              "      <td>...</td>\n",
              "      <td>...</td>\n",
              "      <td>...</td>\n",
              "      <td>...</td>\n",
              "    </tr>\n",
              "    <tr>\n",
              "      <th>53935</th>\n",
              "      <td>0.7</td>\n",
              "      <td>27.6</td>\n",
              "      <td>5.8</td>\n",
              "      <td>5.8</td>\n",
              "      <td>3.5</td>\n",
              "    </tr>\n",
              "    <tr>\n",
              "      <th>53936</th>\n",
              "      <td>0.7</td>\n",
              "      <td>27.6</td>\n",
              "      <td>5.7</td>\n",
              "      <td>5.8</td>\n",
              "      <td>3.6</td>\n",
              "    </tr>\n",
              "    <tr>\n",
              "      <th>53937</th>\n",
              "      <td>0.7</td>\n",
              "      <td>27.6</td>\n",
              "      <td>5.7</td>\n",
              "      <td>5.7</td>\n",
              "      <td>3.6</td>\n",
              "    </tr>\n",
              "    <tr>\n",
              "      <th>53938</th>\n",
              "      <td>0.9</td>\n",
              "      <td>27.6</td>\n",
              "      <td>6.2</td>\n",
              "      <td>6.1</td>\n",
              "      <td>3.7</td>\n",
              "    </tr>\n",
              "    <tr>\n",
              "      <th>53939</th>\n",
              "      <td>0.8</td>\n",
              "      <td>27.6</td>\n",
              "      <td>5.8</td>\n",
              "      <td>5.9</td>\n",
              "      <td>3.6</td>\n",
              "    </tr>\n",
              "  </tbody>\n",
              "</table>\n",
              "<p>39226 rows × 5 columns</p>\n",
              "</div>"
            ],
            "text/plain": [
              "       carat  price   x   y   z\n",
              "0        0.2    3.3 4.0 4.0 2.4\n",
              "1        0.2    3.3 3.9 3.8 2.3\n",
              "2        0.2    3.3 4.0 4.1 2.3\n",
              "3        0.3    3.3 4.2 4.2 2.6\n",
              "4        0.3    3.4 4.3 4.3 2.8\n",
              "...      ...    ...  ..  ..  ..\n",
              "53935    0.7   27.6 5.8 5.8 3.5\n",
              "53936    0.7   27.6 5.7 5.8 3.6\n",
              "53937    0.7   27.6 5.7 5.7 3.6\n",
              "53938    0.9   27.6 6.2 6.1 3.7\n",
              "53939    0.8   27.6 5.8 5.9 3.6\n",
              "\n",
              "[39226 rows x 5 columns]"
            ]
          },
          "metadata": {
            "tags": []
          },
          "execution_count": 186
        }
      ]
    },
    {
      "cell_type": "code",
      "metadata": {
        "id": "rPmSc5Zk-v7k",
        "colab_type": "code",
        "colab": {}
      },
      "source": [
        "from sklearn.model_selection import train_test_split\n",
        "train_df, test_df = train_test_split(df, test_size=0.2)"
      ],
      "execution_count": 0,
      "outputs": []
    },
    {
      "cell_type": "code",
      "metadata": {
        "id": "ori6XYQt49ap",
        "colab_type": "code",
        "colab": {}
      },
      "source": [
        "resolution_in_degrees = 1.0 \n",
        "\n",
        "# Create a new empty list that will eventually hold the generated feature column.\n",
        "feature_columns = []\n",
        "\n",
        "# Create a bucket feature column for x.\n",
        "x_as_a_numeric_column = tf.feature_column.numeric_column(\"x\")\n",
        "x_boundaries = list(np.arange(int(min(train_df['x'])), int(max(train_df['x'])), resolution_in_degrees))\n",
        "x = tf.feature_column.bucketized_column(x_as_a_numeric_column, x_boundaries)\n",
        "\n",
        "# Create a bucket feature column for y.\n",
        "y_as_a_numeric_column = tf.feature_column.numeric_column(\"y\")\n",
        "y_boundaries = list(np.arange(int(min(train_df['y'])), int(max(train_df['y'])), resolution_in_degrees))\n",
        "y = tf.feature_column.bucketized_column(y_as_a_numeric_column, y_boundaries)\n",
        "\n",
        "# Create a bucket feature column for z.\n",
        "z_as_a_numeric_column = tf.feature_column.numeric_column(\"z\")\n",
        "z_boundaries = list(np.arange(int(min(train_df['z'])), int(max(train_df['z'])), resolution_in_degrees))\n",
        "z = tf.feature_column.bucketized_column(z_as_a_numeric_column, z_boundaries)\n",
        "\n",
        "# Create a bucket feature column for carat.\n",
        "carat_as_a_numeric_column = tf.feature_column.numeric_column(\"carat\")\n",
        "carat_boundaries = list(np.arange(int(min(train_df['carat'])), int(max(train_df['carat'])), resolution_in_degrees))\n",
        "carat = tf.feature_column.bucketized_column(carat_as_a_numeric_column, carat_boundaries)\n",
        "\n",
        "# Create a feature cross of latitude and longitude.\n",
        "x_y_z_carat = tf.feature_column.crossed_column([x, y, z, carat], hash_bucket_size=100)\n",
        "crossed_feature = tf.feature_column.indicator_column(x_y_z)\n",
        "feature_columns.append(crossed_feature)\n",
        "\n",
        "# Convert the list of feature columns into a layer that will later be fed into\n",
        "# the model. \n",
        "feature_cross_feature_layer = layers.DenseFeatures(feature_columns)"
      ],
      "execution_count": 0,
      "outputs": []
    },
    {
      "cell_type": "code",
      "metadata": {
        "id": "K1wUOndgAPhu",
        "colab_type": "code",
        "colab": {
          "base_uri": "https://localhost:8080/",
          "height": 687
        },
        "outputId": "c544d693-c09d-46bf-b6f7-d96188ac5138"
      },
      "source": [
        "# The following variables are the hyperparameters.\n",
        "learning_rate = 0.04\n",
        "epochs = 10\n",
        "batch_size = 100\n",
        "label_name = \"price\"\n",
        "\n",
        "\n",
        "# Build the model, this time passing in the feature_cross_feature_layer: \n",
        "my_model = create_model(learning_rate, feature_cross_feature_layer)\n",
        "\n",
        "# Train the model on the training set.\n",
        "epochs, rmse = train_model(my_model, train_df, epochs, batch_size, label_name)\n",
        "\n",
        "plot_the_loss_curve(epochs, rmse)\n",
        "\n",
        "print(\"\\n: Evaluate the new model against the test set:\")\n",
        "test_features = {name:np.array(value) for name, value in test_df.items()}\n",
        "test_label = np.array(test_features.pop(label_name))\n",
        "my_model.evaluate(x=test_features, y=test_label, batch_size=batch_size)"
      ],
      "execution_count": 189,
      "outputs": [
        {
          "output_type": "stream",
          "text": [
            "Epoch 1/10\n",
            "314/314 [==============================] - 0s 1ms/step - loss: 240.1918 - root_mean_squared_error: 15.5013\n",
            "Epoch 2/10\n",
            "314/314 [==============================] - 0s 1ms/step - loss: 49.6701 - root_mean_squared_error: 7.0487\n",
            "Epoch 3/10\n",
            "314/314 [==============================] - 0s 1ms/step - loss: 37.5815 - root_mean_squared_error: 6.1289\n",
            "Epoch 4/10\n",
            "314/314 [==============================] - 1s 2ms/step - loss: 37.1748 - root_mean_squared_error: 6.0975\n",
            "Epoch 5/10\n",
            "314/314 [==============================] - 0s 1ms/step - loss: 37.0313 - root_mean_squared_error: 6.0853\n",
            "Epoch 6/10\n",
            "314/314 [==============================] - 0s 1ms/step - loss: 36.9627 - root_mean_squared_error: 6.0801\n",
            "Epoch 7/10\n",
            "314/314 [==============================] - 0s 1ms/step - loss: 36.9359 - root_mean_squared_error: 6.0781\n",
            "Epoch 8/10\n",
            "314/314 [==============================] - 0s 1ms/step - loss: 36.9166 - root_mean_squared_error: 6.0760\n",
            "Epoch 9/10\n",
            "314/314 [==============================] - 0s 1ms/step - loss: 36.9104 - root_mean_squared_error: 6.0755\n",
            "Epoch 10/10\n",
            "314/314 [==============================] - 0s 1ms/step - loss: 36.8968 - root_mean_squared_error: 6.0749\n"
          ],
          "name": "stdout"
        },
        {
          "output_type": "display_data",
          "data": {
            "image/png": "[encoded data removed]",
            "text/plain": [
              "<Figure size 432x288 with 1 Axes>"
            ]
          },
          "metadata": {
            "tags": []
          }
        },
        {
          "output_type": "stream",
          "text": [
            "\n",
            ": Evaluate the new model against the test set:\n",
            "79/79 [==============================] - 0s 1ms/step - loss: 40.6352 - root_mean_squared_error: 6.3592\n"
          ],
          "name": "stdout"
        },
        {
          "output_type": "execute_result",
          "data": {
            "text/plain": [
              "[40.63518142700195, 6.359236240386963]"
            ]
          },
          "metadata": {
            "tags": []
          },
          "execution_count": 189
        }
      ]
    },
    {
      "cell_type": "markdown",
      "metadata": {
        "id": "FyshPEtqUnDe",
        "colab_type": "text"
      },
      "source": [
        "<h1>Conclusion</h1>"
      ]
    },
    {
      "cell_type": "markdown",
      "metadata": {
        "id": "wa5S8E_3UpY2",
        "colab_type": "text"
      },
      "source": [
        "Using only carat value to predict diamond price is not very accurate, because we also need to take into account the size or volume of the particular diamond. By using the binned feature crosses, we managed to minimal the loss value to approximately 40. This way, our model is deemed to be successful according to our success metric."
      ]
    }
  ]
}