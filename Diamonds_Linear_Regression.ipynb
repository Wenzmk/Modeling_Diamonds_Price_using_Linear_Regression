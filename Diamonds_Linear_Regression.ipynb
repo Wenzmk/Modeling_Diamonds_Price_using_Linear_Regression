{
  "nbformat": 4,
  "nbformat_minor": 0,
  "metadata": {
    "kernelspec": {
      "display_name": "Python 3",
      "language": "python",
      "name": "python3"
    },
    "language_info": {
      "codemirror_mode": {
        "name": "ipython",
        "version": 3
      },
      "file_extension": ".py",
      "mimetype": "text/x-python",
      "name": "python",
      "nbconvert_exporter": "python",
      "pygments_lexer": "ipython3",
      "version": "3.7.3"
    },
    "colab": {
      "name": "Diamonds_Linear_Regression.ipynb",
      "provenance": [],
      "collapsed_sections": [],
      "toc_visible": true
    }
  },
  "cells": [
    {
      "cell_type": "markdown",
      "metadata": {
        "id": "view-in-github",
        "colab_type": "text"
      },
      "source": [
        "<a href=\"https://colab.research.google.com/github/realdanielalexander/diamonds_bangkit/blob/master/Diamonds_Linear_Regression.ipynb\" target=\"_parent\"><img src=\"https://colab.research.google.com/assets/colab-badge.svg\" alt=\"Open In Colab\"/></a>"
      ]
    },
    {
      "cell_type": "markdown",
      "metadata": {
        "id": "7cDmJPn7Xxhf",
        "colab_type": "text"
      },
      "source": [
        "<h1>Bangkit MLCC Project - Diamonds Dataset</h1>\n",
        "<ul>\n",
        "  <li>Daniel Alexander</li>\n",
        "  <li>Mardianto Karim</li>\n",
        "  <li>Natasha Yulian</li>\n",
        "</ul>\n",
        "This code block is taken from the 'Programming Exercise' module on Machine Learning Crash Course."
      ]
    },
    {
      "cell_type": "markdown",
      "metadata": {
        "id": "QpwTLRBCFYCD",
        "colab_type": "text"
      },
      "source": [
        "<h1>Run this colab on tensorflow 2.x</h1>"
      ]
    },
    {
      "cell_type": "code",
      "metadata": {
        "id": "koiKMHgjSK11",
        "colab_type": "code",
        "colab": {}
      },
      "source": [
        "#@title Run this Colab on TensorFlow 2.x\n",
        "%tensorflow_version 2.x"
      ],
      "execution_count": 0,
      "outputs": []
    },
    {
      "cell_type": "markdown",
      "metadata": {
        "id": "9EY8q534SORC",
        "colab_type": "text"
      },
      "source": [
        "<h1>Import relevant libraries</h1>"
      ]
    },
    {
      "cell_type": "code",
      "metadata": {
        "id": "Xg2lB0t7ld82",
        "colab_type": "code",
        "colab": {}
      },
      "source": [
        "import pandas as pd\n",
        "import numpy as np\n",
        "import tensorflow as tf\n",
        "from matplotlib import pyplot as plt"
      ],
      "execution_count": 0,
      "outputs": []
    },
    {
      "cell_type": "markdown",
      "metadata": {
        "id": "q2mUOZC_haTY",
        "colab_type": "text"
      },
      "source": [
        "<h1>Load dataset</h1>"
      ]
    },
    {
      "cell_type": "code",
      "metadata": {
        "id": "hWd66LSPmxAn",
        "colab_type": "code",
        "outputId": "092f1c08-1dea-443d-95a5-0205e76cefef",
        "colab": {
          "resources": {
            "http://localhost:8080/nbextensions/google.colab/files.js": {
              "data": "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",
              "ok": true,
              "headers": [
                [
                  "content-type",
                  "application/javascript"
                ]
              ],
              "status": 200,
              "status_text": ""
            }
          },
          "base_uri": "https://localhost:8080/",
          "height": 74
        }
      },
      "source": [
        "from google.colab import files\n",
        "uploaded = files.upload()\n",
        "import io\n",
        "df = pd.read_csv(io.BytesIO(uploaded['diamonds.csv']))\n",
        "# Dataset is now stored in a Pandas Dataframe"
      ],
      "execution_count": 0,
      "outputs": [
        {
          "output_type": "display_data",
          "data": {
            "text/html": [
              "\n",
              "     <input type=\"file\" id=\"files-1e6f0fa1-1857-4a70-9e22-6241bcd93f19\" name=\"files[]\" multiple disabled />\n",
              "     <output id=\"result-1e6f0fa1-1857-4a70-9e22-6241bcd93f19\">\n",
              "      Upload widget is only available when the cell has been executed in the\n",
              "      current browser session. Please rerun this cell to enable.\n",
              "      </output>\n",
              "      <script src=\"/nbextensions/google.colab/files.js\"></script> "
            ],
            "text/plain": [
              "<IPython.core.display.HTML object>"
            ]
          },
          "metadata": {
            "tags": []
          }
        },
        {
          "output_type": "stream",
          "text": [
            "Saving diamonds.csv to diamonds (2).csv\n"
          ],
          "name": "stdout"
        }
      ]
    },
    {
      "cell_type": "code",
      "metadata": {
        "id": "MFepjTct9v3n",
        "colab_type": "code",
        "outputId": "2ed1688e-c513-4017-9cd8-ac720a41441d",
        "colab": {
          "base_uri": "https://localhost:8080/",
          "height": 419
        }
      },
      "source": [
        "df_raw = pd.read_csv('diamonds.csv')\n",
        "df_raw"
      ],
      "execution_count": 0,
      "outputs": [
        {
          "output_type": "execute_result",
          "data": {
            "text/html": [
              "<div>\n",
              "<style scoped>\n",
              "    .dataframe tbody tr th:only-of-type {\n",
              "        vertical-align: middle;\n",
              "    }\n",
              "\n",
              "    .dataframe tbody tr th {\n",
              "        vertical-align: top;\n",
              "    }\n",
              "\n",
              "    .dataframe thead th {\n",
              "        text-align: right;\n",
              "    }\n",
              "</style>\n",
              "<table border=\"1\" class=\"dataframe\">\n",
              "  <thead>\n",
              "    <tr style=\"text-align: right;\">\n",
              "      <th></th>\n",
              "      <th>Unnamed: 0</th>\n",
              "      <th>carat</th>\n",
              "      <th>cut</th>\n",
              "      <th>color</th>\n",
              "      <th>clarity</th>\n",
              "      <th>depth</th>\n",
              "      <th>table</th>\n",
              "      <th>price</th>\n",
              "      <th>x</th>\n",
              "      <th>y</th>\n",
              "      <th>z</th>\n",
              "    </tr>\n",
              "  </thead>\n",
              "  <tbody>\n",
              "    <tr>\n",
              "      <th>0</th>\n",
              "      <td>1</td>\n",
              "      <td>0.2</td>\n",
              "      <td>Ideal</td>\n",
              "      <td>E</td>\n",
              "      <td>SI2</td>\n",
              "      <td>61.5</td>\n",
              "      <td>55.0</td>\n",
              "      <td>326</td>\n",
              "      <td>4.0</td>\n",
              "      <td>4.0</td>\n",
              "      <td>2.4</td>\n",
              "    </tr>\n",
              "    <tr>\n",
              "      <th>1</th>\n",
              "      <td>2</td>\n",
              "      <td>0.2</td>\n",
              "      <td>Premium</td>\n",
              "      <td>E</td>\n",
              "      <td>SI1</td>\n",
              "      <td>59.8</td>\n",
              "      <td>61.0</td>\n",
              "      <td>326</td>\n",
              "      <td>3.9</td>\n",
              "      <td>3.8</td>\n",
              "      <td>2.3</td>\n",
              "    </tr>\n",
              "    <tr>\n",
              "      <th>2</th>\n",
              "      <td>3</td>\n",
              "      <td>0.2</td>\n",
              "      <td>Good</td>\n",
              "      <td>E</td>\n",
              "      <td>VS1</td>\n",
              "      <td>56.9</td>\n",
              "      <td>65.0</td>\n",
              "      <td>327</td>\n",
              "      <td>4.0</td>\n",
              "      <td>4.1</td>\n",
              "      <td>2.3</td>\n",
              "    </tr>\n",
              "    <tr>\n",
              "      <th>3</th>\n",
              "      <td>4</td>\n",
              "      <td>0.3</td>\n",
              "      <td>Premium</td>\n",
              "      <td>I</td>\n",
              "      <td>VS2</td>\n",
              "      <td>62.4</td>\n",
              "      <td>58.0</td>\n",
              "      <td>334</td>\n",
              "      <td>4.2</td>\n",
              "      <td>4.2</td>\n",
              "      <td>2.6</td>\n",
              "    </tr>\n",
              "    <tr>\n",
              "      <th>4</th>\n",
              "      <td>5</td>\n",
              "      <td>0.3</td>\n",
              "      <td>Good</td>\n",
              "      <td>J</td>\n",
              "      <td>SI2</td>\n",
              "      <td>63.3</td>\n",
              "      <td>58.0</td>\n",
              "      <td>335</td>\n",
              "      <td>4.3</td>\n",
              "      <td>4.3</td>\n",
              "      <td>2.8</td>\n",
              "    </tr>\n",
              "    <tr>\n",
              "      <th>...</th>\n",
              "      <td>...</td>\n",
              "      <td>...</td>\n",
              "      <td>...</td>\n",
              "      <td>...</td>\n",
              "      <td>...</td>\n",
              "      <td>...</td>\n",
              "      <td>...</td>\n",
              "      <td>...</td>\n",
              "      <td>...</td>\n",
              "      <td>...</td>\n",
              "      <td>...</td>\n",
              "    </tr>\n",
              "    <tr>\n",
              "      <th>53935</th>\n",
              "      <td>53936</td>\n",
              "      <td>0.7</td>\n",
              "      <td>Ideal</td>\n",
              "      <td>D</td>\n",
              "      <td>SI1</td>\n",
              "      <td>60.8</td>\n",
              "      <td>57.0</td>\n",
              "      <td>2757</td>\n",
              "      <td>5.8</td>\n",
              "      <td>5.8</td>\n",
              "      <td>3.5</td>\n",
              "    </tr>\n",
              "    <tr>\n",
              "      <th>53936</th>\n",
              "      <td>53937</td>\n",
              "      <td>0.7</td>\n",
              "      <td>Good</td>\n",
              "      <td>D</td>\n",
              "      <td>SI1</td>\n",
              "      <td>63.1</td>\n",
              "      <td>55.0</td>\n",
              "      <td>2757</td>\n",
              "      <td>5.7</td>\n",
              "      <td>5.8</td>\n",
              "      <td>3.6</td>\n",
              "    </tr>\n",
              "    <tr>\n",
              "      <th>53937</th>\n",
              "      <td>53938</td>\n",
              "      <td>0.7</td>\n",
              "      <td>Very Good</td>\n",
              "      <td>D</td>\n",
              "      <td>SI1</td>\n",
              "      <td>62.8</td>\n",
              "      <td>60.0</td>\n",
              "      <td>2757</td>\n",
              "      <td>5.7</td>\n",
              "      <td>5.7</td>\n",
              "      <td>3.6</td>\n",
              "    </tr>\n",
              "    <tr>\n",
              "      <th>53938</th>\n",
              "      <td>53939</td>\n",
              "      <td>0.9</td>\n",
              "      <td>Premium</td>\n",
              "      <td>H</td>\n",
              "      <td>SI2</td>\n",
              "      <td>61.0</td>\n",
              "      <td>58.0</td>\n",
              "      <td>2757</td>\n",
              "      <td>6.2</td>\n",
              "      <td>6.1</td>\n",
              "      <td>3.7</td>\n",
              "    </tr>\n",
              "    <tr>\n",
              "      <th>53939</th>\n",
              "      <td>53940</td>\n",
              "      <td>0.8</td>\n",
              "      <td>Ideal</td>\n",
              "      <td>D</td>\n",
              "      <td>SI2</td>\n",
              "      <td>62.2</td>\n",
              "      <td>55.0</td>\n",
              "      <td>2757</td>\n",
              "      <td>5.8</td>\n",
              "      <td>5.9</td>\n",
              "      <td>3.6</td>\n",
              "    </tr>\n",
              "  </tbody>\n",
              "</table>\n",
              "<p>53940 rows × 11 columns</p>\n",
              "</div>"
            ],
            "text/plain": [
              "       Unnamed: 0  carat        cut color clarity  ...  table  price   x   y   z\n",
              "0               1    0.2      Ideal     E     SI2  ...   55.0    326 4.0 4.0 2.4\n",
              "1               2    0.2    Premium     E     SI1  ...   61.0    326 3.9 3.8 2.3\n",
              "2               3    0.2       Good     E     VS1  ...   65.0    327 4.0 4.1 2.3\n",
              "3               4    0.3    Premium     I     VS2  ...   58.0    334 4.2 4.2 2.6\n",
              "4               5    0.3       Good     J     SI2  ...   58.0    335 4.3 4.3 2.8\n",
              "...           ...    ...        ...   ...     ...  ...    ...    ...  ..  ..  ..\n",
              "53935       53936    0.7      Ideal     D     SI1  ...   57.0   2757 5.8 5.8 3.5\n",
              "53936       53937    0.7       Good     D     SI1  ...   55.0   2757 5.7 5.8 3.6\n",
              "53937       53938    0.7  Very Good     D     SI1  ...   60.0   2757 5.7 5.7 3.6\n",
              "53938       53939    0.9    Premium     H     SI2  ...   58.0   2757 6.2 6.1 3.7\n",
              "53939       53940    0.8      Ideal     D     SI2  ...   55.0   2757 5.8 5.9 3.6\n",
              "\n",
              "[53940 rows x 11 columns]"
            ]
          },
          "metadata": {
            "tags": []
          },
          "execution_count": 101
        }
      ]
    },
    {
      "cell_type": "markdown",
      "metadata": {
        "id": "irarbk45399z",
        "colab_type": "text"
      },
      "source": [
        "<h1>Plot the correlation matrix</h1>"
      ]
    },
    {
      "cell_type": "code",
      "metadata": {
        "id": "guHMLCyAzgSM",
        "colab_type": "code",
        "outputId": "4b85c7df-17dd-4180-d0dd-dd439b0eae8b",
        "colab": {
          "base_uri": "https://localhost:8080/",
          "height": 297
        }
      },
      "source": [
        "df_raw.corr()"
      ],
      "execution_count": 0,
      "outputs": [
        {
          "output_type": "execute_result",
          "data": {
            "text/html": [
              "<div>\n",
              "<style scoped>\n",
              "    .dataframe tbody tr th:only-of-type {\n",
              "        vertical-align: middle;\n",
              "    }\n",
              "\n",
              "    .dataframe tbody tr th {\n",
              "        vertical-align: top;\n",
              "    }\n",
              "\n",
              "    .dataframe thead th {\n",
              "        text-align: right;\n",
              "    }\n",
              "</style>\n",
              "<table border=\"1\" class=\"dataframe\">\n",
              "  <thead>\n",
              "    <tr style=\"text-align: right;\">\n",
              "      <th></th>\n",
              "      <th>Unnamed: 0</th>\n",
              "      <th>carat</th>\n",
              "      <th>depth</th>\n",
              "      <th>table</th>\n",
              "      <th>price</th>\n",
              "      <th>x</th>\n",
              "      <th>y</th>\n",
              "      <th>z</th>\n",
              "    </tr>\n",
              "  </thead>\n",
              "  <tbody>\n",
              "    <tr>\n",
              "      <th>Unnamed: 0</th>\n",
              "      <td>1.0</td>\n",
              "      <td>-0.4</td>\n",
              "      <td>-0.0</td>\n",
              "      <td>-0.1</td>\n",
              "      <td>-0.3</td>\n",
              "      <td>-0.4</td>\n",
              "      <td>-0.4</td>\n",
              "      <td>-0.4</td>\n",
              "    </tr>\n",
              "    <tr>\n",
              "      <th>carat</th>\n",
              "      <td>-0.4</td>\n",
              "      <td>1.0</td>\n",
              "      <td>0.0</td>\n",
              "      <td>0.2</td>\n",
              "      <td>0.9</td>\n",
              "      <td>1.0</td>\n",
              "      <td>1.0</td>\n",
              "      <td>1.0</td>\n",
              "    </tr>\n",
              "    <tr>\n",
              "      <th>depth</th>\n",
              "      <td>-0.0</td>\n",
              "      <td>0.0</td>\n",
              "      <td>1.0</td>\n",
              "      <td>-0.3</td>\n",
              "      <td>-0.0</td>\n",
              "      <td>-0.0</td>\n",
              "      <td>-0.0</td>\n",
              "      <td>0.1</td>\n",
              "    </tr>\n",
              "    <tr>\n",
              "      <th>table</th>\n",
              "      <td>-0.1</td>\n",
              "      <td>0.2</td>\n",
              "      <td>-0.3</td>\n",
              "      <td>1.0</td>\n",
              "      <td>0.1</td>\n",
              "      <td>0.2</td>\n",
              "      <td>0.2</td>\n",
              "      <td>0.2</td>\n",
              "    </tr>\n",
              "    <tr>\n",
              "      <th>price</th>\n",
              "      <td>-0.3</td>\n",
              "      <td>0.9</td>\n",
              "      <td>-0.0</td>\n",
              "      <td>0.1</td>\n",
              "      <td>1.0</td>\n",
              "      <td>0.9</td>\n",
              "      <td>0.9</td>\n",
              "      <td>0.9</td>\n",
              "    </tr>\n",
              "    <tr>\n",
              "      <th>x</th>\n",
              "      <td>-0.4</td>\n",
              "      <td>1.0</td>\n",
              "      <td>-0.0</td>\n",
              "      <td>0.2</td>\n",
              "      <td>0.9</td>\n",
              "      <td>1.0</td>\n",
              "      <td>1.0</td>\n",
              "      <td>1.0</td>\n",
              "    </tr>\n",
              "    <tr>\n",
              "      <th>y</th>\n",
              "      <td>-0.4</td>\n",
              "      <td>1.0</td>\n",
              "      <td>-0.0</td>\n",
              "      <td>0.2</td>\n",
              "      <td>0.9</td>\n",
              "      <td>1.0</td>\n",
              "      <td>1.0</td>\n",
              "      <td>1.0</td>\n",
              "    </tr>\n",
              "    <tr>\n",
              "      <th>z</th>\n",
              "      <td>-0.4</td>\n",
              "      <td>1.0</td>\n",
              "      <td>0.1</td>\n",
              "      <td>0.2</td>\n",
              "      <td>0.9</td>\n",
              "      <td>1.0</td>\n",
              "      <td>1.0</td>\n",
              "      <td>1.0</td>\n",
              "    </tr>\n",
              "  </tbody>\n",
              "</table>\n",
              "</div>"
            ],
            "text/plain": [
              "            Unnamed: 0  carat  depth  table  price    x    y    z\n",
              "Unnamed: 0         1.0   -0.4   -0.0   -0.1   -0.3 -0.4 -0.4 -0.4\n",
              "carat             -0.4    1.0    0.0    0.2    0.9  1.0  1.0  1.0\n",
              "depth             -0.0    0.0    1.0   -0.3   -0.0 -0.0 -0.0  0.1\n",
              "table             -0.1    0.2   -0.3    1.0    0.1  0.2  0.2  0.2\n",
              "price             -0.3    0.9   -0.0    0.1    1.0  0.9  0.9  0.9\n",
              "x                 -0.4    1.0   -0.0    0.2    0.9  1.0  1.0  1.0\n",
              "y                 -0.4    1.0   -0.0    0.2    0.9  1.0  1.0  1.0\n",
              "z                 -0.4    1.0    0.1    0.2    0.9  1.0  1.0  1.0"
            ]
          },
          "metadata": {
            "tags": []
          },
          "execution_count": 102
        }
      ]
    },
    {
      "cell_type": "markdown",
      "metadata": {
        "id": "rJCxTnF-4z_7",
        "colab_type": "text"
      },
      "source": [
        "From this correlation matrix, we can see that the biggest correlating variables are carat and price. So we're going to choose carat as a feature and price as the label. We found that correlation between carat with price and volume (x,y,z) are the highest. First is Carat versus Price, second is Volume versus Price and the last one is cross between carat and volume versus Price. Then we will chose one of the best between the 3 models.\n"
      ]
    },
    {
      "cell_type": "markdown",
      "metadata": {
        "id": "SljC1uizRpE9",
        "colab_type": "text"
      },
      "source": [
        "## Modelling Carat Vs Price"
      ]
    },
    {
      "cell_type": "markdown",
      "metadata": {
        "id": "R_A8CKLz8VFU",
        "colab_type": "text"
      },
      "source": [
        "## Define functions that build and train a model\n",
        "\n",
        "This code block is taken from the 'Programming Exercise' module on Machine Learning Crash Course.\n"
      ]
    },
    {
      "cell_type": "code",
      "metadata": {
        "id": "Ue0poOUa8szU",
        "colab_type": "code",
        "outputId": "997b8180-7fee-48a9-bcf0-77cf223f35f6",
        "colab": {
          "base_uri": "https://localhost:8080/",
          "height": 34
        }
      },
      "source": [
        "#@title Define the functions that build and train a model\n",
        "def build_model(my_learning_rate):\n",
        "  \"\"\"Create and compile a simple linear regression model.\"\"\"\n",
        "  # Most simple tf.keras models are sequential.\n",
        "  model = tf.keras.models.Sequential()\n",
        "\n",
        "  # Add one linear layer to the model to yield a simple linear regressor.\n",
        "  model.add(tf.keras.layers.Dense(units=1, input_shape=(1,)))\n",
        "\n",
        "  # Compile the model topography into code that TensorFlow can efficiently\n",
        "  # execute. Configure training to minimize the model's mean squared error. \n",
        "  model.compile(optimizer=tf.keras.optimizers.RMSprop(lr=my_learning_rate),\n",
        "                loss=\"mean_squared_error\",\n",
        "                metrics=[tf.keras.metrics.RootMeanSquaredError()])\n",
        "\n",
        "  return model               \n",
        "\n",
        "\n",
        "def train_model(model, df, feature, label, my_epochs, \n",
        "                my_batch_size=None, my_validation_split=0.1):\n",
        "  \"\"\"Feed a dataset into the model in order to train it.\"\"\"\n",
        "\n",
        "  history = model.fit(x=df[feature],\n",
        "                      y=df[label],\n",
        "                      batch_size=my_batch_size,\n",
        "                      epochs=my_epochs,\n",
        "                      validation_split=my_validation_split)\n",
        "\n",
        "  # Gather the model's trained weight and bias.\n",
        "  trained_weight = model.get_weights()[0]\n",
        "  trained_bias = model.get_weights()[1]\n",
        "\n",
        "  # The list of epochs is stored separately from the \n",
        "  # rest of history.\n",
        "  epochs = history.epoch\n",
        "  \n",
        "  # Isolate the root mean squared error for each epoch.\n",
        "  hist = pd.DataFrame(history.history)\n",
        "  rmse = hist[\"root_mean_squared_error\"]\n",
        "\n",
        "  return epochs, rmse, history.history   \n",
        "\n",
        "print(\"Defined the build_model and train_model functions.\")"
      ],
      "execution_count": 0,
      "outputs": [
        {
          "output_type": "stream",
          "text": [
            "Defined the build_model and train_model functions.\n"
          ],
          "name": "stdout"
        }
      ]
    },
    {
      "cell_type": "markdown",
      "metadata": {
        "id": "GKF_765D8WXF",
        "colab_type": "text"
      },
      "source": [
        "## Define plotting functions\n",
        "\n",
        "This code block is taken from the 'Programming Exercise' module on Machine Learning Crash Course."
      ]
    },
    {
      "cell_type": "code",
      "metadata": {
        "id": "m2vweQ5682zW",
        "colab_type": "code",
        "outputId": "c2080e48-7b4f-4f14-b102-dcd3d9971489",
        "colab": {
          "base_uri": "https://localhost:8080/",
          "height": 34
        }
      },
      "source": [
        "#@title Define the plotting function\n",
        "def plot_the_model(trained_weight, trained_bias, feature, label):\n",
        "  \"\"\"Plot the trained model against 200 random training examples.\"\"\"\n",
        "\n",
        "  # Label the axes.\n",
        "  plt.xlabel(feature)\n",
        "  plt.ylabel(label)\n",
        "\n",
        "  # Create a scatter plot from 200 random points of the dataset.\n",
        "  random_examples = train_df.sample(n=200)\n",
        "  plt.scatter(random_examples[feature], random_examples[label])\n",
        "\n",
        "  # Create a red line representing the model. The red line starts\n",
        "  # at coordinates (x0, y0) and ends at coordinates (x1, y1).\n",
        "  x0 = 0\n",
        "  y0 = trained_bias\n",
        "  x1 = 10000\n",
        "  y1 = trained_bias + (trained_weight * x1)\n",
        "  plt.plot([x0, x1], [y0, y1], c='r')\n",
        "\n",
        "  # Render the scatter plot and the red line.\n",
        "  plt.show()\n",
        "\n",
        "def plot_the_loss_curve(epochs, mae_training, mae_validation):\n",
        "  \"\"\"Plot a curve of loss vs. epoch.\"\"\"\n",
        "\n",
        "  plt.figure()\n",
        "  plt.xlabel(\"Epoch\")\n",
        "  plt.ylabel(\"Root Mean Squared Error\")\n",
        "\n",
        "  plt.plot(epochs[1:], mae_training[1:], label=\"Training Loss\")\n",
        "  plt.plot(epochs[1:], mae_validation[1:], label=\"Validation Loss\")\n",
        "  plt.legend()\n",
        "  \n",
        "  # We're not going to plot the first epoch, since the loss on the first epoch\n",
        "  # is often substantially greater than the loss for other epochs.\n",
        "  merged_mae_lists = mae_training[1:] + mae_validation[1:]\n",
        "  highest_loss = max(merged_mae_lists)\n",
        "  lowest_loss = min(merged_mae_lists)\n",
        "  delta = highest_loss - lowest_loss\n",
        "  print(delta)\n",
        "\n",
        "  top_of_y_axis = highest_loss + (delta * 0.05)\n",
        "  bottom_of_y_axis = lowest_loss - (delta * 0.05)\n",
        "   \n",
        "  plt.ylim([bottom_of_y_axis, top_of_y_axis])\n",
        "  plt.show()  \n",
        "\n",
        "print(\"Defined the plot_the_loss_curve function.\")"
      ],
      "execution_count": 0,
      "outputs": [
        {
          "output_type": "stream",
          "text": [
            "Defined the plot_the_loss_curve function.\n"
          ],
          "name": "stdout"
        }
      ]
    },
    {
      "cell_type": "markdown",
      "metadata": {
        "id": "UGXsrHY65t0y",
        "colab_type": "text"
      },
      "source": [
        "<h1>Copy features and label to varable df</h1>"
      ]
    },
    {
      "cell_type": "code",
      "metadata": {
        "scrolled": false,
        "id": "l5Cj5KYhld9C",
        "colab_type": "code",
        "outputId": "f8174062-71df-42b0-d739-d530a32f6bfa",
        "colab": {
          "base_uri": "https://localhost:8080/",
          "height": 419
        }
      },
      "source": [
        "df = df_raw[['carat', 'price']].copy()\n",
        "df = df.loc[df['price']<=5000]\n",
        "# df['price'] = df['price']/100\n",
        "df"
      ],
      "execution_count": 0,
      "outputs": [
        {
          "output_type": "execute_result",
          "data": {
            "text/html": [
              "<div>\n",
              "<style scoped>\n",
              "    .dataframe tbody tr th:only-of-type {\n",
              "        vertical-align: middle;\n",
              "    }\n",
              "\n",
              "    .dataframe tbody tr th {\n",
              "        vertical-align: top;\n",
              "    }\n",
              "\n",
              "    .dataframe thead th {\n",
              "        text-align: right;\n",
              "    }\n",
              "</style>\n",
              "<table border=\"1\" class=\"dataframe\">\n",
              "  <thead>\n",
              "    <tr style=\"text-align: right;\">\n",
              "      <th></th>\n",
              "      <th>carat</th>\n",
              "      <th>price</th>\n",
              "    </tr>\n",
              "  </thead>\n",
              "  <tbody>\n",
              "    <tr>\n",
              "      <th>0</th>\n",
              "      <td>0.2</td>\n",
              "      <td>326</td>\n",
              "    </tr>\n",
              "    <tr>\n",
              "      <th>1</th>\n",
              "      <td>0.2</td>\n",
              "      <td>326</td>\n",
              "    </tr>\n",
              "    <tr>\n",
              "      <th>2</th>\n",
              "      <td>0.2</td>\n",
              "      <td>327</td>\n",
              "    </tr>\n",
              "    <tr>\n",
              "      <th>3</th>\n",
              "      <td>0.3</td>\n",
              "      <td>334</td>\n",
              "    </tr>\n",
              "    <tr>\n",
              "      <th>4</th>\n",
              "      <td>0.3</td>\n",
              "      <td>335</td>\n",
              "    </tr>\n",
              "    <tr>\n",
              "      <th>...</th>\n",
              "      <td>...</td>\n",
              "      <td>...</td>\n",
              "    </tr>\n",
              "    <tr>\n",
              "      <th>53935</th>\n",
              "      <td>0.7</td>\n",
              "      <td>2757</td>\n",
              "    </tr>\n",
              "    <tr>\n",
              "      <th>53936</th>\n",
              "      <td>0.7</td>\n",
              "      <td>2757</td>\n",
              "    </tr>\n",
              "    <tr>\n",
              "      <th>53937</th>\n",
              "      <td>0.7</td>\n",
              "      <td>2757</td>\n",
              "    </tr>\n",
              "    <tr>\n",
              "      <th>53938</th>\n",
              "      <td>0.9</td>\n",
              "      <td>2757</td>\n",
              "    </tr>\n",
              "    <tr>\n",
              "      <th>53939</th>\n",
              "      <td>0.8</td>\n",
              "      <td>2757</td>\n",
              "    </tr>\n",
              "  </tbody>\n",
              "</table>\n",
              "<p>39226 rows × 2 columns</p>\n",
              "</div>"
            ],
            "text/plain": [
              "       carat  price\n",
              "0        0.2    326\n",
              "1        0.2    326\n",
              "2        0.2    327\n",
              "3        0.3    334\n",
              "4        0.3    335\n",
              "...      ...    ...\n",
              "53935    0.7   2757\n",
              "53936    0.7   2757\n",
              "53937    0.7   2757\n",
              "53938    0.9   2757\n",
              "53939    0.8   2757\n",
              "\n",
              "[39226 rows x 2 columns]"
            ]
          },
          "metadata": {
            "tags": []
          },
          "execution_count": 105
        }
      ]
    },
    {
      "cell_type": "code",
      "metadata": {
        "id": "mj7xcv3HQf77",
        "colab_type": "code",
        "outputId": "182b0453-ad39-4282-fd72-cb9946645608",
        "colab": {
          "base_uri": "https://localhost:8080/",
          "height": 296
        }
      },
      "source": [
        "plt.scatter(df['carat'], df['price'])\n",
        "plt.xlabel(\"Carat\")\n",
        "plt.ylabel(\"Price\")"
      ],
      "execution_count": 0,
      "outputs": [
        {
          "output_type": "execute_result",
          "data": {
            "text/plain": [
              "Text(0, 0.5, 'Price')"
            ]
          },
          "metadata": {
            "tags": []
          },
          "execution_count": 106
        },
        {
          "output_type": "display_data",
          "data": {
            "image/png": "[encoded data removed]",
            "text/plain": [
              "<Figure size 432x288 with 1 Axes>"
            ]
          },
          "metadata": {
            "tags": []
          }
        }
      ]
    },
    {
      "cell_type": "markdown",
      "metadata": {
        "id": "CuyaJTHf6DnJ",
        "colab_type": "text"
      },
      "source": [
        "<h1>Examine the dataset</h1>"
      ]
    },
    {
      "cell_type": "code",
      "metadata": {
        "id": "t9gW_XQT6Iu0",
        "colab_type": "code",
        "outputId": "4112bd5b-76bf-4064-ee51-008f76294b20",
        "colab": {
          "base_uri": "https://localhost:8080/",
          "height": 297
        }
      },
      "source": [
        "df.describe()"
      ],
      "execution_count": 0,
      "outputs": [
        {
          "output_type": "execute_result",
          "data": {
            "text/html": [
              "<div>\n",
              "<style scoped>\n",
              "    .dataframe tbody tr th:only-of-type {\n",
              "        vertical-align: middle;\n",
              "    }\n",
              "\n",
              "    .dataframe tbody tr th {\n",
              "        vertical-align: top;\n",
              "    }\n",
              "\n",
              "    .dataframe thead th {\n",
              "        text-align: right;\n",
              "    }\n",
              "</style>\n",
              "<table border=\"1\" class=\"dataframe\">\n",
              "  <thead>\n",
              "    <tr style=\"text-align: right;\">\n",
              "      <th></th>\n",
              "      <th>carat</th>\n",
              "      <th>price</th>\n",
              "    </tr>\n",
              "  </thead>\n",
              "  <tbody>\n",
              "    <tr>\n",
              "      <th>count</th>\n",
              "      <td>39226.0</td>\n",
              "      <td>39226.0</td>\n",
              "    </tr>\n",
              "    <tr>\n",
              "      <th>mean</th>\n",
              "      <td>0.6</td>\n",
              "      <td>1914.5</td>\n",
              "    </tr>\n",
              "    <tr>\n",
              "      <th>std</th>\n",
              "      <td>0.3</td>\n",
              "      <td>1328.0</td>\n",
              "    </tr>\n",
              "    <tr>\n",
              "      <th>min</th>\n",
              "      <td>0.2</td>\n",
              "      <td>326.0</td>\n",
              "    </tr>\n",
              "    <tr>\n",
              "      <th>25%</th>\n",
              "      <td>0.3</td>\n",
              "      <td>801.0</td>\n",
              "    </tr>\n",
              "    <tr>\n",
              "      <th>50%</th>\n",
              "      <td>0.5</td>\n",
              "      <td>1417.0</td>\n",
              "    </tr>\n",
              "    <tr>\n",
              "      <th>75%</th>\n",
              "      <td>0.7</td>\n",
              "      <td>2826.0</td>\n",
              "    </tr>\n",
              "    <tr>\n",
              "      <th>max</th>\n",
              "      <td>1.7</td>\n",
              "      <td>5000.0</td>\n",
              "    </tr>\n",
              "  </tbody>\n",
              "</table>\n",
              "</div>"
            ],
            "text/plain": [
              "        carat   price\n",
              "count 39226.0 39226.0\n",
              "mean      0.6  1914.5\n",
              "std       0.3  1328.0\n",
              "min       0.2   326.0\n",
              "25%       0.3   801.0\n",
              "50%       0.5  1417.0\n",
              "75%       0.7  2826.0\n",
              "max       1.7  5000.0"
            ]
          },
          "metadata": {
            "tags": []
          },
          "execution_count": 107
        }
      ]
    },
    {
      "cell_type": "markdown",
      "metadata": {
        "id": "42py7Trt74hy",
        "colab_type": "text"
      },
      "source": [
        "Based on the description table, there are some anomalies on the data. The maximum value for both the feature and the label are much greater than its quantiles. There must be outliers in this dataset."
      ]
    },
    {
      "cell_type": "markdown",
      "metadata": {
        "id": "hXxEFE-V9Wjq",
        "colab_type": "text"
      },
      "source": [
        "<h1>Splitting into training and testing data</h1>"
      ]
    },
    {
      "cell_type": "code",
      "metadata": {
        "id": "6QbNqueU9fEh",
        "colab_type": "code",
        "colab": {}
      },
      "source": [
        "from sklearn.model_selection import train_test_split\n",
        "train_df, test_df = train_test_split(df, test_size=0.2)"
      ],
      "execution_count": 0,
      "outputs": []
    },
    {
      "cell_type": "code",
      "metadata": {
        "id": "N1WUspI9-tez",
        "colab_type": "code",
        "outputId": "6d57d9b3-f664-4089-989f-5cbf5b52a289",
        "colab": {
          "base_uri": "https://localhost:8080/",
          "height": 34
        }
      },
      "source": [
        "train_df.shape"
      ],
      "execution_count": 0,
      "outputs": [
        {
          "output_type": "execute_result",
          "data": {
            "text/plain": [
              "(31380, 2)"
            ]
          },
          "metadata": {
            "tags": []
          },
          "execution_count": 109
        }
      ]
    },
    {
      "cell_type": "code",
      "metadata": {
        "id": "WCzXtuc7-04W",
        "colab_type": "code",
        "outputId": "dafc4afc-f081-46e0-86af-39a152fdd129",
        "colab": {
          "base_uri": "https://localhost:8080/",
          "height": 34
        }
      },
      "source": [
        "test_df.shape"
      ],
      "execution_count": 0,
      "outputs": [
        {
          "output_type": "execute_result",
          "data": {
            "text/plain": [
              "(7846, 2)"
            ]
          },
          "metadata": {
            "tags": []
          },
          "execution_count": 110
        }
      ]
    },
    {
      "cell_type": "markdown",
      "metadata": {
        "id": "zxR6QAqu_Viq",
        "colab_type": "text"
      },
      "source": [
        "<h1>Building the model and training it</h1>"
      ]
    },
    {
      "cell_type": "markdown",
      "metadata": {
        "id": "TMegPrqjB5he",
        "colab_type": "text"
      },
      "source": [
        "On the first try, we started with a learning rate of .08 and 30 epochs, with a batch size of 100."
      ]
    },
    {
      "cell_type": "code",
      "metadata": {
        "id": "UXpGx5xrBkNW",
        "colab_type": "code",
        "outputId": "a1445223-8085-419a-a40d-148506ab3709",
        "colab": {
          "base_uri": "https://localhost:8080/",
          "height": 1000
        }
      },
      "source": [
        "# The following variables are the hyperparameters.\n",
        "learning_rate = 0.08\n",
        "epochs = 30\n",
        "batch_size = 100\n",
        "\n",
        "# Split the original training set into a reduced training set and a\n",
        "# validation set. \n",
        "validation_split=0.2\n",
        "\n",
        "# Specify the feature and the label.\n",
        "my_feature = \"carat\"  # carat value.\n",
        "my_label=\"price\" # the price value for that specific diamond.\n",
        "# We're predicting diamond price based on carat value\n",
        "\n",
        "# Discard any pre-existing version of the model.\n",
        "my_model = None\n",
        "\n",
        "# Invoke the functions to build and train the model.\n",
        "my_model = build_model(learning_rate)\n",
        "epochs, rmse, history = train_model(my_model, train_df, my_feature, \n",
        "                                    my_label, epochs, batch_size, \n",
        "                                    validation_split)\n",
        "\n",
        "plot_the_loss_curve(epochs, history[\"root_mean_squared_error\"], \n",
        "                    history[\"val_root_mean_squared_error\"])\n"
      ],
      "execution_count": 0,
      "outputs": [
        {
          "output_type": "stream",
          "text": [
            "Epoch 1/30\n",
            "252/252 [==============================] - 0s 2ms/step - loss: 5365196.0000 - root_mean_squared_error: 2313.2959 - val_loss: 5415732.0000 - val_root_mean_squared_error: 2327.6658\n",
            "Epoch 2/30\n",
            "252/252 [==============================] - 0s 1ms/step - loss: 5235187.5000 - root_mean_squared_error: 2284.5637 - val_loss: 5283025.0000 - val_root_mean_squared_error: 2298.9719\n",
            "Epoch 3/30\n",
            "252/252 [==============================] - 0s 1ms/step - loss: 5099420.5000 - root_mean_squared_error: 2255.9895 - val_loss: 5152334.0000 - val_root_mean_squared_error: 2270.3599\n",
            "Epoch 4/30\n",
            "252/252 [==============================] - 0s 1ms/step - loss: 4953057.5000 - root_mean_squared_error: 2227.5669 - val_loss: 5024298.0000 - val_root_mean_squared_error: 2241.9753\n",
            "Epoch 5/30\n",
            "252/252 [==============================] - 0s 1ms/step - loss: 4843964.5000 - root_mean_squared_error: 2199.1846 - val_loss: 4897423.0000 - val_root_mean_squared_error: 2213.4880\n",
            "Epoch 6/30\n",
            "252/252 [==============================] - 0s 1ms/step - loss: 4717134.5000 - root_mean_squared_error: 2170.9890 - val_loss: 4773214.5000 - val_root_mean_squared_error: 2185.2407\n",
            "Epoch 7/30\n",
            "252/252 [==============================] - 0s 1ms/step - loss: 4586861.0000 - root_mean_squared_error: 2142.8450 - val_loss: 4650822.5000 - val_root_mean_squared_error: 2157.0439\n",
            "Epoch 8/30\n",
            "252/252 [==============================] - 0s 1ms/step - loss: 4481061.0000 - root_mean_squared_error: 2114.6880 - val_loss: 4530240.0000 - val_root_mean_squared_error: 2128.8987\n",
            "Epoch 9/30\n",
            "252/252 [==============================] - 0s 1ms/step - loss: 4346870.0000 - root_mean_squared_error: 2086.7021 - val_loss: 4412396.0000 - val_root_mean_squared_error: 2101.0283\n",
            "Epoch 10/30\n",
            "252/252 [==============================] - 0s 1ms/step - loss: 4228766.5000 - root_mean_squared_error: 2058.9941 - val_loss: 4296405.0000 - val_root_mean_squared_error: 2073.2307\n",
            "Epoch 11/30\n",
            "252/252 [==============================] - 0s 1ms/step - loss: 4114315.2500 - root_mean_squared_error: 2031.3448 - val_loss: 4182358.0000 - val_root_mean_squared_error: 2045.5304\n",
            "Epoch 12/30\n",
            "252/252 [==============================] - 0s 1ms/step - loss: 4025244.2500 - root_mean_squared_error: 2003.7356 - val_loss: 4069919.5000 - val_root_mean_squared_error: 2017.8485\n",
            "Epoch 13/30\n",
            "252/252 [==============================] - 0s 1ms/step - loss: 3896289.2500 - root_mean_squared_error: 1976.4070 - val_loss: 3960406.2500 - val_root_mean_squared_error: 1990.5165\n",
            "Epoch 14/30\n",
            "252/252 [==============================] - 0s 1ms/step - loss: 3785706.5000 - root_mean_squared_error: 1949.1572 - val_loss: 3852719.2500 - val_root_mean_squared_error: 1963.2687\n",
            "Epoch 15/30\n",
            "252/252 [==============================] - 0s 1ms/step - loss: 3718808.7500 - root_mean_squared_error: 1921.9993 - val_loss: 3746306.7500 - val_root_mean_squared_error: 1935.9670\n",
            "Epoch 16/30\n",
            "252/252 [==============================] - 0s 1ms/step - loss: 3584521.2500 - root_mean_squared_error: 1895.0907 - val_loss: 3643229.7500 - val_root_mean_squared_error: 1909.1492\n",
            "Epoch 17/30\n",
            "252/252 [==============================] - 0s 1ms/step - loss: 3503546.7500 - root_mean_squared_error: 1868.3385 - val_loss: 3541103.7500 - val_root_mean_squared_error: 1882.2012\n",
            "Epoch 18/30\n",
            "252/252 [==============================] - 0s 1ms/step - loss: 3379559.7500 - root_mean_squared_error: 1841.7325 - val_loss: 3442118.7500 - val_root_mean_squared_error: 1855.7089\n",
            "Epoch 19/30\n",
            "252/252 [==============================] - 0s 1ms/step - loss: 3306001.0000 - root_mean_squared_error: 1815.2932 - val_loss: 3344191.0000 - val_root_mean_squared_error: 1829.1217\n",
            "Epoch 20/30\n",
            "252/252 [==============================] - 0s 1ms/step - loss: 3213494.0000 - root_mean_squared_error: 1789.0713 - val_loss: 3248722.7500 - val_root_mean_squared_error: 1802.8247\n",
            "Epoch 21/30\n",
            "252/252 [==============================] - 0s 1ms/step - loss: 3098303.2500 - root_mean_squared_error: 1762.9269 - val_loss: 3155563.2500 - val_root_mean_squared_error: 1776.7882\n",
            "Epoch 22/30\n",
            "252/252 [==============================] - 0s 1ms/step - loss: 3017527.5000 - root_mean_squared_error: 1737.0233 - val_loss: 3064106.7500 - val_root_mean_squared_error: 1750.8511\n",
            "Epoch 23/30\n",
            "252/252 [==============================] - 0s 1ms/step - loss: 2928075.2500 - root_mean_squared_error: 1711.3341 - val_loss: 2974743.5000 - val_root_mean_squared_error: 1725.1309\n",
            "Epoch 24/30\n",
            "252/252 [==============================] - 0s 1ms/step - loss: 2847561.2500 - root_mean_squared_error: 1685.8987 - val_loss: 2887353.2500 - val_root_mean_squared_error: 1699.6018\n",
            "Epoch 25/30\n",
            "252/252 [==============================] - 0s 1ms/step - loss: 2758277.2500 - root_mean_squared_error: 1660.7369 - val_loss: 2802271.7500 - val_root_mean_squared_error: 1674.3733\n",
            "Epoch 26/30\n",
            "252/252 [==============================] - 0s 1ms/step - loss: 2671613.0000 - root_mean_squared_error: 1635.7194 - val_loss: 2718946.5000 - val_root_mean_squared_error: 1649.2913\n",
            "Epoch 27/30\n",
            "252/252 [==============================] - 0s 1ms/step - loss: 2590022.7500 - root_mean_squared_error: 1610.9080 - val_loss: 2638026.0000 - val_root_mean_squared_error: 1624.5624\n",
            "Epoch 28/30\n",
            "252/252 [==============================] - 0s 1ms/step - loss: 2514707.0000 - root_mean_squared_error: 1586.4247 - val_loss: 2558882.5000 - val_root_mean_squared_error: 1600.0066\n",
            "Epoch 29/30\n",
            "252/252 [==============================] - 0s 1ms/step - loss: 2437073.5000 - root_mean_squared_error: 1562.1902 - val_loss: 2482045.7500 - val_root_mean_squared_error: 1575.8003\n",
            "Epoch 30/30\n",
            "252/252 [==============================] - 0s 1ms/step - loss: 2371145.7500 - root_mean_squared_error: 1538.3080 - val_loss: 2406867.0000 - val_root_mean_squared_error: 1551.7505\n",
            "760.6639404296875\n"
          ],
          "name": "stdout"
        },
        {
          "output_type": "display_data",
          "data": {
            "image/png": "[encoded data removed]",
            "text/plain": [
              "<Figure size 432x288 with 1 Axes>"
            ]
          },
          "metadata": {
            "tags": []
          }
        }
      ]
    },
    {
      "cell_type": "markdown",
      "metadata": {
        "id": "AuycIB63CP1G",
        "colab_type": "text"
      },
      "source": [
        "As we can see here, the model hasn't fully converged, so we tried to increase the learning rate and number of epochs to 0.5 and 50 respectively"
      ]
    },
    {
      "cell_type": "code",
      "metadata": {
        "id": "0rAaAbKFBiqw",
        "colab_type": "code",
        "outputId": "409eefa4-4c0f-4c07-969d-786288d89ea7",
        "colab": {
          "base_uri": "https://localhost:8080/",
          "height": 1000
        }
      },
      "source": [
        "# The following variables are the hyperparameters.\n",
        "learning_rate = 0.5\n",
        "epochs = 50\n",
        "batch_size = 100\n",
        "\n",
        "# Split the original training set into a reduced training set and a\n",
        "# validation set. \n",
        "validation_split=0.2\n",
        "\n",
        "# Specify the feature and the label.\n",
        "my_feature = \"carat\"  # carat value.\n",
        "my_label=\"price\" # the price value for that specific diamond.\n",
        "# We're predicting diamond price based on carat value\n",
        "\n",
        "# Discard any pre-existing version of the model.\n",
        "my_model = None\n",
        "\n",
        "# Invoke the functions to build and train the model.\n",
        "my_model = build_model(learning_rate)\n",
        "epochs, rmse, history = train_model(my_model, train_df, my_feature, \n",
        "                                    my_label, epochs, batch_size, \n",
        "                                    validation_split)\n",
        "\n",
        "plot_the_loss_curve(epochs, history[\"root_mean_squared_error\"], \n",
        "                    history[\"val_root_mean_squared_error\"])\n"
      ],
      "execution_count": 0,
      "outputs": [
        {
          "output_type": "stream",
          "text": [
            "Epoch 1/50\n",
            "252/252 [==============================] - 0s 2ms/step - loss: 4978449.0000 - root_mean_squared_error: 2234.8921 - val_loss: 4724812.0000 - val_root_mean_squared_error: 2174.1335\n",
            "Epoch 2/50\n",
            "252/252 [==============================] - 0s 1ms/step - loss: 4236389.0000 - root_mean_squared_error: 2060.1147 - val_loss: 4000963.7500 - val_root_mean_squared_error: 2000.6821\n",
            "Epoch 3/50\n",
            "252/252 [==============================] - 0s 1ms/step - loss: 3585040.0000 - root_mean_squared_error: 1889.6873 - val_loss: 3355976.5000 - val_root_mean_squared_error: 1832.3419\n",
            "Epoch 4/50\n",
            "252/252 [==============================] - 0s 1ms/step - loss: 2995549.5000 - root_mean_squared_error: 1727.2455 - val_loss: 2794950.2500 - val_root_mean_squared_error: 1672.1844\n",
            "Epoch 5/50\n",
            "252/252 [==============================] - 0s 1ms/step - loss: 2470613.5000 - root_mean_squared_error: 1571.3307 - val_loss: 2312949.2500 - val_root_mean_squared_error: 1521.1719\n",
            "Epoch 6/50\n",
            "252/252 [==============================] - 0s 1ms/step - loss: 2046842.6250 - root_mean_squared_error: 1427.0419 - val_loss: 1909456.0000 - val_root_mean_squared_error: 1382.1179\n",
            "Epoch 7/50\n",
            "252/252 [==============================] - 0s 1ms/step - loss: 1682395.7500 - root_mean_squared_error: 1297.6743 - val_loss: 1587935.1250 - val_root_mean_squared_error: 1260.3662\n",
            "Epoch 8/50\n",
            "252/252 [==============================] - 0s 1ms/step - loss: 1409540.5000 - root_mean_squared_error: 1188.2928 - val_loss: 1344920.8750 - val_root_mean_squared_error: 1159.8784\n",
            "Epoch 9/50\n",
            "252/252 [==============================] - 0s 1ms/step - loss: 1221801.0000 - root_mean_squared_error: 1103.2354 - val_loss: 1179747.1250 - val_root_mean_squared_error: 1086.2651\n",
            "Epoch 10/50\n",
            "252/252 [==============================] - 0s 1ms/step - loss: 1100040.1250 - root_mean_squared_error: 1048.2148 - val_loss: 1088636.1250 - val_root_mean_squared_error: 1043.4252\n",
            "Epoch 11/50\n",
            "252/252 [==============================] - 0s 1ms/step - loss: 1030321.5000 - root_mean_squared_error: 1016.1865 - val_loss: 1030085.3125 - val_root_mean_squared_error: 1014.9527\n",
            "Epoch 12/50\n",
            "252/252 [==============================] - 0s 1ms/step - loss: 978179.8750 - root_mean_squared_error: 989.7248 - val_loss: 976115.0000 - val_root_mean_squared_error: 987.9937\n",
            "Epoch 13/50\n",
            "252/252 [==============================] - 0s 1ms/step - loss: 930088.7500 - root_mean_squared_error: 963.4513 - val_loss: 923276.0625 - val_root_mean_squared_error: 960.8712\n",
            "Epoch 14/50\n",
            "252/252 [==============================] - 0s 1ms/step - loss: 876489.9375 - root_mean_squared_error: 936.9801 - val_loss: 872790.6875 - val_root_mean_squared_error: 934.2253\n",
            "Epoch 15/50\n",
            "252/252 [==============================] - 0s 1ms/step - loss: 827863.2500 - root_mean_squared_error: 910.8928 - val_loss: 823964.6250 - val_root_mean_squared_error: 907.7097\n",
            "Epoch 16/50\n",
            "252/252 [==============================] - 0s 1ms/step - loss: 782763.8750 - root_mean_squared_error: 885.1719 - val_loss: 776783.8750 - val_root_mean_squared_error: 881.3328\n",
            "Epoch 17/50\n",
            "252/252 [==============================] - 0s 1ms/step - loss: 740088.3125 - root_mean_squared_error: 859.1864 - val_loss: 731021.1250 - val_root_mean_squared_error: 854.9709\n",
            "Epoch 18/50\n",
            "252/252 [==============================] - 0s 1ms/step - loss: 693681.4375 - root_mean_squared_error: 833.4462 - val_loss: 687239.0625 - val_root_mean_squared_error: 828.9673\n",
            "Epoch 19/50\n",
            "252/252 [==============================] - 0s 1ms/step - loss: 652158.3750 - root_mean_squared_error: 808.1857 - val_loss: 645168.8125 - val_root_mean_squared_error: 803.1866\n",
            "Epoch 20/50\n",
            "252/252 [==============================] - 0s 1ms/step - loss: 612325.1250 - root_mean_squared_error: 783.2008 - val_loss: 605784.1250 - val_root_mean_squared_error: 778.2789\n",
            "Epoch 21/50\n",
            "252/252 [==============================] - 0s 1ms/step - loss: 577958.0625 - root_mean_squared_error: 759.0480 - val_loss: 567905.6250 - val_root_mean_squared_error: 753.5455\n",
            "Epoch 22/50\n",
            "252/252 [==============================] - 0s 1ms/step - loss: 540240.8125 - root_mean_squared_error: 735.6406 - val_loss: 532545.3125 - val_root_mean_squared_error: 729.7033\n",
            "Epoch 23/50\n",
            "252/252 [==============================] - 0s 1ms/step - loss: 506653.5938 - root_mean_squared_error: 712.4359 - val_loss: 498304.2500 - val_root_mean_squared_error: 705.8490\n",
            "Epoch 24/50\n",
            "252/252 [==============================] - 0s 1ms/step - loss: 475295.7812 - root_mean_squared_error: 690.0156 - val_loss: 466826.3438 - val_root_mean_squared_error: 683.1845\n",
            "Epoch 25/50\n",
            "252/252 [==============================] - 0s 1ms/step - loss: 447407.8125 - root_mean_squared_error: 668.0150 - val_loss: 436385.1875 - val_root_mean_squared_error: 660.5270\n",
            "Epoch 26/50\n",
            "252/252 [==============================] - 0s 1ms/step - loss: 417818.4375 - root_mean_squared_error: 647.1190 - val_loss: 409197.5000 - val_root_mean_squared_error: 639.6144\n",
            "Epoch 27/50\n",
            "252/252 [==============================] - 0s 1ms/step - loss: 391552.7812 - root_mean_squared_error: 626.8308 - val_loss: 382787.3125 - val_root_mean_squared_error: 618.6231\n",
            "Epoch 28/50\n",
            "252/252 [==============================] - 0s 1ms/step - loss: 368676.1250 - root_mean_squared_error: 607.4867 - val_loss: 358971.4688 - val_root_mean_squared_error: 599.0635\n",
            "Epoch 29/50\n",
            "252/252 [==============================] - 0s 1ms/step - loss: 346659.8125 - root_mean_squared_error: 589.5665 - val_loss: 336909.5312 - val_root_mean_squared_error: 580.3581\n",
            "Epoch 30/50\n",
            "252/252 [==============================] - 0s 1ms/step - loss: 326564.0312 - root_mean_squared_error: 571.8530 - val_loss: 316085.6875 - val_root_mean_squared_error: 562.1310\n",
            "Epoch 31/50\n",
            "252/252 [==============================] - 0s 1ms/step - loss: 308643.4062 - root_mean_squared_error: 555.5013 - val_loss: 296924.1250 - val_root_mean_squared_error: 544.8214\n",
            "Epoch 32/50\n",
            "252/252 [==============================] - 0s 1ms/step - loss: 292275.4375 - root_mean_squared_error: 540.2817 - val_loss: 279903.8438 - val_root_mean_squared_error: 528.9719\n",
            "Epoch 33/50\n",
            "252/252 [==============================] - 0s 1ms/step - loss: 275844.9062 - root_mean_squared_error: 526.0388 - val_loss: 264659.2188 - val_root_mean_squared_error: 514.3621\n",
            "Epoch 34/50\n",
            "252/252 [==============================] - 0s 1ms/step - loss: 263560.4375 - root_mean_squared_error: 513.1289 - val_loss: 250826.3594 - val_root_mean_squared_error: 500.7374\n",
            "Epoch 35/50\n",
            "252/252 [==============================] - 0s 1ms/step - loss: 252879.8281 - root_mean_squared_error: 501.7695 - val_loss: 239437.4844 - val_root_mean_squared_error: 489.2357\n",
            "Epoch 36/50\n",
            "252/252 [==============================] - 0s 1ms/step - loss: 242132.5469 - root_mean_squared_error: 492.2686 - val_loss: 229879.2500 - val_root_mean_squared_error: 479.3702\n",
            "Epoch 37/50\n",
            "252/252 [==============================] - 0s 1ms/step - loss: 233739.9219 - root_mean_squared_error: 483.7748 - val_loss: 221219.7344 - val_root_mean_squared_error: 470.2542\n",
            "Epoch 38/50\n",
            "252/252 [==============================] - 0s 1ms/step - loss: 226266.8594 - root_mean_squared_error: 476.3042 - val_loss: 213883.1250 - val_root_mean_squared_error: 462.3914\n",
            "Epoch 39/50\n",
            "252/252 [==============================] - 0s 1ms/step - loss: 220802.5156 - root_mean_squared_error: 470.2620 - val_loss: 207684.1875 - val_root_mean_squared_error: 455.6423\n",
            "Epoch 40/50\n",
            "252/252 [==============================] - 0s 1ms/step - loss: 215779.7188 - root_mean_squared_error: 465.0855 - val_loss: 202820.3125 - val_root_mean_squared_error: 450.2764\n",
            "Epoch 41/50\n",
            "252/252 [==============================] - 0s 1ms/step - loss: 213256.6250 - root_mean_squared_error: 461.2531 - val_loss: 198948.9375 - val_root_mean_squared_error: 445.9605\n",
            "Epoch 42/50\n",
            "252/252 [==============================] - 0s 1ms/step - loss: 209540.5469 - root_mean_squared_error: 458.1370 - val_loss: 195832.4688 - val_root_mean_squared_error: 442.4554\n",
            "Epoch 43/50\n",
            "252/252 [==============================] - 0s 1ms/step - loss: 207301.6562 - root_mean_squared_error: 455.5859 - val_loss: 193516.7812 - val_root_mean_squared_error: 439.8321\n",
            "Epoch 44/50\n",
            "252/252 [==============================] - 0s 1ms/step - loss: 205475.0469 - root_mean_squared_error: 453.6712 - val_loss: 191589.3594 - val_root_mean_squared_error: 437.6377\n",
            "Epoch 45/50\n",
            "252/252 [==============================] - 0s 1ms/step - loss: 204846.1562 - root_mean_squared_error: 452.2563 - val_loss: 189998.7500 - val_root_mean_squared_error: 435.8193\n",
            "Epoch 46/50\n",
            "252/252 [==============================] - 0s 1ms/step - loss: 202847.4844 - root_mean_squared_error: 451.1523 - val_loss: 188705.0938 - val_root_mean_squared_error: 434.3352\n",
            "Epoch 47/50\n",
            "252/252 [==============================] - 0s 1ms/step - loss: 203482.4688 - root_mean_squared_error: 450.2947 - val_loss: 187635.8281 - val_root_mean_squared_error: 433.1052\n",
            "Epoch 48/50\n",
            "252/252 [==============================] - 0s 1ms/step - loss: 205155.1094 - root_mean_squared_error: 449.6173 - val_loss: 187008.0000 - val_root_mean_squared_error: 432.3799\n",
            "Epoch 49/50\n",
            "252/252 [==============================] - 0s 1ms/step - loss: 201705.7969 - root_mean_squared_error: 449.1581 - val_loss: 186232.7812 - val_root_mean_squared_error: 431.4858\n",
            "Epoch 50/50\n",
            "252/252 [==============================] - 0s 1ms/step - loss: 204002.5938 - root_mean_squared_error: 448.7912 - val_loss: 185901.1250 - val_root_mean_squared_error: 431.1011\n",
            "1629.013671875\n"
          ],
          "name": "stdout"
        },
        {
          "output_type": "display_data",
          "data": {
            "image/png": "[encoded data removed]",
            "text/plain": [
              "<Figure size 432x288 with 1 Axes>"
            ]
          },
          "metadata": {
            "tags": []
          }
        }
      ]
    },
    {
      "cell_type": "markdown",
      "metadata": {
        "id": "zumHwX4gC2zR",
        "colab_type": "text"
      },
      "source": [
        "As seen on the plot above, the model has converged on 50 epochs, as the plot has flattened out. But we tried to increase the number of epochs to 100 just to be sure."
      ]
    },
    {
      "cell_type": "code",
      "metadata": {
        "id": "_BhleoZf7_fr",
        "colab_type": "code",
        "outputId": "ee6285d7-831d-4fa0-d3d5-a5a80d4f4b14",
        "colab": {
          "base_uri": "https://localhost:8080/",
          "height": 1000
        }
      },
      "source": [
        "# The following variables are the hyperparameters.\n",
        "learning_rate = 0.5\n",
        "epochs = 100\n",
        "batch_size = 100\n",
        "\n",
        "# Split the original training set into a reduced training set and a\n",
        "# validation set. \n",
        "validation_split=0.2\n",
        "\n",
        "# Specify the feature and the label.\n",
        "my_feature = \"carat\"  # carat value.\n",
        "my_label=\"price\" # the price value for that specific diamond.\n",
        "# We're predicting diamond price based on carat value\n",
        "\n",
        "# Discard any pre-existing version of the model.\n",
        "my_model = None\n",
        "\n",
        "# Invoke the functions to build and train the model.\n",
        "my_model = build_model(learning_rate)\n",
        "epochs, rmse, history = train_model(my_model, train_df, my_feature, \n",
        "                                    my_label, epochs, batch_size, \n",
        "                                    validation_split)\n",
        "\n",
        "plot_the_loss_curve(epochs, history[\"root_mean_squared_error\"], \n",
        "                    history[\"val_root_mean_squared_error\"])\n"
      ],
      "execution_count": 0,
      "outputs": [
        {
          "output_type": "stream",
          "text": [
            "Epoch 1/100\n",
            "252/252 [==============================] - 0s 2ms/step - loss: 4996270.0000 - root_mean_squared_error: 2235.7852 - val_loss: 4727100.5000 - val_root_mean_squared_error: 2174.6594\n",
            "Epoch 2/100\n",
            "252/252 [==============================] - 0s 1ms/step - loss: 4249321.5000 - root_mean_squared_error: 2060.5459 - val_loss: 4003106.0000 - val_root_mean_squared_error: 2001.2175\n",
            "Epoch 3/100\n",
            "252/252 [==============================] - 0s 1ms/step - loss: 3601783.5000 - root_mean_squared_error: 1890.4934 - val_loss: 3358657.0000 - val_root_mean_squared_error: 1833.0732\n",
            "Epoch 4/100\n",
            "252/252 [==============================] - 0s 1ms/step - loss: 2976036.7500 - root_mean_squared_error: 1727.9761 - val_loss: 2802130.2500 - val_root_mean_squared_error: 1674.3308\n",
            "Epoch 5/100\n",
            "252/252 [==============================] - 0s 1ms/step - loss: 2472667.0000 - root_mean_squared_error: 1572.6370 - val_loss: 2316135.7500 - val_root_mean_squared_error: 1522.2200\n",
            "Epoch 6/100\n",
            "252/252 [==============================] - 0s 1ms/step - loss: 2045542.3750 - root_mean_squared_error: 1428.1049 - val_loss: 1912364.3750 - val_root_mean_squared_error: 1383.1700\n",
            "Epoch 7/100\n",
            "252/252 [==============================] - 0s 1ms/step - loss: 1688984.8750 - root_mean_squared_error: 1299.3130 - val_loss: 1590771.3750 - val_root_mean_squared_error: 1261.4915\n",
            "Epoch 8/100\n",
            "252/252 [==============================] - 0s 1ms/step - loss: 1414812.7500 - root_mean_squared_error: 1189.2609 - val_loss: 1347499.8750 - val_root_mean_squared_error: 1160.9906\n",
            "Epoch 9/100\n",
            "252/252 [==============================] - 0s 1ms/step - loss: 1217548.7500 - root_mean_squared_error: 1104.8160 - val_loss: 1184067.5000 - val_root_mean_squared_error: 1088.2544\n",
            "Epoch 10/100\n",
            "252/252 [==============================] - 0s 1ms/step - loss: 1101415.3750 - root_mean_squared_error: 1049.3651 - val_loss: 1091054.1250 - val_root_mean_squared_error: 1044.5852\n",
            "Epoch 11/100\n",
            "252/252 [==============================] - 0s 1ms/step - loss: 1031253.3125 - root_mean_squared_error: 1016.6912 - val_loss: 1031575.0625 - val_root_mean_squared_error: 1015.6863\n",
            "Epoch 12/100\n",
            "252/252 [==============================] - 0s 1ms/step - loss: 978365.9375 - root_mean_squared_error: 990.4147 - val_loss: 977137.3750 - val_root_mean_squared_error: 988.5104\n",
            "Epoch 13/100\n",
            "252/252 [==============================] - 0s 1ms/step - loss: 929108.0000 - root_mean_squared_error: 964.1243 - val_loss: 924706.8750 - val_root_mean_squared_error: 961.6165\n",
            "Epoch 14/100\n",
            "252/252 [==============================] - 0s 1ms/step - loss: 880931.0625 - root_mean_squared_error: 937.6083 - val_loss: 873599.3750 - val_root_mean_squared_error: 934.6568\n",
            "Epoch 15/100\n",
            "252/252 [==============================] - 0s 1ms/step - loss: 832666.5000 - root_mean_squared_error: 911.2169 - val_loss: 824260.0625 - val_root_mean_squared_error: 907.8721\n",
            "Epoch 16/100\n",
            "252/252 [==============================] - 0s 1ms/step - loss: 786065.1250 - root_mean_squared_error: 885.8131 - val_loss: 778089.7500 - val_root_mean_squared_error: 882.0714\n",
            "Epoch 17/100\n",
            "252/252 [==============================] - 0s 1ms/step - loss: 743172.5000 - root_mean_squared_error: 860.6638 - val_loss: 733912.3750 - val_root_mean_squared_error: 856.6586\n",
            "Epoch 18/100\n",
            "252/252 [==============================] - 0s 1ms/step - loss: 696329.5000 - root_mean_squared_error: 835.9014 - val_loss: 691319.1875 - val_root_mean_squared_error: 831.4232\n",
            "Epoch 19/100\n",
            "252/252 [==============================] - 0s 1ms/step - loss: 659288.0625 - root_mean_squared_error: 810.5913 - val_loss: 649111.1250 - val_root_mean_squared_error: 805.6359\n",
            "Epoch 20/100\n",
            "252/252 [==============================] - 0s 1ms/step - loss: 617847.6250 - root_mean_squared_error: 785.8481 - val_loss: 609606.2500 - val_root_mean_squared_error: 780.7295\n",
            "Epoch 21/100\n",
            "252/252 [==============================] - 0s 1ms/step - loss: 580551.6250 - root_mean_squared_error: 761.6129 - val_loss: 571981.3750 - val_root_mean_squared_error: 756.2457\n",
            "Epoch 22/100\n",
            "252/252 [==============================] - 0s 1ms/step - loss: 544537.0625 - root_mean_squared_error: 738.1145 - val_loss: 535632.3750 - val_root_mean_squared_error: 731.8157\n",
            "Epoch 23/100\n",
            "252/252 [==============================] - 0s 1ms/step - loss: 509388.5938 - root_mean_squared_error: 714.8055 - val_loss: 502225.2500 - val_root_mean_squared_error: 708.6207\n",
            "Epoch 24/100\n",
            "252/252 [==============================] - 0s 1ms/step - loss: 478881.6562 - root_mean_squared_error: 692.4808 - val_loss: 470539.9688 - val_root_mean_squared_error: 685.8957\n",
            "Epoch 25/100\n",
            "252/252 [==============================] - 0s 1ms/step - loss: 450056.8750 - root_mean_squared_error: 670.6771 - val_loss: 439629.8125 - val_root_mean_squared_error: 662.9792\n",
            "Epoch 26/100\n",
            "252/252 [==============================] - 0s 1ms/step - loss: 422846.2188 - root_mean_squared_error: 648.9091 - val_loss: 411108.1250 - val_root_mean_squared_error: 641.1060\n",
            "Epoch 27/100\n",
            "252/252 [==============================] - 0s 1ms/step - loss: 394530.4688 - root_mean_squared_error: 628.2761 - val_loss: 384636.7188 - val_root_mean_squared_error: 620.1166\n",
            "Epoch 28/100\n",
            "252/252 [==============================] - 0s 1ms/step - loss: 369576.5625 - root_mean_squared_error: 608.7485 - val_loss: 360113.6562 - val_root_mean_squared_error: 600.0165\n",
            "Epoch 29/100\n",
            "252/252 [==============================] - 0s 1ms/step - loss: 350756.6562 - root_mean_squared_error: 590.1699 - val_loss: 336881.0312 - val_root_mean_squared_error: 580.3329\n",
            "Epoch 30/100\n",
            "252/252 [==============================] - 0s 1ms/step - loss: 328419.2500 - root_mean_squared_error: 572.8041 - val_loss: 316772.0312 - val_root_mean_squared_error: 562.7409\n",
            "Epoch 31/100\n",
            "252/252 [==============================] - 0s 1ms/step - loss: 310387.6562 - root_mean_squared_error: 556.4500 - val_loss: 298076.1875 - val_root_mean_squared_error: 545.8776\n",
            "Epoch 32/100\n",
            "252/252 [==============================] - 0s 1ms/step - loss: 292576.0625 - root_mean_squared_error: 541.1015 - val_loss: 281012.4375 - val_root_mean_squared_error: 530.0188\n",
            "Epoch 33/100\n",
            "252/252 [==============================] - 0s 1ms/step - loss: 277735.9375 - root_mean_squared_error: 526.7103 - val_loss: 265194.7500 - val_root_mean_squared_error: 514.8824\n",
            "Epoch 34/100\n",
            "252/252 [==============================] - 0s 1ms/step - loss: 264213.5625 - root_mean_squared_error: 514.2129 - val_loss: 252296.2188 - val_root_mean_squared_error: 502.2028\n",
            "Epoch 35/100\n",
            "252/252 [==============================] - 0s 1ms/step - loss: 252766.7500 - root_mean_squared_error: 503.0318 - val_loss: 240781.8125 - val_root_mean_squared_error: 490.6074\n",
            "Epoch 36/100\n",
            "252/252 [==============================] - 0s 1ms/step - loss: 243387.6562 - root_mean_squared_error: 492.9411 - val_loss: 230030.0938 - val_root_mean_squared_error: 479.5276\n",
            "Epoch 37/100\n",
            "252/252 [==============================] - 0s 1ms/step - loss: 235434.6875 - root_mean_squared_error: 483.9393 - val_loss: 221292.2031 - val_root_mean_squared_error: 470.3315\n",
            "Epoch 38/100\n",
            "252/252 [==============================] - 0s 1ms/step - loss: 229036.7031 - root_mean_squared_error: 476.3109 - val_loss: 213586.1094 - val_root_mean_squared_error: 462.0702\n",
            "Epoch 39/100\n",
            "252/252 [==============================] - 0s 1ms/step - loss: 221258.7812 - root_mean_squared_error: 470.4777 - val_loss: 208403.7031 - val_root_mean_squared_error: 456.4310\n",
            "Epoch 40/100\n",
            "252/252 [==============================] - 0s 1ms/step - loss: 216662.6250 - root_mean_squared_error: 465.9610 - val_loss: 203786.3125 - val_root_mean_squared_error: 451.3470\n",
            "Epoch 41/100\n",
            "252/252 [==============================] - 0s 1ms/step - loss: 213038.9531 - root_mean_squared_error: 461.9073 - val_loss: 199826.7969 - val_root_mean_squared_error: 446.9419\n",
            "Epoch 42/100\n",
            "252/252 [==============================] - 0s 1ms/step - loss: 210443.2031 - root_mean_squared_error: 458.4667 - val_loss: 196054.2812 - val_root_mean_squared_error: 442.7055\n",
            "Epoch 43/100\n",
            "252/252 [==============================] - 0s 1ms/step - loss: 207368.3906 - root_mean_squared_error: 455.7958 - val_loss: 193596.8594 - val_root_mean_squared_error: 439.9238\n",
            "Epoch 44/100\n",
            "252/252 [==============================] - 0s 1ms/step - loss: 205629.8906 - root_mean_squared_error: 453.8614 - val_loss: 191748.7344 - val_root_mean_squared_error: 437.8199\n",
            "Epoch 45/100\n",
            "252/252 [==============================] - 0s 1ms/step - loss: 204144.3438 - root_mean_squared_error: 452.3556 - val_loss: 190019.8594 - val_root_mean_squared_error: 435.8441\n",
            "Epoch 46/100\n",
            "252/252 [==============================] - 0s 1ms/step - loss: 202997.2656 - root_mean_squared_error: 451.2037 - val_loss: 188937.5625 - val_root_mean_squared_error: 434.6014\n",
            "Epoch 47/100\n",
            "252/252 [==============================] - 0s 1ms/step - loss: 202996.3281 - root_mean_squared_error: 450.3230 - val_loss: 187770.7969 - val_root_mean_squared_error: 433.2606\n",
            "Epoch 48/100\n",
            "252/252 [==============================] - 0s 1ms/step - loss: 201595.3906 - root_mean_squared_error: 449.7077 - val_loss: 186929.5156 - val_root_mean_squared_error: 432.2910\n",
            "Epoch 49/100\n",
            "252/252 [==============================] - 0s 1ms/step - loss: 203727.5781 - root_mean_squared_error: 449.2194 - val_loss: 186311.9219 - val_root_mean_squared_error: 431.5773\n",
            "Epoch 50/100\n",
            "252/252 [==============================] - 0s 1ms/step - loss: 200935.4688 - root_mean_squared_error: 448.8360 - val_loss: 185891.8750 - val_root_mean_squared_error: 431.0908\n",
            "Epoch 51/100\n",
            "252/252 [==============================] - 0s 1ms/step - loss: 200749.8906 - root_mean_squared_error: 448.5330 - val_loss: 185512.0938 - val_root_mean_squared_error: 430.6510\n",
            "Epoch 52/100\n",
            "252/252 [==============================] - 0s 1ms/step - loss: 201108.0312 - root_mean_squared_error: 448.3497 - val_loss: 185203.5625 - val_root_mean_squared_error: 430.2936\n",
            "Epoch 53/100\n",
            "252/252 [==============================] - 0s 1ms/step - loss: 201647.0781 - root_mean_squared_error: 448.1928 - val_loss: 185111.2656 - val_root_mean_squared_error: 430.1859\n",
            "Epoch 54/100\n",
            "252/252 [==============================] - 0s 1ms/step - loss: 200187.8750 - root_mean_squared_error: 448.1219 - val_loss: 184764.4219 - val_root_mean_squared_error: 429.7850\n",
            "Epoch 55/100\n",
            "252/252 [==============================] - 0s 1ms/step - loss: 200396.7812 - root_mean_squared_error: 448.0164 - val_loss: 184868.4219 - val_root_mean_squared_error: 429.9042\n",
            "Epoch 56/100\n",
            "252/252 [==============================] - 0s 1ms/step - loss: 200004.2969 - root_mean_squared_error: 447.9828 - val_loss: 184502.9531 - val_root_mean_squared_error: 429.4815\n",
            "Epoch 57/100\n",
            "252/252 [==============================] - 0s 1ms/step - loss: 201141.8125 - root_mean_squared_error: 447.9361 - val_loss: 184420.4062 - val_root_mean_squared_error: 429.3857\n",
            "Epoch 58/100\n",
            "252/252 [==============================] - 0s 1ms/step - loss: 200639.2812 - root_mean_squared_error: 447.8953 - val_loss: 184390.6562 - val_root_mean_squared_error: 429.3508\n",
            "Epoch 59/100\n",
            "252/252 [==============================] - 0s 1ms/step - loss: 201391.7031 - root_mean_squared_error: 447.8773 - val_loss: 184193.8438 - val_root_mean_squared_error: 429.1235\n",
            "Epoch 60/100\n",
            "252/252 [==============================] - 0s 1ms/step - loss: 199990.6094 - root_mean_squared_error: 447.8549 - val_loss: 184252.7500 - val_root_mean_squared_error: 429.1909\n",
            "Epoch 61/100\n",
            "252/252 [==============================] - 0s 1ms/step - loss: 200733.1406 - root_mean_squared_error: 447.8439 - val_loss: 184142.8594 - val_root_mean_squared_error: 429.0638\n",
            "Epoch 62/100\n",
            "252/252 [==============================] - 0s 1ms/step - loss: 200428.7656 - root_mean_squared_error: 447.8367 - val_loss: 184072.3750 - val_root_mean_squared_error: 428.9822\n",
            "Epoch 63/100\n",
            "252/252 [==============================] - 0s 1ms/step - loss: 200527.0625 - root_mean_squared_error: 447.8340 - val_loss: 183999.2031 - val_root_mean_squared_error: 428.8978\n",
            "Epoch 64/100\n",
            "252/252 [==============================] - 0s 1ms/step - loss: 200162.3125 - root_mean_squared_error: 447.8263 - val_loss: 184012.0312 - val_root_mean_squared_error: 428.9122\n",
            "Epoch 65/100\n",
            "252/252 [==============================] - 0s 1ms/step - loss: 199890.0938 - root_mean_squared_error: 447.8170 - val_loss: 183971.8281 - val_root_mean_squared_error: 428.8656\n",
            "Epoch 66/100\n",
            "252/252 [==============================] - 0s 1ms/step - loss: 202173.4219 - root_mean_squared_error: 447.8080 - val_loss: 183908.4688 - val_root_mean_squared_error: 428.7926\n",
            "Epoch 67/100\n",
            "252/252 [==============================] - 0s 1ms/step - loss: 200284.4688 - root_mean_squared_error: 447.8057 - val_loss: 183959.5469 - val_root_mean_squared_error: 428.8511\n",
            "Epoch 68/100\n",
            "252/252 [==============================] - 0s 1ms/step - loss: 199823.0156 - root_mean_squared_error: 447.8119 - val_loss: 183963.9219 - val_root_mean_squared_error: 428.8562\n",
            "Epoch 69/100\n",
            "252/252 [==============================] - 0s 1ms/step - loss: 200087.3594 - root_mean_squared_error: 447.8046 - val_loss: 183857.1875 - val_root_mean_squared_error: 428.7333\n",
            "Epoch 70/100\n",
            "252/252 [==============================] - 0s 1ms/step - loss: 201890.2656 - root_mean_squared_error: 447.8089 - val_loss: 184025.8125 - val_root_mean_squared_error: 428.9277\n",
            "Epoch 71/100\n",
            "252/252 [==============================] - 0s 1ms/step - loss: 199800.3438 - root_mean_squared_error: 447.8094 - val_loss: 184041.0312 - val_root_mean_squared_error: 428.9452\n",
            "Epoch 72/100\n",
            "252/252 [==============================] - 0s 1ms/step - loss: 200047.1250 - root_mean_squared_error: 447.8141 - val_loss: 183871.9531 - val_root_mean_squared_error: 428.7499\n",
            "Epoch 73/100\n",
            "252/252 [==============================] - 0s 1ms/step - loss: 199961.4688 - root_mean_squared_error: 447.8115 - val_loss: 183965.8594 - val_root_mean_squared_error: 428.8582\n",
            "Epoch 74/100\n",
            "252/252 [==============================] - 0s 1ms/step - loss: 200309.7969 - root_mean_squared_error: 447.8105 - val_loss: 183879.9219 - val_root_mean_squared_error: 428.7591\n",
            "Epoch 75/100\n",
            "252/252 [==============================] - 0s 1ms/step - loss: 199988.5156 - root_mean_squared_error: 447.8018 - val_loss: 183919.6562 - val_root_mean_squared_error: 428.8047\n",
            "Epoch 76/100\n",
            "252/252 [==============================] - 0s 1ms/step - loss: 200821.6094 - root_mean_squared_error: 447.8051 - val_loss: 183828.9062 - val_root_mean_squared_error: 428.7002\n",
            "Epoch 77/100\n",
            "252/252 [==============================] - 0s 1ms/step - loss: 200020.4688 - root_mean_squared_error: 447.8161 - val_loss: 183847.2812 - val_root_mean_squared_error: 428.7213\n",
            "Epoch 78/100\n",
            "252/252 [==============================] - 0s 1ms/step - loss: 201023.0938 - root_mean_squared_error: 447.7985 - val_loss: 183979.2656 - val_root_mean_squared_error: 428.8737\n",
            "Epoch 79/100\n",
            "252/252 [==============================] - 0s 1ms/step - loss: 200578.0938 - root_mean_squared_error: 447.8176 - val_loss: 183878.6094 - val_root_mean_squared_error: 428.7573\n",
            "Epoch 80/100\n",
            "252/252 [==============================] - 0s 1ms/step - loss: 200036.1562 - root_mean_squared_error: 447.8139 - val_loss: 183906.7188 - val_root_mean_squared_error: 428.7898\n",
            "Epoch 81/100\n",
            "252/252 [==============================] - 0s 1ms/step - loss: 204152.8125 - root_mean_squared_error: 447.8212 - val_loss: 183930.2344 - val_root_mean_squared_error: 428.8170\n",
            "Epoch 82/100\n",
            "252/252 [==============================] - 0s 1ms/step - loss: 200031.3438 - root_mean_squared_error: 447.8009 - val_loss: 183827.8125 - val_root_mean_squared_error: 428.6989\n",
            "Epoch 83/100\n",
            "252/252 [==============================] - 0s 1ms/step - loss: 199885.5938 - root_mean_squared_error: 447.8131 - val_loss: 183860.0625 - val_root_mean_squared_error: 428.7361\n",
            "Epoch 84/100\n",
            "252/252 [==============================] - 0s 1ms/step - loss: 200149.6562 - root_mean_squared_error: 447.8083 - val_loss: 183838.7500 - val_root_mean_squared_error: 428.7115\n",
            "Epoch 85/100\n",
            "252/252 [==============================] - 0s 1ms/step - loss: 199914.1250 - root_mean_squared_error: 447.7761 - val_loss: 183947.1406 - val_root_mean_squared_error: 428.8366\n",
            "Epoch 86/100\n",
            "252/252 [==============================] - 0s 1ms/step - loss: 201372.7031 - root_mean_squared_error: 447.8232 - val_loss: 183846.5781 - val_root_mean_squared_error: 428.7204\n",
            "Epoch 87/100\n",
            "252/252 [==============================] - 0s 1ms/step - loss: 204774.7344 - root_mean_squared_error: 447.8076 - val_loss: 183777.4062 - val_root_mean_squared_error: 428.6412\n",
            "Epoch 88/100\n",
            "252/252 [==============================] - 0s 1ms/step - loss: 199833.0000 - root_mean_squared_error: 447.8071 - val_loss: 183980.3125 - val_root_mean_squared_error: 428.8749\n",
            "Epoch 89/100\n",
            "252/252 [==============================] - 0s 1ms/step - loss: 200589.8906 - root_mean_squared_error: 447.8195 - val_loss: 183930.1875 - val_root_mean_squared_error: 428.8169\n",
            "Epoch 90/100\n",
            "252/252 [==============================] - 0s 1ms/step - loss: 200016.7969 - root_mean_squared_error: 447.8117 - val_loss: 183893.9688 - val_root_mean_squared_error: 428.7751\n",
            "Epoch 91/100\n",
            "252/252 [==============================] - 0s 1ms/step - loss: 200558.7812 - root_mean_squared_error: 447.7963 - val_loss: 183781.6875 - val_root_mean_squared_error: 428.6458\n",
            "Epoch 92/100\n",
            "252/252 [==============================] - 0s 1ms/step - loss: 199955.8594 - root_mean_squared_error: 447.8031 - val_loss: 184088.6250 - val_root_mean_squared_error: 429.0002\n",
            "Epoch 93/100\n",
            "252/252 [==============================] - 0s 1ms/step - loss: 199840.5312 - root_mean_squared_error: 447.8287 - val_loss: 183932.1875 - val_root_mean_squared_error: 428.8193\n",
            "Epoch 94/100\n",
            "252/252 [==============================] - 0s 1ms/step - loss: 200828.0312 - root_mean_squared_error: 447.8101 - val_loss: 183827.1406 - val_root_mean_squared_error: 428.6981\n",
            "Epoch 95/100\n",
            "252/252 [==============================] - 0s 1ms/step - loss: 200366.8438 - root_mean_squared_error: 447.7999 - val_loss: 183810.4219 - val_root_mean_squared_error: 428.6788\n",
            "Epoch 96/100\n",
            "252/252 [==============================] - 0s 1ms/step - loss: 200076.1406 - root_mean_squared_error: 447.8233 - val_loss: 183832.1406 - val_root_mean_squared_error: 428.7037\n",
            "Epoch 97/100\n",
            "252/252 [==============================] - 0s 1ms/step - loss: 200049.9062 - root_mean_squared_error: 447.8088 - val_loss: 183791.8594 - val_root_mean_squared_error: 428.6573\n",
            "Epoch 98/100\n",
            "252/252 [==============================] - 0s 1ms/step - loss: 200014.0000 - root_mean_squared_error: 447.8148 - val_loss: 183876.6406 - val_root_mean_squared_error: 428.7549\n",
            "Epoch 99/100\n",
            "252/252 [==============================] - 0s 1ms/step - loss: 200744.4688 - root_mean_squared_error: 447.8137 - val_loss: 183869.2031 - val_root_mean_squared_error: 428.7464\n",
            "Epoch 100/100\n",
            "252/252 [==============================] - 0s 1ms/step - loss: 200592.0312 - root_mean_squared_error: 447.7931 - val_loss: 184191.1719 - val_root_mean_squared_error: 429.1190\n",
            "1631.9046630859375\n"
          ],
          "name": "stdout"
        },
        {
          "output_type": "display_data",
          "data": {
            "image/png": "[encoded data removed]",
            "text/plain": [
              "<Figure size 432x288 with 1 Axes>"
            ]
          },
          "metadata": {
            "tags": []
          }
        }
      ]
    },
    {
      "cell_type": "markdown",
      "metadata": {
        "id": "lkkojeqB9JFJ",
        "colab_type": "text"
      },
      "source": [
        "100 epochs is too large, so we decided with 50 epochs as executed in the training run.<br>\n",
        "learning_rate = 0.5<br>\n",
        "epochs = 50<br>\n",
        "batch_size = 100<br>"
      ]
    },
    {
      "cell_type": "code",
      "metadata": {
        "id": "GbNY2bkqNAS6",
        "colab_type": "code",
        "outputId": "c932230d-f9d7-47d6-cac2-ed205a0c5467",
        "colab": {
          "base_uri": "https://localhost:8080/",
          "height": 51
        }
      },
      "source": [
        "#@title Define the functions that build and train a model\n",
        "def build_model(my_learning_rate):\n",
        "  \"\"\"Create and compile a simple linear regression model.\"\"\"\n",
        "  # Most simple tf.keras models are sequential.\n",
        "  model = tf.keras.models.Sequential()\n",
        "\n",
        "  # Describe the topography of the model.\n",
        "  # The topography of a simple linear regression model\n",
        "  # is a single node in a single layer.\n",
        "  model.add(tf.keras.layers.Dense(units=1, \n",
        "                                  input_shape=(1,)))\n",
        "\n",
        "  # Compile the model topography into code that TensorFlow can efficiently\n",
        "  # execute. Configure training to minimize the model's mean squared error. \n",
        "  model.compile(optimizer=tf.keras.optimizers.RMSprop(lr=my_learning_rate),\n",
        "                loss=\"mean_squared_error\",\n",
        "                metrics=[tf.keras.metrics.RootMeanSquaredError()])\n",
        "\n",
        "  return model        \n",
        "\n",
        "\n",
        "def train_model(model, df, feature, label, epochs, batch_size):\n",
        "  \"\"\"Train the model by feeding it data.\"\"\"\n",
        "\n",
        "  # Feed the model the feature and the label.\n",
        "  # The model will train for the specified number of epochs. \n",
        "  history = model.fit(x=df[feature],\n",
        "                      y=df[label],\n",
        "                      batch_size=batch_size,\n",
        "                      epochs=epochs)\n",
        "\n",
        "  # Gather the trained model's weight and bias.\n",
        "  trained_weight = model.get_weights()[0]\n",
        "  trained_bias = model.get_weights()[1]\n",
        "\n",
        "  # The list of epochs is stored separately from the rest of history.\n",
        "  epochs = history.epoch\n",
        "  \n",
        "  # Isolate the error for each epoch.\n",
        "  hist = pd.DataFrame(history.history)\n",
        "\n",
        "  # To track the progression of training, we're going to take a snapshot\n",
        "  # of the model's root mean squared error at each epoch. \n",
        "  rmse = hist[\"root_mean_squared_error\"]\n",
        "\n",
        "  return trained_weight, trained_bias, epochs, rmse\n",
        "\n",
        "print(\"Defined the create_model and traing_model functions.\")\n",
        "\n",
        "#@title Define the plotting functions\n",
        "def plot_the_model(trained_weight, trained_bias, feature, label):\n",
        "  \"\"\"Plot the trained model against 200 random training examples.\"\"\"\n",
        "\n",
        "  # Label the axes.\n",
        "  plt.xlabel(feature)\n",
        "  plt.ylabel(label)\n",
        "\n",
        "  # Create a scatter plot from 200 random points of the dataset.\n",
        "  random_examples = train_df.sample(n=10000)\n",
        "  plt.scatter(random_examples[feature], random_examples[label])\n",
        "\n",
        "  # Create a red line representing the model. The red line starts\n",
        "  # at coordinates (x0, y0) and ends at coordinates (x1, y1).\n",
        "  x0 = 0\n",
        "  y0 = trained_bias\n",
        "  x1 = 1\n",
        "  y1 = trained_bias + (trained_weight * x1)\n",
        "  plt.plot([x0, x1], [y0, y1], c='r')\n",
        "\n",
        "  # Render the scatter plot and the red line.\n",
        "  plt.show()\n",
        "\n",
        "\n",
        "def plot_the_loss_curve(epochs, rmse):\n",
        "  \"\"\"Plot a curve of loss vs. epoch.\"\"\"\n",
        "\n",
        "  plt.figure()\n",
        "  plt.xlabel(\"Epoch\")\n",
        "  plt.ylabel(\"Root Mean Squared Error\")\n",
        "\n",
        "  plt.plot(epochs, rmse, label=\"Loss\")\n",
        "  plt.legend()\n",
        "  plt.ylim([rmse.min()*0.97, rmse.max()])\n",
        "  plt.show()  \n",
        "\n",
        "print(\"Defined the plot_the_model and plot_the_loss_curve functions.\")"
      ],
      "execution_count": 0,
      "outputs": [
        {
          "output_type": "stream",
          "text": [
            "Defined the create_model and traing_model functions.\n",
            "Defined the plot_the_model and plot_the_loss_curve functions.\n"
          ],
          "name": "stdout"
        }
      ]
    },
    {
      "cell_type": "code",
      "metadata": {
        "id": "BooFik-JGI_4",
        "colab_type": "code",
        "outputId": "6f625a93-2e18-41e2-8395-bf6757b7956e",
        "colab": {
          "base_uri": "https://localhost:8080/",
          "height": 1000
        }
      },
      "source": [
        "# The following variables are the hyperparameters.\n",
        "learning_rate = 0.5\n",
        "epochs = 50\n",
        "batch_size = 100\n",
        "\n",
        "# Specify the feature and the label.\n",
        "my_feature = \"carat\"  # carat value.\n",
        "my_label=\"price\" # the price value for that specific diamond.\n",
        "# We're predicting diamond price based on carat value\n",
        "\n",
        "# Discard any pre-existing version of the model.\n",
        "my_model = None\n",
        "\n",
        "# Invoke the functions.\n",
        "my_model = build_model(learning_rate)\n",
        "weight, bias, epochs, rmse = train_model(my_model, train_df, \n",
        "                                       my_label,\n",
        "                                         epochs, batch_size)\n",
        "\n",
        "print(\"\\nThe learned weight for your model is %.4f\" % weight)\n",
        "print(\"The learned bias for your model is %.4f\\n\" % bias )\n",
        "\n",
        "plot_the_model(weight, bias, my_feature, my_label)\n",
        "plot_the_loss_curve(epochs, rmse)"
      ],
      "execution_count": 0,
      "outputs": [
        {
          "output_type": "stream",
          "text": [
            "Epoch 1/50\n",
            "314/314 [==============================] - 0s 980us/step - loss: 4930037.5000 - root_mean_squared_error: 2220.3594\n",
            "Epoch 2/50\n",
            "314/314 [==============================] - 0s 981us/step - loss: 4013453.7500 - root_mean_squared_error: 2003.6334\n",
            "Epoch 3/50\n",
            "314/314 [==============================] - 0s 988us/step - loss: 3221003.5000 - root_mean_squared_error: 1794.6968\n",
            "Epoch 4/50\n",
            "314/314 [==============================] - 0s 1ms/step - loss: 2553830.5000 - root_mean_squared_error: 1598.1453\n",
            "Epoch 5/50\n",
            "314/314 [==============================] - 0s 997us/step - loss: 2010801.7500 - root_mean_squared_error: 1417.9198\n",
            "Epoch 6/50\n",
            "314/314 [==============================] - 0s 1ms/step - loss: 1593570.2500 - root_mean_squared_error: 1262.3942\n",
            "Epoch 7/50\n",
            "314/314 [==============================] - 0s 957us/step - loss: 1296199.6250 - root_mean_squared_error: 1138.6104\n",
            "Epoch 8/50\n",
            "314/314 [==============================] - 0s 1ms/step - loss: 1120493.3750 - root_mean_squared_error: 1058.4924\n",
            "Epoch 9/50\n",
            "314/314 [==============================] - 0s 1ms/step - loss: 1032496.6250 - root_mean_squared_error: 1016.0964\n",
            "Epoch 10/50\n",
            "314/314 [==============================] - 0s 1ms/step - loss: 966763.6250 - root_mean_squared_error: 983.2326\n",
            "Epoch 11/50\n",
            "314/314 [==============================] - 0s 1ms/step - loss: 903109.5000 - root_mean_squared_error: 950.3132\n",
            "Epoch 12/50\n",
            "314/314 [==============================] - 0s 990us/step - loss: 842964.2500 - root_mean_squared_error: 918.1577\n",
            "Epoch 13/50\n",
            "314/314 [==============================] - 0s 1ms/step - loss: 783272.5000 - root_mean_squared_error: 885.0776\n",
            "Epoch 14/50\n",
            "314/314 [==============================] - 0s 1ms/step - loss: 727875.7500 - root_mean_squared_error: 853.1527\n",
            "Epoch 15/50\n",
            "314/314 [==============================] - 0s 969us/step - loss: 675339.5000 - root_mean_squared_error: 821.8734\n",
            "Epoch 16/50\n",
            "314/314 [==============================] - 0s 1ms/step - loss: 625144.6250 - root_mean_squared_error: 790.6160\n",
            "Epoch 17/50\n",
            "314/314 [==============================] - 0s 1ms/step - loss: 577835.5000 - root_mean_squared_error: 760.2059\n",
            "Epoch 18/50\n",
            "314/314 [==============================] - 0s 1ms/step - loss: 533861.6250 - root_mean_squared_error: 730.6915\n",
            "Epoch 19/50\n",
            "314/314 [==============================] - 0s 1ms/step - loss: 492504.4062 - root_mean_squared_error: 701.7578\n",
            "Epoch 20/50\n",
            "314/314 [==============================] - 0s 996us/step - loss: 454803.4688 - root_mean_squared_error: 674.3159\n",
            "Epoch 21/50\n",
            "314/314 [==============================] - 0s 986us/step - loss: 419099.3438 - root_mean_squared_error: 647.3434\n",
            "Epoch 22/50\n",
            "314/314 [==============================] - 0s 995us/step - loss: 387263.2500 - root_mean_squared_error: 622.3417\n",
            "Epoch 23/50\n",
            "314/314 [==============================] - 0s 997us/step - loss: 357714.2500 - root_mean_squared_error: 598.0413\n",
            "Epoch 24/50\n",
            "314/314 [==============================] - 0s 1ms/step - loss: 330735.3125 - root_mean_squared_error: 575.0988\n",
            "Epoch 25/50\n",
            "314/314 [==============================] - 0s 958us/step - loss: 307251.3438 - root_mean_squared_error: 554.2773\n",
            "Epoch 26/50\n",
            "314/314 [==============================] - 0s 956us/step - loss: 285816.5625 - root_mean_squared_error: 534.6385\n",
            "Epoch 27/50\n",
            "314/314 [==============================] - 0s 1ms/step - loss: 267739.1875 - root_mean_squared_error: 517.4162\n",
            "Epoch 28/50\n",
            "314/314 [==============================] - 0s 953us/step - loss: 252115.1562 - root_mean_squared_error: 502.0521\n",
            "Epoch 29/50\n",
            "314/314 [==============================] - 0s 986us/step - loss: 239015.0781 - root_mean_squared_error: 488.9273\n",
            "Epoch 30/50\n",
            "314/314 [==============================] - 0s 1ms/step - loss: 228673.7344 - root_mean_squared_error: 478.1887\n",
            "Epoch 31/50\n",
            "314/314 [==============================] - 0s 962us/step - loss: 220426.1406 - root_mean_squared_error: 469.5010\n",
            "Epoch 32/50\n",
            "314/314 [==============================] - 0s 1ms/step - loss: 213839.6875 - root_mean_squared_error: 462.4296\n",
            "Epoch 33/50\n",
            "314/314 [==============================] - 0s 1ms/step - loss: 209075.2969 - root_mean_squared_error: 457.2374\n",
            "Epoch 34/50\n",
            "314/314 [==============================] - 0s 1ms/step - loss: 205586.3125 - root_mean_squared_error: 453.4746\n",
            "Epoch 35/50\n",
            "314/314 [==============================] - 0s 1ms/step - loss: 203160.3125 - root_mean_squared_error: 450.6794\n",
            "Epoch 36/50\n",
            "314/314 [==============================] - 0s 1ms/step - loss: 201306.2656 - root_mean_squared_error: 448.7087\n",
            "Epoch 37/50\n",
            "314/314 [==============================] - 0s 995us/step - loss: 200047.6562 - root_mean_squared_error: 447.2842\n",
            "Epoch 38/50\n",
            "314/314 [==============================] - 0s 1ms/step - loss: 199150.7344 - root_mean_squared_error: 446.2443\n",
            "Epoch 39/50\n",
            "314/314 [==============================] - 0s 1ms/step - loss: 198508.0156 - root_mean_squared_error: 445.5874\n",
            "Epoch 40/50\n",
            "314/314 [==============================] - 0s 1ms/step - loss: 198114.8125 - root_mean_squared_error: 445.1133\n",
            "Epoch 41/50\n",
            "314/314 [==============================] - 0s 1ms/step - loss: 197834.8750 - root_mean_squared_error: 444.7568\n",
            "Epoch 42/50\n",
            "314/314 [==============================] - 0s 991us/step - loss: 197672.9219 - root_mean_squared_error: 444.5428\n",
            "Epoch 43/50\n",
            "314/314 [==============================] - 0s 1ms/step - loss: 197427.6406 - root_mean_squared_error: 444.3762\n",
            "Epoch 44/50\n",
            "314/314 [==============================] - 0s 951us/step - loss: 197441.3594 - root_mean_squared_error: 444.2852\n",
            "Epoch 45/50\n",
            "314/314 [==============================] - 0s 990us/step - loss: 197285.9531 - root_mean_squared_error: 444.2039\n",
            "Epoch 46/50\n",
            "314/314 [==============================] - 0s 1ms/step - loss: 197248.8594 - root_mean_squared_error: 444.1528\n",
            "Epoch 47/50\n",
            "314/314 [==============================] - 0s 927us/step - loss: 197222.3125 - root_mean_squared_error: 444.1277\n",
            "Epoch 48/50\n",
            "314/314 [==============================] - 0s 1ms/step - loss: 197228.1094 - root_mean_squared_error: 444.0855\n",
            "Epoch 49/50\n",
            "314/314 [==============================] - 0s 989us/step - loss: 197175.0000 - root_mean_squared_error: 444.0435\n",
            "Epoch 50/50\n",
            "314/314 [==============================] - 0s 983us/step - loss: 197192.0781 - root_mean_squared_error: 444.0742\n",
            "\n",
            "The learned weight for your model is 4812.6582\n",
            "The learned bias for your model is -846.7386\n",
            "\n"
          ],
          "name": "stdout"
        },
        {
          "output_type": "display_data",
          "data": {
            "image/png": "[encoded data removed]",
            "text/plain": [
              "<Figure size 432x288 with 1 Axes>"
            ]
          },
          "metadata": {
            "tags": []
          }
        },
        {
          "output_type": "display_data",
          "data": {
            "image/png": "[encoded data removed]",
            "text/plain": [
              "<Figure size 432x288 with 1 Axes>"
            ]
          },
          "metadata": {
            "tags": []
          }
        }
      ]
    },
    {
      "cell_type": "code",
      "metadata": {
        "id": "zYoTwKs5NKBS",
        "colab_type": "code",
        "outputId": "959e6d12-2953-4fe7-88d9-a9469b163845",
        "colab": {
          "base_uri": "https://localhost:8080/",
          "height": 34
        }
      },
      "source": [
        "my_feature"
      ],
      "execution_count": 0,
      "outputs": [
        {
          "output_type": "execute_result",
          "data": {
            "text/plain": [
              "'carat'"
            ]
          },
          "metadata": {
            "tags": []
          },
          "execution_count": 116
        }
      ]
    },
    {
      "cell_type": "markdown",
      "metadata": {
        "id": "w5YkErBA7Nmy",
        "colab_type": "text"
      },
      "source": [
        "With only carat value we did not reach minimum loss, although this model has converged. This could be caused by the large size of data and large variability that makes it difficult for the model to learn from. Besides, we also need to take into account the volume of the diamond, so that's what we're going to do next."
      ]
    },
    {
      "cell_type": "markdown",
      "metadata": {
        "id": "utPNtIj7S6we",
        "colab_type": "text"
      },
      "source": [
        "## Modelling Volume(x*y*z) Vs Price"
      ]
    },
    {
      "cell_type": "code",
      "metadata": {
        "id": "J2m_3nbyTIgV",
        "colab_type": "code",
        "outputId": "73df099f-ad11-4690-d104-eb128e8d6ba2",
        "colab": {
          "base_uri": "https://localhost:8080/",
          "height": 34
        }
      },
      "source": [
        "#@title Define functions to create and train a model, and a plotting function\n",
        "def create_model(my_learning_rate, feature_layer):\n",
        "  \"\"\"Create and compile a simple linear regression model.\"\"\"\n",
        "  # Most simple tf.keras models are sequential.\n",
        "  model = tf.keras.models.Sequential()\n",
        "\n",
        "  # Add the layer containing the feature columns to the model.\n",
        "  model.add(feature_layer)\n",
        "\n",
        "  # Add one linear layer to the model to yield a simple linear regressor.\n",
        "  model.add(tf.keras.layers.Dense(units=1, input_shape=(1,)))\n",
        "\n",
        "  # Construct the layers into a model that TensorFlow can execute.\n",
        "  model.compile(optimizer=tf.keras.optimizers.RMSprop(lr=my_learning_rate),\n",
        "                loss=\"mean_squared_error\",\n",
        "                metrics=[tf.keras.metrics.RootMeanSquaredError()])\n",
        "\n",
        "  return model           \n",
        "\n",
        "\n",
        "def train_model(model, dataset, epochs, batch_size, label_name):\n",
        "  \"\"\"Feed a dataset into the model in order to train it.\"\"\"\n",
        "\n",
        "  features = {name:np.array(value) for name, value in dataset.items()}\n",
        "  label = np.array(features.pop(label_name))\n",
        "  history = model.fit(x=features, y=label, batch_size=batch_size,\n",
        "                      epochs=epochs, shuffle=True)\n",
        "\n",
        "  # The list of epochs is stored separately from the rest of history.\n",
        "  epochs = history.epoch\n",
        "  \n",
        "  # Isolate the mean absolute error for each epoch.\n",
        "  hist = pd.DataFrame(history.history)\n",
        "  rmse = hist[\"root_mean_squared_error\"]\n",
        "\n",
        "  return epochs, rmse   \n",
        "\n",
        "\n",
        "def plot_the_loss_curve(epochs, rmse):\n",
        "  \"\"\"Plot a curve of loss vs. epoch.\"\"\"\n",
        "\n",
        "  plt.figure()\n",
        "  plt.xlabel(\"Epoch\")\n",
        "  plt.ylabel(\"Root Mean Squared Error\")\n",
        "\n",
        "  plt.plot(epochs, rmse, label=\"Loss\")\n",
        "  plt.legend()\n",
        "  plt.ylim([rmse.min()*0.94, rmse.max()* 1.05])\n",
        "  plt.show()  \n",
        "\n",
        "print(\"Defined the create_model, train_model, and plot_the_loss_curve functions.\")"
      ],
      "execution_count": 0,
      "outputs": [
        {
          "output_type": "stream",
          "text": [
            "Defined the create_model, train_model, and plot_the_loss_curve functions.\n"
          ],
          "name": "stdout"
        }
      ]
    },
    {
      "cell_type": "code",
      "metadata": {
        "id": "3byt4bB_TTdq",
        "colab_type": "code",
        "outputId": "5b00162a-a965-4f1e-dcaf-6ad9f765812a",
        "colab": {
          "base_uri": "https://localhost:8080/",
          "height": 34
        }
      },
      "source": [
        "#@title Load the imports\n",
        "\n",
        "# from __future__ import absolute_import, division, print_function, unicode_literals\n",
        "\n",
        "import numpy as np\n",
        "import pandas as pd\n",
        "import tensorflow as tf\n",
        "from tensorflow import feature_column\n",
        "from tensorflow.keras import layers\n",
        "\n",
        "from matplotlib import pyplot as plt\n",
        "\n",
        "# The following lines adjust the granularity of reporting.\n",
        "pd.options.display.max_rows = 10\n",
        "pd.options.display.float_format = \"{:.1f}\".format\n",
        "\n",
        "tf.keras.backend.set_floatx('float32')\n",
        "\n",
        "print(\"Imported the modules.\")"
      ],
      "execution_count": 0,
      "outputs": [
        {
          "output_type": "stream",
          "text": [
            "Imported the modules.\n"
          ],
          "name": "stdout"
        }
      ]
    },
    {
      "cell_type": "code",
      "metadata": {
        "id": "UAS9Ly-HTVsA",
        "colab_type": "code",
        "outputId": "9e345578-56d7-4408-d3a5-5a61f9bb509b",
        "colab": {
          "base_uri": "https://localhost:8080/",
          "height": 419
        }
      },
      "source": [
        "df = df_raw[['price', 'x', 'y', 'z']].copy()\n",
        "df = df.loc[df['price']<=5000]\n",
        "df['price'] = df['price']/100\n",
        "df"
      ],
      "execution_count": 0,
      "outputs": [
        {
          "output_type": "execute_result",
          "data": {
            "text/html": [
              "<div>\n",
              "<style scoped>\n",
              "    .dataframe tbody tr th:only-of-type {\n",
              "        vertical-align: middle;\n",
              "    }\n",
              "\n",
              "    .dataframe tbody tr th {\n",
              "        vertical-align: top;\n",
              "    }\n",
              "\n",
              "    .dataframe thead th {\n",
              "        text-align: right;\n",
              "    }\n",
              "</style>\n",
              "<table border=\"1\" class=\"dataframe\">\n",
              "  <thead>\n",
              "    <tr style=\"text-align: right;\">\n",
              "      <th></th>\n",
              "      <th>price</th>\n",
              "      <th>x</th>\n",
              "      <th>y</th>\n",
              "      <th>z</th>\n",
              "    </tr>\n",
              "  </thead>\n",
              "  <tbody>\n",
              "    <tr>\n",
              "      <th>0</th>\n",
              "      <td>3.3</td>\n",
              "      <td>4.0</td>\n",
              "      <td>4.0</td>\n",
              "      <td>2.4</td>\n",
              "    </tr>\n",
              "    <tr>\n",
              "      <th>1</th>\n",
              "      <td>3.3</td>\n",
              "      <td>3.9</td>\n",
              "      <td>3.8</td>\n",
              "      <td>2.3</td>\n",
              "    </tr>\n",
              "    <tr>\n",
              "      <th>2</th>\n",
              "      <td>3.3</td>\n",
              "      <td>4.0</td>\n",
              "      <td>4.1</td>\n",
              "      <td>2.3</td>\n",
              "    </tr>\n",
              "    <tr>\n",
              "      <th>3</th>\n",
              "      <td>3.3</td>\n",
              "      <td>4.2</td>\n",
              "      <td>4.2</td>\n",
              "      <td>2.6</td>\n",
              "    </tr>\n",
              "    <tr>\n",
              "      <th>4</th>\n",
              "      <td>3.4</td>\n",
              "      <td>4.3</td>\n",
              "      <td>4.3</td>\n",
              "      <td>2.8</td>\n",
              "    </tr>\n",
              "    <tr>\n",
              "      <th>...</th>\n",
              "      <td>...</td>\n",
              "      <td>...</td>\n",
              "      <td>...</td>\n",
              "      <td>...</td>\n",
              "    </tr>\n",
              "    <tr>\n",
              "      <th>53935</th>\n",
              "      <td>27.6</td>\n",
              "      <td>5.8</td>\n",
              "      <td>5.8</td>\n",
              "      <td>3.5</td>\n",
              "    </tr>\n",
              "    <tr>\n",
              "      <th>53936</th>\n",
              "      <td>27.6</td>\n",
              "      <td>5.7</td>\n",
              "      <td>5.8</td>\n",
              "      <td>3.6</td>\n",
              "    </tr>\n",
              "    <tr>\n",
              "      <th>53937</th>\n",
              "      <td>27.6</td>\n",
              "      <td>5.7</td>\n",
              "      <td>5.7</td>\n",
              "      <td>3.6</td>\n",
              "    </tr>\n",
              "    <tr>\n",
              "      <th>53938</th>\n",
              "      <td>27.6</td>\n",
              "      <td>6.2</td>\n",
              "      <td>6.1</td>\n",
              "      <td>3.7</td>\n",
              "    </tr>\n",
              "    <tr>\n",
              "      <th>53939</th>\n",
              "      <td>27.6</td>\n",
              "      <td>5.8</td>\n",
              "      <td>5.9</td>\n",
              "      <td>3.6</td>\n",
              "    </tr>\n",
              "  </tbody>\n",
              "</table>\n",
              "<p>39226 rows × 4 columns</p>\n",
              "</div>"
            ],
            "text/plain": [
              "       price   x   y   z\n",
              "0        3.3 4.0 4.0 2.4\n",
              "1        3.3 3.9 3.8 2.3\n",
              "2        3.3 4.0 4.1 2.3\n",
              "3        3.3 4.2 4.2 2.6\n",
              "4        3.4 4.3 4.3 2.8\n",
              "...      ...  ..  ..  ..\n",
              "53935   27.6 5.8 5.8 3.5\n",
              "53936   27.6 5.7 5.8 3.6\n",
              "53937   27.6 5.7 5.7 3.6\n",
              "53938   27.6 6.2 6.1 3.7\n",
              "53939   27.6 5.8 5.9 3.6\n",
              "\n",
              "[39226 rows x 4 columns]"
            ]
          },
          "metadata": {
            "tags": []
          },
          "execution_count": 119
        }
      ]
    },
    {
      "cell_type": "code",
      "metadata": {
        "id": "o8WzCIH1TYCx",
        "colab_type": "code",
        "colab": {}
      },
      "source": [
        "from sklearn.model_selection import train_test_split\n",
        "train_df, test_df = train_test_split(df, test_size=0.2)"
      ],
      "execution_count": 0,
      "outputs": []
    },
    {
      "cell_type": "code",
      "metadata": {
        "id": "AaYnCy8uTax7",
        "colab_type": "code",
        "colab": {}
      },
      "source": [
        "resolution_in_degrees = 1.0 \n",
        "\n",
        "# Create a new empty list that will eventually hold the generated feature column.\n",
        "feature_columns = []\n",
        "\n",
        "# Create a bucket feature column for x.\n",
        "x_as_a_numeric_column = tf.feature_column.numeric_column(\"x\")\n",
        "x_boundaries = list(np.arange(int(min(train_df['x'])), int(max(train_df['x'])), resolution_in_degrees))\n",
        "x = tf.feature_column.bucketized_column(x_as_a_numeric_column, x_boundaries)\n",
        "\n",
        "# Create a bucket feature column for y.\n",
        "y_as_a_numeric_column = tf.feature_column.numeric_column(\"y\")\n",
        "y_boundaries = list(np.arange(int(min(train_df['y'])), int(max(train_df['y'])), resolution_in_degrees))\n",
        "y = tf.feature_column.bucketized_column(y_as_a_numeric_column, y_boundaries)\n",
        "\n",
        "# Create a bucket feature column for z.\n",
        "z_as_a_numeric_column = tf.feature_column.numeric_column(\"z\")\n",
        "z_boundaries = list(np.arange(int(min(train_df['z'])), int(max(train_df['z'])), resolution_in_degrees))\n",
        "z = tf.feature_column.bucketized_column(z_as_a_numeric_column, z_boundaries)\n",
        "\n",
        "# Create a feature cross of latitude and longitude.\n",
        "x_y_z= tf.feature_column.crossed_column([x, y, z], hash_bucket_size=100)\n",
        "crossed_feature = tf.feature_column.indicator_column(x_y_z)\n",
        "feature_columns.append(crossed_feature)\n",
        "\n",
        "# Convert the list of feature columns into a layer that will later be fed into\n",
        "# the model. \n",
        "feature_cross_feature_layer = layers.DenseFeatures(feature_columns)"
      ],
      "execution_count": 0,
      "outputs": []
    },
    {
      "cell_type": "code",
      "metadata": {
        "id": "M24ZlESbThH7",
        "colab_type": "code",
        "outputId": "0fe29461-f866-4189-ac5c-51c047b8a795",
        "colab": {
          "base_uri": "https://localhost:8080/",
          "height": 231
        }
      },
      "source": [
        "# The following variables are the hyperparameters.\n",
        "learning_rate = 0.04\n",
        "epochs = 10\n",
        "batch_size = 100\n",
        "label_name = \"price\"\n",
        "\n",
        "\n",
        "# Build the model, this time passing in the feature_cross_feature_layer: \n",
        "my_model = create_model(learning_rate, feature_cross_feature_layer)\n",
        "\n",
        "\n",
        "weight, bias, epochs, rmse = train_model(my_model, train_df, feature_columns,\n",
        "                                         label_name, epochs,batch_size)\n",
        "\n",
        "\n",
        "# Train the model on the training set.\n",
        "epochs, rmse = train_model(my_model, train_df, epochs, batch_size, label_name)\n",
        "\n",
        "plot_the_loss_curve(epochs, rmse)\n",
        "plot_the_model(weight, bias, my_feature, my_label)\n",
        "print(\"\\nThe learned weight for your model is %.4f\" % weight)\n",
        "print(\"The learned bias for your model is %.4f\\n\" % bias )\n",
        "print(\"\\n: Evaluate the new model against the test set:\")\n",
        "test_features = {name:np.array(value) for name, value in test_df.items()}\n",
        "test_label = np.array(test_features.pop(label_name))\n",
        "my_model.evaluate(x=test_features, y=test_label, batch_size=batch_size)"
      ],
      "execution_count": 0,
      "outputs": [
        {
          "output_type": "error",
          "ename": "TypeError",
          "evalue": "ignored",
          "traceback": [
            "\u001b[0;31m---------------------------------------------------------------------------\u001b[0m",
            "\u001b[0;31mTypeError\u001b[0m                                 Traceback (most recent call last)",
            "\u001b[0;32m<ipython-input-122-3aa37ac153ee>\u001b[0m in \u001b[0;36m<module>\u001b[0;34m()\u001b[0m\n\u001b[1;32m     10\u001b[0m \u001b[0;34m\u001b[0m\u001b[0m\n\u001b[1;32m     11\u001b[0m weight, bias, epochs, rmse = train_model(my_model, train_df, feature_columns,\n\u001b[0;32m---> 12\u001b[0;31m                                          label_name, epochs,batch_size)\n\u001b[0m\u001b[1;32m     13\u001b[0m \u001b[0;34m\u001b[0m\u001b[0m\n\u001b[1;32m     14\u001b[0m \u001b[0;34m\u001b[0m\u001b[0m\n",
            "\u001b[0;31mTypeError\u001b[0m: train_model() takes 5 positional arguments but 6 were given"
          ]
        }
      ]
    },
    {
      "cell_type": "markdown",
      "metadata": {
        "id": "qCSzgUKITLui",
        "colab_type": "text"
      },
      "source": [
        "## Modelling Cross Feature (Carat and Volume) Vs Price"
      ]
    },
    {
      "cell_type": "code",
      "metadata": {
        "id": "mSayOk7qBB0W",
        "colab_type": "code",
        "colab": {}
      },
      "source": [
        "#@title Define functions to create and train a model, and a plotting function\n",
        "def create_model(my_learning_rate, feature_layer):\n",
        "  \"\"\"Create and compile a simple linear regression model.\"\"\"\n",
        "  # Most simple tf.keras models are sequential.\n",
        "  model = tf.keras.models.Sequential()\n",
        "\n",
        "  # Add the layer containing the feature columns to the model.\n",
        "  model.add(feature_layer)\n",
        "\n",
        "  # Add one linear layer to the model to yield a simple linear regressor.\n",
        "  model.add(tf.keras.layers.Dense(units=1, input_shape=(1,)))\n",
        "\n",
        "  # Construct the layers into a model that TensorFlow can execute.\n",
        "  model.compile(optimizer=tf.keras.optimizers.RMSprop(lr=my_learning_rate),\n",
        "                loss=\"mean_squared_error\",\n",
        "                metrics=[tf.keras.metrics.RootMeanSquaredError()])\n",
        "\n",
        "  return model           \n",
        "\n",
        "\n",
        "def train_model(model, dataset, epochs, batch_size, label_name):\n",
        "  \"\"\"Feed a dataset into the model in order to train it.\"\"\"\n",
        "\n",
        "  features = {name:np.array(value) for name, value in dataset.items()}\n",
        "  label = np.array(features.pop(label_name))\n",
        "  history = model.fit(x=features, y=label, batch_size=batch_size,\n",
        "                      epochs=epochs, shuffle=True)\n",
        "\n",
        "  # The list of epochs is stored separately from the rest of history.\n",
        "  epochs = history.epoch\n",
        "  \n",
        "  # Isolate the mean absolute error for each epoch.\n",
        "  hist = pd.DataFrame(history.history)\n",
        "  rmse = hist[\"root_mean_squared_error\"]\n",
        "\n",
        "  return epochs, rmse   \n",
        "\n",
        "\n",
        "def plot_the_loss_curve(epochs, rmse):\n",
        "  \"\"\"Plot a curve of loss vs. epoch.\"\"\"\n",
        "\n",
        "  plt.figure()\n",
        "  plt.xlabel(\"Epoch\")\n",
        "  plt.ylabel(\"Root Mean Squared Error\")\n",
        "\n",
        "  plt.plot(epochs, rmse, label=\"Loss\")\n",
        "  plt.legend()\n",
        "  plt.ylim([rmse.min()*0.94, rmse.max()* 1.05])\n",
        "  plt.show()  \n",
        "\n",
        "print(\"Defined the create_model, train_model, and plot_the_loss_curve functions.\")"
      ],
      "execution_count": 0,
      "outputs": []
    },
    {
      "cell_type": "code",
      "metadata": {
        "id": "9n9_cTveKmse",
        "colab_type": "code",
        "cellView": "both",
        "colab": {}
      },
      "source": [
        "#@title Load the imports\n",
        "\n",
        "# from __future__ import absolute_import, division, print_function, unicode_literals\n",
        "\n",
        "import numpy as np\n",
        "import pandas as pd\n",
        "import tensorflow as tf\n",
        "from tensorflow import feature_column\n",
        "from tensorflow.keras import layers\n",
        "\n",
        "from matplotlib import pyplot as plt\n",
        "\n",
        "# The following lines adjust the granularity of reporting.\n",
        "pd.options.display.max_rows = 10\n",
        "pd.options.display.float_format = \"{:.1f}\".format\n",
        "\n",
        "tf.keras.backend.set_floatx('float32')\n",
        "\n",
        "print(\"Imported the modules.\")"
      ],
      "execution_count": 0,
      "outputs": []
    },
    {
      "cell_type": "code",
      "metadata": {
        "id": "P6yWFD185Yrz",
        "colab_type": "code",
        "colab": {}
      },
      "source": [
        "df = df_raw[['carat', 'price', 'x', 'y', 'z']].copy()\n",
        "df = df.loc[df['price']<=5000]\n",
        "df['price'] = df['price']/100\n",
        "df"
      ],
      "execution_count": 0,
      "outputs": []
    },
    {
      "cell_type": "code",
      "metadata": {
        "id": "rPmSc5Zk-v7k",
        "colab_type": "code",
        "colab": {}
      },
      "source": [
        "from sklearn.model_selection import train_test_split\n",
        "train_df, test_df = train_test_split(df, test_size=0.2)"
      ],
      "execution_count": 0,
      "outputs": []
    },
    {
      "cell_type": "code",
      "metadata": {
        "id": "ori6XYQt49ap",
        "colab_type": "code",
        "colab": {}
      },
      "source": [
        "resolution_in_degrees = 1.0 \n",
        "\n",
        "# Create a new empty list that will eventually hold the generated feature column.\n",
        "feature_columns = []\n",
        "\n",
        "# Create a bucket feature column for x.\n",
        "x_as_a_numeric_column = tf.feature_column.numeric_column(\"x\")\n",
        "x_boundaries = list(np.arange(int(min(train_df['x'])), int(max(train_df['x'])), resolution_in_degrees))\n",
        "x = tf.feature_column.bucketized_column(x_as_a_numeric_column, x_boundaries)\n",
        "\n",
        "# Create a bucket feature column for y.\n",
        "y_as_a_numeric_column = tf.feature_column.numeric_column(\"y\")\n",
        "y_boundaries = list(np.arange(int(min(train_df['y'])), int(max(train_df['y'])), resolution_in_degrees))\n",
        "y = tf.feature_column.bucketized_column(y_as_a_numeric_column, y_boundaries)\n",
        "\n",
        "# Create a bucket feature column for z.\n",
        "z_as_a_numeric_column = tf.feature_column.numeric_column(\"z\")\n",
        "z_boundaries = list(np.arange(int(min(train_df['z'])), int(max(train_df['z'])), resolution_in_degrees))\n",
        "z = tf.feature_column.bucketized_column(z_as_a_numeric_column, z_boundaries)\n",
        "\n",
        "# Create a bucket feature column for carat.\n",
        "carat_as_a_numeric_column = tf.feature_column.numeric_column(\"carat\")\n",
        "carat_boundaries = list(np.arange(int(min(train_df['carat'])), int(max(train_df['carat'])), resolution_in_degrees))\n",
        "carat = tf.feature_column.bucketized_column(carat_as_a_numeric_column, carat_boundaries)\n",
        "\n",
        "# Create a feature cross of latitude and longitude.\n",
        "x_y_z_carat = tf.feature_column.crossed_column([x, y, z, carat], hash_bucket_size=100)\n",
        "crossed_feature = tf.feature_column.indicator_column(x_y_z_carat)\n",
        "feature_columns.append(crossed_feature)\n",
        "\n",
        "# Convert the list of feature columns into a layer that will later be fed into\n",
        "# the model. \n",
        "feature_cross_feature_layer = layers.DenseFeatures(feature_columns)"
      ],
      "execution_count": 0,
      "outputs": []
    },
    {
      "cell_type": "code",
      "metadata": {
        "id": "K1wUOndgAPhu",
        "colab_type": "code",
        "colab": {}
      },
      "source": [
        "# The following variables are the hyperparameters.\n",
        "learning_rate = 0.04\n",
        "epochs = 10\n",
        "batch_size = 100\n",
        "label_name = \"price\"\n",
        "\n",
        "\n",
        "# Build the model, this time passing in the feature_cross_feature_layer: \n",
        "my_model = create_model(learning_rate, feature_cross_feature_layer)\n",
        "\n",
        "# Train the model on the training set.\n",
        "epochs, rmse = train_model(my_model, train_df, epochs, batch_size, label_name)\n",
        "\n",
        "plot_the_loss_curve(epochs, rmse)\n",
        "\n",
        "print(\"\\n: Evaluate the new model against the test set:\")\n",
        "test_features = {name:np.array(value) for name, value in test_df.items()}\n",
        "test_label = np.array(test_features.pop(label_name))\n",
        "my_model.evaluate(x=test_features, y=test_label, batch_size=batch_size)"
      ],
      "execution_count": 0,
      "outputs": []
    },
    {
      "cell_type": "markdown",
      "metadata": {
        "id": "FyshPEtqUnDe",
        "colab_type": "text"
      },
      "source": [
        "<h1>Conclusion</h1>"
      ]
    },
    {
      "cell_type": "markdown",
      "metadata": {
        "id": "wa5S8E_3UpY2",
        "colab_type": "text"
      },
      "source": [
        "There are two features that have a same high correlate to diamond price, they are carat and volume(x*y*z). So we got 3 models, they are:\n",
        "- Carat Vs Price\n",
        "(loss: 196544.6094 - root_mean_squared_error: 443.3460)\n",
        "- Volume Vs Price\n",
        "(loss: 28.4951 - root_mean_squared_error: 5.3404)\n",
        "- Cross feature (Carat and Volume) vs Price\n",
        "loss: 37.0994 - root_mean_squared_error: 6.0816\n",
        "\n",
        "The best simple linear regression model is the model of Volume Vs Price, because have the smallest Loss and RMSE.\n"
      ]
    }
  ]
}