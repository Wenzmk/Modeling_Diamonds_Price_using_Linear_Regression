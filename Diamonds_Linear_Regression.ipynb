{
  "nbformat": 4,
  "nbformat_minor": 0,
  "metadata": {
    "kernelspec": {
      "display_name": "Python 3",
      "language": "python",
      "name": "python3"
    },
    "language_info": {
      "codemirror_mode": {
        "name": "ipython",
        "version": 3
      },
      "file_extension": ".py",
      "mimetype": "text/x-python",
      "name": "python",
      "nbconvert_exporter": "python",
      "pygments_lexer": "ipython3",
      "version": "3.7.3"
    },
    "colab": {
      "name": "Diamonds_Linear_Regression.ipynb",
      "provenance": [],
      "collapsed_sections": [],
      "toc_visible": true
    }
  },
  "cells": [
    {
      "cell_type": "markdown",
      "metadata": {
        "id": "view-in-github",
        "colab_type": "text"
      },
      "source": [
        "<a href=\"https://colab.research.google.com/github/realdanielalexander/diamonds_bangkit/blob/master/Diamonds_Linear_Regression.ipynb\" target=\"_parent\"><img src=\"https://colab.research.google.com/assets/colab-badge.svg\" alt=\"Open In Colab\"/></a>"
      ]
    },
    {
      "cell_type": "markdown",
      "metadata": {
        "id": "7cDmJPn7Xxhf",
        "colab_type": "text"
      },
      "source": [
        "<h1>Bangkit MLCC Project - Diamonds Dataset</h1>\n",
        "<ul>\n",
        "  <li>Daniel Alexander</li>\n",
        "  <li>Mardianto Karim</li>\n",
        "  <li>Natasha Yulian</li>\n",
        "</ul>\n",
        "This code block is taken from the 'Programming Exercise' module on Machine Learning Crash Course."
      ]
    },
    {
      "cell_type": "markdown",
      "metadata": {
        "id": "QpwTLRBCFYCD",
        "colab_type": "text"
      },
      "source": [
        "<h1>Run this colab on tensorflow 2.x</h1>"
      ]
    },
    {
      "cell_type": "code",
      "metadata": {
        "id": "koiKMHgjSK11",
        "colab_type": "code",
        "colab": {}
      },
      "source": [
        "#@title Run this Colab on TensorFlow 2.x\n",
        "%tensorflow_version 2.x"
      ],
      "execution_count": 0,
      "outputs": []
    },
    {
      "cell_type": "markdown",
      "metadata": {
        "id": "9EY8q534SORC",
        "colab_type": "text"
      },
      "source": [
        "<h1>Import relevant libraries</h1>"
      ]
    },
    {
      "cell_type": "code",
      "metadata": {
        "id": "Xg2lB0t7ld82",
        "colab_type": "code",
        "colab": {}
      },
      "source": [
        "import pandas as pd\n",
        "import numpy as np\n",
        "import tensorflow as tf\n",
        "from matplotlib import pyplot as plt"
      ],
      "execution_count": 0,
      "outputs": []
    },
    {
      "cell_type": "markdown",
      "metadata": {
        "id": "q2mUOZC_haTY",
        "colab_type": "text"
      },
      "source": [
        "<h1>Load dataset</h1>"
      ]
    },
    {
      "cell_type": "code",
      "metadata": {
        "id": "hWd66LSPmxAn",
        "colab_type": "code",
        "outputId": "4834b102-d5c8-4ba8-bae4-8d21e65b2436",
        "colab": {
          "resources": {
            "http://localhost:8080/nbextensions/google.colab/files.js": {
              "data": "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",
              "ok": true,
              "headers": [
                [
                  "content-type",
                  "application/javascript"
                ]
              ],
              "status": 200,
              "status_text": ""
            }
          },
          "base_uri": "https://localhost:8080/",
          "height": 74
        }
      },
      "source": [
        "from google.colab import files\n",
        "uploaded = files.upload()\n",
        "import io\n",
        "df = pd.read_csv(io.BytesIO(uploaded['diamonds.csv']))\n",
        "# Dataset is now stored in a Pandas Dataframe"
      ],
      "execution_count": 0,
      "outputs": [
        {
          "output_type": "display_data",
          "data": {
            "text/html": [
              "\n",
              "     <input type=\"file\" id=\"files-494f4ea7-0bc7-4530-92d7-f6ff125c3520\" name=\"files[]\" multiple disabled />\n",
              "     <output id=\"result-494f4ea7-0bc7-4530-92d7-f6ff125c3520\">\n",
              "      Upload widget is only available when the cell has been executed in the\n",
              "      current browser session. Please rerun this cell to enable.\n",
              "      </output>\n",
              "      <script src=\"/nbextensions/google.colab/files.js\"></script> "
            ],
            "text/plain": [
              "<IPython.core.display.HTML object>"
            ]
          },
          "metadata": {
            "tags": []
          }
        },
        {
          "output_type": "stream",
          "text": [
            "Saving diamonds.csv to diamonds.csv\n"
          ],
          "name": "stdout"
        }
      ]
    },
    {
      "cell_type": "code",
      "metadata": {
        "id": "MFepjTct9v3n",
        "colab_type": "code",
        "outputId": "d926710d-c656-4f5e-db83-d4a5d1b18da8",
        "colab": {
          "base_uri": "https://localhost:8080/",
          "height": 402
        }
      },
      "source": [
        "df_raw = pd.read_csv('diamonds.csv')\n",
        "df_raw['volume']=df_raw['x']*df_raw['y']*df_raw['z']\n",
        "df_raw"
      ],
      "execution_count": 0,
      "outputs": [
        {
          "output_type": "execute_result",
          "data": {
            "text/html": [
              "<div>\n",
              "<style scoped>\n",
              "    .dataframe tbody tr th:only-of-type {\n",
              "        vertical-align: middle;\n",
              "    }\n",
              "\n",
              "    .dataframe tbody tr th {\n",
              "        vertical-align: top;\n",
              "    }\n",
              "\n",
              "    .dataframe thead th {\n",
              "        text-align: right;\n",
              "    }\n",
              "</style>\n",
              "<table border=\"1\" class=\"dataframe\">\n",
              "  <thead>\n",
              "    <tr style=\"text-align: right;\">\n",
              "      <th></th>\n",
              "      <th>Unnamed: 0</th>\n",
              "      <th>carat</th>\n",
              "      <th>cut</th>\n",
              "      <th>color</th>\n",
              "      <th>clarity</th>\n",
              "      <th>depth</th>\n",
              "      <th>table</th>\n",
              "      <th>price</th>\n",
              "      <th>x</th>\n",
              "      <th>y</th>\n",
              "      <th>z</th>\n",
              "      <th>volume</th>\n",
              "    </tr>\n",
              "  </thead>\n",
              "  <tbody>\n",
              "    <tr>\n",
              "      <th>0</th>\n",
              "      <td>1</td>\n",
              "      <td>0.23</td>\n",
              "      <td>Ideal</td>\n",
              "      <td>E</td>\n",
              "      <td>SI2</td>\n",
              "      <td>61.5</td>\n",
              "      <td>55.0</td>\n",
              "      <td>326</td>\n",
              "      <td>3.95</td>\n",
              "      <td>3.98</td>\n",
              "      <td>2.43</td>\n",
              "      <td>38.202030</td>\n",
              "    </tr>\n",
              "    <tr>\n",
              "      <th>1</th>\n",
              "      <td>2</td>\n",
              "      <td>0.21</td>\n",
              "      <td>Premium</td>\n",
              "      <td>E</td>\n",
              "      <td>SI1</td>\n",
              "      <td>59.8</td>\n",
              "      <td>61.0</td>\n",
              "      <td>326</td>\n",
              "      <td>3.89</td>\n",
              "      <td>3.84</td>\n",
              "      <td>2.31</td>\n",
              "      <td>34.505856</td>\n",
              "    </tr>\n",
              "    <tr>\n",
              "      <th>2</th>\n",
              "      <td>3</td>\n",
              "      <td>0.23</td>\n",
              "      <td>Good</td>\n",
              "      <td>E</td>\n",
              "      <td>VS1</td>\n",
              "      <td>56.9</td>\n",
              "      <td>65.0</td>\n",
              "      <td>327</td>\n",
              "      <td>4.05</td>\n",
              "      <td>4.07</td>\n",
              "      <td>2.31</td>\n",
              "      <td>38.076885</td>\n",
              "    </tr>\n",
              "    <tr>\n",
              "      <th>3</th>\n",
              "      <td>4</td>\n",
              "      <td>0.29</td>\n",
              "      <td>Premium</td>\n",
              "      <td>I</td>\n",
              "      <td>VS2</td>\n",
              "      <td>62.4</td>\n",
              "      <td>58.0</td>\n",
              "      <td>334</td>\n",
              "      <td>4.20</td>\n",
              "      <td>4.23</td>\n",
              "      <td>2.63</td>\n",
              "      <td>46.724580</td>\n",
              "    </tr>\n",
              "    <tr>\n",
              "      <th>4</th>\n",
              "      <td>5</td>\n",
              "      <td>0.31</td>\n",
              "      <td>Good</td>\n",
              "      <td>J</td>\n",
              "      <td>SI2</td>\n",
              "      <td>63.3</td>\n",
              "      <td>58.0</td>\n",
              "      <td>335</td>\n",
              "      <td>4.34</td>\n",
              "      <td>4.35</td>\n",
              "      <td>2.75</td>\n",
              "      <td>51.917250</td>\n",
              "    </tr>\n",
              "    <tr>\n",
              "      <th>...</th>\n",
              "      <td>...</td>\n",
              "      <td>...</td>\n",
              "      <td>...</td>\n",
              "      <td>...</td>\n",
              "      <td>...</td>\n",
              "      <td>...</td>\n",
              "      <td>...</td>\n",
              "      <td>...</td>\n",
              "      <td>...</td>\n",
              "      <td>...</td>\n",
              "      <td>...</td>\n",
              "      <td>...</td>\n",
              "    </tr>\n",
              "    <tr>\n",
              "      <th>53935</th>\n",
              "      <td>53936</td>\n",
              "      <td>0.72</td>\n",
              "      <td>Ideal</td>\n",
              "      <td>D</td>\n",
              "      <td>SI1</td>\n",
              "      <td>60.8</td>\n",
              "      <td>57.0</td>\n",
              "      <td>2757</td>\n",
              "      <td>5.75</td>\n",
              "      <td>5.76</td>\n",
              "      <td>3.50</td>\n",
              "      <td>115.920000</td>\n",
              "    </tr>\n",
              "    <tr>\n",
              "      <th>53936</th>\n",
              "      <td>53937</td>\n",
              "      <td>0.72</td>\n",
              "      <td>Good</td>\n",
              "      <td>D</td>\n",
              "      <td>SI1</td>\n",
              "      <td>63.1</td>\n",
              "      <td>55.0</td>\n",
              "      <td>2757</td>\n",
              "      <td>5.69</td>\n",
              "      <td>5.75</td>\n",
              "      <td>3.61</td>\n",
              "      <td>118.110175</td>\n",
              "    </tr>\n",
              "    <tr>\n",
              "      <th>53937</th>\n",
              "      <td>53938</td>\n",
              "      <td>0.70</td>\n",
              "      <td>Very Good</td>\n",
              "      <td>D</td>\n",
              "      <td>SI1</td>\n",
              "      <td>62.8</td>\n",
              "      <td>60.0</td>\n",
              "      <td>2757</td>\n",
              "      <td>5.66</td>\n",
              "      <td>5.68</td>\n",
              "      <td>3.56</td>\n",
              "      <td>114.449728</td>\n",
              "    </tr>\n",
              "    <tr>\n",
              "      <th>53938</th>\n",
              "      <td>53939</td>\n",
              "      <td>0.86</td>\n",
              "      <td>Premium</td>\n",
              "      <td>H</td>\n",
              "      <td>SI2</td>\n",
              "      <td>61.0</td>\n",
              "      <td>58.0</td>\n",
              "      <td>2757</td>\n",
              "      <td>6.15</td>\n",
              "      <td>6.12</td>\n",
              "      <td>3.74</td>\n",
              "      <td>140.766120</td>\n",
              "    </tr>\n",
              "    <tr>\n",
              "      <th>53939</th>\n",
              "      <td>53940</td>\n",
              "      <td>0.75</td>\n",
              "      <td>Ideal</td>\n",
              "      <td>D</td>\n",
              "      <td>SI2</td>\n",
              "      <td>62.2</td>\n",
              "      <td>55.0</td>\n",
              "      <td>2757</td>\n",
              "      <td>5.83</td>\n",
              "      <td>5.87</td>\n",
              "      <td>3.64</td>\n",
              "      <td>124.568444</td>\n",
              "    </tr>\n",
              "  </tbody>\n",
              "</table>\n",
              "<p>53940 rows × 12 columns</p>\n",
              "</div>"
            ],
            "text/plain": [
              "       Unnamed: 0  carat        cut color  ...     x     y     z      volume\n",
              "0               1   0.23      Ideal     E  ...  3.95  3.98  2.43   38.202030\n",
              "1               2   0.21    Premium     E  ...  3.89  3.84  2.31   34.505856\n",
              "2               3   0.23       Good     E  ...  4.05  4.07  2.31   38.076885\n",
              "3               4   0.29    Premium     I  ...  4.20  4.23  2.63   46.724580\n",
              "4               5   0.31       Good     J  ...  4.34  4.35  2.75   51.917250\n",
              "...           ...    ...        ...   ...  ...   ...   ...   ...         ...\n",
              "53935       53936   0.72      Ideal     D  ...  5.75  5.76  3.50  115.920000\n",
              "53936       53937   0.72       Good     D  ...  5.69  5.75  3.61  118.110175\n",
              "53937       53938   0.70  Very Good     D  ...  5.66  5.68  3.56  114.449728\n",
              "53938       53939   0.86    Premium     H  ...  6.15  6.12  3.74  140.766120\n",
              "53939       53940   0.75      Ideal     D  ...  5.83  5.87  3.64  124.568444\n",
              "\n",
              "[53940 rows x 12 columns]"
            ]
          },
          "metadata": {
            "tags": []
          },
          "execution_count": 5
        }
      ]
    },
    {
      "cell_type": "markdown",
      "metadata": {
        "id": "irarbk45399z",
        "colab_type": "text"
      },
      "source": [
        "<h1>Plot the correlation matrix</h1>"
      ]
    },
    {
      "cell_type": "code",
      "metadata": {
        "id": "guHMLCyAzgSM",
        "colab_type": "code",
        "outputId": "561ba27f-36bd-4cc3-e2f5-e9e040644242",
        "colab": {
          "base_uri": "https://localhost:8080/",
          "height": 314
        }
      },
      "source": [
        "df_raw.corr()"
      ],
      "execution_count": 0,
      "outputs": [
        {
          "output_type": "execute_result",
          "data": {
            "text/html": [
              "<div>\n",
              "<style scoped>\n",
              "    .dataframe tbody tr th:only-of-type {\n",
              "        vertical-align: middle;\n",
              "    }\n",
              "\n",
              "    .dataframe tbody tr th {\n",
              "        vertical-align: top;\n",
              "    }\n",
              "\n",
              "    .dataframe thead th {\n",
              "        text-align: right;\n",
              "    }\n",
              "</style>\n",
              "<table border=\"1\" class=\"dataframe\">\n",
              "  <thead>\n",
              "    <tr style=\"text-align: right;\">\n",
              "      <th></th>\n",
              "      <th>Unnamed: 0</th>\n",
              "      <th>carat</th>\n",
              "      <th>depth</th>\n",
              "      <th>table</th>\n",
              "      <th>price</th>\n",
              "      <th>x</th>\n",
              "      <th>y</th>\n",
              "      <th>z</th>\n",
              "      <th>volume</th>\n",
              "    </tr>\n",
              "  </thead>\n",
              "  <tbody>\n",
              "    <tr>\n",
              "      <th>Unnamed: 0</th>\n",
              "      <td>1.000000</td>\n",
              "      <td>-0.377983</td>\n",
              "      <td>-0.034800</td>\n",
              "      <td>-0.100830</td>\n",
              "      <td>-0.306873</td>\n",
              "      <td>-0.405440</td>\n",
              "      <td>-0.395843</td>\n",
              "      <td>-0.399208</td>\n",
              "      <td>-0.367016</td>\n",
              "    </tr>\n",
              "    <tr>\n",
              "      <th>carat</th>\n",
              "      <td>-0.377983</td>\n",
              "      <td>1.000000</td>\n",
              "      <td>0.028224</td>\n",
              "      <td>0.181618</td>\n",
              "      <td>0.921591</td>\n",
              "      <td>0.975094</td>\n",
              "      <td>0.951722</td>\n",
              "      <td>0.953387</td>\n",
              "      <td>0.976308</td>\n",
              "    </tr>\n",
              "    <tr>\n",
              "      <th>depth</th>\n",
              "      <td>-0.034800</td>\n",
              "      <td>0.028224</td>\n",
              "      <td>1.000000</td>\n",
              "      <td>-0.295779</td>\n",
              "      <td>-0.010647</td>\n",
              "      <td>-0.025289</td>\n",
              "      <td>-0.029341</td>\n",
              "      <td>0.094924</td>\n",
              "      <td>0.009157</td>\n",
              "    </tr>\n",
              "    <tr>\n",
              "      <th>table</th>\n",
              "      <td>-0.100830</td>\n",
              "      <td>0.181618</td>\n",
              "      <td>-0.295779</td>\n",
              "      <td>1.000000</td>\n",
              "      <td>0.127134</td>\n",
              "      <td>0.195344</td>\n",
              "      <td>0.183760</td>\n",
              "      <td>0.150929</td>\n",
              "      <td>0.167400</td>\n",
              "    </tr>\n",
              "    <tr>\n",
              "      <th>price</th>\n",
              "      <td>-0.306873</td>\n",
              "      <td>0.921591</td>\n",
              "      <td>-0.010647</td>\n",
              "      <td>0.127134</td>\n",
              "      <td>1.000000</td>\n",
              "      <td>0.884435</td>\n",
              "      <td>0.865421</td>\n",
              "      <td>0.861249</td>\n",
              "      <td>0.902385</td>\n",
              "    </tr>\n",
              "    <tr>\n",
              "      <th>x</th>\n",
              "      <td>-0.405440</td>\n",
              "      <td>0.975094</td>\n",
              "      <td>-0.025289</td>\n",
              "      <td>0.195344</td>\n",
              "      <td>0.884435</td>\n",
              "      <td>1.000000</td>\n",
              "      <td>0.974701</td>\n",
              "      <td>0.970772</td>\n",
              "      <td>0.956564</td>\n",
              "    </tr>\n",
              "    <tr>\n",
              "      <th>y</th>\n",
              "      <td>-0.395843</td>\n",
              "      <td>0.951722</td>\n",
              "      <td>-0.029341</td>\n",
              "      <td>0.183760</td>\n",
              "      <td>0.865421</td>\n",
              "      <td>0.974701</td>\n",
              "      <td>1.000000</td>\n",
              "      <td>0.952006</td>\n",
              "      <td>0.975143</td>\n",
              "    </tr>\n",
              "    <tr>\n",
              "      <th>z</th>\n",
              "      <td>-0.399208</td>\n",
              "      <td>0.953387</td>\n",
              "      <td>0.094924</td>\n",
              "      <td>0.150929</td>\n",
              "      <td>0.861249</td>\n",
              "      <td>0.970772</td>\n",
              "      <td>0.952006</td>\n",
              "      <td>1.000000</td>\n",
              "      <td>0.950065</td>\n",
              "    </tr>\n",
              "    <tr>\n",
              "      <th>volume</th>\n",
              "      <td>-0.367016</td>\n",
              "      <td>0.976308</td>\n",
              "      <td>0.009157</td>\n",
              "      <td>0.167400</td>\n",
              "      <td>0.902385</td>\n",
              "      <td>0.956564</td>\n",
              "      <td>0.975143</td>\n",
              "      <td>0.950065</td>\n",
              "      <td>1.000000</td>\n",
              "    </tr>\n",
              "  </tbody>\n",
              "</table>\n",
              "</div>"
            ],
            "text/plain": [
              "            Unnamed: 0     carat     depth  ...         y         z    volume\n",
              "Unnamed: 0    1.000000 -0.377983 -0.034800  ... -0.395843 -0.399208 -0.367016\n",
              "carat        -0.377983  1.000000  0.028224  ...  0.951722  0.953387  0.976308\n",
              "depth        -0.034800  0.028224  1.000000  ... -0.029341  0.094924  0.009157\n",
              "table        -0.100830  0.181618 -0.295779  ...  0.183760  0.150929  0.167400\n",
              "price        -0.306873  0.921591 -0.010647  ...  0.865421  0.861249  0.902385\n",
              "x            -0.405440  0.975094 -0.025289  ...  0.974701  0.970772  0.956564\n",
              "y            -0.395843  0.951722 -0.029341  ...  1.000000  0.952006  0.975143\n",
              "z            -0.399208  0.953387  0.094924  ...  0.952006  1.000000  0.950065\n",
              "volume       -0.367016  0.976308  0.009157  ...  0.975143  0.950065  1.000000\n",
              "\n",
              "[9 rows x 9 columns]"
            ]
          },
          "metadata": {
            "tags": []
          },
          "execution_count": 6
        }
      ]
    },
    {
      "cell_type": "markdown",
      "metadata": {
        "id": "rJCxTnF-4z_7",
        "colab_type": "text"
      },
      "source": [
        "From this correlation matrix, we can see that the biggest correlating variables are carat and price. So we're going to choose carat as a feature and price as the label. We found that correlation between carat with price and volume (x,y,z) are the highest. First is Carat versus Price, second is Volume versus Price and the last one is cross between carat and volume versus Price. Then we will chose one of the best between the 3 models.\n"
      ]
    },
    {
      "cell_type": "markdown",
      "metadata": {
        "id": "CuyaJTHf6DnJ",
        "colab_type": "text"
      },
      "source": [
        "<h1>Examine the dataset</h1>"
      ]
    },
    {
      "cell_type": "code",
      "metadata": {
        "id": "t9gW_XQT6Iu0",
        "colab_type": "code",
        "outputId": "b50b8d57-bb23-46a6-b393-c9b4776f2962",
        "colab": {
          "base_uri": "https://localhost:8080/",
          "height": 284
        }
      },
      "source": [
        "dfa = df_raw[['carat', 'price','volume']].copy()\n",
        "dfa = dfa.loc[dfa['price']<=5000]\n",
        "dfa.describe()"
      ],
      "execution_count": 0,
      "outputs": [
        {
          "output_type": "execute_result",
          "data": {
            "text/html": [
              "<div>\n",
              "<style scoped>\n",
              "    .dataframe tbody tr th:only-of-type {\n",
              "        vertical-align: middle;\n",
              "    }\n",
              "\n",
              "    .dataframe tbody tr th {\n",
              "        vertical-align: top;\n",
              "    }\n",
              "\n",
              "    .dataframe thead th {\n",
              "        text-align: right;\n",
              "    }\n",
              "</style>\n",
              "<table border=\"1\" class=\"dataframe\">\n",
              "  <thead>\n",
              "    <tr style=\"text-align: right;\">\n",
              "      <th></th>\n",
              "      <th>carat</th>\n",
              "      <th>price</th>\n",
              "      <th>volume</th>\n",
              "    </tr>\n",
              "  </thead>\n",
              "  <tbody>\n",
              "    <tr>\n",
              "      <th>count</th>\n",
              "      <td>39226.000000</td>\n",
              "      <td>39226.000000</td>\n",
              "      <td>39226.000000</td>\n",
              "    </tr>\n",
              "    <tr>\n",
              "      <th>mean</th>\n",
              "      <td>0.572899</td>\n",
              "      <td>1914.472289</td>\n",
              "      <td>93.437153</td>\n",
              "    </tr>\n",
              "    <tr>\n",
              "      <th>std</th>\n",
              "      <td>0.259138</td>\n",
              "      <td>1327.996299</td>\n",
              "      <td>41.937186</td>\n",
              "    </tr>\n",
              "    <tr>\n",
              "      <th>min</th>\n",
              "      <td>0.200000</td>\n",
              "      <td>326.000000</td>\n",
              "      <td>0.000000</td>\n",
              "    </tr>\n",
              "    <tr>\n",
              "      <th>25%</th>\n",
              "      <td>0.340000</td>\n",
              "      <td>801.000000</td>\n",
              "      <td>55.731600</td>\n",
              "    </tr>\n",
              "    <tr>\n",
              "      <th>50%</th>\n",
              "      <td>0.510000</td>\n",
              "      <td>1417.000000</td>\n",
              "      <td>83.786945</td>\n",
              "    </tr>\n",
              "    <tr>\n",
              "      <th>75%</th>\n",
              "      <td>0.730000</td>\n",
              "      <td>2826.000000</td>\n",
              "      <td>119.701560</td>\n",
              "    </tr>\n",
              "    <tr>\n",
              "      <th>max</th>\n",
              "      <td>1.740000</td>\n",
              "      <td>5000.000000</td>\n",
              "      <td>838.502400</td>\n",
              "    </tr>\n",
              "  </tbody>\n",
              "</table>\n",
              "</div>"
            ],
            "text/plain": [
              "              carat         price        volume\n",
              "count  39226.000000  39226.000000  39226.000000\n",
              "mean       0.572899   1914.472289     93.437153\n",
              "std        0.259138   1327.996299     41.937186\n",
              "min        0.200000    326.000000      0.000000\n",
              "25%        0.340000    801.000000     55.731600\n",
              "50%        0.510000   1417.000000     83.786945\n",
              "75%        0.730000   2826.000000    119.701560\n",
              "max        1.740000   5000.000000    838.502400"
            ]
          },
          "metadata": {
            "tags": []
          },
          "execution_count": 7
        }
      ]
    },
    {
      "cell_type": "markdown",
      "metadata": {
        "id": "SljC1uizRpE9",
        "colab_type": "text"
      },
      "source": [
        "## Modelling Carat Vs Price"
      ]
    },
    {
      "cell_type": "markdown",
      "metadata": {
        "id": "R_A8CKLz8VFU",
        "colab_type": "text"
      },
      "source": [
        "## Define functions that build and train a model\n",
        "\n",
        "This code block is taken from the 'Programming Exercise' module on Machine Learning Crash Course.\n"
      ]
    },
    {
      "cell_type": "code",
      "metadata": {
        "id": "Ue0poOUa8szU",
        "colab_type": "code",
        "outputId": "601c68bf-a663-41d0-914d-aed3d3a9066f",
        "colab": {
          "base_uri": "https://localhost:8080/",
          "height": 34
        }
      },
      "source": [
        "#@title Define the functions that build and train a model\n",
        "def build_model(my_learning_rate):\n",
        "  \"\"\"Create and compile a simple linear regression model.\"\"\"\n",
        "  # Most simple tf.keras models are sequential.\n",
        "  model = tf.keras.models.Sequential()\n",
        "\n",
        "  # Add one linear layer to the model to yield a simple linear regressor.\n",
        "  model.add(tf.keras.layers.Dense(units=1, input_shape=(1,)))\n",
        "\n",
        "  # Compile the model topography into code that TensorFlow can efficiently\n",
        "  # execute. Configure training to minimize the model's mean squared error. \n",
        "  model.compile(optimizer=tf.keras.optimizers.RMSprop(lr=my_learning_rate),\n",
        "                loss=\"mean_squared_error\",\n",
        "                metrics=[tf.keras.metrics.RootMeanSquaredError()])\n",
        "\n",
        "  return model               \n",
        "\n",
        "\n",
        "def train_model(model, df, feature, label, my_epochs, \n",
        "                my_batch_size=None, my_validation_split=0.1):\n",
        "  \"\"\"Feed a dataset into the model in order to train it.\"\"\"\n",
        "\n",
        "  history = model.fit(x=df[feature],\n",
        "                      y=df[label],\n",
        "                      batch_size=my_batch_size,\n",
        "                      epochs=my_epochs,\n",
        "                      validation_split=my_validation_split)\n",
        "\n",
        "  # Gather the model's trained weight and bias.\n",
        "  trained_weight = model.get_weights()[0]\n",
        "  trained_bias = model.get_weights()[1]\n",
        "\n",
        "  # The list of epochs is stored separately from the \n",
        "  # rest of history.\n",
        "  epochs = history.epoch\n",
        "  \n",
        "  # Isolate the root mean squared error for each epoch.\n",
        "  hist = pd.DataFrame(history.history)\n",
        "  rmse = hist[\"root_mean_squared_error\"]\n",
        "\n",
        "  return epochs, rmse, history.history   \n",
        "\n",
        "print(\"Defined the build_model and train_model functions.\")"
      ],
      "execution_count": 0,
      "outputs": [
        {
          "output_type": "stream",
          "text": [
            "Defined the build_model and train_model functions.\n"
          ],
          "name": "stdout"
        }
      ]
    },
    {
      "cell_type": "markdown",
      "metadata": {
        "id": "GKF_765D8WXF",
        "colab_type": "text"
      },
      "source": [
        "## Define plotting functions\n",
        "\n",
        "This code block is taken from the 'Programming Exercise' module on Machine Learning Crash Course."
      ]
    },
    {
      "cell_type": "code",
      "metadata": {
        "id": "m2vweQ5682zW",
        "colab_type": "code",
        "outputId": "f3308b8d-6a55-408b-ebdd-0b00c43b5c28",
        "colab": {
          "base_uri": "https://localhost:8080/",
          "height": 34
        }
      },
      "source": [
        "#@title Define the plotting function\n",
        "def plot_the_model(trained_weight, trained_bias, feature, label):\n",
        "  \"\"\"Plot the trained model against 200 random training examples.\"\"\"\n",
        "\n",
        "  # Label the axes.\n",
        "  plt.xlabel(feature)\n",
        "  plt.ylabel(label)\n",
        "\n",
        "  # Create a scatter plot from 200 random points of the dataset.\n",
        "  random_examples = train_df.sample(n=200)\n",
        "  plt.scatter(random_examples[feature], random_examples[label])\n",
        "\n",
        "  # Create a red line representing the model. The red line starts\n",
        "  # at coordinates (x0, y0) and ends at coordinates (x1, y1).\n",
        "  x0 = 0\n",
        "  y0 = trained_bias\n",
        "  x1 = 10000\n",
        "  y1 = trained_bias + (trained_weight * x1)\n",
        "  plt.plot([x0, x1], [y0, y1], c='r')\n",
        "\n",
        "  # Render the scatter plot and the red line.\n",
        "  plt.show()\n",
        "\n",
        "def plot_the_loss_curve(epochs, mae_training, mae_validation):\n",
        "  \"\"\"Plot a curve of loss vs. epoch.\"\"\"\n",
        "\n",
        "  plt.figure()\n",
        "  plt.xlabel(\"Epoch\")\n",
        "  plt.ylabel(\"Root Mean Squared Error\")\n",
        "\n",
        "  plt.plot(epochs[1:], mae_training[1:], label=\"Training Loss\")\n",
        "  plt.plot(epochs[1:], mae_validation[1:], label=\"Validation Loss\")\n",
        "  plt.legend()\n",
        "  \n",
        "  # We're not going to plot the first epoch, since the loss on the first epoch\n",
        "  # is often substantially greater than the loss for other epochs.\n",
        "  merged_mae_lists = mae_training[1:] + mae_validation[1:]\n",
        "  highest_loss = max(merged_mae_lists)\n",
        "  lowest_loss = min(merged_mae_lists)\n",
        "  delta = highest_loss - lowest_loss\n",
        "  print(delta)\n",
        "\n",
        "  top_of_y_axis = highest_loss + (delta * 0.05)\n",
        "  bottom_of_y_axis = lowest_loss - (delta * 0.05)\n",
        "   \n",
        "  plt.ylim([bottom_of_y_axis, top_of_y_axis])\n",
        "  plt.show()  \n",
        "\n",
        "print(\"Defined the plot_the_loss_curve function.\")"
      ],
      "execution_count": 0,
      "outputs": [
        {
          "output_type": "stream",
          "text": [
            "Defined the plot_the_loss_curve function.\n"
          ],
          "name": "stdout"
        }
      ]
    },
    {
      "cell_type": "markdown",
      "metadata": {
        "id": "UGXsrHY65t0y",
        "colab_type": "text"
      },
      "source": [
        "<h1>Copy features and label to varable df</h1>"
      ]
    },
    {
      "cell_type": "code",
      "metadata": {
        "scrolled": false,
        "id": "l5Cj5KYhld9C",
        "colab_type": "code",
        "outputId": "fa119075-10b0-487c-eca2-1adf9dcf3722",
        "colab": {
          "base_uri": "https://localhost:8080/",
          "height": 402
        }
      },
      "source": [
        "df = df_raw[['carat', 'price']].copy()\n",
        "df = df.loc[df['price']<=5000]\n",
        "df"
      ],
      "execution_count": 0,
      "outputs": [
        {
          "output_type": "execute_result",
          "data": {
            "text/html": [
              "<div>\n",
              "<style scoped>\n",
              "    .dataframe tbody tr th:only-of-type {\n",
              "        vertical-align: middle;\n",
              "    }\n",
              "\n",
              "    .dataframe tbody tr th {\n",
              "        vertical-align: top;\n",
              "    }\n",
              "\n",
              "    .dataframe thead th {\n",
              "        text-align: right;\n",
              "    }\n",
              "</style>\n",
              "<table border=\"1\" class=\"dataframe\">\n",
              "  <thead>\n",
              "    <tr style=\"text-align: right;\">\n",
              "      <th></th>\n",
              "      <th>carat</th>\n",
              "      <th>price</th>\n",
              "    </tr>\n",
              "  </thead>\n",
              "  <tbody>\n",
              "    <tr>\n",
              "      <th>0</th>\n",
              "      <td>0.23</td>\n",
              "      <td>326</td>\n",
              "    </tr>\n",
              "    <tr>\n",
              "      <th>1</th>\n",
              "      <td>0.21</td>\n",
              "      <td>326</td>\n",
              "    </tr>\n",
              "    <tr>\n",
              "      <th>2</th>\n",
              "      <td>0.23</td>\n",
              "      <td>327</td>\n",
              "    </tr>\n",
              "    <tr>\n",
              "      <th>3</th>\n",
              "      <td>0.29</td>\n",
              "      <td>334</td>\n",
              "    </tr>\n",
              "    <tr>\n",
              "      <th>4</th>\n",
              "      <td>0.31</td>\n",
              "      <td>335</td>\n",
              "    </tr>\n",
              "    <tr>\n",
              "      <th>...</th>\n",
              "      <td>...</td>\n",
              "      <td>...</td>\n",
              "    </tr>\n",
              "    <tr>\n",
              "      <th>53935</th>\n",
              "      <td>0.72</td>\n",
              "      <td>2757</td>\n",
              "    </tr>\n",
              "    <tr>\n",
              "      <th>53936</th>\n",
              "      <td>0.72</td>\n",
              "      <td>2757</td>\n",
              "    </tr>\n",
              "    <tr>\n",
              "      <th>53937</th>\n",
              "      <td>0.70</td>\n",
              "      <td>2757</td>\n",
              "    </tr>\n",
              "    <tr>\n",
              "      <th>53938</th>\n",
              "      <td>0.86</td>\n",
              "      <td>2757</td>\n",
              "    </tr>\n",
              "    <tr>\n",
              "      <th>53939</th>\n",
              "      <td>0.75</td>\n",
              "      <td>2757</td>\n",
              "    </tr>\n",
              "  </tbody>\n",
              "</table>\n",
              "<p>39226 rows × 2 columns</p>\n",
              "</div>"
            ],
            "text/plain": [
              "       carat  price\n",
              "0       0.23    326\n",
              "1       0.21    326\n",
              "2       0.23    327\n",
              "3       0.29    334\n",
              "4       0.31    335\n",
              "...      ...    ...\n",
              "53935   0.72   2757\n",
              "53936   0.72   2757\n",
              "53937   0.70   2757\n",
              "53938   0.86   2757\n",
              "53939   0.75   2757\n",
              "\n",
              "[39226 rows x 2 columns]"
            ]
          },
          "metadata": {
            "tags": []
          },
          "execution_count": 10
        }
      ]
    },
    {
      "cell_type": "code",
      "metadata": {
        "id": "mj7xcv3HQf77",
        "colab_type": "code",
        "outputId": "bd3dafcb-c8ae-4c23-b973-0b63ef7cf7cd",
        "colab": {
          "base_uri": "https://localhost:8080/",
          "height": 296
        }
      },
      "source": [
        "plt.scatter(df['carat'], df['price'])\n",
        "plt.xlabel(\"Carat\")\n",
        "plt.ylabel(\"Price\")"
      ],
      "execution_count": 0,
      "outputs": [
        {
          "output_type": "execute_result",
          "data": {
            "text/plain": [
              "Text(0, 0.5, 'Price')"
            ]
          },
          "metadata": {
            "tags": []
          },
          "execution_count": 11
        },
        {
          "output_type": "display_data",
          "data": {
            "image/png": "[encoded data removed]",
            "text/plain": [
              "<Figure size 432x288 with 1 Axes>"
            ]
          },
          "metadata": {
            "tags": []
          }
        }
      ]
    },
    {
      "cell_type": "markdown",
      "metadata": {
        "id": "42py7Trt74hy",
        "colab_type": "text"
      },
      "source": [
        "Based on the description table, there are some anomalies on the data. The maximum value for both the feature and the label are much greater than its quantiles. There must be outliers in this dataset."
      ]
    },
    {
      "cell_type": "markdown",
      "metadata": {
        "id": "hXxEFE-V9Wjq",
        "colab_type": "text"
      },
      "source": [
        "<h1>Splitting into training and testing data</h1>"
      ]
    },
    {
      "cell_type": "code",
      "metadata": {
        "id": "6QbNqueU9fEh",
        "colab_type": "code",
        "colab": {}
      },
      "source": [
        "from sklearn.model_selection import train_test_split\n",
        "train_df, test_df = train_test_split(df, test_size=0.2)"
      ],
      "execution_count": 0,
      "outputs": []
    },
    {
      "cell_type": "code",
      "metadata": {
        "id": "N1WUspI9-tez",
        "colab_type": "code",
        "colab": {}
      },
      "source": [
        "train_df.shape"
      ],
      "execution_count": 0,
      "outputs": []
    },
    {
      "cell_type": "code",
      "metadata": {
        "id": "WCzXtuc7-04W",
        "colab_type": "code",
        "colab": {}
      },
      "source": [
        "test_df.shape"
      ],
      "execution_count": 0,
      "outputs": []
    },
    {
      "cell_type": "markdown",
      "metadata": {
        "id": "zxR6QAqu_Viq",
        "colab_type": "text"
      },
      "source": [
        "<h1>Building the model and training it</h1>"
      ]
    },
    {
      "cell_type": "markdown",
      "metadata": {
        "id": "TMegPrqjB5he",
        "colab_type": "text"
      },
      "source": [
        "On the first try, we started with a learning rate of .08 and 30 epochs, with a batch size of 100."
      ]
    },
    {
      "cell_type": "code",
      "metadata": {
        "id": "UXpGx5xrBkNW",
        "colab_type": "code",
        "outputId": "17afa52a-6d45-498e-892f-5a774311a3ae",
        "colab": {
          "base_uri": "https://localhost:8080/",
          "height": 1000
        }
      },
      "source": [
        "# The following variables are the hyperparameters.\n",
        "learning_rate = 0.08\n",
        "epochs = 30\n",
        "batch_size = 100\n",
        "\n",
        "# Split the original training set into a reduced training set and a\n",
        "# validation set. \n",
        "validation_split=0.2\n",
        "\n",
        "# Specify the feature and the label.\n",
        "my_feature = \"carat\"  # carat value.\n",
        "my_label=\"price\" # the price value for that specific diamond.\n",
        "# We're predicting diamond price based on carat value\n",
        "\n",
        "# Discard any pre-existing version of the model.\n",
        "my_model = None\n",
        "\n",
        "# Invoke the functions to build and train the model.\n",
        "my_model = build_model(learning_rate)\n",
        "epochs, rmse, history = train_model(my_model, train_df, my_feature, \n",
        "                                    my_label, epochs, batch_size, \n",
        "                                    validation_split)\n",
        "\n",
        "plot_the_loss_curve(epochs, history[\"root_mean_squared_error\"], \n",
        "                    history[\"val_root_mean_squared_error\"])\n"
      ],
      "execution_count": 0,
      "outputs": [
        {
          "output_type": "stream",
          "text": [
            "Epoch 1/30\n",
            "252/252 [==============================] - 0s 1ms/step - loss: 5405241.0000 - root_mean_squared_error: 2327.2017 - val_loss: 5251143.0000 - val_root_mean_squared_error: 2291.9746\n",
            "Epoch 2/30\n",
            "252/252 [==============================] - 0s 1ms/step - loss: 5272728.0000 - root_mean_squared_error: 2298.5786 - val_loss: 5120995.0000 - val_root_mean_squared_error: 2263.3972\n",
            "Epoch 3/30\n",
            "252/252 [==============================] - 0s 1ms/step - loss: 5135527.5000 - root_mean_squared_error: 2269.9570 - val_loss: 4993014.0000 - val_root_mean_squared_error: 2234.9395\n",
            "Epoch 4/30\n",
            "252/252 [==============================] - 0s 1ms/step - loss: 5023141.5000 - root_mean_squared_error: 2241.5186 - val_loss: 4866562.5000 - val_root_mean_squared_error: 2206.4612\n",
            "Epoch 5/30\n",
            "252/252 [==============================] - 0s 1ms/step - loss: 4920647.5000 - root_mean_squared_error: 2213.0820 - val_loss: 4742220.0000 - val_root_mean_squared_error: 2178.0945\n",
            "Epoch 6/30\n",
            "252/252 [==============================] - 0s 1ms/step - loss: 4782350.5000 - root_mean_squared_error: 2184.7031 - val_loss: 4620392.0000 - val_root_mean_squared_error: 2149.9387\n",
            "Epoch 7/30\n",
            "252/252 [==============================] - 0s 1ms/step - loss: 4640287.0000 - root_mean_squared_error: 2156.6326 - val_loss: 4500769.5000 - val_root_mean_squared_error: 2121.9290\n",
            "Epoch 8/30\n",
            "252/252 [==============================] - 0s 1ms/step - loss: 4545978.0000 - root_mean_squared_error: 2128.4155 - val_loss: 4382258.5000 - val_root_mean_squared_error: 2093.8101\n",
            "Epoch 9/30\n",
            "252/252 [==============================] - 0s 1ms/step - loss: 4409131.5000 - root_mean_squared_error: 2100.5828 - val_loss: 4266860.5000 - val_root_mean_squared_error: 2066.0613\n",
            "Epoch 10/30\n",
            "252/252 [==============================] - 0s 1ms/step - loss: 4303489.5000 - root_mean_squared_error: 2072.7546 - val_loss: 4152832.7500 - val_root_mean_squared_error: 2038.2715\n",
            "Epoch 11/30\n",
            "252/252 [==============================] - 0s 1ms/step - loss: 4176826.5000 - root_mean_squared_error: 2045.0773 - val_loss: 4041372.7500 - val_root_mean_squared_error: 2010.7360\n",
            "Epoch 12/30\n",
            "252/252 [==============================] - 0s 1ms/step - loss: 4066638.2500 - root_mean_squared_error: 2017.5168 - val_loss: 3931728.7500 - val_root_mean_squared_error: 1983.2758\n",
            "Epoch 13/30\n",
            "252/252 [==============================] - 0s 1ms/step - loss: 3976512.0000 - root_mean_squared_error: 1990.0736 - val_loss: 3823648.7500 - val_root_mean_squared_error: 1955.8304\n",
            "Epoch 14/30\n",
            "252/252 [==============================] - 0s 1ms/step - loss: 3847723.2500 - root_mean_squared_error: 1962.7305 - val_loss: 3718432.2500 - val_root_mean_squared_error: 1928.7365\n",
            "Epoch 15/30\n",
            "252/252 [==============================] - 0s 1ms/step - loss: 3756450.2500 - root_mean_squared_error: 1935.6410 - val_loss: 3614858.2500 - val_root_mean_squared_error: 1901.6888\n",
            "Epoch 16/30\n",
            "252/252 [==============================] - 0s 1ms/step - loss: 3647524.2500 - root_mean_squared_error: 1908.6586 - val_loss: 3513424.5000 - val_root_mean_squared_error: 1874.8210\n",
            "Epoch 17/30\n",
            "252/252 [==============================] - 0s 1ms/step - loss: 3531216.5000 - root_mean_squared_error: 1881.8118 - val_loss: 3414273.0000 - val_root_mean_squared_error: 1848.1812\n",
            "Epoch 18/30\n",
            "252/252 [==============================] - 0s 1ms/step - loss: 3431709.0000 - root_mean_squared_error: 1855.0902 - val_loss: 3316818.7500 - val_root_mean_squared_error: 1821.6168\n",
            "Epoch 19/30\n",
            "252/252 [==============================] - 0s 1ms/step - loss: 3345999.5000 - root_mean_squared_error: 1828.5580 - val_loss: 3221314.0000 - val_root_mean_squared_error: 1795.2029\n",
            "Epoch 20/30\n",
            "252/252 [==============================] - 0s 1ms/step - loss: 3252684.2500 - root_mean_squared_error: 1802.3898 - val_loss: 3128122.2500 - val_root_mean_squared_error: 1769.0479\n",
            "Epoch 21/30\n",
            "252/252 [==============================] - 0s 1ms/step - loss: 3155904.0000 - root_mean_squared_error: 1776.2601 - val_loss: 3036937.7500 - val_root_mean_squared_error: 1743.0765\n",
            "Epoch 22/30\n",
            "252/252 [==============================] - 0s 1ms/step - loss: 3060617.2500 - root_mean_squared_error: 1750.2452 - val_loss: 2947929.2500 - val_root_mean_squared_error: 1717.3462\n",
            "Epoch 23/30\n",
            "252/252 [==============================] - 0s 1ms/step - loss: 2968130.2500 - root_mean_squared_error: 1724.5935 - val_loss: 2860744.5000 - val_root_mean_squared_error: 1691.7632\n",
            "Epoch 24/30\n",
            "252/252 [==============================] - 0s 1ms/step - loss: 2876107.0000 - root_mean_squared_error: 1699.0585 - val_loss: 2776027.7500 - val_root_mean_squared_error: 1666.5281\n",
            "Epoch 25/30\n",
            "252/252 [==============================] - 0s 1ms/step - loss: 2798514.5000 - root_mean_squared_error: 1673.7220 - val_loss: 2692735.7500 - val_root_mean_squared_error: 1641.3389\n",
            "Epoch 26/30\n",
            "252/252 [==============================] - 0s 1ms/step - loss: 2709619.2500 - root_mean_squared_error: 1648.6962 - val_loss: 2611950.5000 - val_root_mean_squared_error: 1616.5328\n",
            "Epoch 27/30\n",
            "252/252 [==============================] - 0s 1ms/step - loss: 2629658.2500 - root_mean_squared_error: 1623.8956 - val_loss: 2532879.2500 - val_root_mean_squared_error: 1591.8787\n",
            "Epoch 28/30\n",
            "252/252 [==============================] - 0s 1ms/step - loss: 2554863.0000 - root_mean_squared_error: 1599.4198 - val_loss: 2456049.0000 - val_root_mean_squared_error: 1567.5514\n",
            "Epoch 29/30\n",
            "252/252 [==============================] - 0s 1ms/step - loss: 2474451.0000 - root_mean_squared_error: 1575.0933 - val_loss: 2381328.0000 - val_root_mean_squared_error: 1543.5239\n",
            "Epoch 30/30\n",
            "252/252 [==============================] - 0s 1ms/step - loss: 2405439.2500 - root_mean_squared_error: 1551.1786 - val_loss: 2308432.5000 - val_root_mean_squared_error: 1519.7178\n",
            "778.86083984375\n"
          ],
          "name": "stdout"
        },
        {
          "output_type": "display_data",
          "data": {
            "image/png": "[encoded data removed]",
            "text/plain": [
              "<Figure size 432x288 with 1 Axes>"
            ]
          },
          "metadata": {
            "tags": []
          }
        }
      ]
    },
    {
      "cell_type": "markdown",
      "metadata": {
        "id": "AuycIB63CP1G",
        "colab_type": "text"
      },
      "source": [
        "As we can see here, the model hasn't fully converged, so we tried to increase the learning rate and number of epochs to 0.5 and 50 respectively"
      ]
    },
    {
      "cell_type": "code",
      "metadata": {
        "id": "0rAaAbKFBiqw",
        "colab_type": "code",
        "outputId": "e78b33fc-5071-49f2-a84c-a89ed7d85548",
        "colab": {
          "base_uri": "https://localhost:8080/",
          "height": 1000
        }
      },
      "source": [
        "# The following variables are the hyperparameters.\n",
        "learning_rate = 0.5\n",
        "epochs = 50\n",
        "batch_size = 100\n",
        "\n",
        "# Split the original training set into a reduced training set and a\n",
        "# validation set. \n",
        "validation_split=0.2\n",
        "\n",
        "# Specify the feature and the label.\n",
        "my_feature = \"carat\"  # carat value.\n",
        "my_label=\"price\" # the price value for that specific diamond.\n",
        "# We're predicting diamond price based on carat value\n",
        "\n",
        "# Discard any pre-existing version of the model.\n",
        "my_model = None\n",
        "\n",
        "# Invoke the functions to build and train the model.\n",
        "my_model = build_model(learning_rate)\n",
        "epochs, rmse, history = train_model(my_model, train_df, my_feature, \n",
        "                                    my_label, epochs, batch_size, \n",
        "                                    validation_split)\n",
        "\n",
        "plot_the_loss_curve(epochs, history[\"root_mean_squared_error\"], \n",
        "                    history[\"val_root_mean_squared_error\"])\n"
      ],
      "execution_count": 0,
      "outputs": [
        {
          "output_type": "stream",
          "text": [
            "Epoch 1/50\n",
            "252/252 [==============================] - 0s 1ms/step - loss: 5052606.5000 - root_mean_squared_error: 2249.3914 - val_loss: 4574095.5000 - val_root_mean_squared_error: 2139.1418\n",
            "Epoch 2/50\n",
            "252/252 [==============================] - 0s 1ms/step - loss: 4296225.0000 - root_mean_squared_error: 2074.1838 - val_loss: 3865394.5000 - val_root_mean_squared_error: 1966.4769\n",
            "Epoch 3/50\n",
            "252/252 [==============================] - 0s 1ms/step - loss: 3615885.7500 - root_mean_squared_error: 1903.9655 - val_loss: 3237025.7500 - val_root_mean_squared_error: 1799.5748\n",
            "Epoch 4/50\n",
            "252/252 [==============================] - 0s 1ms/step - loss: 3034210.7500 - root_mean_squared_error: 1739.8745 - val_loss: 2686702.7500 - val_root_mean_squared_error: 1639.4991\n",
            "Epoch 5/50\n",
            "252/252 [==============================] - 0s 1ms/step - loss: 2505778.7500 - root_mean_squared_error: 1584.8214 - val_loss: 2218812.2500 - val_root_mean_squared_error: 1489.9276\n",
            "Epoch 6/50\n",
            "252/252 [==============================] - 0s 1ms/step - loss: 2065082.0000 - root_mean_squared_error: 1439.4017 - val_loss: 1828678.2500 - val_root_mean_squared_error: 1352.6162\n",
            "Epoch 7/50\n",
            "252/252 [==============================] - 0s 1ms/step - loss: 1715057.7500 - root_mean_squared_error: 1310.5938 - val_loss: 1518026.8750 - val_root_mean_squared_error: 1232.3738\n",
            "Epoch 8/50\n",
            "252/252 [==============================] - 0s 1ms/step - loss: 1441437.6250 - root_mean_squared_error: 1199.5880 - val_loss: 1286581.6250 - val_root_mean_squared_error: 1134.5181\n",
            "Epoch 9/50\n",
            "252/252 [==============================] - 0s 1ms/step - loss: 1242121.5000 - root_mean_squared_error: 1114.7056 - val_loss: 1133511.6250 - val_root_mean_squared_error: 1064.8499\n",
            "Epoch 10/50\n",
            "252/252 [==============================] - 0s 1ms/step - loss: 1117178.7500 - root_mean_squared_error: 1057.0240 - val_loss: 1048372.5000 - val_root_mean_squared_error: 1024.0325\n",
            "Epoch 11/50\n",
            "252/252 [==============================] - 0s 1ms/step - loss: 1048035.2500 - root_mean_squared_error: 1023.5944 - val_loss: 993834.6250 - val_root_mean_squared_error: 997.0228\n",
            "Epoch 12/50\n",
            "252/252 [==============================] - 0s 1ms/step - loss: 994444.1875 - root_mean_squared_error: 997.2972 - val_loss: 943292.7500 - val_root_mean_squared_error: 971.3396\n",
            "Epoch 13/50\n",
            "252/252 [==============================] - 0s 1ms/step - loss: 941901.4375 - root_mean_squared_error: 971.1459 - val_loss: 892867.5000 - val_root_mean_squared_error: 945.0248\n",
            "Epoch 14/50\n",
            "252/252 [==============================] - 0s 1ms/step - loss: 895260.0000 - root_mean_squared_error: 944.4312 - val_loss: 843025.1875 - val_root_mean_squared_error: 918.2769\n",
            "Epoch 15/50\n",
            "252/252 [==============================] - 0s 1ms/step - loss: 845945.8125 - root_mean_squared_error: 917.7662 - val_loss: 795435.1250 - val_root_mean_squared_error: 891.9883\n",
            "Epoch 16/50\n",
            "252/252 [==============================] - 0s 1ms/step - loss: 793777.3125 - root_mean_squared_error: 891.8159 - val_loss: 750342.6875 - val_root_mean_squared_error: 866.3455\n",
            "Epoch 17/50\n",
            "252/252 [==============================] - 0s 1ms/step - loss: 754050.6250 - root_mean_squared_error: 865.9873 - val_loss: 706521.0000 - val_root_mean_squared_error: 840.6743\n",
            "Epoch 18/50\n",
            "252/252 [==============================] - 0s 1ms/step - loss: 707062.0625 - root_mean_squared_error: 841.1171 - val_loss: 665292.4375 - val_root_mean_squared_error: 815.7881\n",
            "Epoch 19/50\n",
            "252/252 [==============================] - 0s 1ms/step - loss: 666142.4375 - root_mean_squared_error: 815.3303 - val_loss: 624809.7500 - val_root_mean_squared_error: 790.5859\n",
            "Epoch 20/50\n",
            "252/252 [==============================] - 0s 1ms/step - loss: 624977.1875 - root_mean_squared_error: 791.2315 - val_loss: 587639.1250 - val_root_mean_squared_error: 766.7195\n",
            "Epoch 21/50\n",
            "252/252 [==============================] - 0s 1ms/step - loss: 588905.5625 - root_mean_squared_error: 766.9489 - val_loss: 550983.0000 - val_root_mean_squared_error: 742.4301\n",
            "Epoch 22/50\n",
            "252/252 [==============================] - 0s 1ms/step - loss: 556712.2500 - root_mean_squared_error: 742.6860 - val_loss: 515787.0938 - val_root_mean_squared_error: 718.3353\n",
            "Epoch 23/50\n",
            "252/252 [==============================] - 0s 1ms/step - loss: 517608.9688 - root_mean_squared_error: 719.9814 - val_loss: 484127.6250 - val_root_mean_squared_error: 695.9509\n",
            "Epoch 24/50\n",
            "252/252 [==============================] - 0s 1ms/step - loss: 486281.8750 - root_mean_squared_error: 697.4017 - val_loss: 453813.2500 - val_root_mean_squared_error: 673.8191\n",
            "Epoch 25/50\n",
            "252/252 [==============================] - 0s 1ms/step - loss: 455735.0625 - root_mean_squared_error: 675.4003 - val_loss: 424863.3125 - val_root_mean_squared_error: 651.9818\n",
            "Epoch 26/50\n",
            "252/252 [==============================] - 0s 1ms/step - loss: 426357.7500 - root_mean_squared_error: 653.7072 - val_loss: 397410.4062 - val_root_mean_squared_error: 630.5771\n",
            "Epoch 27/50\n",
            "252/252 [==============================] - 0s 1ms/step - loss: 399909.4062 - root_mean_squared_error: 633.3368 - val_loss: 372600.7812 - val_root_mean_squared_error: 610.5862\n",
            "Epoch 28/50\n",
            "252/252 [==============================] - 0s 1ms/step - loss: 377624.3125 - root_mean_squared_error: 613.5179 - val_loss: 348980.4375 - val_root_mean_squared_error: 590.9250\n",
            "Epoch 29/50\n",
            "252/252 [==============================] - 0s 1ms/step - loss: 352418.9062 - root_mean_squared_error: 594.4534 - val_loss: 327850.5000 - val_root_mean_squared_error: 572.7639\n",
            "Epoch 30/50\n",
            "252/252 [==============================] - 0s 1ms/step - loss: 332253.5000 - root_mean_squared_error: 576.8611 - val_loss: 308258.6250 - val_root_mean_squared_error: 555.3964\n",
            "Epoch 31/50\n",
            "252/252 [==============================] - 0s 1ms/step - loss: 313603.3750 - root_mean_squared_error: 559.7664 - val_loss: 290376.8125 - val_root_mean_squared_error: 539.0504\n",
            "Epoch 32/50\n",
            "252/252 [==============================] - 0s 1ms/step - loss: 295535.4062 - root_mean_squared_error: 544.3802 - val_loss: 274225.1875 - val_root_mean_squared_error: 523.8550\n",
            "Epoch 33/50\n",
            "252/252 [==============================] - 0s 1ms/step - loss: 279552.6875 - root_mean_squared_error: 529.4945 - val_loss: 259370.2812 - val_root_mean_squared_error: 509.4755\n",
            "Epoch 34/50\n",
            "252/252 [==============================] - 0s 1ms/step - loss: 265924.1562 - root_mean_squared_error: 516.3318 - val_loss: 246885.4688 - val_root_mean_squared_error: 497.0669\n",
            "Epoch 35/50\n",
            "252/252 [==============================] - 0s 1ms/step - loss: 255643.2500 - root_mean_squared_error: 504.5602 - val_loss: 235633.3281 - val_root_mean_squared_error: 485.6087\n",
            "Epoch 36/50\n",
            "252/252 [==============================] - 0s 1ms/step - loss: 243814.5312 - root_mean_squared_error: 494.2703 - val_loss: 226679.2031 - val_root_mean_squared_error: 476.2948\n",
            "Epoch 37/50\n",
            "252/252 [==============================] - 0s 1ms/step - loss: 235423.8594 - root_mean_squared_error: 485.6425 - val_loss: 219176.0000 - val_root_mean_squared_error: 468.3502\n",
            "Epoch 38/50\n",
            "252/252 [==============================] - 0s 1ms/step - loss: 228777.4531 - root_mean_squared_error: 478.3974 - val_loss: 213035.2500 - val_root_mean_squared_error: 461.7455\n",
            "Epoch 39/50\n",
            "252/252 [==============================] - 0s 1ms/step - loss: 224076.4688 - root_mean_squared_error: 472.5068 - val_loss: 207928.5938 - val_root_mean_squared_error: 456.1748\n",
            "Epoch 40/50\n",
            "252/252 [==============================] - 0s 1ms/step - loss: 218041.9375 - root_mean_squared_error: 467.4819 - val_loss: 204003.3281 - val_root_mean_squared_error: 451.8477\n",
            "Epoch 41/50\n",
            "252/252 [==============================] - 0s 1ms/step - loss: 215331.8125 - root_mean_squared_error: 463.4404 - val_loss: 200582.4844 - val_root_mean_squared_error: 448.0468\n",
            "Epoch 42/50\n",
            "252/252 [==============================] - 0s 1ms/step - loss: 211242.1406 - root_mean_squared_error: 460.2299 - val_loss: 198043.2500 - val_root_mean_squared_error: 445.1977\n",
            "Epoch 43/50\n",
            "252/252 [==============================] - 0s 1ms/step - loss: 208868.6562 - root_mean_squared_error: 457.6724 - val_loss: 196057.8906 - val_root_mean_squared_error: 442.9592\n",
            "Epoch 44/50\n",
            "252/252 [==============================] - 0s 1ms/step - loss: 207229.8281 - root_mean_squared_error: 455.7041 - val_loss: 194572.8750 - val_root_mean_squared_error: 441.2784\n",
            "Epoch 45/50\n",
            "252/252 [==============================] - 0s 1ms/step - loss: 206255.3281 - root_mean_squared_error: 454.2306 - val_loss: 193498.4375 - val_root_mean_squared_error: 440.0521\n",
            "Epoch 46/50\n",
            "252/252 [==============================] - 0s 1ms/step - loss: 204546.0781 - root_mean_squared_error: 453.0872 - val_loss: 192541.7969 - val_root_mean_squared_error: 438.9642\n",
            "Epoch 47/50\n",
            "252/252 [==============================] - 0s 1ms/step - loss: 203743.8281 - root_mean_squared_error: 452.1615 - val_loss: 191858.8438 - val_root_mean_squared_error: 438.1840\n",
            "Epoch 48/50\n",
            "252/252 [==============================] - 0s 1ms/step - loss: 204132.8594 - root_mean_squared_error: 451.4698 - val_loss: 191294.0000 - val_root_mean_squared_error: 437.5383\n",
            "Epoch 49/50\n",
            "252/252 [==============================] - 0s 1ms/step - loss: 202741.6250 - root_mean_squared_error: 450.9388 - val_loss: 191032.4531 - val_root_mean_squared_error: 437.2315\n",
            "Epoch 50/50\n",
            "252/252 [==============================] - 0s 1ms/step - loss: 203032.4688 - root_mean_squared_error: 450.5960 - val_loss: 190762.6406 - val_root_mean_squared_error: 436.9215\n",
            "1637.2623596191406\n"
          ],
          "name": "stdout"
        },
        {
          "output_type": "display_data",
          "data": {
            "image/png": "[encoded data removed]",
            "text/plain": [
              "<Figure size 432x288 with 1 Axes>"
            ]
          },
          "metadata": {
            "tags": []
          }
        }
      ]
    },
    {
      "cell_type": "markdown",
      "metadata": {
        "id": "zumHwX4gC2zR",
        "colab_type": "text"
      },
      "source": [
        "As seen on the plot above, the model has converged on 50 epochs, as the plot has flattened out. But we tried to increase the number of epochs to 100 just to be sure."
      ]
    },
    {
      "cell_type": "code",
      "metadata": {
        "id": "_BhleoZf7_fr",
        "colab_type": "code",
        "outputId": "d5987cf7-7bbd-4bd8-a5b2-cae8cd7a7713",
        "colab": {
          "base_uri": "https://localhost:8080/",
          "height": 1000
        }
      },
      "source": [
        "# The following variables are the hyperparameters.\n",
        "learning_rate = 0.5\n",
        "epochs = 100\n",
        "batch_size = 100\n",
        "\n",
        "# Split the original training set into a reduced training set and a\n",
        "# validation set. \n",
        "validation_split=0.2\n",
        "\n",
        "# Specify the feature and the label.\n",
        "my_feature = \"carat\"  # carat value.\n",
        "my_label=\"price\" # the price value for that specific diamond.\n",
        "# We're predicting diamond price based on carat value\n",
        "\n",
        "# Discard any pre-existing version of the model.\n",
        "my_model = None\n",
        "\n",
        "# Invoke the functions to build and train the model.\n",
        "my_model = build_model(learning_rate)\n",
        "epochs, rmse, history = train_model(my_model, train_df, my_feature, \n",
        "                                    my_label, epochs, batch_size, \n",
        "                                    validation_split)\n",
        "\n",
        "plot_the_loss_curve(epochs, history[\"root_mean_squared_error\"], \n",
        "                    history[\"val_root_mean_squared_error\"])\n"
      ],
      "execution_count": 0,
      "outputs": [
        {
          "output_type": "stream",
          "text": [
            "Epoch 1/100\n",
            "252/252 [==============================] - 0s 1ms/step - loss: 5045860.5000 - root_mean_squared_error: 2249.1501 - val_loss: 4574244.0000 - val_root_mean_squared_error: 2139.1765\n",
            "Epoch 2/100\n",
            "252/252 [==============================] - 0s 1ms/step - loss: 4310667.5000 - root_mean_squared_error: 2074.3655 - val_loss: 3863898.7500 - val_root_mean_squared_error: 1966.0962\n",
            "Epoch 3/100\n",
            "252/252 [==============================] - 0s 1ms/step - loss: 3617990.5000 - root_mean_squared_error: 1903.7081 - val_loss: 3236567.0000 - val_root_mean_squared_error: 1799.4478\n",
            "Epoch 4/100\n",
            "252/252 [==============================] - 0s 1ms/step - loss: 3030602.0000 - root_mean_squared_error: 1740.0369 - val_loss: 2685721.2500 - val_root_mean_squared_error: 1639.2000\n",
            "Epoch 5/100\n",
            "252/252 [==============================] - 0s 1ms/step - loss: 2508074.7500 - root_mean_squared_error: 1583.9984 - val_loss: 2217070.0000 - val_root_mean_squared_error: 1489.3428\n",
            "Epoch 6/100\n",
            "252/252 [==============================] - 0s 1ms/step - loss: 2067754.6250 - root_mean_squared_error: 1439.2869 - val_loss: 1827757.0000 - val_root_mean_squared_error: 1352.2756\n",
            "Epoch 7/100\n",
            "252/252 [==============================] - 0s 1ms/step - loss: 1709292.7500 - root_mean_squared_error: 1309.3335 - val_loss: 1517928.7500 - val_root_mean_squared_error: 1232.3339\n",
            "Epoch 8/100\n",
            "252/252 [==============================] - 0s 1ms/step - loss: 1440872.8750 - root_mean_squared_error: 1199.4114 - val_loss: 1285067.5000 - val_root_mean_squared_error: 1133.8497\n",
            "Epoch 9/100\n",
            "252/252 [==============================] - 0s 1ms/step - loss: 1240286.6250 - root_mean_squared_error: 1112.9683 - val_loss: 1132174.2500 - val_root_mean_squared_error: 1064.2203\n",
            "Epoch 10/100\n",
            "252/252 [==============================] - 0s 1ms/step - loss: 1113432.3750 - root_mean_squared_error: 1056.4412 - val_loss: 1048333.6250 - val_root_mean_squared_error: 1024.0131\n",
            "Epoch 11/100\n",
            "252/252 [==============================] - 0s 1ms/step - loss: 1047231.3750 - root_mean_squared_error: 1023.7479 - val_loss: 993799.3125 - val_root_mean_squared_error: 997.0066\n",
            "Epoch 12/100\n",
            "252/252 [==============================] - 0s 1ms/step - loss: 993640.2500 - root_mean_squared_error: 997.1677 - val_loss: 943484.8750 - val_root_mean_squared_error: 971.4367\n",
            "Epoch 13/100\n",
            "252/252 [==============================] - 0s 1ms/step - loss: 945860.6875 - root_mean_squared_error: 970.9762 - val_loss: 892605.9375 - val_root_mean_squared_error: 944.8863\n",
            "Epoch 14/100\n",
            "252/252 [==============================] - 0s 1ms/step - loss: 890841.2500 - root_mean_squared_error: 944.5149 - val_loss: 843380.8750 - val_root_mean_squared_error: 918.4711\n",
            "Epoch 15/100\n",
            "252/252 [==============================] - 0s 1ms/step - loss: 840752.6875 - root_mean_squared_error: 918.0198 - val_loss: 796522.8125 - val_root_mean_squared_error: 892.5981\n",
            "Epoch 16/100\n",
            "252/252 [==============================] - 0s 1ms/step - loss: 796111.8125 - root_mean_squared_error: 891.9624 - val_loss: 751050.0625 - val_root_mean_squared_error: 866.7516\n",
            "Epoch 17/100\n",
            "252/252 [==============================] - 0s 1ms/step - loss: 752877.9375 - root_mean_squared_error: 866.4271 - val_loss: 706553.2500 - val_root_mean_squared_error: 840.6947\n",
            "Epoch 18/100\n",
            "252/252 [==============================] - 0s 1ms/step - loss: 707405.0000 - root_mean_squared_error: 841.0195 - val_loss: 665262.3750 - val_root_mean_squared_error: 815.7714\n",
            "Epoch 19/100\n",
            "252/252 [==============================] - 0s 1ms/step - loss: 665072.1250 - root_mean_squared_error: 815.8156 - val_loss: 625715.8125 - val_root_mean_squared_error: 791.1601\n",
            "Epoch 20/100\n",
            "252/252 [==============================] - 0s 1ms/step - loss: 625410.5000 - root_mean_squared_error: 791.2802 - val_loss: 587636.5625 - val_root_mean_squared_error: 766.7172\n",
            "Epoch 21/100\n",
            "252/252 [==============================] - 0s 1ms/step - loss: 586254.6250 - root_mean_squared_error: 766.3557 - val_loss: 550435.5000 - val_root_mean_squared_error: 742.0618\n",
            "Epoch 22/100\n",
            "252/252 [==============================] - 0s 1ms/step - loss: 550486.1250 - root_mean_squared_error: 742.4730 - val_loss: 515785.2188 - val_root_mean_squared_error: 718.3353\n",
            "Epoch 23/100\n",
            "252/252 [==============================] - 0s 1ms/step - loss: 516441.4375 - root_mean_squared_error: 719.4047 - val_loss: 483894.1562 - val_root_mean_squared_error: 695.7810\n",
            "Epoch 24/100\n",
            "252/252 [==============================] - 0s 1ms/step - loss: 486656.6562 - root_mean_squared_error: 696.9509 - val_loss: 453125.0938 - val_root_mean_squared_error: 673.3062\n",
            "Epoch 25/100\n",
            "252/252 [==============================] - 0s 1ms/step - loss: 460423.1250 - root_mean_squared_error: 675.2974 - val_loss: 424896.7188 - val_root_mean_squared_error: 652.0065\n",
            "Epoch 26/100\n",
            "252/252 [==============================] - 0s 1ms/step - loss: 427447.1875 - root_mean_squared_error: 653.7287 - val_loss: 397577.5000 - val_root_mean_squared_error: 630.7070\n",
            "Epoch 27/100\n",
            "252/252 [==============================] - 0s 1ms/step - loss: 400752.1875 - root_mean_squared_error: 633.6165 - val_loss: 373005.7500 - val_root_mean_squared_error: 610.9168\n",
            "Epoch 28/100\n",
            "252/252 [==============================] - 0s 1ms/step - loss: 377260.9688 - root_mean_squared_error: 613.6218 - val_loss: 349498.8438 - val_root_mean_squared_error: 591.3616\n",
            "Epoch 29/100\n",
            "252/252 [==============================] - 0s 1ms/step - loss: 354078.7812 - root_mean_squared_error: 594.9975 - val_loss: 328278.0938 - val_root_mean_squared_error: 573.1359\n",
            "Epoch 30/100\n",
            "252/252 [==============================] - 0s 1ms/step - loss: 333345.1250 - root_mean_squared_error: 577.0554 - val_loss: 308639.2500 - val_root_mean_squared_error: 555.7366\n",
            "Epoch 31/100\n",
            "252/252 [==============================] - 0s 1ms/step - loss: 314468.5000 - root_mean_squared_error: 560.1738 - val_loss: 290445.1875 - val_root_mean_squared_error: 539.1157\n",
            "Epoch 32/100\n",
            "252/252 [==============================] - 0s 1ms/step - loss: 300329.7188 - root_mean_squared_error: 544.6443 - val_loss: 274680.1562 - val_root_mean_squared_error: 524.2859\n",
            "Epoch 33/100\n",
            "252/252 [==============================] - 0s 1ms/step - loss: 281815.2500 - root_mean_squared_error: 531.3058 - val_loss: 261504.8281 - val_root_mean_squared_error: 511.5634\n",
            "Epoch 34/100\n",
            "252/252 [==============================] - 0s 1ms/step - loss: 269261.4375 - root_mean_squared_error: 518.3943 - val_loss: 249109.8906 - val_root_mean_squared_error: 499.3019\n",
            "Epoch 35/100\n",
            "252/252 [==============================] - 0s 1ms/step - loss: 256666.3281 - root_mean_squared_error: 507.2644 - val_loss: 238633.8906 - val_root_mean_squared_error: 488.6933\n",
            "Epoch 36/100\n",
            "252/252 [==============================] - 0s 1ms/step - loss: 246636.7969 - root_mean_squared_error: 496.8095 - val_loss: 229200.4844 - val_root_mean_squared_error: 478.9359\n",
            "Epoch 37/100\n",
            "252/252 [==============================] - 0s 1ms/step - loss: 238553.9375 - root_mean_squared_error: 488.0188 - val_loss: 221170.7500 - val_root_mean_squared_error: 470.4750\n",
            "Epoch 38/100\n",
            "252/252 [==============================] - 0s 1ms/step - loss: 231241.8281 - root_mean_squared_error: 480.4232 - val_loss: 214657.1250 - val_root_mean_squared_error: 463.4976\n",
            "Epoch 39/100\n",
            "252/252 [==============================] - 0s 1ms/step - loss: 224010.5469 - root_mean_squared_error: 473.8839 - val_loss: 209048.8125 - val_root_mean_squared_error: 457.4017\n",
            "Epoch 40/100\n",
            "252/252 [==============================] - 0s 1ms/step - loss: 219327.0312 - root_mean_squared_error: 468.3734 - val_loss: 204567.8125 - val_root_mean_squared_error: 452.4739\n",
            "Epoch 41/100\n",
            "252/252 [==============================] - 0s 1ms/step - loss: 216306.1406 - root_mean_squared_error: 464.0770 - val_loss: 201117.7031 - val_root_mean_squared_error: 448.6422\n",
            "Epoch 42/100\n",
            "252/252 [==============================] - 0s 1ms/step - loss: 213234.1719 - root_mean_squared_error: 460.7571 - val_loss: 198619.2344 - val_root_mean_squared_error: 445.8395\n",
            "Epoch 43/100\n",
            "252/252 [==============================] - 0s 1ms/step - loss: 210297.5312 - root_mean_squared_error: 458.1534 - val_loss: 196412.0000 - val_root_mean_squared_error: 443.3604\n",
            "Epoch 44/100\n",
            "252/252 [==============================] - 0s 1ms/step - loss: 207246.3281 - root_mean_squared_error: 455.9842 - val_loss: 194743.1562 - val_root_mean_squared_error: 441.4689\n",
            "Epoch 45/100\n",
            "252/252 [==============================] - 0s 1ms/step - loss: 206304.2969 - root_mean_squared_error: 454.3505 - val_loss: 193518.7656 - val_root_mean_squared_error: 440.0814\n",
            "Epoch 46/100\n",
            "252/252 [==============================] - 0s 1ms/step - loss: 205016.9062 - root_mean_squared_error: 453.1604 - val_loss: 192633.4219 - val_root_mean_squared_error: 439.0685\n",
            "Epoch 47/100\n",
            "252/252 [==============================] - 0s 1ms/step - loss: 203781.4531 - root_mean_squared_error: 452.2581 - val_loss: 191895.7500 - val_root_mean_squared_error: 438.2258\n",
            "Epoch 48/100\n",
            "252/252 [==============================] - 0s 1ms/step - loss: 210041.4062 - root_mean_squared_error: 451.4935 - val_loss: 191392.8750 - val_root_mean_squared_error: 437.6477\n",
            "Epoch 49/100\n",
            "252/252 [==============================] - 0s 1ms/step - loss: 204665.6250 - root_mean_squared_error: 451.0462 - val_loss: 191028.2031 - val_root_mean_squared_error: 437.2322\n",
            "Epoch 50/100\n",
            "252/252 [==============================] - 0s 1ms/step - loss: 202769.2344 - root_mean_squared_error: 450.6786 - val_loss: 190734.9062 - val_root_mean_squared_error: 436.8952\n",
            "Epoch 51/100\n",
            "252/252 [==============================] - 0s 1ms/step - loss: 202712.8750 - root_mean_squared_error: 450.3897 - val_loss: 190542.2344 - val_root_mean_squared_error: 436.6726\n",
            "Epoch 52/100\n",
            "252/252 [==============================] - 0s 1ms/step - loss: 202726.9375 - root_mean_squared_error: 450.1855 - val_loss: 190385.3125 - val_root_mean_squared_error: 436.4954\n",
            "Epoch 53/100\n",
            "252/252 [==============================] - 0s 1ms/step - loss: 201890.0469 - root_mean_squared_error: 450.0362 - val_loss: 190275.5156 - val_root_mean_squared_error: 436.3666\n",
            "Epoch 54/100\n",
            "252/252 [==============================] - 0s 1ms/step - loss: 202075.5781 - root_mean_squared_error: 449.9260 - val_loss: 190202.7812 - val_root_mean_squared_error: 436.2835\n",
            "Epoch 55/100\n",
            "252/252 [==============================] - 0s 1ms/step - loss: 201647.7812 - root_mean_squared_error: 449.8380 - val_loss: 190142.2812 - val_root_mean_squared_error: 436.2126\n",
            "Epoch 56/100\n",
            "252/252 [==============================] - 0s 1ms/step - loss: 202121.9844 - root_mean_squared_error: 449.7726 - val_loss: 190093.5156 - val_root_mean_squared_error: 436.1566\n",
            "Epoch 57/100\n",
            "252/252 [==============================] - 0s 1ms/step - loss: 201918.8281 - root_mean_squared_error: 449.7317 - val_loss: 190089.3125 - val_root_mean_squared_error: 436.1473\n",
            "Epoch 58/100\n",
            "252/252 [==============================] - 0s 1ms/step - loss: 201892.9062 - root_mean_squared_error: 449.6981 - val_loss: 190054.7344 - val_root_mean_squared_error: 436.1084\n",
            "Epoch 59/100\n",
            "252/252 [==============================] - 0s 1ms/step - loss: 204007.4844 - root_mean_squared_error: 449.6795 - val_loss: 190055.7969 - val_root_mean_squared_error: 436.1075\n",
            "Epoch 60/100\n",
            "252/252 [==============================] - 0s 1ms/step - loss: 201517.5625 - root_mean_squared_error: 449.6186 - val_loss: 190033.8125 - val_root_mean_squared_error: 436.0882\n",
            "Epoch 61/100\n",
            "252/252 [==============================] - 0s 1ms/step - loss: 202308.9375 - root_mean_squared_error: 449.6573 - val_loss: 190016.2344 - val_root_mean_squared_error: 436.0666\n",
            "Epoch 62/100\n",
            "252/252 [==============================] - 0s 1ms/step - loss: 201455.3438 - root_mean_squared_error: 449.6071 - val_loss: 190069.2969 - val_root_mean_squared_error: 436.1206\n",
            "Epoch 63/100\n",
            "252/252 [==============================] - 0s 1ms/step - loss: 201952.6250 - root_mean_squared_error: 449.5984 - val_loss: 190005.6406 - val_root_mean_squared_error: 436.0522\n",
            "Epoch 64/100\n",
            "252/252 [==============================] - 0s 1ms/step - loss: 201754.8906 - root_mean_squared_error: 449.6274 - val_loss: 190025.8438 - val_root_mean_squared_error: 436.0724\n",
            "Epoch 65/100\n",
            "252/252 [==============================] - 0s 1ms/step - loss: 201461.8906 - root_mean_squared_error: 449.6031 - val_loss: 190034.3594 - val_root_mean_squared_error: 436.0890\n",
            "Epoch 66/100\n",
            "252/252 [==============================] - 0s 1ms/step - loss: 203602.9688 - root_mean_squared_error: 449.6278 - val_loss: 190052.5781 - val_root_mean_squared_error: 436.1012\n",
            "Epoch 67/100\n",
            "252/252 [==============================] - 0s 1ms/step - loss: 201647.5469 - root_mean_squared_error: 449.6241 - val_loss: 190022.0781 - val_root_mean_squared_error: 436.0678\n",
            "Epoch 68/100\n",
            "252/252 [==============================] - 0s 1ms/step - loss: 202163.6562 - root_mean_squared_error: 449.6005 - val_loss: 190002.6094 - val_root_mean_squared_error: 436.0478\n",
            "Epoch 69/100\n",
            "252/252 [==============================] - 0s 1ms/step - loss: 201822.0156 - root_mean_squared_error: 449.6184 - val_loss: 190013.3281 - val_root_mean_squared_error: 436.0584\n",
            "Epoch 70/100\n",
            "252/252 [==============================] - 0s 1ms/step - loss: 204486.9844 - root_mean_squared_error: 449.6239 - val_loss: 190003.0938 - val_root_mean_squared_error: 436.0496\n",
            "Epoch 71/100\n",
            "252/252 [==============================] - 0s 1ms/step - loss: 201443.9375 - root_mean_squared_error: 449.6152 - val_loss: 190019.4062 - val_root_mean_squared_error: 436.0646\n",
            "Epoch 72/100\n",
            "252/252 [==============================] - 0s 1ms/step - loss: 202844.8906 - root_mean_squared_error: 449.6206 - val_loss: 190017.0781 - val_root_mean_squared_error: 436.0622\n",
            "Epoch 73/100\n",
            "252/252 [==============================] - 0s 1ms/step - loss: 202122.2031 - root_mean_squared_error: 449.6093 - val_loss: 190008.4375 - val_root_mean_squared_error: 436.0532\n",
            "Epoch 74/100\n",
            "252/252 [==============================] - 0s 1ms/step - loss: 202403.4375 - root_mean_squared_error: 449.6087 - val_loss: 190047.7344 - val_root_mean_squared_error: 436.0953\n",
            "Epoch 75/100\n",
            "252/252 [==============================] - 0s 1ms/step - loss: 202186.3594 - root_mean_squared_error: 449.6182 - val_loss: 190016.7188 - val_root_mean_squared_error: 436.0617\n",
            "Epoch 76/100\n",
            "252/252 [==============================] - 0s 1ms/step - loss: 201488.0938 - root_mean_squared_error: 449.6173 - val_loss: 190010.0156 - val_root_mean_squared_error: 436.0548\n",
            "Epoch 77/100\n",
            "252/252 [==============================] - 0s 1ms/step - loss: 201570.0625 - root_mean_squared_error: 449.6113 - val_loss: 190004.1250 - val_root_mean_squared_error: 436.0492\n",
            "Epoch 78/100\n",
            "252/252 [==============================] - 0s 1ms/step - loss: 202390.0156 - root_mean_squared_error: 449.6183 - val_loss: 190064.7188 - val_root_mean_squared_error: 436.1139\n",
            "Epoch 79/100\n",
            "252/252 [==============================] - 0s 1ms/step - loss: 201550.3750 - root_mean_squared_error: 449.6042 - val_loss: 190042.7188 - val_root_mean_squared_error: 436.0897\n",
            "Epoch 80/100\n",
            "252/252 [==============================] - 0s 1ms/step - loss: 201691.7344 - root_mean_squared_error: 449.6254 - val_loss: 190013.5469 - val_root_mean_squared_error: 436.0583\n",
            "Epoch 81/100\n",
            "252/252 [==============================] - 0s 1ms/step - loss: 202371.3906 - root_mean_squared_error: 449.6187 - val_loss: 190061.4531 - val_root_mean_squared_error: 436.1103\n",
            "Epoch 82/100\n",
            "252/252 [==============================] - 0s 1ms/step - loss: 201597.3125 - root_mean_squared_error: 449.6087 - val_loss: 190023.7500 - val_root_mean_squared_error: 436.0691\n",
            "Epoch 83/100\n",
            "252/252 [==============================] - 0s 1ms/step - loss: 201709.2812 - root_mean_squared_error: 449.6220 - val_loss: 190004.1250 - val_root_mean_squared_error: 436.0495\n",
            "Epoch 84/100\n",
            "252/252 [==============================] - 0s 1ms/step - loss: 201677.9219 - root_mean_squared_error: 449.6199 - val_loss: 190031.3438 - val_root_mean_squared_error: 436.0774\n",
            "Epoch 85/100\n",
            "252/252 [==============================] - 0s 1ms/step - loss: 202626.3281 - root_mean_squared_error: 449.6069 - val_loss: 190040.3438 - val_root_mean_squared_error: 436.0871\n",
            "Epoch 86/100\n",
            "252/252 [==============================] - 0s 1ms/step - loss: 202011.3594 - root_mean_squared_error: 449.6091 - val_loss: 190018.6406 - val_root_mean_squared_error: 436.0638\n",
            "Epoch 87/100\n",
            "252/252 [==============================] - 0s 1ms/step - loss: 202171.9844 - root_mean_squared_error: 449.6196 - val_loss: 190037.4531 - val_root_mean_squared_error: 436.0840\n",
            "Epoch 88/100\n",
            "252/252 [==============================] - 0s 1ms/step - loss: 201728.9531 - root_mean_squared_error: 449.6144 - val_loss: 190004.9375 - val_root_mean_squared_error: 436.0511\n",
            "Epoch 89/100\n",
            "252/252 [==============================] - 0s 1ms/step - loss: 201662.5469 - root_mean_squared_error: 449.5730 - val_loss: 190066.3906 - val_root_mean_squared_error: 436.1159\n",
            "Epoch 90/100\n",
            "252/252 [==============================] - 0s 1ms/step - loss: 201775.8906 - root_mean_squared_error: 449.6205 - val_loss: 190019.7656 - val_root_mean_squared_error: 436.0649\n",
            "Epoch 91/100\n",
            "252/252 [==============================] - 0s 1ms/step - loss: 202540.4844 - root_mean_squared_error: 449.5810 - val_loss: 190158.5156 - val_root_mean_squared_error: 436.2183\n",
            "Epoch 92/100\n",
            "252/252 [==============================] - 0s 1ms/step - loss: 201581.0312 - root_mean_squared_error: 449.6362 - val_loss: 190018.0312 - val_root_mean_squared_error: 436.0631\n",
            "Epoch 93/100\n",
            "252/252 [==============================] - 0s 1ms/step - loss: 202157.1719 - root_mean_squared_error: 449.5794 - val_loss: 190059.1719 - val_root_mean_squared_error: 436.1078\n",
            "Epoch 94/100\n",
            "252/252 [==============================] - 0s 1ms/step - loss: 201597.2344 - root_mean_squared_error: 449.6140 - val_loss: 190006.6094 - val_root_mean_squared_error: 436.0516\n",
            "Epoch 95/100\n",
            "252/252 [==============================] - 0s 1ms/step - loss: 201707.7969 - root_mean_squared_error: 449.6152 - val_loss: 190010.4375 - val_root_mean_squared_error: 436.0552\n",
            "Epoch 96/100\n",
            "252/252 [==============================] - 0s 1ms/step - loss: 201448.0625 - root_mean_squared_error: 449.6150 - val_loss: 190032.1719 - val_root_mean_squared_error: 436.0782\n",
            "Epoch 97/100\n",
            "252/252 [==============================] - 0s 1ms/step - loss: 201702.1250 - root_mean_squared_error: 449.6238 - val_loss: 190017.7031 - val_root_mean_squared_error: 436.0627\n",
            "Epoch 98/100\n",
            "252/252 [==============================] - 0s 1ms/step - loss: 202137.0000 - root_mean_squared_error: 449.6134 - val_loss: 190033.9219 - val_root_mean_squared_error: 436.0801\n",
            "Epoch 99/100\n",
            "252/252 [==============================] - 0s 1ms/step - loss: 202977.2812 - root_mean_squared_error: 449.6157 - val_loss: 190007.0000 - val_root_mean_squared_error: 436.0520\n",
            "Epoch 100/100\n",
            "252/252 [==============================] - 0s 1ms/step - loss: 202985.1094 - root_mean_squared_error: 449.6106 - val_loss: 190006.3125 - val_root_mean_squared_error: 436.0531\n",
            "1638.3177185058594\n"
          ],
          "name": "stdout"
        },
        {
          "output_type": "display_data",
          "data": {
            "image/png": "[encoded data removed]",
            "text/plain": [
              "<Figure size 432x288 with 1 Axes>"
            ]
          },
          "metadata": {
            "tags": []
          }
        }
      ]
    },
    {
      "cell_type": "markdown",
      "metadata": {
        "id": "lkkojeqB9JFJ",
        "colab_type": "text"
      },
      "source": [
        "100 epochs is too large, so we decided with 50 epochs as executed in the training run.<br>\n",
        "learning_rate = 0.5<br>\n",
        "epochs = 50<br>\n",
        "batch_size = 100<br>"
      ]
    },
    {
      "cell_type": "code",
      "metadata": {
        "id": "GbNY2bkqNAS6",
        "colab_type": "code",
        "outputId": "eeef2246-3aef-4661-aa6f-6235c3a87799",
        "colab": {
          "base_uri": "https://localhost:8080/",
          "height": 50
        }
      },
      "source": [
        "#@title Define the functions that build and train a model\n",
        "def build_model(my_learning_rate):\n",
        "  \"\"\"Create and compile a simple linear regression model.\"\"\"\n",
        "  # Most simple tf.keras models are sequential.\n",
        "  model = tf.keras.models.Sequential()\n",
        "\n",
        "  # Describe the topography of the model.\n",
        "  # The topography of a simple linear regression model\n",
        "  # is a single node in a single layer.\n",
        "  model.add(tf.keras.layers.Dense(units=1, \n",
        "                                  input_shape=(1,)))\n",
        "\n",
        "  # Compile the model topography into code that TensorFlow can efficiently\n",
        "  # execute. Configure training to minimize the model's mean squared error. \n",
        "  model.compile(optimizer=tf.keras.optimizers.RMSprop(lr=my_learning_rate),\n",
        "                loss=\"mean_squared_error\",\n",
        "                metrics=[tf.keras.metrics.RootMeanSquaredError()])\n",
        "\n",
        "  return model        \n",
        "\n",
        "\n",
        "def train_model(model, df, feature, label, epochs, batch_size):\n",
        "  \"\"\"Train the model by feeding it data.\"\"\"\n",
        "\n",
        "  # Feed the model the feature and the label.\n",
        "  # The model will train for the specified number of epochs. \n",
        "  history = model.fit(x=df[feature],\n",
        "                      y=df[label],\n",
        "                      batch_size=batch_size,\n",
        "                      epochs=epochs)\n",
        "\n",
        "  # Gather the trained model's weight and bias.\n",
        "  trained_weight = model.get_weights()[0]\n",
        "  trained_bias = model.get_weights()[1]\n",
        "\n",
        "  # The list of epochs is stored separately from the rest of history.\n",
        "  epochs = history.epoch\n",
        "  \n",
        "  # Isolate the error for each epoch.\n",
        "  hist = pd.DataFrame(history.history)\n",
        "\n",
        "  # To track the progression of training, we're going to take a snapshot\n",
        "  # of the model's root mean squared error at each epoch. \n",
        "  rmse = hist[\"root_mean_squared_error\"]\n",
        "\n",
        "  return trained_weight, trained_bias, epochs, rmse\n",
        "\n",
        "print(\"Defined the create_model and traing_model functions.\")\n",
        "\n",
        "#@title Define the plotting functions\n",
        "def plot_the_model(trained_weight, trained_bias, feature, label):\n",
        "  \"\"\"Plot the trained model against 200 random training examples.\"\"\"\n",
        "\n",
        "  # Label the axes.\n",
        "  plt.xlabel(feature)\n",
        "  plt.ylabel(label)\n",
        "\n",
        "  # Create a scatter plot from 200 random points of the dataset.\n",
        "  random_examples = train_df.sample(n=10000)\n",
        "  plt.scatter(random_examples[feature], random_examples[label])\n",
        "\n",
        "  # Create a red line representing the model. The red line starts\n",
        "  # at coordinates (x0, y0) and ends at coordinates (x1, y1).\n",
        "  x0 = 0\n",
        "  y0 = trained_bias\n",
        "  x1 = 1\n",
        "  y1 = trained_bias + (trained_weight * x1)\n",
        "  plt.plot([x0, x1], [y0, y1], c='r')\n",
        "\n",
        "  # Render the scatter plot and the red line.\n",
        "  plt.show()\n",
        "\n",
        "\n",
        "def plot_the_loss_curve(epochs, rmse):\n",
        "  \"\"\"Plot a curve of loss vs. epoch.\"\"\"\n",
        "\n",
        "  plt.figure()\n",
        "  plt.xlabel(\"Epoch\")\n",
        "  plt.ylabel(\"Root Mean Squared Error\")\n",
        "\n",
        "  plt.plot(epochs, rmse, label=\"Loss\")\n",
        "  plt.legend()\n",
        "  plt.ylim([rmse.min()*0.97, rmse.max()])\n",
        "  plt.show()  \n",
        "\n",
        "print(\"Defined the plot_the_model and plot_the_loss_curve functions.\")"
      ],
      "execution_count": 0,
      "outputs": [
        {
          "output_type": "stream",
          "text": [
            "Defined the create_model and traing_model functions.\n",
            "Defined the plot_the_model and plot_the_loss_curve functions.\n"
          ],
          "name": "stdout"
        }
      ]
    },
    {
      "cell_type": "code",
      "metadata": {
        "id": "BooFik-JGI_4",
        "colab_type": "code",
        "outputId": "1454d1e5-04fd-4e8b-b66a-03b5d1aba9ef",
        "colab": {
          "base_uri": "https://localhost:8080/",
          "height": 1000
        }
      },
      "source": [
        "# The following variables are the hyperparameters.\n",
        "learning_rate = 0.5\n",
        "epochs = 50\n",
        "batch_size = 100\n",
        "\n",
        "# Specify the feature and the label.\n",
        "my_feature = \"carat\"  # carat value.\n",
        "my_label=\"price\" # the price value for that specific diamond.\n",
        "# We're predicting diamond price based on carat value\n",
        "\n",
        "# Discard any pre-existing version of the model.\n",
        "my_model = None\n",
        "\n",
        "# Invoke the functions.\n",
        "my_model = build_model(learning_rate)\n",
        "weight, bias, epochs, rmse = train_model(my_model, train_df, \n",
        "                                         my_feature, my_label,\n",
        "                                         epochs, batch_size)\n",
        "\n",
        "print(\"\\nThe learned weight for your model is %.4f\" % weight)\n",
        "print(\"The learned bias for your model is %.4f\\n\" % bias )\n",
        "\n",
        "plot_the_model(weight, bias, my_feature, my_label)\n",
        "plot_the_loss_curve(epochs, rmse)"
      ],
      "execution_count": 0,
      "outputs": [
        {
          "output_type": "stream",
          "text": [
            "Epoch 1/50\n",
            "314/314 [==============================] - 0s 952us/step - loss: 4944849.5000 - root_mean_squared_error: 2223.5459\n",
            "Epoch 2/50\n",
            "314/314 [==============================] - 0s 996us/step - loss: 4028224.5000 - root_mean_squared_error: 2007.1060\n",
            "Epoch 3/50\n",
            "314/314 [==============================] - 0s 954us/step - loss: 3232245.5000 - root_mean_squared_error: 1797.9323\n",
            "Epoch 4/50\n",
            "314/314 [==============================] - 0s 982us/step - loss: 2564755.2500 - root_mean_squared_error: 1601.6091\n",
            "Epoch 5/50\n",
            "314/314 [==============================] - 0s 964us/step - loss: 2017792.2500 - root_mean_squared_error: 1420.5620\n",
            "Epoch 6/50\n",
            "314/314 [==============================] - 0s 936us/step - loss: 1599775.8750 - root_mean_squared_error: 1264.9080\n",
            "Epoch 7/50\n",
            "314/314 [==============================] - 0s 944us/step - loss: 1302260.2500 - root_mean_squared_error: 1141.1462\n",
            "Epoch 8/50\n",
            "314/314 [==============================] - 0s 941us/step - loss: 1125806.1250 - root_mean_squared_error: 1061.0507\n",
            "Epoch 9/50\n",
            "314/314 [==============================] - 0s 983us/step - loss: 1036959.8125 - root_mean_squared_error: 1018.3260\n",
            "Epoch 10/50\n",
            "314/314 [==============================] - 0s 939us/step - loss: 969886.0625 - root_mean_squared_error: 984.8063\n",
            "Epoch 11/50\n",
            "314/314 [==============================] - 0s 972us/step - loss: 906088.1250 - root_mean_squared_error: 951.8553\n",
            "Epoch 12/50\n",
            "314/314 [==============================] - 0s 955us/step - loss: 844716.0000 - root_mean_squared_error: 919.0809\n",
            "Epoch 13/50\n",
            "314/314 [==============================] - 0s 962us/step - loss: 786240.0000 - root_mean_squared_error: 886.7440\n",
            "Epoch 14/50\n",
            "314/314 [==============================] - 0s 973us/step - loss: 730287.8750 - root_mean_squared_error: 854.5914\n",
            "Epoch 15/50\n",
            "314/314 [==============================] - 0s 940us/step - loss: 676408.6250 - root_mean_squared_error: 822.3687\n",
            "Epoch 16/50\n",
            "314/314 [==============================] - 0s 944us/step - loss: 626252.9375 - root_mean_squared_error: 791.3277\n",
            "Epoch 17/50\n",
            "314/314 [==============================] - 0s 978us/step - loss: 578962.6250 - root_mean_squared_error: 760.9127\n",
            "Epoch 18/50\n",
            "314/314 [==============================] - 0s 910us/step - loss: 534497.1875 - root_mean_squared_error: 731.1443\n",
            "Epoch 19/50\n",
            "314/314 [==============================] - 0s 948us/step - loss: 493390.5312 - root_mean_squared_error: 702.3934\n",
            "Epoch 20/50\n",
            "314/314 [==============================] - 0s 997us/step - loss: 454862.7812 - root_mean_squared_error: 674.4168\n",
            "Epoch 21/50\n",
            "314/314 [==============================] - 0s 985us/step - loss: 418985.0625 - root_mean_squared_error: 647.3110\n",
            "Epoch 22/50\n",
            "314/314 [==============================] - 0s 923us/step - loss: 386423.5312 - root_mean_squared_error: 621.6380\n",
            "Epoch 23/50\n",
            "314/314 [==============================] - 0s 918us/step - loss: 357240.2188 - root_mean_squared_error: 597.6948\n",
            "Epoch 24/50\n",
            "314/314 [==============================] - 0s 954us/step - loss: 330878.0000 - root_mean_squared_error: 575.2686\n",
            "Epoch 25/50\n",
            "314/314 [==============================] - 0s 927us/step - loss: 307602.3750 - root_mean_squared_error: 554.5193\n",
            "Epoch 26/50\n",
            "314/314 [==============================] - 0s 925us/step - loss: 286738.1250 - root_mean_squared_error: 535.5350\n",
            "Epoch 27/50\n",
            "314/314 [==============================] - 0s 1ms/step - loss: 268623.1562 - root_mean_squared_error: 518.2980\n",
            "Epoch 28/50\n",
            "314/314 [==============================] - 0s 940us/step - loss: 253315.6250 - root_mean_squared_error: 503.3448\n",
            "Epoch 29/50\n",
            "314/314 [==============================] - 0s 945us/step - loss: 240385.5469 - root_mean_squared_error: 490.3072\n",
            "Epoch 30/50\n",
            "314/314 [==============================] - 0s 933us/step - loss: 230302.7812 - root_mean_squared_error: 479.8600\n",
            "Epoch 31/50\n",
            "314/314 [==============================] - 0s 945us/step - loss: 222438.1094 - root_mean_squared_error: 471.6422\n",
            "Epoch 32/50\n",
            "314/314 [==============================] - 0s 988us/step - loss: 216071.2812 - root_mean_squared_error: 464.8081\n",
            "Epoch 33/50\n",
            "314/314 [==============================] - 0s 1ms/step - loss: 211338.3750 - root_mean_squared_error: 459.7105\n",
            "Epoch 34/50\n",
            "314/314 [==============================] - 0s 1ms/step - loss: 207806.1875 - root_mean_squared_error: 455.8730\n",
            "Epoch 35/50\n",
            "314/314 [==============================] - 0s 939us/step - loss: 205393.0938 - root_mean_squared_error: 453.2272\n",
            "Epoch 36/50\n",
            "314/314 [==============================] - 0s 1ms/step - loss: 203650.0469 - root_mean_squared_error: 451.3274\n",
            "Epoch 37/50\n",
            "314/314 [==============================] - 0s 994us/step - loss: 202499.1562 - root_mean_squared_error: 449.9427\n",
            "Epoch 38/50\n",
            "314/314 [==============================] - 0s 935us/step - loss: 201546.0156 - root_mean_squared_error: 448.9640\n",
            "Epoch 39/50\n",
            "314/314 [==============================] - 0s 949us/step - loss: 200952.8594 - root_mean_squared_error: 448.2993\n",
            "Epoch 40/50\n",
            "314/314 [==============================] - 0s 1ms/step - loss: 200653.9375 - root_mean_squared_error: 447.8731\n",
            "Epoch 41/50\n",
            "314/314 [==============================] - 0s 959us/step - loss: 200280.1719 - root_mean_squared_error: 447.5475\n",
            "Epoch 42/50\n",
            "314/314 [==============================] - 0s 915us/step - loss: 200058.1094 - root_mean_squared_error: 447.3571\n",
            "Epoch 43/50\n",
            "314/314 [==============================] - 0s 940us/step - loss: 199966.0312 - root_mean_squared_error: 447.2221\n",
            "Epoch 44/50\n",
            "314/314 [==============================] - 0s 941us/step - loss: 199906.2969 - root_mean_squared_error: 447.1295\n",
            "Epoch 45/50\n",
            "314/314 [==============================] - 0s 953us/step - loss: 199851.6094 - root_mean_squared_error: 447.0721\n",
            "Epoch 46/50\n",
            "314/314 [==============================] - 0s 940us/step - loss: 199835.0312 - root_mean_squared_error: 447.0278\n",
            "Epoch 47/50\n",
            "314/314 [==============================] - 0s 985us/step - loss: 199744.9688 - root_mean_squared_error: 446.9876\n",
            "Epoch 48/50\n",
            "314/314 [==============================] - 0s 916us/step - loss: 199760.5156 - root_mean_squared_error: 446.9787\n",
            "Epoch 49/50\n",
            "314/314 [==============================] - 0s 929us/step - loss: 199813.7656 - root_mean_squared_error: 446.9625\n",
            "Epoch 50/50\n",
            "314/314 [==============================] - 0s 945us/step - loss: 199733.0156 - root_mean_squared_error: 446.9641\n",
            "\n",
            "The learned weight for your model is 4813.7783\n",
            "The learned bias for your model is -842.4778\n",
            "\n"
          ],
          "name": "stdout"
        },
        {
          "output_type": "display_data",
          "data": {
            "image/png": "[encoded data removed]",
            "text/plain": [
              "<Figure size 432x288 with 1 Axes>"
            ]
          },
          "metadata": {
            "tags": []
          }
        },
        {
          "output_type": "display_data",
          "data": {
            "image/png": "[encoded data removed]",
            "text/plain": [
              "<Figure size 432x288 with 1 Axes>"
            ]
          },
          "metadata": {
            "tags": []
          }
        }
      ]
    },
    {
      "cell_type": "markdown",
      "metadata": {
        "id": "w5YkErBA7Nmy",
        "colab_type": "text"
      },
      "source": [
        "With only carat value we did not reach minimum loss, although this model has converged. This could be caused by the large size of data and large variability that makes it difficult for the model to learn from. Besides, we also need to take into account the volume of the diamond, so that's what we're going to do next."
      ]
    },
    {
      "cell_type": "markdown",
      "metadata": {
        "id": "utPNtIj7S6we",
        "colab_type": "text"
      },
      "source": [
        "## Modelling Volume(x*y*z) Vs Price"
      ]
    },
    {
      "cell_type": "code",
      "metadata": {
        "id": "WZRn-A7eoKRz",
        "colab_type": "code",
        "outputId": "020d6176-92f2-434f-d147-86c63faaeb03",
        "colab": {
          "base_uri": "https://localhost:8080/",
          "height": 50
        }
      },
      "source": [
        "#@title Define the functions that build and train a model\n",
        "def build_model(my_learning_rate):\n",
        "  \"\"\"Create and compile a simple linear regression model.\"\"\"\n",
        "  # Most simple tf.keras models are sequential.\n",
        "  model = tf.keras.models.Sequential()\n",
        "\n",
        "  # Describe the topography of the model.\n",
        "  # The topography of a simple linear regression model\n",
        "  # is a single node in a single layer.\n",
        "  model.add(tf.keras.layers.Dense(units=1, \n",
        "                                  input_shape=(1,)))\n",
        "\n",
        "  # Compile the model topography into code that TensorFlow can efficiently\n",
        "  # execute. Configure training to minimize the model's mean squared error. \n",
        "  model.compile(optimizer=tf.keras.optimizers.RMSprop(lr=my_learning_rate),\n",
        "                loss=\"mean_squared_error\",\n",
        "                metrics=[tf.keras.metrics.RootMeanSquaredError()])\n",
        "\n",
        "  return model        \n",
        "\n",
        "\n",
        "def train_model(model, df, feature, label, epochs, batch_size):\n",
        "  \"\"\"Train the model by feeding it data.\"\"\"\n",
        "\n",
        "  # Feed the model the feature and the label.\n",
        "  # The model will train for the specified number of epochs. \n",
        "  history = model.fit(x=df[feature],\n",
        "                      y=df[label],\n",
        "                      batch_size=batch_size,\n",
        "                      epochs=epochs)\n",
        "\n",
        "  # Gather the trained model's weight and bias.\n",
        "  trained_weight = model.get_weights()[0]\n",
        "  trained_bias = model.get_weights()[1]\n",
        "\n",
        "  # The list of epochs is stored separately from the rest of history.\n",
        "  epochs = history.epoch\n",
        "  \n",
        "  # Isolate the error for each epoch.\n",
        "  hist = pd.DataFrame(history.history)\n",
        "\n",
        "  # To track the progression of training, we're going to take a snapshot\n",
        "  # of the model's root mean squared error at each epoch. \n",
        "  rmse = hist[\"root_mean_squared_error\"]\n",
        "\n",
        "  return trained_weight, trained_bias, epochs, rmse\n",
        "\n",
        "print(\"Defined the create_model and traing_model functions.\")\n",
        "\n",
        "#@title Define the plotting functions\n",
        "def plot_the_model(trained_weight, trained_bias, feature, label):\n",
        "  \"\"\"Plot the trained model against 200 random training examples.\"\"\"\n",
        "\n",
        "  # Label the axes.\n",
        "  plt.xlabel(feature)\n",
        "  plt.ylabel(label)\n",
        "\n",
        "  # Create a scatter plot from 200 random points of the dataset.\n",
        "  random_examples = train_df.sample(n=10000)\n",
        "  plt.scatter(random_examples[feature], random_examples[label])\n",
        "\n",
        "  # Create a red line representing the model. The red line starts\n",
        "  # at coordinates (x0, y0) and ends at coordinates (x1, y1).\n",
        "  x0 = 0\n",
        "  y0 = trained_bias\n",
        "  x1 = 100\n",
        "  y1 = trained_bias + (trained_weight * x1)\n",
        "  plt.plot([x0, x1], [y0, y1], c='r')\n",
        "\n",
        "  # Render the scatter plot and the red line.\n",
        "  plt.show()\n",
        "\n",
        "\n",
        "def plot_the_loss_curve(epochs, rmse):\n",
        "  \"\"\"Plot a curve of loss vs. epoch.\"\"\"\n",
        "\n",
        "  plt.figure()\n",
        "  plt.xlabel(\"Epoch\")\n",
        "  plt.ylabel(\"Root Mean Squared Error\")\n",
        "\n",
        "  plt.plot(epochs, rmse, label=\"Loss\")\n",
        "  plt.legend()\n",
        "  plt.ylim([rmse.min()*0.97, rmse.max()])\n",
        "  plt.show()  \n",
        "\n",
        "print(\"Defined the plot_the_model and plot_the_loss_curve functions.\")"
      ],
      "execution_count": 0,
      "outputs": [
        {
          "output_type": "stream",
          "text": [
            "Defined the create_model and traing_model functions.\n",
            "Defined the plot_the_model and plot_the_loss_curve functions.\n"
          ],
          "name": "stdout"
        }
      ]
    },
    {
      "cell_type": "code",
      "metadata": {
        "id": "3byt4bB_TTdq",
        "colab_type": "code",
        "outputId": "56fa1ba0-4eb1-4f57-e56c-4293b94b40dd",
        "colab": {
          "base_uri": "https://localhost:8080/",
          "height": 34
        }
      },
      "source": [
        "#@title Load the imports\n",
        "\n",
        "# from __future__ import absolute_import, division, print_function, unicode_literals\n",
        "\n",
        "import numpy as np\n",
        "import pandas as pd\n",
        "import tensorflow as tf\n",
        "from tensorflow import feature_column\n",
        "from tensorflow.keras import layers\n",
        "\n",
        "from matplotlib import pyplot as plt\n",
        "\n",
        "# The following lines adjust the granularity of reporting.\n",
        "pd.options.display.max_rows = 10\n",
        "pd.options.display.float_format = \"{:.1f}\".format\n",
        "\n",
        "tf.keras.backend.set_floatx('float32')\n",
        "\n",
        "print(\"Imported the modules.\")"
      ],
      "execution_count": 0,
      "outputs": [
        {
          "output_type": "stream",
          "text": [
            "Imported the modules.\n"
          ],
          "name": "stdout"
        }
      ]
    },
    {
      "cell_type": "code",
      "metadata": {
        "id": "UAS9Ly-HTVsA",
        "colab_type": "code",
        "outputId": "ea9829eb-a46a-480b-b059-a03591b13c9c",
        "colab": {
          "base_uri": "https://localhost:8080/",
          "height": 402
        }
      },
      "source": [
        "df = df_raw[['price', 'volume']].copy()\n",
        "df = df.loc[df['price']<=5000]\n",
        "df['price'] = df['price']/100\n",
        "df"
      ],
      "execution_count": 0,
      "outputs": [
        {
          "output_type": "execute_result",
          "data": {
            "text/html": [
              "<div>\n",
              "<style scoped>\n",
              "    .dataframe tbody tr th:only-of-type {\n",
              "        vertical-align: middle;\n",
              "    }\n",
              "\n",
              "    .dataframe tbody tr th {\n",
              "        vertical-align: top;\n",
              "    }\n",
              "\n",
              "    .dataframe thead th {\n",
              "        text-align: right;\n",
              "    }\n",
              "</style>\n",
              "<table border=\"1\" class=\"dataframe\">\n",
              "  <thead>\n",
              "    <tr style=\"text-align: right;\">\n",
              "      <th></th>\n",
              "      <th>price</th>\n",
              "      <th>volume</th>\n",
              "    </tr>\n",
              "  </thead>\n",
              "  <tbody>\n",
              "    <tr>\n",
              "      <th>0</th>\n",
              "      <td>3.3</td>\n",
              "      <td>38.2</td>\n",
              "    </tr>\n",
              "    <tr>\n",
              "      <th>1</th>\n",
              "      <td>3.3</td>\n",
              "      <td>34.5</td>\n",
              "    </tr>\n",
              "    <tr>\n",
              "      <th>2</th>\n",
              "      <td>3.3</td>\n",
              "      <td>38.1</td>\n",
              "    </tr>\n",
              "    <tr>\n",
              "      <th>3</th>\n",
              "      <td>3.3</td>\n",
              "      <td>46.7</td>\n",
              "    </tr>\n",
              "    <tr>\n",
              "      <th>4</th>\n",
              "      <td>3.4</td>\n",
              "      <td>51.9</td>\n",
              "    </tr>\n",
              "    <tr>\n",
              "      <th>...</th>\n",
              "      <td>...</td>\n",
              "      <td>...</td>\n",
              "    </tr>\n",
              "    <tr>\n",
              "      <th>53935</th>\n",
              "      <td>27.6</td>\n",
              "      <td>115.9</td>\n",
              "    </tr>\n",
              "    <tr>\n",
              "      <th>53936</th>\n",
              "      <td>27.6</td>\n",
              "      <td>118.1</td>\n",
              "    </tr>\n",
              "    <tr>\n",
              "      <th>53937</th>\n",
              "      <td>27.6</td>\n",
              "      <td>114.4</td>\n",
              "    </tr>\n",
              "    <tr>\n",
              "      <th>53938</th>\n",
              "      <td>27.6</td>\n",
              "      <td>140.8</td>\n",
              "    </tr>\n",
              "    <tr>\n",
              "      <th>53939</th>\n",
              "      <td>27.6</td>\n",
              "      <td>124.6</td>\n",
              "    </tr>\n",
              "  </tbody>\n",
              "</table>\n",
              "<p>39226 rows × 2 columns</p>\n",
              "</div>"
            ],
            "text/plain": [
              "       price  volume\n",
              "0        3.3    38.2\n",
              "1        3.3    34.5\n",
              "2        3.3    38.1\n",
              "3        3.3    46.7\n",
              "4        3.4    51.9\n",
              "...      ...     ...\n",
              "53935   27.6   115.9\n",
              "53936   27.6   118.1\n",
              "53937   27.6   114.4\n",
              "53938   27.6   140.8\n",
              "53939   27.6   124.6\n",
              "\n",
              "[39226 rows x 2 columns]"
            ]
          },
          "metadata": {
            "tags": []
          },
          "execution_count": 21
        }
      ]
    },
    {
      "cell_type": "code",
      "metadata": {
        "id": "o8WzCIH1TYCx",
        "colab_type": "code",
        "colab": {}
      },
      "source": [
        "from sklearn.model_selection import train_test_split\n",
        "train_df, test_df = train_test_split(df, test_size=0.2)"
      ],
      "execution_count": 0,
      "outputs": []
    },
    {
      "cell_type": "code",
      "metadata": {
        "id": "OzASPdTyongG",
        "colab_type": "code",
        "outputId": "263afc34-e6bb-4a60-9695-4b6dada11c67",
        "colab": {
          "base_uri": "https://localhost:8080/",
          "height": 944
        }
      },
      "source": [
        "# The following variables are the hyperparameters.\n",
        "learning_rate = 0.04\n",
        "epochs = 10\n",
        "batch_size = 100\n",
        "\n",
        "# Specify the feature and the label.\n",
        "my_feature = \"volume\"  # carat value.\n",
        "my_label=\"price\" # the price value for that specific diamond.\n",
        "# We're predicting diamond price based on carat value\n",
        "\n",
        "# Discard any pre-existing version of the model.\n",
        "my_model = None\n",
        "\n",
        "# Invoke the functions.\n",
        "my_model = build_model(learning_rate)\n",
        "weight, bias, epochs, rmse = train_model(my_model, train_df, \n",
        "                                         my_feature, my_label,\n",
        "                                         epochs, batch_size)\n",
        "\n",
        "print(\"\\nThe learned weight for your model is %.4f\" % weight)\n",
        "print(\"The learned bias for your model is %.4f\\n\" % bias )\n",
        "\n",
        "plot_the_model(weight, bias, my_feature, my_label)\n",
        "plot_the_loss_curve(epochs, rmse)"
      ],
      "execution_count": 0,
      "outputs": [
        {
          "output_type": "stream",
          "text": [
            "Epoch 1/10\n",
            "314/314 [==============================] - 0s 937us/step - loss: 75.2427 - root_mean_squared_error: 8.6762\n",
            "Epoch 2/10\n",
            "314/314 [==============================] - 0s 998us/step - loss: 28.7087 - root_mean_squared_error: 5.3582\n",
            "Epoch 3/10\n",
            "314/314 [==============================] - 0s 953us/step - loss: 28.0157 - root_mean_squared_error: 5.2935\n",
            "Epoch 4/10\n",
            "314/314 [==============================] - 0s 980us/step - loss: 28.3361 - root_mean_squared_error: 5.3239\n",
            "Epoch 5/10\n",
            "314/314 [==============================] - 0s 951us/step - loss: 28.0861 - root_mean_squared_error: 5.3005\n",
            "Epoch 6/10\n",
            "314/314 [==============================] - 0s 935us/step - loss: 27.9255 - root_mean_squared_error: 5.2849\n",
            "Epoch 7/10\n",
            "314/314 [==============================] - 0s 948us/step - loss: 28.4520 - root_mean_squared_error: 5.3345\n",
            "Epoch 8/10\n",
            "314/314 [==============================] - 0s 958us/step - loss: 28.3217 - root_mean_squared_error: 5.3225\n",
            "Epoch 9/10\n",
            "314/314 [==============================] - 0s 930us/step - loss: 28.5846 - root_mean_squared_error: 5.3476\n",
            "Epoch 10/10\n",
            "314/314 [==============================] - 0s 943us/step - loss: 27.8366 - root_mean_squared_error: 5.2762\n",
            "\n",
            "The learned weight for your model is 0.2576\n",
            "The learned bias for your model is -8.5994\n",
            "\n"
          ],
          "name": "stdout"
        },
        {
          "output_type": "display_data",
          "data": {
            "image/png": "[encoded data removed]",
            "text/plain": [
              "<Figure size 432x288 with 1 Axes>"
            ]
          },
          "metadata": {
            "tags": []
          }
        },
        {
          "output_type": "display_data",
          "data": {
            "image/png": "[encoded data removed]",
            "text/plain": [
              "<Figure size 432x288 with 1 Axes>"
            ]
          },
          "metadata": {
            "tags": []
          }
        }
      ]
    },
    {
      "cell_type": "markdown",
      "metadata": {
        "id": "qCSzgUKITLui",
        "colab_type": "text"
      },
      "source": [
        "## Modelling Cross Feature (Carat and Volume) Vs Price"
      ]
    },
    {
      "cell_type": "code",
      "metadata": {
        "id": "mSayOk7qBB0W",
        "colab_type": "code",
        "outputId": "bd819f67-a191-4f69-b608-50ca464d22ab",
        "colab": {
          "base_uri": "https://localhost:8080/",
          "height": 34
        }
      },
      "source": [
        "#@title Define functions to create and train a model, and a plotting function\n",
        "def create_model(my_learning_rate, feature_layer):\n",
        "  \"\"\"Create and compile a simple linear regression model.\"\"\"\n",
        "  # Most simple tf.keras models are sequential.\n",
        "  model = tf.keras.models.Sequential()\n",
        "\n",
        "  # Add the layer containing the feature columns to the model.\n",
        "  model.add(feature_layer)\n",
        "\n",
        "  # Add one linear layer to the model to yield a simple linear regressor.\n",
        "  model.add(tf.keras.layers.Dense(units=1, input_shape=(1,)))\n",
        "\n",
        "  # Construct the layers into a model that TensorFlow can execute.\n",
        "  model.compile(optimizer=tf.keras.optimizers.RMSprop(lr=my_learning_rate),\n",
        "                loss=\"mean_squared_error\",\n",
        "                metrics=[tf.keras.metrics.RootMeanSquaredError()])\n",
        "\n",
        "  return model           \n",
        "\n",
        "\n",
        "def train_model(model, dataset, epochs, batch_size, label_name):\n",
        "  \"\"\"Feed a dataset into the model in order to train it.\"\"\"\n",
        "\n",
        "  features = {name:np.array(value) for name, value in dataset.items()}\n",
        "  label = np.array(features.pop(label_name))\n",
        "  history = model.fit(x=features, y=label, batch_size=batch_size,\n",
        "                      epochs=epochs, shuffle=True)\n",
        "\n",
        "  \n",
        "  # The list of epochs is stored separately from the rest of history.\n",
        "  epochs = history.epoch\n",
        "  \n",
        "  # Isolate the mean absolute error for each epoch.\n",
        "  hist = pd.DataFrame(history.history)\n",
        "  rmse = hist[\"root_mean_squared_error\"]\n",
        "\n",
        "  return epochs, rmse\n",
        "\n",
        "\n",
        "def plot_the_loss_curve(epochs, rmse):\n",
        "  \"\"\"Plot a curve of loss vs. epoch.\"\"\"\n",
        "\n",
        "  plt.figure()\n",
        "  plt.xlabel(\"Epoch\")\n",
        "  plt.ylabel(\"Root Mean Squared Error\")\n",
        "\n",
        "  plt.plot(epochs, rmse, label=\"Loss\")\n",
        "  plt.legend()\n",
        "  plt.ylim([rmse.min()*0.94, rmse.max()* 1.05])\n",
        "  plt.show()  \n",
        "\n",
        "print(\"Defined the create_model, train_model, and plot_the_loss_curve functions.\")"
      ],
      "execution_count": 0,
      "outputs": [
        {
          "output_type": "stream",
          "text": [
            "Defined the create_model, train_model, and plot_the_loss_curve functions.\n"
          ],
          "name": "stdout"
        }
      ]
    },
    {
      "cell_type": "code",
      "metadata": {
        "id": "9n9_cTveKmse",
        "colab_type": "code",
        "cellView": "both",
        "outputId": "8cff5f67-366e-494f-c467-d91e1a4a7437",
        "colab": {
          "base_uri": "https://localhost:8080/",
          "height": 34
        }
      },
      "source": [
        "#@title Load the imports\n",
        "\n",
        "# from __future__ import absolute_import, division, print_function, unicode_literals\n",
        "\n",
        "import numpy as np\n",
        "import pandas as pd\n",
        "import tensorflow as tf\n",
        "from tensorflow import feature_column\n",
        "from tensorflow.keras import layers\n",
        "\n",
        "from matplotlib import pyplot as plt\n",
        "\n",
        "# The following lines adjust the granularity of reporting.\n",
        "pd.options.display.max_rows = 10\n",
        "pd.options.display.float_format = \"{:.1f}\".format\n",
        "\n",
        "tf.keras.backend.set_floatx('float32')\n",
        "\n",
        "print(\"Imported the modules.\")"
      ],
      "execution_count": 0,
      "outputs": [
        {
          "output_type": "stream",
          "text": [
            "Imported the modules.\n"
          ],
          "name": "stdout"
        }
      ]
    },
    {
      "cell_type": "code",
      "metadata": {
        "id": "P6yWFD185Yrz",
        "colab_type": "code",
        "outputId": "6c27eab5-268c-499b-e419-2313f0fdba89",
        "colab": {
          "base_uri": "https://localhost:8080/",
          "height": 402
        }
      },
      "source": [
        "df = df_raw[['carat', 'price', 'x', 'y', 'z']].copy()\n",
        "df = df.loc[df['price']<=5000]\n",
        "df['price'] = df['price']/100\n",
        "df"
      ],
      "execution_count": 0,
      "outputs": [
        {
          "output_type": "execute_result",
          "data": {
            "text/html": [
              "<div>\n",
              "<style scoped>\n",
              "    .dataframe tbody tr th:only-of-type {\n",
              "        vertical-align: middle;\n",
              "    }\n",
              "\n",
              "    .dataframe tbody tr th {\n",
              "        vertical-align: top;\n",
              "    }\n",
              "\n",
              "    .dataframe thead th {\n",
              "        text-align: right;\n",
              "    }\n",
              "</style>\n",
              "<table border=\"1\" class=\"dataframe\">\n",
              "  <thead>\n",
              "    <tr style=\"text-align: right;\">\n",
              "      <th></th>\n",
              "      <th>carat</th>\n",
              "      <th>price</th>\n",
              "      <th>x</th>\n",
              "      <th>y</th>\n",
              "      <th>z</th>\n",
              "    </tr>\n",
              "  </thead>\n",
              "  <tbody>\n",
              "    <tr>\n",
              "      <th>0</th>\n",
              "      <td>0.2</td>\n",
              "      <td>3.3</td>\n",
              "      <td>4.0</td>\n",
              "      <td>4.0</td>\n",
              "      <td>2.4</td>\n",
              "    </tr>\n",
              "    <tr>\n",
              "      <th>1</th>\n",
              "      <td>0.2</td>\n",
              "      <td>3.3</td>\n",
              "      <td>3.9</td>\n",
              "      <td>3.8</td>\n",
              "      <td>2.3</td>\n",
              "    </tr>\n",
              "    <tr>\n",
              "      <th>2</th>\n",
              "      <td>0.2</td>\n",
              "      <td>3.3</td>\n",
              "      <td>4.0</td>\n",
              "      <td>4.1</td>\n",
              "      <td>2.3</td>\n",
              "    </tr>\n",
              "    <tr>\n",
              "      <th>3</th>\n",
              "      <td>0.3</td>\n",
              "      <td>3.3</td>\n",
              "      <td>4.2</td>\n",
              "      <td>4.2</td>\n",
              "      <td>2.6</td>\n",
              "    </tr>\n",
              "    <tr>\n",
              "      <th>4</th>\n",
              "      <td>0.3</td>\n",
              "      <td>3.4</td>\n",
              "      <td>4.3</td>\n",
              "      <td>4.3</td>\n",
              "      <td>2.8</td>\n",
              "    </tr>\n",
              "    <tr>\n",
              "      <th>...</th>\n",
              "      <td>...</td>\n",
              "      <td>...</td>\n",
              "      <td>...</td>\n",
              "      <td>...</td>\n",
              "      <td>...</td>\n",
              "    </tr>\n",
              "    <tr>\n",
              "      <th>53935</th>\n",
              "      <td>0.7</td>\n",
              "      <td>27.6</td>\n",
              "      <td>5.8</td>\n",
              "      <td>5.8</td>\n",
              "      <td>3.5</td>\n",
              "    </tr>\n",
              "    <tr>\n",
              "      <th>53936</th>\n",
              "      <td>0.7</td>\n",
              "      <td>27.6</td>\n",
              "      <td>5.7</td>\n",
              "      <td>5.8</td>\n",
              "      <td>3.6</td>\n",
              "    </tr>\n",
              "    <tr>\n",
              "      <th>53937</th>\n",
              "      <td>0.7</td>\n",
              "      <td>27.6</td>\n",
              "      <td>5.7</td>\n",
              "      <td>5.7</td>\n",
              "      <td>3.6</td>\n",
              "    </tr>\n",
              "    <tr>\n",
              "      <th>53938</th>\n",
              "      <td>0.9</td>\n",
              "      <td>27.6</td>\n",
              "      <td>6.2</td>\n",
              "      <td>6.1</td>\n",
              "      <td>3.7</td>\n",
              "    </tr>\n",
              "    <tr>\n",
              "      <th>53939</th>\n",
              "      <td>0.8</td>\n",
              "      <td>27.6</td>\n",
              "      <td>5.8</td>\n",
              "      <td>5.9</td>\n",
              "      <td>3.6</td>\n",
              "    </tr>\n",
              "  </tbody>\n",
              "</table>\n",
              "<p>39226 rows × 5 columns</p>\n",
              "</div>"
            ],
            "text/plain": [
              "       carat  price   x   y   z\n",
              "0        0.2    3.3 4.0 4.0 2.4\n",
              "1        0.2    3.3 3.9 3.8 2.3\n",
              "2        0.2    3.3 4.0 4.1 2.3\n",
              "3        0.3    3.3 4.2 4.2 2.6\n",
              "4        0.3    3.4 4.3 4.3 2.8\n",
              "...      ...    ...  ..  ..  ..\n",
              "53935    0.7   27.6 5.8 5.8 3.5\n",
              "53936    0.7   27.6 5.7 5.8 3.6\n",
              "53937    0.7   27.6 5.7 5.7 3.6\n",
              "53938    0.9   27.6 6.2 6.1 3.7\n",
              "53939    0.8   27.6 5.8 5.9 3.6\n",
              "\n",
              "[39226 rows x 5 columns]"
            ]
          },
          "metadata": {
            "tags": []
          },
          "execution_count": 26
        }
      ]
    },
    {
      "cell_type": "code",
      "metadata": {
        "id": "rPmSc5Zk-v7k",
        "colab_type": "code",
        "colab": {}
      },
      "source": [
        "from sklearn.model_selection import train_test_split\n",
        "train_df, test_df = train_test_split(df, test_size=0.2)"
      ],
      "execution_count": 0,
      "outputs": []
    },
    {
      "cell_type": "code",
      "metadata": {
        "id": "ori6XYQt49ap",
        "colab_type": "code",
        "outputId": "bde9e087-b6ac-4515-b4ac-ba58c001a8b0",
        "colab": {
          "base_uri": "https://localhost:8080/",
          "height": 34
        }
      },
      "source": [
        "resolution_in_degrees = 1.0 \n",
        "\n",
        "# Create a new empty list that will eventually hold the generated feature column.\n",
        "feature_columns = []\n",
        "\n",
        "# Create a bucket feature column for x.\n",
        "x_as_a_numeric_column = tf.feature_column.numeric_column(\"x\")\n",
        "x_boundaries = list(np.arange(int(min(train_df['x'])), int(max(train_df['x'])), resolution_in_degrees))\n",
        "x = tf.feature_column.bucketized_column(x_as_a_numeric_column, x_boundaries)\n",
        "\n",
        "# Create a bucket feature column for y.\n",
        "y_as_a_numeric_column = tf.feature_column.numeric_column(\"y\")\n",
        "y_boundaries = list(np.arange(int(min(train_df['y'])), int(max(train_df['y'])), resolution_in_degrees))\n",
        "y = tf.feature_column.bucketized_column(y_as_a_numeric_column, y_boundaries)\n",
        "\n",
        "# Create a bucket feature column for z.\n",
        "z_as_a_numeric_column = tf.feature_column.numeric_column(\"z\")\n",
        "z_boundaries = list(np.arange(int(min(train_df['z'])), int(max(train_df['z'])), resolution_in_degrees))\n",
        "z = tf.feature_column.bucketized_column(z_as_a_numeric_column, z_boundaries)\n",
        "\n",
        "# Create a bucket feature column for carat.\n",
        "carat_as_a_numeric_column = tf.feature_column.numeric_column(\"carat\")\n",
        "carat_boundaries = list(np.arange(int(min(train_df['carat'])), int(max(train_df['carat'])), resolution_in_degrees))\n",
        "carat = tf.feature_column.bucketized_column(carat_as_a_numeric_column, carat_boundaries)\n",
        "\n",
        "# Create a feature cross of latitude and longitude.\n",
        "x_y_z_carat = tf.feature_column.crossed_column([x, y, z, carat], hash_bucket_size=100)\n",
        "crossed_feature = tf.feature_column.indicator_column(x_y_z_carat)\n",
        "feature_columns.append(crossed_feature)\n",
        "\n",
        "# Convert the list of feature columns into a layer that will later be fed into\n",
        "# the model. \n",
        "feature_cross_feature_layer = layers.DenseFeatures(feature_columns)\n",
        "feature_cross_feature_layer"
      ],
      "execution_count": 0,
      "outputs": [
        {
          "output_type": "execute_result",
          "data": {
            "text/plain": [
              "<tensorflow.python.feature_column.dense_features_v2.DenseFeatures at 0x7f177cfa5da0>"
            ]
          },
          "metadata": {
            "tags": []
          },
          "execution_count": 28
        }
      ]
    },
    {
      "cell_type": "code",
      "metadata": {
        "id": "K1wUOndgAPhu",
        "colab_type": "code",
        "outputId": "c4f02273-7d57-456a-ba26-ff718005a1ff",
        "colab": {
          "base_uri": "https://localhost:8080/",
          "height": 750
        }
      },
      "source": [
        "# The following variables are the hyperparameters.\n",
        "learning_rate = 0.04\n",
        "epochs = 10\n",
        "batch_size = 100\n",
        "label_name = \"price\"\n",
        "\n",
        "\n",
        "# Build the model, this time passing in the feature_cross_feature_layer: \n",
        "my_model = create_model(learning_rate, feature_cross_feature_layer)\n",
        "\n",
        "# Train the model on the training set.\n",
        "epochs, rmse = train_model(my_model, train_df, epochs, batch_size, label_name)\n",
        "\n",
        "plot_the_loss_curve(epochs, rmse)\n",
        "\n",
        "print(\"\\n: Evaluate the new model against the test set:\")\n",
        "print(\"\\nThe learned weight for your model is %.4f\" % weight)\n",
        "print(\"The learned bias for your model is %.4f\\n\" % bias )\n",
        "test_features = {name:np.array(value) for name, value in test_df.items()}\n",
        "test_label = np.array(test_features.pop(label_name))\n",
        "my_model.evaluate(x=test_features, y=test_label, batch_size=batch_size)\n",
        "\n"
      ],
      "execution_count": 0,
      "outputs": [
        {
          "output_type": "stream",
          "text": [
            "Epoch 1/10\n",
            "314/314 [==============================] - 0s 1ms/step - loss: 244.5395 - root_mean_squared_error: 15.6405\n",
            "Epoch 2/10\n",
            "314/314 [==============================] - 0s 1ms/step - loss: 51.4049 - root_mean_squared_error: 7.1697\n",
            "Epoch 3/10\n",
            "314/314 [==============================] - 0s 1ms/step - loss: 38.6510 - root_mean_squared_error: 6.2166\n",
            "Epoch 4/10\n",
            "314/314 [==============================] - 0s 1ms/step - loss: 38.3055 - root_mean_squared_error: 6.1890\n",
            "Epoch 5/10\n",
            "314/314 [==============================] - 0s 1ms/step - loss: 38.1606 - root_mean_squared_error: 6.1772\n",
            "Epoch 6/10\n",
            "314/314 [==============================] - 0s 1ms/step - loss: 38.0837 - root_mean_squared_error: 6.1713\n",
            "Epoch 7/10\n",
            "314/314 [==============================] - 0s 1ms/step - loss: 38.0468 - root_mean_squared_error: 6.1688\n",
            "Epoch 8/10\n",
            "314/314 [==============================] - 0s 1ms/step - loss: 38.0470 - root_mean_squared_error: 6.1675\n",
            "Epoch 9/10\n",
            "314/314 [==============================] - 0s 1ms/step - loss: 38.0228 - root_mean_squared_error: 6.1663\n",
            "Epoch 10/10\n",
            "314/314 [==============================] - 0s 1ms/step - loss: 38.0009 - root_mean_squared_error: 6.1644\n"
          ],
          "name": "stdout"
        },
        {
          "output_type": "display_data",
          "data": {
            "image/png": "[encoded data removed]",
            "text/plain": [
              "<Figure size 432x288 with 1 Axes>"
            ]
          },
          "metadata": {
            "tags": []
          }
        },
        {
          "output_type": "stream",
          "text": [
            "\n",
            ": Evaluate the new model against the test set:\n",
            "\n",
            "The learned weight for your model is 0.2576\n",
            "The learned bias for your model is -8.5994\n",
            "\n",
            "79/79 [==============================] - 0s 1ms/step - loss: 35.8933 - root_mean_squared_error: 5.9963\n"
          ],
          "name": "stdout"
        },
        {
          "output_type": "execute_result",
          "data": {
            "text/plain": [
              "[35.89326477050781, 5.9962615966796875]"
            ]
          },
          "metadata": {
            "tags": []
          },
          "execution_count": 29
        }
      ]
    },
    {
      "cell_type": "markdown",
      "metadata": {
        "id": "FyshPEtqUnDe",
        "colab_type": "text"
      },
      "source": [
        "<h1>Conclusion</h1>"
      ]
    },
    {
      "cell_type": "markdown",
      "metadata": {
        "id": "wa5S8E_3UpY2",
        "colab_type": "text"
      },
      "source": [
        "There are two features that have a same high correlate to diamond price, they are carat and volume(xyz). We make 3 models, they are:\n",
        "\n",
        "\n",
        "*   Carat Vs Price (loss: 199733.0156- root_mean_squared_error: 446.9641)\n",
        "*   Volume Vs Price (loss: 27.8366 - root_mean_squared_error: 5.2762)\n",
        "*   Cross feature (Carat and Volume) vs Price (loss: 35.8933 - root_mean_squared_error: 5.9963))\n",
        "\n",
        "The best simple linear regression model is the model of Volume Vs Price, because have the smallest Loss and RMSE.\n",
        "The Simple Linear Regression Model of Volume Vs Price is\n",
        "\n",
        "*  Price=(-8.5994)+0.2576(Volume)\n",
        "\n",
        "\n"
      ]
    }
  ]
}